{
  "cells": [
    {
      "cell_type": "code",
      "execution_count": 1,
      "outputs": [],
      "source": "%load_ext autoreload\n%autoreload 2\n",
      "metadata": {
        "pycharm": {
          "metadata": false,
          "name": "#%%\n"
        }
      }
    },
    {
      "cell_type": "markdown",
      "source": "You will need to first create a kaggle account, the download your kaggle API key.\nInfo on how to get your api key (kaggle.json) here:\nhttps://github.com/Kaggle/kaggle-api#api-credentials\n\nPlace the kaggle.json file in the correct directory (~/.kaggle).\n\nIf you are running on google colab, then in the next cell you\u0027ll be presented\nwith a widget. Use it to browse to the kaggle.json file.\n(Note: You might have to show hidden files/folders in the file browser) \n",
      "metadata": {
        "pycharm": {
          "metadata": false
        }
      }
    },
    {
      "cell_type": "code",
      "execution_count": 2,
      "metadata": {
        "collapsed": true,
        "pycharm": {}
      },
      "outputs": [],
      "source": "try:\n    import google.colab\n    from google.colab import files\n    files.upload()  # Find the kaggle.json file in your ~/.kaggle directory.\n    !pip install -q kaggle\n    !mkdir -p ~/.kaggle\n    !cp kaggle.json ~/.kaggle/\n    !chmod 600 ~/.kaggle/kaggle.json\n    IN_COLAB \u003d True\nexcept:\n    IN_COLAB \u003d False\n"
    },
    {
      "cell_type": "markdown",
      "source": "Now that your system is configured to use kaggle, whether local or running on colab,\nwe check for the existence of the datadir, and if it\u0027s not there we download the data\nas a zip file, then unzip it, then delete the zip file.\nThis dataset may still be private, in which case you will have to ask Chad to grant you\naccess.\n",
      "metadata": {
        "pycharm": {
          "metadata": false
        }
      }
    },
    {
      "cell_type": "code",
      "execution_count": 3,
      "outputs": [],
      "source": "from pathlib import Path\ndatadir \u003d Path.cwd() / \u0027data\u0027 / \u0027kjm_ecog\u0027\nif not (datadir / \u0027converted\u0027).is_dir():\n    !kaggle datasets download -d cboulay/kjm-ecog-faces-basic\n    data_path \u003d Path(\u0027kjm-ecog-faces-basic.zip\u0027)\n    import zipfile\n    with zipfile.ZipFile(data_path, \u0027r\u0027) as zip_ref:\n        zip_ref.extractall(datadir)\n    data_path.unlink()\n",
      "metadata": {
        "pycharm": {
          "metadata": false,
          "name": "#%%\n"
        }
      }
    },
    {
      "cell_type": "markdown",
      "source": "We can now start working with the data.\nWe will import a single file that contains processed band-power data.\n",
      "metadata": {
        "pycharm": {
          "metadata": false,
          "name": "#%% md\n"
        }
      }
    },
    {
      "cell_type": "code",
      "execution_count": 4,
      "outputs": [],
      "source": "from data.utils.fileio import from_neuropype_h5\ntest_file \u003d datadir / \u0027converted\u0027 / \u0027faces_basic\u0027 / \u0027de_bp.h5\u0027\nchunks \u003d from_neuropype_h5(test_file)\n    ",
      "metadata": {
        "pycharm": {
          "metadata": false,
          "name": "#%%\n"
        }
      }
    },
    {
      "cell_type": "code",
      "execution_count": 6,
      "outputs": [
        {
          "name": "stdout",
          "text": [
            "signals (603, 17, 31, 7) [\u0027instance\u0027, \u0027time\u0027, \u0027space\u0027, \u0027frequency\u0027]\n[\u0027ISI\u0027 \u0027house\u0027 \u0027face\u0027]\n"
          ],
          "output_type": "stream"
        }
      ],
      "source": "import pandas as pd\nfor chnk in chunks:\n    ax_types \u003d [_[\u0027type\u0027] for _ in chnk[1][\u0027axes\u0027]]\n    print(chnk[0], chnk[1][\u0027data\u0027].shape, ax_types)\n    \n    instance_axis \u003d chnk[1][\u0027axes\u0027][ax_types.index(\u0027instance\u0027)]\n    print(pd.unique(instance_axis[\u0027data\u0027][\u0027Marker\u0027]))\n",
      "metadata": {
        "pycharm": {
          "metadata": false,
          "name": "#%%\n"
        }
      }
    }
  ],
  "metadata": {
    "language_info": {
      "codemirror_mode": {
        "name": "ipython",
        "version": 2
      },
      "file_extension": ".py",
      "mimetype": "text/x-python",
      "name": "python",
      "nbconvert_exporter": "python",
      "pygments_lexer": "ipython2",
      "version": "2.7.6"
    },
    "kernelspec": {
      "name": "python3",
      "language": "python",
      "display_name": "Python 3"
    },
    "stem_cell": {
      "cell_type": "raw",
      "source": "",
      "metadata": {
        "pycharm": {
          "metadata": false
        }
      }
    }
  },
  "nbformat": 4,
  "nbformat_minor": 0
}