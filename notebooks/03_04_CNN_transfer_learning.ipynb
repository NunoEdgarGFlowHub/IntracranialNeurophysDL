{
 "cells": [
  {
   "cell_type": "markdown",
   "metadata": {
    "collapsed": true,
    "pycharm": {
     "name": "#%% md\n"
    }
   },
   "source": [
    "# Introduction to Transfer Learning\n",
    "This notebook is part of the [SachsLab Workshop for Intracranial Neurophysiology and Deep Learning](https://github.com/SachsLab/IntracranialNeurophysDL).\n",
    "\n",
    "### Lesson Reference\n",
    "To supplement the presented material, consult the tutorial here: https://www.tensorflow.org/beta/tutorials/images/transfer_learning\n",
    "* Freeze most layers, update only certain layer(s), then unfreeze all and update\n",
    "\n",
    "<table class=\"tfo-notebook-buttons\" align=\"left\">\n",
    "  <td>\n",
    "    <a target=\"_blank\" href=\"https://colab.research.google.com/github/SachsLab/IntracranialNeurophysDL/blob/master/notebooks/03_04_CNN_transfer_learning.ipynb\"><img src=\"https://www.tensorflow.org/images/colab_logo_32px.png\" />Run in Google Colab</a>\n",
    "  </td>\n",
    "  <td>\n",
    "    <a target=\"_blank\" href=\"https://github.com/SachsLab/IntracranialNeurophysDL/blob/master/notebooks/03_04_CNN_transfer_learning.ipynb\"><img src=\"https://www.tensorflow.org/images/GitHub-Mark-32px.png\" />View source on GitHub</a>\n",
    "  </td>\n",
    "</table>"
   ]
  },
  {
   "cell_type": "markdown",
   "metadata": {},
   "source": [
    "### Normalize Environments\n",
    "Run the first two cells to normalize Local / Colab environments, then proceed below for the lesson."
   ]
  },
  {
   "cell_type": "code",
   "execution_count": 1,
   "metadata": {
    "pycharm": {
     "name": "#%%\n"
    }
   },
   "outputs": [],
   "source": [
    "from pathlib import Path\n",
    "import os\n",
    "try:\n",
    "    # See if we are running on google.colab\n",
    "    import google.colab\n",
    "    from google.colab import files\n",
    "    os.chdir('..')\n",
    "    if not (Path.home() / '.kaggle').is_dir():\n",
    "        # Configure kaggle\n",
    "        files.upload()  # Find the kaggle.json file in your ~/.kaggle directory.\n",
    "        !pip install -q kaggle\n",
    "        !mkdir -p ~/.kaggle\n",
    "        !mv kaggle.json ~/.kaggle/\n",
    "        !chmod 600 ~/.kaggle/kaggle.json\n",
    "    if Path.cwd().stem != 'IntracranialNeurophysDL':\n",
    "        if not (Path.cwd() / 'IntracranialNeurophysDL').is_dir():\n",
    "            # Download the workshop repo and change to its directory\n",
    "            !git clone --recursive https://github.com/SachsLab/IntracranialNeurophysDL.git\n",
    "        os.chdir('IntracranialNeurophysDL')\n",
    "    IN_COLAB = True\n",
    "    # Setup tensorflow 2.0\n",
    "    !pip install -q tensorflow-gpu==2.0.0-beta0\n",
    "except ModuleNotFoundError:\n",
    "    IN_COLAB = False\n",
    "    import sys\n",
    "    if Path.cwd().stem == 'notebooks':\n",
    "        os.chdir(Path.cwd().parent)\n",
    "    # Make sure the kaggle executable is on the PATH\n",
    "    os.environ['PATH'] = os.environ['PATH'] + ';' + str(Path(sys.executable).parent / 'Scripts')\n",
    "\n",
    "# Try to clear any logs from previous runs\n",
    "if (Path.cwd() / 'logs').is_dir():\n",
    "    import shutil\n",
    "    try:\n",
    "        shutil.rmtree(str(Path.cwd() / 'logs'))\n",
    "    except PermissionError:\n",
    "        print(\"Unable to remove logs directory.\")"
   ]
  },
  {
   "cell_type": "code",
   "execution_count": 2,
   "metadata": {},
   "outputs": [],
   "source": [
    "# Additional imports\n",
    "import tensorflow as tf\n",
    "import datetime\n",
    "import numpy as np\n",
    "import matplotlib.pyplot as plt\n",
    "from indl import turbo_cmap, reset_keras\n",
    "\n",
    "# %load_ext tensorboard\n",
    "plt.rcParams.update({'font.size': 22})\n",
    "%load_ext autoreload\n",
    "%autoreload 2"
   ]
  },
  {
   "cell_type": "code",
   "execution_count": 3,
   "metadata": {},
   "outputs": [
    {
     "name": "stdout",
     "output_type": "stream",
     "text": [
      "Data directory found. Skipping download.\n"
     ]
    }
   ],
   "source": [
    "# Download and unzip data\n",
    "datadir = Path.cwd() / 'data' / 'kjm_ecog'\n",
    "if not (datadir / 'converted').is_dir():\n",
    "    !kaggle datasets download --unzip --path {str(datadir / 'converted' / 'faces_basic')} cboulay/kjm-ecog-faces-basic\n",
    "    print(\"Finished downloading and extracting data.\")\n",
    "else:\n",
    "    print(\"Data directory found. Skipping download.\")"
   ]
  },
  {
   "cell_type": "markdown",
   "metadata": {},
   "source": [
    "## Strategy\n",
    "\n",
    "The model comprises a block for temporal filters, a block for a spatial filter, a block for further convolutional layers, and a block for the classifier. The spatial filter is going to be unique to each recording, but the other blocks could be shared across recordings.\n",
    "\n",
    "If we start with a well-performing model for one recording then whenever we switch to a new recording the different sensor locations are going to be a poor fit and create large errors. We don't want those errors to propagate through and update weights in the entire model. For each new recording, we freeze the layers that are shared so they don't update, and we allow only the spatial filter to update. After the spatial filter has updated, we can then unfreeze all layers to perform fine tuning at a lower learning rate."
   ]
  },
  {
   "cell_type": "markdown",
   "metadata": {},
   "source": [
    "### Get basic info about each recording\n",
    "\n",
    "We need to know the data shape for each recording.\n",
    "We are also goign to take this opportunity to pre-determine the training/validation sets for each recording."
   ]
  },
  {
   "cell_type": "code",
   "execution_count": 4,
   "metadata": {},
   "outputs": [],
   "source": [
    "participant_names = ['aa', 'ap', 'ca', 'de', 'fp', 'ha', 'ja',\n",
    "                     'jm', 'jt', 'mv', 'rn', 'rr', 'wc', 'zt']\n",
    "test_participant = 'ca'  # To validate the transfer-learning model vs a naive model.\n",
    "train_participants = [_ for _ in participant_names if _ != test_participant]"
   ]
  },
  {
   "cell_type": "code",
   "execution_count": 5,
   "metadata": {},
   "outputs": [
    {
     "name": "stdout",
     "output_type": "stream",
     "text": [
      "[('aa', 46), ('ap', 41), ('ca', 50), ('de', 31), ('fp', 52), ('ha', 39), ('ja', 60), ('jm', 56), ('jt', 102), ('mv', 58), ('rn', 42), ('rr', 40), ('wc', 39), ('zt', 58)]\n"
     ]
    }
   ],
   "source": [
    "from data.utils.fileio import load_faces_houses\n",
    "from collections import OrderedDict\n",
    "from sklearn.model_selection import StratifiedShuffleSplit\n",
    "\n",
    "P_TRAIN = 0.8\n",
    "\n",
    "rec_infos = OrderedDict()\n",
    "for p_name in participant_names:\n",
    "    X, Y, ax_info = load_faces_houses(datadir, p_name, feature_set='full')\n",
    "    n_trials = len(ax_info['instance_data'])\n",
    "    sss = StratifiedShuffleSplit(n_splits=1, train_size=P_TRAIN, random_state=0)\n",
    "    trn, tst = next(sss.split(X, Y))\n",
    "    rec_infos[p_name] = {\n",
    "        'n_trials': n_trials,\n",
    "        'n_timestamps': len(ax_info['timestamps']),\n",
    "        'fs': ax_info['fs'],\n",
    "        'n_channels': len(ax_info['channel_names']),\n",
    "        'trn': trn,\n",
    "        'tst': tst\n",
    "    }\n",
    "    \n",
    "print([(p_name, info['n_channels']) for p_name, info in rec_infos.items()])"
   ]
  },
  {
   "cell_type": "markdown",
   "metadata": {},
   "source": [
    "### Define the model in parts"
   ]
  },
  {
   "cell_type": "code",
   "execution_count": 6,
   "metadata": {},
   "outputs": [],
   "source": [
    "# EEGNet-like model with a pair of parallel input layers.\n",
    "from tensorflow.keras.constraints import max_norm\n",
    "from tensorflow.keras import layers\n",
    "\n",
    "def make_models(T, aug_offset=100, n_classes=3,\n",
    "                n_temporal_short=8, len_temporal_short=28,\n",
    "                n_temporal_long=4, len_temporal_long=220,\n",
    "                D=2,\n",
    "                activation='relu',\n",
    "                downsamp_1=8,\n",
    "                n_pointwise_filters=25,\n",
    "                len_kernel_2=47, downsamp_2=5,\n",
    "                norm_rate=0.45, dropout_rate=0.45, l1_reg=0.01, l2_reg=0.01,\n",
    "                rec_infos={}):\n",
    "\n",
    "    # Shared head block:\n",
    "    # Temporal kernel convolutions.\n",
    "    head_input = tf.keras.Input(shape=(T - aug_offset, None, 1))\n",
    "    _y_short = layers.Conv2D(n_temporal_short, (len_temporal_short, 1),\n",
    "                             padding='same', use_bias=False)(head_input)\n",
    "    _y_long = layers.Conv2D(n_temporal_long, (len_temporal_long, 1),\n",
    "                            padding='same', use_bias=False)(head_input)\n",
    "    _y_head = layers.Concatenate(axis=-1)([_y_short, _y_long])\n",
    "    _y_head = layers.BatchNormalization(axis=1)(_y_head)\n",
    "    shared_head = tf.keras.Model(inputs=head_input, outputs=_y_head, name='shared_head')\n",
    "    shared_head.summary()\n",
    "    shared_head.save(datadir / 'models' / 'shared_head_naive.h5')\n",
    "    \n",
    "    # Skip over the spatial filter for now\n",
    "    \n",
    "    # Shared tail block: Feature aggregation and classification\n",
    "    tail_input = tf.keras.Input(shape=(T - aug_offset, 1, (n_temporal_short + n_temporal_long) * D))\n",
    "    tail_y = layers.AveragePooling2D((downsamp_1, 1))(tail_input)\n",
    "    tail_y = layers.Dropout(dropout_rate)(tail_y)\n",
    "    tail_y = layers.SeparableConv2D(n_pointwise_filters, (len_kernel_2, 1), padding='valid', use_bias=False)(tail_y)\n",
    "    tail_y = layers.Activation(activation)(tail_y)\n",
    "    tail_y = layers.BatchNormalization(axis=1)(tail_y)\n",
    "    tail_y = layers.AveragePooling2D((downsamp_2, 1))(tail_y)\n",
    "    tail_y = layers.Dropout(dropout_rate)(tail_y)\n",
    "    tail_y = layers.Flatten()(tail_y)\n",
    "    tail_y = layers.Dense(n_classes, kernel_constraint=max_norm(norm_rate))(tail_y)\n",
    "    tail_y = layers.Activation('softmax')(tail_y)\n",
    "    shared_tail = tf.keras.Model(inputs=tail_input, outputs=tail_y, name='shared_tail')\n",
    "    shared_tail.summary()\n",
    "    shared_tail.save(datadir / 'models' / 'shared_tail_naive.h5')\n",
    "    \n",
    "    # Now we create unique spatial filter model parts for each participant\n",
    "    ss_layers = OrderedDict()\n",
    "    for ss_name, ss_info in rec_infos.items():\n",
    "        ss_layers[ss_name] = [\n",
    "            layers.DepthwiseConv2D((1, ss_info['n_channels']), use_bias=False,\n",
    "                                   depth_multiplier=D,\n",
    "                                   kernel_regularizer=tf.keras.regularizers.l1_l2(l1=l1_reg, l2=l2_reg),\n",
    "                                   depthwise_regularizer=tf.keras.regularizers.l1_l2(l1=l1_reg, l2=l2_reg),\n",
    "                                   depthwise_constraint=max_norm(1.)),\n",
    "            layers.Activation(activation),\n",
    "            layers.BatchNormalization(axis=1)\n",
    "        ]\n",
    "            \n",
    "    return shared_head, shared_tail, ss_layers"
   ]
  },
  {
   "cell_type": "code",
   "execution_count": 7,
   "metadata": {},
   "outputs": [
    {
     "name": "stdout",
     "output_type": "stream",
     "text": [
      "Model: \"shared_head\"\n",
      "__________________________________________________________________________________________________\n",
      "Layer (type)                    Output Shape         Param #     Connected to                     \n",
      "==================================================================================================\n",
      "input_1 (InputLayer)            [(None, 701, None, 1 0                                            \n",
      "__________________________________________________________________________________________________\n",
      "conv2d (Conv2D)                 (None, 701, None, 8) 224         input_1[0][0]                    \n",
      "__________________________________________________________________________________________________\n",
      "conv2d_1 (Conv2D)               (None, 701, None, 4) 880         input_1[0][0]                    \n",
      "__________________________________________________________________________________________________\n",
      "concatenate (Concatenate)       (None, 701, None, 12 0           conv2d[0][0]                     \n",
      "                                                                 conv2d_1[0][0]                   \n",
      "__________________________________________________________________________________________________\n",
      "batch_normalization (BatchNorma (None, 701, None, 12 2804        concatenate[0][0]                \n",
      "==================================================================================================\n",
      "Total params: 3,908\n",
      "Trainable params: 2,506\n",
      "Non-trainable params: 1,402\n",
      "__________________________________________________________________________________________________\n",
      "Model: \"shared_tail\"\n",
      "_________________________________________________________________\n",
      "Layer (type)                 Output Shape              Param #   \n",
      "=================================================================\n",
      "input_2 (InputLayer)         [(None, 701, 1, 24)]      0         \n",
      "_________________________________________________________________\n",
      "average_pooling2d (AveragePo (None, 87, 1, 24)         0         \n",
      "_________________________________________________________________\n",
      "dropout (Dropout)            (None, 87, 1, 24)         0         \n",
      "_________________________________________________________________\n",
      "separable_conv2d (SeparableC (None, 41, 1, 25)         1728      \n",
      "_________________________________________________________________\n",
      "activation (Activation)      (None, 41, 1, 25)         0         \n",
      "_________________________________________________________________\n",
      "batch_normalization_1 (Batch (None, 41, 1, 25)         164       \n",
      "_________________________________________________________________\n",
      "average_pooling2d_1 (Average (None, 8, 1, 25)          0         \n",
      "_________________________________________________________________\n",
      "dropout_1 (Dropout)          (None, 8, 1, 25)          0         \n",
      "_________________________________________________________________\n",
      "flatten (Flatten)            (None, 200)               0         \n",
      "_________________________________________________________________\n",
      "dense (Dense)                (None, 3)                 603       \n",
      "_________________________________________________________________\n",
      "activation_1 (Activation)    (None, 3)                 0         \n",
      "=================================================================\n",
      "Total params: 2,495\n",
      "Trainable params: 2,413\n",
      "Non-trainable params: 82\n",
      "_________________________________________________________________\n"
     ]
    }
   ],
   "source": [
    "MAX_OFFSET = 100\n",
    "T = rec_infos[test_participant]['n_timestamps']  # All recordings should have same timestamps.\n",
    "\n",
    "shared_head, shared_tail, ss_layers = make_models(\n",
    "    T, n_classes=len(np.unique(Y)), aug_offset=MAX_OFFSET, rec_infos=rec_infos)"
   ]
  },
  {
   "cell_type": "code",
   "execution_count": 8,
   "metadata": {},
   "outputs": [
    {
     "name": "stdout",
     "output_type": "stream",
     "text": [
      "7\n",
      "184\n"
     ]
    }
   ],
   "source": [
    "reset_keras(shared_head)\n",
    "reset_keras(shared_tail)"
   ]
  },
  {
   "cell_type": "markdown",
   "metadata": {},
   "source": [
    "#### Prepare Data"
   ]
  },
  {
   "cell_type": "code",
   "execution_count": 9,
   "metadata": {},
   "outputs": [],
   "source": [
    "def get_ds_train_valid(X, Y, trn, tst, batch_size=5, max_offset=0):\n",
    "    # Convert Y from strings to integers.\n",
    "    classes, y = np.unique(Y, return_inverse=True)\n",
    "    n_trials = len(y)\n",
    "    n_subsamps = X.shape[1] - max_offset\n",
    "    \n",
    "    def augmentation_fn(x_dat, y_dat):\n",
    "        # Randomly select an integer between 0 and max_offset\n",
    "        t_offset = tf.random.uniform(shape=[], minval=0, maxval=max_offset, dtype=tf.int32)\n",
    "        # Slice the data to keep samples from t_offset to t_offset + n_subsamps\n",
    "        # tf.slice syntax arguments are: data, slice starts (per dim), slice length (per dim)\n",
    "        # Though -1 as a length is special, and means to take all.\n",
    "        x_dat = tf.slice(x_dat, [t_offset, 0, 0], [n_subsamps, -1, -1])\n",
    "        return x_dat, y_dat\n",
    "    \n",
    "    def augmentation_valid_fn(x_dat, y_dat):\n",
    "        # For validation data, take only the last n_subsamps\n",
    "        x_dat = tf.slice(x_dat, [max_offset, 0, 0], [n_subsamps, -1, -1])\n",
    "        return x_dat, y_dat\n",
    "    \n",
    "    def preprocess_fn(x_dat, y_dat):\n",
    "        # Data are by default 64-bit. GPUs work better with 32-bit (or even 16-bit, depending)\n",
    "        x_dat = tf.cast(x_dat, tf.float32)\n",
    "        # keras Conv layers expect a 'colour depth' dimension.\n",
    "        x_dat = tf.expand_dims(x_dat, -1)\n",
    "        y_dat = tf.cast(y_dat, tf.uint8)\n",
    "        return x_dat, y_dat\n",
    "    \n",
    "    # Separate input data into training and validation sets.\n",
    "    X_train, X_valid, y_train, y_valid = X[trn], X[tst], y[trn], y[tst]\n",
    "    n_train = len(y_train)\n",
    "    ds_train = tf.data.Dataset.from_tensor_slices((X_train, y_train))\n",
    "    ds_valid = tf.data.Dataset.from_tensor_slices((X_valid, y_valid))\n",
    "    \n",
    "    # Prepare (queue?) functions to be run on the data.\n",
    "    ds_train = ds_train.map(preprocess_fn)\n",
    "    ds_valid = ds_valid.map(preprocess_fn)\n",
    "    if max_offset > 0:\n",
    "        ds_train = ds_train.map(augmentation_fn)\n",
    "        ds_valid = ds_valid.map(augmentation_valid_fn)\n",
    "    ds_train = ds_train.shuffle(n_train + 1).batch(batch_size, drop_remainder=True)\n",
    "    ds_valid = ds_valid.batch(batch_size)\n",
    "    \n",
    "    return ds_train, ds_valid, n_train"
   ]
  },
  {
   "cell_type": "markdown",
   "metadata": {},
   "source": [
    "### Warm Start: Training a model normally with one recording"
   ]
  },
  {
   "cell_type": "code",
   "execution_count": 10,
   "metadata": {},
   "outputs": [],
   "source": [
    "BATCH_SIZE = 10\n",
    "N_EPOCHS = 50\n",
    "p_name = participant_names[-1]"
   ]
  },
  {
   "cell_type": "code",
   "execution_count": 11,
   "metadata": {
    "pycharm": {
     "name": "#%%\n"
    }
   },
   "outputs": [
    {
     "name": "stderr",
     "output_type": "stream",
     "text": [
      "WARNING: Logging before flag parsing goes to stderr.\n",
      "W0906 03:27:13.183911 140173290616640 hdf5_format.py:171] No training configuration found in save file: the model was *not* compiled. Compile it manually.\n",
      "W0906 03:27:13.259059 140173290616640 hdf5_format.py:171] No training configuration found in save file: the model was *not* compiled. Compile it manually.\n"
     ]
    },
    {
     "name": "stdout",
     "output_type": "stream",
     "text": [
      "Model: \"xfer_full\"\n",
      "_________________________________________________________________\n",
      "Layer (type)                 Output Shape              Param #   \n",
      "=================================================================\n",
      "shared_head (Model)          (None, 701, None, 12)     3908      \n",
      "_________________________________________________________________\n",
      "depthwise_conv2d_13 (Depthwi (None, 701, None, 24)     1392      \n",
      "_________________________________________________________________\n",
      "activation_15 (Activation)   (None, 701, None, 24)     0         \n",
      "_________________________________________________________________\n",
      "batch_normalization_15 (Batc (None, 701, None, 24)     2804      \n",
      "_________________________________________________________________\n",
      "shared_tail (Model)          (None, 3)                 2495      \n",
      "=================================================================\n",
      "Total params: 10,599\n",
      "Trainable params: 7,713\n",
      "Non-trainable params: 2,886\n",
      "_________________________________________________________________\n",
      "Epoch 1/50\n",
      "48/48 [==============================] - 3s 62ms/step - loss: 1.4380 - accuracy: 0.6042 - val_loss: 0.0000e+00 - val_accuracy: 0.0000e+00\n",
      "Epoch 2/50\n",
      "48/48 [==============================] - 1s 14ms/step - loss: 0.8522 - accuracy: 0.8729 - val_loss: 1.2304 - val_accuracy: 0.8926\n",
      "Epoch 3/50\n",
      "48/48 [==============================] - 1s 14ms/step - loss: 0.5370 - accuracy: 0.9521 - val_loss: 0.9390 - val_accuracy: 0.9174\n",
      "Epoch 4/50\n",
      "48/48 [==============================] - 1s 14ms/step - loss: 0.3710 - accuracy: 0.9771 - val_loss: 0.7507 - val_accuracy: 0.8182\n",
      "Epoch 5/50\n",
      "48/48 [==============================] - 1s 15ms/step - loss: 0.2717 - accuracy: 0.9917 - val_loss: 0.5108 - val_accuracy: 0.9587\n",
      "Epoch 6/50\n",
      "48/48 [==============================] - 1s 14ms/step - loss: 0.1981 - accuracy: 0.9937 - val_loss: 0.4486 - val_accuracy: 0.9091\n",
      "Epoch 7/50\n",
      "48/48 [==============================] - 1s 14ms/step - loss: 0.1630 - accuracy: 0.9937 - val_loss: 0.3094 - val_accuracy: 0.9752\n",
      "Epoch 8/50\n",
      "48/48 [==============================] - 1s 14ms/step - loss: 0.1242 - accuracy: 1.0000 - val_loss: 0.2840 - val_accuracy: 0.9504\n",
      "Epoch 9/50\n",
      "48/48 [==============================] - 1s 15ms/step - loss: 0.1245 - accuracy: 0.9917 - val_loss: 0.2379 - val_accuracy: 0.9835\n",
      "Epoch 10/50\n",
      "48/48 [==============================] - 1s 14ms/step - loss: 0.1152 - accuracy: 0.9896 - val_loss: 0.2014 - val_accuracy: 0.9917\n",
      "Epoch 11/50\n",
      "48/48 [==============================] - 1s 14ms/step - loss: 0.1246 - accuracy: 0.9937 - val_loss: 0.1550 - val_accuracy: 0.9917\n",
      "Epoch 12/50\n",
      "48/48 [==============================] - 1s 15ms/step - loss: 0.1210 - accuracy: 0.9917 - val_loss: 0.2524 - val_accuracy: 0.9669\n",
      "Epoch 13/50\n",
      "48/48 [==============================] - 1s 14ms/step - loss: 0.1147 - accuracy: 0.9917 - val_loss: 0.1468 - val_accuracy: 0.9752\n",
      "Epoch 14/50\n",
      "48/48 [==============================] - 1s 14ms/step - loss: 0.0893 - accuracy: 0.9958 - val_loss: 0.1059 - val_accuracy: 0.9917\n",
      "Epoch 15/50\n",
      "48/48 [==============================] - 1s 14ms/step - loss: 0.0737 - accuracy: 0.9979 - val_loss: 0.0923 - val_accuracy: 0.9917\n",
      "Epoch 16/50\n",
      "48/48 [==============================] - 1s 14ms/step - loss: 0.0591 - accuracy: 1.0000 - val_loss: 0.0852 - val_accuracy: 0.9835\n",
      "Epoch 17/50\n",
      "48/48 [==============================] - 1s 14ms/step - loss: 0.0911 - accuracy: 0.9937 - val_loss: 0.1958 - val_accuracy: 0.9752\n",
      "Epoch 18/50\n",
      "48/48 [==============================] - 1s 14ms/step - loss: 0.1224 - accuracy: 0.9875 - val_loss: 0.1181 - val_accuracy: 0.9917\n",
      "Epoch 19/50\n",
      "48/48 [==============================] - 1s 14ms/step - loss: 0.0925 - accuracy: 0.9917 - val_loss: 0.1245 - val_accuracy: 0.9835\n",
      "Epoch 20/50\n",
      "48/48 [==============================] - 1s 14ms/step - loss: 0.0826 - accuracy: 0.9958 - val_loss: 0.0770 - val_accuracy: 1.0000\n",
      "Epoch 21/50\n",
      "48/48 [==============================] - 1s 15ms/step - loss: 0.0902 - accuracy: 0.9937 - val_loss: 0.1929 - val_accuracy: 0.9835\n",
      "Epoch 22/50\n",
      "48/48 [==============================] - 1s 14ms/step - loss: 0.0754 - accuracy: 0.9958 - val_loss: 0.0962 - val_accuracy: 0.9917\n",
      "Epoch 23/50\n",
      "48/48 [==============================] - 1s 14ms/step - loss: 0.0742 - accuracy: 0.9937 - val_loss: 0.1145 - val_accuracy: 0.9835\n",
      "Epoch 24/50\n",
      "48/48 [==============================] - 1s 14ms/step - loss: 0.0516 - accuracy: 1.0000 - val_loss: 0.0589 - val_accuracy: 0.9917\n",
      "Epoch 25/50\n",
      "48/48 [==============================] - 1s 14ms/step - loss: 0.0502 - accuracy: 0.9958 - val_loss: 0.0654 - val_accuracy: 1.0000\n",
      "Epoch 26/50\n",
      "48/48 [==============================] - 1s 14ms/step - loss: 0.0658 - accuracy: 0.9958 - val_loss: 0.0899 - val_accuracy: 0.9917\n",
      "Epoch 27/50\n",
      "48/48 [==============================] - 1s 14ms/step - loss: 0.0575 - accuracy: 1.0000 - val_loss: 0.0664 - val_accuracy: 0.9917\n",
      "Epoch 28/50\n",
      "48/48 [==============================] - 1s 14ms/step - loss: 0.0537 - accuracy: 1.0000 - val_loss: 0.0786 - val_accuracy: 0.9917\n",
      "Epoch 29/50\n",
      "48/48 [==============================] - 1s 14ms/step - loss: 0.0885 - accuracy: 0.9812 - val_loss: 0.1508 - val_accuracy: 0.9917\n",
      "Epoch 30/50\n",
      "48/48 [==============================] - 1s 14ms/step - loss: 0.1111 - accuracy: 0.9917 - val_loss: 0.2555 - val_accuracy: 0.9669\n",
      "Epoch 31/50\n",
      "48/48 [==============================] - 1s 14ms/step - loss: 0.0774 - accuracy: 0.9937 - val_loss: 0.1205 - val_accuracy: 0.9917\n",
      "Epoch 32/50\n",
      "48/48 [==============================] - 1s 14ms/step - loss: 0.0712 - accuracy: 0.9979 - val_loss: 0.0771 - val_accuracy: 0.9917\n",
      "Epoch 33/50\n",
      "48/48 [==============================] - 1s 14ms/step - loss: 0.0542 - accuracy: 1.0000 - val_loss: 0.0590 - val_accuracy: 1.0000\n",
      "Epoch 34/50\n",
      "48/48 [==============================] - 1s 14ms/step - loss: 0.0448 - accuracy: 0.9979 - val_loss: 0.0616 - val_accuracy: 0.9917\n",
      "Epoch 35/50\n",
      "48/48 [==============================] - 1s 14ms/step - loss: 0.0498 - accuracy: 0.9958 - val_loss: 0.2083 - val_accuracy: 0.9835\n",
      "Epoch 36/50\n",
      "48/48 [==============================] - 1s 14ms/step - loss: 0.0557 - accuracy: 0.9979 - val_loss: 0.0976 - val_accuracy: 0.9917\n",
      "Epoch 37/50\n",
      "48/48 [==============================] - 1s 14ms/step - loss: 0.0747 - accuracy: 0.9937 - val_loss: 0.0995 - val_accuracy: 1.0000\n",
      "Epoch 38/50\n",
      "48/48 [==============================] - 1s 14ms/step - loss: 0.0491 - accuracy: 0.9979 - val_loss: 0.0470 - val_accuracy: 1.0000\n",
      "Epoch 39/50\n",
      "48/48 [==============================] - 1s 14ms/step - loss: 0.0404 - accuracy: 1.0000 - val_loss: 0.0448 - val_accuracy: 1.0000\n",
      "Epoch 40/50\n",
      "48/48 [==============================] - 1s 14ms/step - loss: 0.0521 - accuracy: 0.9979 - val_loss: 0.1794 - val_accuracy: 0.9587\n",
      "Epoch 41/50\n",
      "48/48 [==============================] - 1s 14ms/step - loss: 0.1473 - accuracy: 0.9646 - val_loss: 0.5214 - val_accuracy: 0.9091\n",
      "Epoch 42/50\n",
      "48/48 [==============================] - 1s 14ms/step - loss: 0.1130 - accuracy: 0.9833 - val_loss: 0.0998 - val_accuracy: 0.9917\n",
      "Epoch 43/50\n",
      "48/48 [==============================] - 1s 14ms/step - loss: 0.0852 - accuracy: 0.9937 - val_loss: 0.0724 - val_accuracy: 1.0000\n",
      "Epoch 44/50\n",
      "48/48 [==============================] - 1s 14ms/step - loss: 0.0838 - accuracy: 0.9937 - val_loss: 0.0808 - val_accuracy: 1.0000\n",
      "Epoch 45/50\n",
      "48/48 [==============================] - 1s 14ms/step - loss: 0.0671 - accuracy: 0.9979 - val_loss: 0.0647 - val_accuracy: 1.0000\n",
      "Epoch 46/50\n",
      "48/48 [==============================] - 1s 14ms/step - loss: 0.0524 - accuracy: 1.0000 - val_loss: 0.0572 - val_accuracy: 1.0000\n",
      "Epoch 47/50\n",
      "48/48 [==============================] - 1s 14ms/step - loss: 0.0396 - accuracy: 1.0000 - val_loss: 0.0485 - val_accuracy: 1.0000\n",
      "Epoch 48/50\n",
      "48/48 [==============================] - 1s 14ms/step - loss: 0.0463 - accuracy: 0.9979 - val_loss: 0.0568 - val_accuracy: 0.9917\n",
      "Epoch 49/50\n",
      "48/48 [==============================] - 1s 14ms/step - loss: 0.0367 - accuracy: 1.0000 - val_loss: 0.0472 - val_accuracy: 1.0000\n",
      "Epoch 50/50\n",
      "48/48 [==============================] - 1s 14ms/step - loss: 0.0371 - accuracy: 0.9979 - val_loss: 0.0762 - val_accuracy: 0.9917\n"
     ]
    }
   ],
   "source": [
    "X, Y, ax_info = load_faces_houses(datadir, p_name, feature_set='full')\n",
    "\n",
    "ds_train, ds_valid, n_train = get_ds_train_valid(X, Y,\n",
    "                                                 rec_infos[p_name]['trn'],\n",
    "                                                 rec_infos[p_name]['tst'],\n",
    "                                                 batch_size=BATCH_SIZE,\n",
    "                                                 max_offset=MAX_OFFSET)\n",
    "\n",
    "xfer_model = tf.keras.Sequential([\n",
    "    tf.keras.models.load_model(datadir / 'models' / 'shared_head_naive.h5'),\n",
    "    *ss_layers[p_name],\n",
    "    tf.keras.models.load_model(datadir / 'models' / 'shared_tail_naive.h5')\n",
    "], name='xfer_full')\n",
    "xfer_model.compile(loss='sparse_categorical_crossentropy',\n",
    "                   optimizer='Nadam', metrics=['accuracy'])\n",
    "xfer_model.summary()\n",
    "\n",
    "history = xfer_model.fit(x=ds_train, epochs=N_EPOCHS, validation_data=ds_valid, verbose=1)\n",
    "\n",
    "xfer_model.layers[0].save(datadir / 'models' / 'shared_head.h5')\n",
    "xfer_model.layers[-1].save(datadir / 'models' / 'shared_tail.h5')"
   ]
  },
  {
   "cell_type": "code",
   "execution_count": 12,
   "metadata": {},
   "outputs": [
    {
     "data": {
      "image/png": "[encoded data removed]",
      "text/plain": [
       "<Figure size 864x432 with 2 Axes>"
      ]
     },
     "metadata": {},
     "output_type": "display_data"
    }
   ],
   "source": [
    "fig = plt.figure(figsize=(12, 6), facecolor='white')\n",
    "plt.subplot(1, 2, 1)\n",
    "plt.plot(history.history['accuracy'], 'b')\n",
    "plt.plot(history.history['val_accuracy'], 'r')\n",
    "plt.title('model accuracy')\n",
    "plt.ylabel('accuracy')\n",
    "plt.xlabel('epoch')\n",
    "# plt.legend(loc='lower right')\n",
    "\n",
    "plt.subplot(1, 2, 2)\n",
    "plt.plot(history.history['loss'], 'b')\n",
    "plt.plot(history.history['val_loss'], 'r')\n",
    "plt.title('model loss')\n",
    "plt.ylabel('loss')\n",
    "plt.xlabel('epoch')\n",
    "plt.tight_layout()\n",
    "\n",
    "plt.show()"
   ]
  },
  {
   "cell_type": "markdown",
   "metadata": {},
   "source": [
    "### Train model for each recording with freezing then fine-tuning"
   ]
  },
  {
   "cell_type": "code",
   "execution_count": 13,
   "metadata": {},
   "outputs": [],
   "source": [
    "BATCH_SIZE = 10\n",
    "N_EPOCHS_SF = 40\n",
    "N_EPOCHS_FINETUNE = 60\n",
    "N_ITERS_ACROSS_SESS = 5\n",
    "LR_SPAT_FILT = 0.0003\n",
    "LR_FINE_TUNE = LR_SPAT_FILT / 10"
   ]
  },
  {
   "cell_type": "code",
   "execution_count": 14,
   "metadata": {},
   "outputs": [
    {
     "name": "stderr",
     "output_type": "stream",
     "text": [
      "W0906 03:27:50.394626 140173290616640 hdf5_format.py:171] No training configuration found in save file: the model was *not* compiled. Compile it manually.\n",
      "W0906 03:27:50.469765 140173290616640 hdf5_format.py:171] No training configuration found in save file: the model was *not* compiled. Compile it manually.\n"
     ]
    },
    {
     "name": "stdout",
     "output_type": "stream",
     "text": [
      "Model: \"mv_full\"\n",
      "_________________________________________________________________\n",
      "Layer (type)                 Output Shape              Param #   \n",
      "=================================================================\n",
      "shared_head (Model)          (None, 701, None, 12)     3908      \n",
      "_________________________________________________________________\n",
      "depthwise_conv2d_9 (Depthwis (None, 701, None, 24)     1392      \n",
      "_________________________________________________________________\n",
      "activation_11 (Activation)   (None, 701, None, 24)     0         \n",
      "_________________________________________________________________\n",
      "batch_normalization_11 (Batc (None, 701, None, 24)     2804      \n",
      "_________________________________________________________________\n",
      "shared_tail (Model)          (None, 3)                 2495      \n",
      "=================================================================\n",
      "Total params: 10,599\n",
      "Trainable params: 2,794\n",
      "Non-trainable params: 7,805\n",
      "_________________________________________________________________\n",
      "Training model mv_full (1 of 5)\n",
      "Ending acc and val acc: 0.981, 0.926\n",
      "Model: \"mv_full\"\n",
      "_________________________________________________________________\n",
      "Layer (type)                 Output Shape              Param #   \n",
      "=================================================================\n",
      "shared_head (Model)          (None, 701, None, 12)     3908      \n",
      "_________________________________________________________________\n",
      "depthwise_conv2d_9 (Depthwis (None, 701, None, 24)     1392      \n",
      "_________________________________________________________________\n",
      "activation_11 (Activation)   (None, 701, None, 24)     0         \n",
      "_________________________________________________________________\n",
      "batch_normalization_11 (Batc (None, 701, None, 24)     2804      \n",
      "_________________________________________________________________\n",
      "shared_tail (Model)          (None, 3)                 2495      \n",
      "=================================================================\n",
      "Total params: 10,599\n",
      "Trainable params: 7,713\n",
      "Non-trainable params: 2,886\n",
      "_________________________________________________________________\n",
      "Fine-tuning model mv_full (1 of 5)\n",
      "Ending acc and val acc: 0.985, 0.967\n"
     ]
    },
    {
     "ename": "AttributeError",
     "evalue": "'Activation' object has no attribute 'save'",
     "output_type": "error",
     "traceback": [
      "\u001b[0;31m---------------------------------------------------------------------------\u001b[0m",
      "\u001b[0;31mAttributeError\u001b[0m                            Traceback (most recent call last)",
      "\u001b[0;32m<ipython-input-14-6d5c276831b4>\u001b[0m in \u001b[0;36m<module>\u001b[0;34m\u001b[0m\n\u001b[1;32m     71\u001b[0m \u001b[0;34m\u001b[0m\u001b[0m\n\u001b[1;32m     72\u001b[0m         \u001b[0m_model\u001b[0m\u001b[0;34m.\u001b[0m\u001b[0mlayers\u001b[0m\u001b[0;34m[\u001b[0m\u001b[0;36m0\u001b[0m\u001b[0;34m]\u001b[0m\u001b[0;34m.\u001b[0m\u001b[0msave\u001b[0m\u001b[0;34m(\u001b[0m\u001b[0mdatadir\u001b[0m \u001b[0;34m/\u001b[0m \u001b[0;34m'models'\u001b[0m \u001b[0;34m/\u001b[0m \u001b[0;34m'shared_head.h5'\u001b[0m\u001b[0;34m)\u001b[0m\u001b[0;34m\u001b[0m\u001b[0;34m\u001b[0m\u001b[0m\n\u001b[0;32m---> 73\u001b[0;31m         \u001b[0m_model\u001b[0m\u001b[0;34m.\u001b[0m\u001b[0mlayers\u001b[0m\u001b[0;34m[\u001b[0m\u001b[0;36m2\u001b[0m\u001b[0;34m]\u001b[0m\u001b[0;34m.\u001b[0m\u001b[0msave\u001b[0m\u001b[0;34m(\u001b[0m\u001b[0mdatadir\u001b[0m \u001b[0;34m/\u001b[0m \u001b[0;34m'models'\u001b[0m \u001b[0;34m/\u001b[0m \u001b[0;34m'shared_tail.h5'\u001b[0m\u001b[0;34m)\u001b[0m\u001b[0;34m\u001b[0m\u001b[0;34m\u001b[0m\u001b[0m\n\u001b[0m",
      "\u001b[0;31mAttributeError\u001b[0m: 'Activation' object has no attribute 'save'"
     ]
    }
   ],
   "source": [
    "hists = {}\n",
    "for ep_ix in range(N_ITERS_ACROSS_SESS):\n",
    "    for p_ix, p_idx in enumerate(np.random.permutation(len(train_participants))):\n",
    "        \n",
    "        p_name = train_participants[p_idx]\n",
    "        rec_info = rec_infos[p_name]\n",
    "        \n",
    "        # Load data for this session\n",
    "        X, Y, ax_info = load_faces_houses(datadir, p_name, feature_set='full')\n",
    "        \n",
    "        # Prepare the data for DL\n",
    "        ds_train, ds_valid, n_train = get_ds_train_valid(X, Y,\n",
    "                                                         rec_info['trn'],\n",
    "                                                         rec_info['tst'],\n",
    "                                                         batch_size=BATCH_SIZE,\n",
    "                                                         max_offset=MAX_OFFSET)\n",
    "        \n",
    "        # Build the model for this session by combining shared layers\n",
    "        # and individual layer. Each sub-model should keep its weights\n",
    "        # from previous training.\n",
    "        _model = tf.keras.Sequential([\n",
    "            tf.keras.models.load_model(datadir / 'models' / 'shared_head.h5'),\n",
    "            *ss_layers[p_name],\n",
    "            tf.keras.models.load_model(datadir / 'models' / 'shared_tail.h5')\n",
    "        ], name=p_name + '_full')\n",
    "        \n",
    "        # Freeze layers and compile with correct optimizer lr.\n",
    "        _model.layers[0].trainable = False\n",
    "        _model.layers[-1].trainable = False\n",
    "        optimizer = tf.keras.optimizers.RMSprop(lr=LR_SPAT_FILT)\n",
    "        _model.compile(loss='sparse_categorical_crossentropy',\n",
    "                       optimizer=optimizer, metrics=['accuracy'])\n",
    "        \n",
    "        if ep_ix == 0 and p_ix == 0:\n",
    "            _model.summary()\n",
    "            \n",
    "        # Train model\n",
    "        print(\"Training model {} ({} of {})\".format(_model.name, ep_ix + 1,\n",
    "                                                    N_ITERS_ACROSS_SESS))\n",
    "        hist_1 = _model.fit(x=ds_train,\n",
    "                            epochs=N_EPOCHS_SF,\n",
    "                            validation_data=ds_valid,\n",
    "                            verbose=0)\n",
    "        print(\"Ending acc and val acc: {:.3f}, {:.3f}\".format(\n",
    "            hist_1.history['accuracy'][-1], hist_1.history['val_accuracy'][-1]))\n",
    "        \n",
    "        # Fine-tune model\n",
    "        # Unfreeze layers and compile.\n",
    "        _model.layers[0].trainable = True\n",
    "        _model.layers[-1].trainable = True\n",
    "        optimizer = tf.keras.optimizers.RMSprop(lr=LR_FINE_TUNE)\n",
    "        _model.compile(loss='sparse_categorical_crossentropy',\n",
    "                       optimizer=optimizer, metrics=['accuracy'])\n",
    "        \n",
    "        if ep_ix == 0 and p_ix == 0:\n",
    "            _model.summary()\n",
    "        \n",
    "        print(\"Fine-tuning model {} ({} of {})\".format(_model.name, ep_ix + 1,\n",
    "                                                       N_ITERS_ACROSS_SESS))\n",
    "        hist_2 = _model.fit(x=ds_train,\n",
    "                            epochs=N_EPOCHS_FINETUNE,\n",
    "                            validation_data=ds_valid,\n",
    "                            verbose=0)\n",
    "        print(\"Ending acc and val acc: {:.3f}, {:.3f}\".format(\n",
    "            hist_2.history['accuracy'][-1], hist_2.history['val_accuracy'][-1]))\n",
    "        \n",
    "        if p_name not in hists:\n",
    "            hists[p_name] = []\n",
    "        hists[p_name].append(hist_1.history)\n",
    "        hists[p_name].append(hist_2.history)\n",
    "        \n",
    "        _model.layers[0].save(datadir / 'models' / 'shared_head.h5')\n",
    "        _model.layers[-1].save(datadir / 'models' / 'shared_tail.h5')"
   ]
  },
  {
   "cell_type": "code",
   "execution_count": null,
   "metadata": {
    "pycharm": {
     "name": "#%%\n"
    }
   },
   "outputs": [],
   "source": [
    "def plt_hist(key):\n",
    "    # Uses data from outer scope\n",
    "    sess_breaks = np.arange(N_ITERS_ACROSS_SESS) * (N_EPOCHS_SF + N_EPOCHS_FINETUNE)\n",
    "    finetune_breaks = sess_breaks + N_EPOCHS_SF\n",
    "    \n",
    "    for p_name in train_participants:\n",
    "        dat = np.hstack([_[key] for _ in hists[p_name]])\n",
    "        plt.plot(dat, label=p_name)\n",
    "    \n",
    "    for xx in sess_breaks:\n",
    "        plt.axvline(xx, color='k', alpha=0.5)\n",
    "    for xx in finetune_breaks:\n",
    "        plt.axvline(xx, color='r', alpha=0.5)\n",
    "        \n",
    "    plt.xlabel('epoch')\n",
    "\n",
    "fig = plt.figure(figsize=(12, 12), facecolor='white')\n",
    "plt.subplot(2, 2, 1)\n",
    "plt_hist('accuracy')\n",
    "plt.ylabel('accuracy')\n",
    "plt.title('Training')\n",
    "plt.legend(loc='lower right')\n",
    "\n",
    "plt.subplot(2, 2, 2)\n",
    "plt_hist('val_accuracy')\n",
    "plt.title('Validation')\n",
    "\n",
    "plt.subplot(2, 2, 3)\n",
    "plt_hist('loss')\n",
    "plt.ylabel('loss')\n",
    "\n",
    "plt.subplot(2, 2, 4)\n",
    "plt_hist('val_loss')\n",
    "\n",
    "plt.tight_layout()\n",
    "plt.show()"
   ]
  },
  {
   "cell_type": "markdown",
   "metadata": {},
   "source": [
    "Classification accuracy on the validation set seems to improve as the shared models are updated with each recording.\n",
    "\n",
    "Validation loss improves for many but not all data sets."
   ]
  },
  {
   "cell_type": "markdown",
   "metadata": {},
   "source": [
    "## Transfer the model to unseen data\n",
    "\n",
    "A single 'test participant' was not included in the above training. Let's see how well we can classify data from this participant using a model that is pre-initialized with weights learned from other subjects and a naive model with random initial weights."
   ]
  },
  {
   "cell_type": "code",
   "execution_count": null,
   "metadata": {},
   "outputs": [],
   "source": [
    "# First clear all models from memory.\n",
    "reset_keras(shared_head)\n",
    "reset_keras(shared_tail)\n",
    "\n",
    "naive_model = tf.keras.Sequential([\n",
    "    tf.keras.models.load_model(datadir / 'models' / 'shared_head_naive.h5'),\n",
    "    *ss_layers[test_participant],\n",
    "    tf.keras.models.load_model(datadir / 'models' / 'shared_tail_naive.h5')\n",
    "], name=test_participant + '_naive')\n",
    "naive_model.compile(loss='sparse_categorical_crossentropy',\n",
    "                   optimizer='Nadam', metrics=['accuracy'])\n",
    "\n",
    "# Backup the naive weights for the whole model\n",
    "naive_model.save_weights(str(datadir / 'models' / (test_participant + '_full_naive.h5')))\n",
    "    \n",
    "# Get the transfer model.\n",
    "xfer_model = tf.keras.Sequential([\n",
    "    tf.keras.models.load_model(datadir / 'models' / 'shared_head.h5'),\n",
    "    *ss_layers[test_participant],\n",
    "    tf.keras.models.load_model(datadir / 'models' / 'shared_tail.h5')\n",
    "], name='xfer_full')\n",
    "xfer_model.compile(loss='sparse_categorical_crossentropy',\n",
    "                   optimizer='Nadam', metrics=['accuracy'])"
   ]
  },
  {
   "cell_type": "code",
   "execution_count": null,
   "metadata": {},
   "outputs": [],
   "source": [
    "N_EPOCHS = 200\n",
    "N_EPOCHS_SF = 20\n",
    "shared_layers = [0, 2]\n",
    "\n",
    "rec_info = rec_infos[test_participant]\n",
    "\n",
    "# Load data for this session\n",
    "X, Y, ax_info = load_faces_houses(datadir, test_participant, feature_set='full')\n",
    "\n",
    "# Prepare the data for DL\n",
    "ds_train, ds_valid, n_train = get_ds_train_valid(X, Y,\n",
    "                                                 rec_info['trn'],\n",
    "                                                 rec_info['tst'],\n",
    "                                                 batch_size=BATCH_SIZE,\n",
    "                                                 max_offset=MAX_OFFSET)\n",
    "\n",
    "# Train model\n",
    "print(\"Training xfer model {} spatial filter\".format(xfer_model.name))\n",
    "for layer_ix in shared_layers:\n",
    "    xfer_model.layers[layer_ix].trainable = False\n",
    "xfer_model.compile(loss='sparse_categorical_crossentropy',\n",
    "                   optimizer='Nadam', metrics=['accuracy'])\n",
    "hist_xfer_sf = xfer_model.fit(x=ds_train,\n",
    "                              epochs=N_EPOCHS_SF,\n",
    "                              validation_data=ds_valid,\n",
    "                              verbose=1)\n",
    "\n",
    "print(\"Training xfer model {} entirity\".format(xfer_model.name))\n",
    "for layer_ix in shared_layers:\n",
    "    xfer_model.layers[layer_ix].trainable = True\n",
    "xfer_model.compile(loss='sparse_categorical_crossentropy',\n",
    "                   optimizer='Nadam', metrics=['accuracy'])\n",
    "hist_xfer_all = xfer_model.fit(x=ds_train,\n",
    "                               epochs=N_EPOCHS - N_EPOCHS_SF,\n",
    "                               validation_data=ds_valid,\n",
    "                               verbose=1)\n",
    "print(\"Ending acc and val acc: {:.3f}, {:.3f}\".format(\n",
    "    hist_xfer_all.history['accuracy'][-1], hist_xfer_all.history['val_accuracy'][-1]))\n",
    "\n",
    "# Train naive model\n",
    "print(\"Training naive model {}\".format(naive_model.name))\n",
    "naive_model.load_weights(str(datadir / 'models' / (test_participant + '_full_naive.h5')))\n",
    "naive_model.compile(loss='sparse_categorical_crossentropy',\n",
    "                    optimizer='Nadam', metrics=['accuracy'])\n",
    "hist_naive = naive_model.fit(x=ds_train,\n",
    "                             epochs=N_EPOCHS,\n",
    "                             validation_data=ds_valid,\n",
    "                             verbose=1)\n",
    "print(\"Ending acc and val acc: {:.3f}, {:.3f}\".format(\n",
    "    hist_naive.history['accuracy'][-1], hist_naive.history['val_accuracy'][-1]))"
   ]
  },
  {
   "cell_type": "code",
   "execution_count": null,
   "metadata": {},
   "outputs": [],
   "source": [
    "fig = plt.figure(figsize=(12, 6), facecolor='white')\n",
    "hist_xfer = {}\n",
    "for k in hist_xfer_sf.history.keys():\n",
    "    hist_xfer[k] = hist_xfer_sf.history[k] + hist_xfer_all.history[k]\n",
    "plt.subplot(1, 2, 1)\n",
    "plt.plot(hist_xfer['accuracy'], 'b--', label='Xfer Training')\n",
    "plt.plot(hist_xfer['val_accuracy'], 'b', label='Xfer Validation')\n",
    "plt.plot(hist_naive.history['accuracy'], 'r--', label='Naive Training')\n",
    "plt.plot(hist_naive.history['val_accuracy'], 'r', label='Naive Validation')\n",
    "plt.ylabel('accuracy')\n",
    "plt.xlabel('epoch')\n",
    "plt.legend(loc='lower right')\n",
    "plt.subplot(1, 2, 2)\n",
    "plt.plot(hist_xfer['loss'], 'b--', label='Xfer Training')\n",
    "plt.plot(hist_xfer['val_loss'], 'b', label='Xfer Validation')\n",
    "plt.plot(hist_naive.history['loss'], 'r--', label='Naive Training')\n",
    "plt.plot(hist_naive.history['val_loss'], 'r', label='Naive Validation')\n",
    "plt.ylabel('Loss')\n",
    "plt.xlabel('epoch')\n",
    "\n",
    "plt.tight_layout()\n",
    "plt.show()"
   ]
  },
  {
   "cell_type": "markdown",
   "metadata": {},
   "source": [
    "oof. Not what we were hoping for. The model with randomly-initialized weights (naive) trained faster and had higher peak accuracy than the model with weights trained on data from other sessions (Xfer).\n",
    "\n",
    "There are a couple things we could do differently:\n",
    "\n",
    "1. For each of the training sessions, calculate the covariance matrix for the output of the spatial filter. Then, for the test session, find a mapping from sensor space to a space that has similar covariance. Use this mapping to initialize the spatial filter in the test transfer model.\n",
    "2. The intended use case of the transfer model on a new dataset is to given decent performance when there is a paucity of training data. We can simulate that by running the above analysis for different levels of training data."
   ]
  }
 ],
 "metadata": {
  "kernelspec": {
   "display_name": "Python 3",
   "language": "python",
   "name": "python3"
  },
  "language_info": {
   "codemirror_mode": {
    "name": "ipython",
    "version": 3
   },
   "file_extension": ".py",
   "mimetype": "text/x-python",
   "name": "python",
   "nbconvert_exporter": "python",
   "pygments_lexer": "ipython3",
   "version": "3.6.7"
  },
  "pycharm": {
   "stem_cell": {
    "cell_type": "raw",
    "metadata": {
     "collapsed": false
    },
    "source": []
   }
  }
 },
 "nbformat": 4,
 "nbformat_minor": 1
}
