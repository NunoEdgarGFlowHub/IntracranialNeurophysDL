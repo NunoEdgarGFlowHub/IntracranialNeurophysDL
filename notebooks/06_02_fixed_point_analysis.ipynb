{
  "cells": [
    {
      "cell_type": "markdown",
      "source": "# Fixed Point Analysis\nThis notebook is part of the [SachsLab Workshop for Intracranial Neurophysiology and Deep Learning](https://github.com/SachsLab/IntracranialNeurophysDL).\n\nFollow the link below to run in Google Colab or continue if running locally.\n\nRun the first few cells to normalize Local / Colab environments, then proceed below for the lesson.\n\n\u003ctable class\u003d\"tfo-notebook-buttons\" align\u003d\"left\"\u003e\n  \u003ctd\u003e\n    \u003ca target\u003d\"_blank\" href\u003d\"https://colab.research.google.com/github/SachsLab/IntracranialNeurophysDL/blob/master/notebooks/06_01_LFADS.ipynb\"\u003e\u003cimg src\u003d\"https://www.tensorflow.org/images/colab_logo_32px.png\" /\u003eRun in Google Colab\u003c/a\u003e\n  \u003c/td\u003e\n  \u003ctd\u003e\n    \u003ca target\u003d\"_blank\" href\u003d\"https://github.com/SachsLab/IntracranialNeurophysDL/blob/master/notebooks/06_01_LFADS.ipynb\"\u003e\u003cimg src\u003d\"https://www.tensorflow.org/images/GitHub-Mark-32px.png\" /\u003eView source on GitHub\u003c/a\u003e\n  \u003c/td\u003e\n\u003c/table\u003e\n",
      "metadata": {
        "pycharm": {
          "metadata": false
        }
      }
    },
    {
      "cell_type": "code",
      "execution_count": null,
      "outputs": [],
      "source": "import os\nimport sys\nfrom pathlib import Path\ntry:\n    # See if we are running on google.colab\n    import google.colab\n    from google.colab import files\n    if sys.version_info \u003e (3, 0):\n        from importlib import reload\n        !pip install --upgrade -q https://storage.googleapis.com/jax-wheels/cuda$(echo $CUDA_VERSION | sed -e \u0027s/\\.//\u0027 -e \u0027s/\\..*//\u0027)/jaxlib-latest-cp36-none-linux_x86_64.whl\n    else:\n        !pip install --upgrade -q https://storage.googleapis.com/jax-wheels/cuda$(echo $CUDA_VERSION | sed -e \u0027s/\\.//\u0027 -e \u0027s/\\..*//\u0027)/jaxlib-latest-cp27-none-linux_x86_64.whl\n    !pip install --upgrade -q git+https://github.com/google/jax.git\n\n    os.chdir(\u0027..\u0027)\n    if not (Path.home() / \u0027.kaggle\u0027).is_dir():\n        # Configure kaggle\n        files.upload()  # Find the kaggle.json file in your ~/.kaggle directory.\n        !pip install -q kaggle\n        !mkdir -p ~/.kaggle\n        !mv kaggle.json ~/.kaggle/\n        !chmod 600 ~/.kaggle/kaggle.json\n    if Path.cwd().stem !\u003d \u0027IntracranialNeurophysDL\u0027:\n        if not (Path.cwd() / \u0027IntracranialNeurophysDL\u0027).is_dir():\n            # Download the workshop repo and change to its directory\n            !git clone --recursive https://github.com/SachsLab/IntracranialNeurophysDL.git\n        os.chdir(\u0027IntracranialNeurophysDL\u0027)\n    IN_COLAB \u003d True\nexcept ModuleNotFoundError:\n    IN_COLAB \u003d False\n    if Path.cwd().stem \u003d\u003d \u0027notebooks\u0027:\n        os.chdir(Path.cwd().parent)\n    # Make sure the kaggle executable is on the PATH\n    os.environ[\u0027PATH\u0027] \u003d os.environ[\u0027PATH\u0027] + \u0027;\u0027 + str(Path(sys.executable).parent / \u0027Scripts\u0027)\nimport numpy as onp\n",
      "metadata": {
        "pycharm": {
          "metadata": false,
          "name": "#%%\n"
        }
      }
    },
    {
      "cell_type": "markdown",
      "source": "## Get code from google research repository",
      "metadata": {
        "pycharm": {
          "metadata": false
        }
      }
    },
    {
      "cell_type": "code",
      "execution_count": null,
      "outputs": [],
      "source": "if not (Path.cwd() / \u0027..\u0027 / \u0027ctd\u0027).is_dir():\n    !git clone --recursive https://github.com/google-research/computation-thru-dynamics.git ../ctd\n    !mv ../ctd/fixed_point_finder ./\nimport fixed_point_finder.decision as decision\nimport fixed_point_finder.fixed_points as fp_optimize\nimport fixed_point_finder.rnn as rnn\nimport fixed_point_finder.utils as utils\n",
      "metadata": {
        "pycharm": {
          "metadata": false,
          "name": "#%%\n"
        }
      }
    },
    {
      "cell_type": "markdown",
      "source": "## Load the trained LFADS model\nSee the 06_01 notebook.\n",
      "metadata": {
        "pycharm": {
          "metadata": false
        }
      }
    },
    {
      "cell_type": "code",
      "execution_count": null,
      "outputs": [],
      "source": "datadir \u003d Path.cwd() / \u0027data\u0027 / \u0027joeyo\u0027\nnetwork_path \u003d str(datadir / \u0027lfads_model.npz\u0027)\nloaded_params \u003d onp.load(network_path)\ntrained_params \u003d loaded_params[\u0027arr_0\u0027].item()\n",
      "metadata": {
        "pycharm": {
          "metadata": false,
          "name": "#%%\n"
        }
      }
    },
    {
      "cell_type": "markdown",
      "source": "## Notes\n\n1. Use some known initial states to evolve some RNN internal states.\n2. Use RNN internal states as initial fixed point candidates.\n3. Optimize to reduce the loss between internal state and internal state after step.\n    * Note: `opt_init` is called with the candidate fixed points as \u0027parameters\u0027.\n4. Tolerance cutoff, unique, exclude outliers, sort by loss.\n5. Plot \"best\" fixed points in PC space.",
      "metadata": {
        "pycharm": {
          "metadata": false
        }
      }
    }
  ],
  "metadata": {
    "language_info": {
      "codemirror_mode": {
        "name": "ipython",
        "version": 2
      },
      "file_extension": ".py",
      "mimetype": "text/x-python",
      "name": "python",
      "nbconvert_exporter": "python",
      "pygments_lexer": "ipython2",
      "version": "2.7.6"
    },
    "kernelspec": {
      "name": "python3",
      "language": "python",
      "display_name": "Python 3"
    },
    "stem_cell": {
      "cell_type": "raw",
      "source": "",
      "metadata": {
        "pycharm": {
          "metadata": false
        }
      }
    }
  },
  "nbformat": 4,
  "nbformat_minor": 0
}