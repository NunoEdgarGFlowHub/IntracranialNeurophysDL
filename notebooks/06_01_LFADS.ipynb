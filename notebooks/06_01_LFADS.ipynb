{
 "cells": [
  {
   "cell_type": "markdown",
   "metadata": {
    "pycharm": {
     "metadata": false
    }
   },
   "source": [
    "# LFADS\n",
    "This notebook is part of the [SachsLab Workshop for Intracranial Neurophysiology and Deep Learning](https://github.com/SachsLab/IntracranialNeurophysDL).\n",
    "\n",
    "Follow the link below to run in Google Colab or continue if running locally.\n",
    "\n",
    "Run the first few cells to normalize Local / Colab environments, then proceed below for the lesson.\n",
    "\n",
    "<table class=\"tfo-notebook-buttons\" align=\"left\">\n",
    "  <td>\n",
    "    <a target=\"_blank\" href=\"https://colab.research.google.com/github/SachsLab/IntracranialNeurophysDL/blob/master/notebooks/06_01_LFADS.ipynb\"><img src=\"https://www.tensorflow.org/images/colab_logo_32px.png\" />Run in Google Colab</a>\n",
    "  </td>\n",
    "  <td>\n",
    "    <a target=\"_blank\" href=\"https://github.com/SachsLab/IntracranialNeurophysDL/blob/master/notebooks/06_01_LFADS.ipynb\"><img src=\"https://www.tensorflow.org/images/GitHub-Mark-32px.png\" />View source on GitHub</a>\n",
    "  </td>\n",
    "</table>\n"
   ]
  },
  {
   "cell_type": "code",
   "execution_count": 1,
   "metadata": {
    "pycharm": {
     "is_executing": false,
     "metadata": false,
     "name": "#%%\n"
    }
   },
   "outputs": [],
   "source": [
    "import os\n",
    "import sys\n",
    "from pathlib import Path\n",
    "try:\n",
    "    # See if we are running on google.colab\n",
    "    import google.colab\n",
    "    from google.colab import files\n",
    "    if sys.version_info > (3, 0):\n",
    "        from importlib import reload\n",
    "        !pip install --upgrade -q https://storage.googleapis.com/jax-wheels/cuda$(echo $CUDA_VERSION | sed -e 's/\\.//' -e 's/\\..*//')/jaxlib-latest-cp36-none-linux_x86_64.whl\n",
    "    else:\n",
    "        !pip install --upgrade -q https://storage.googleapis.com/jax-wheels/cuda$(echo $CUDA_VERSION | sed -e 's/\\.//' -e 's/\\..*//')/jaxlib-latest-cp27-none-linux_x86_64.whl\n",
    "    !pip install --upgrade -q git+https://github.com/google/jax.git\n",
    "\n",
    "    os.chdir('..')\n",
    "    if not (Path.home() / '.kaggle').is_dir():\n",
    "        # Configure kaggle\n",
    "        files.upload()  # Find the kaggle.json file in your ~/.kaggle directory.\n",
    "        !pip install -q kaggle\n",
    "        !mkdir -p ~/.kaggle\n",
    "        !mv kaggle.json ~/.kaggle/\n",
    "        !chmod 600 ~/.kaggle/kaggle.json\n",
    "    if Path.cwd().stem != 'IntracranialNeurophysDL':\n",
    "        if not (Path.cwd() / 'IntracranialNeurophysDL').is_dir():\n",
    "            # Download the workshop repo and change to its directory\n",
    "            !git clone --recursive https://github.com/SachsLab/IntracranialNeurophysDL.git\n",
    "        os.chdir('IntracranialNeurophysDL')\n",
    "    IN_COLAB = True\n",
    "except ModuleNotFoundError:\n",
    "    IN_COLAB = False\n",
    "    if Path.cwd().stem == 'notebooks':\n",
    "        os.chdir(Path.cwd().parent)\n",
    "    # Make sure the kaggle executable is on the PATH\n",
    "    os.environ['PATH'] = os.environ['PATH'] + ';' + str(Path(sys.executable).parent / 'Scripts')\n"
   ]
  },
  {
   "cell_type": "code",
   "execution_count": 2,
   "metadata": {
    "pycharm": {
     "is_executing": false,
     "metadata": false,
     "name": "#%%\n"
    }
   },
   "outputs": [
    {
     "name": "stdout",
     "output_type": "stream",
     "text": [
      "Data directory found. Skipping download.\n"
     ]
    }
   ],
   "source": [
    "# Download and unzip data (2.1 GB)\n",
    "datadir = Path.cwd() / 'data' / 'joeyo'\n",
    "if not (datadir / 'converted').is_dir():\n",
    "    !kaggle datasets download --unzip --path {str(datadir / 'converted')} cboulay/joeyo_nhp_reach_mea\n",
    "    print(\"Finished downloading and extracting data.\")\n",
    "else:\n",
    "    print(\"Data directory found. Skipping download.\")\n"
   ]
  },
  {
   "cell_type": "markdown",
   "metadata": {
    "pycharm": {
     "metadata": false,
     "name": "#%% md\n"
    }
   },
   "source": [
    "## Imports\n"
   ]
  },
  {
   "cell_type": "code",
   "execution_count": 3,
   "metadata": {
    "pycharm": {
     "is_executing": false,
     "metadata": false,
     "name": "#%%\n"
    }
   },
   "outputs": [],
   "source": [
    "import jax.numpy as np\n",
    "from jax import jit, random, vmap, grad, lax\n",
    "from jax.experimental import optimizers\n",
    "#config.update(\"jax_debug_nans\", True) # Useful for finding numerical errors\n",
    "import matplotlib.pyplot as plt\n",
    "import numpy as onp  # original CPU-backed NumPy\n",
    "import time\n"
   ]
  },
  {
   "cell_type": "markdown",
   "metadata": {
    "pycharm": {
     "metadata": false
    }
   },
   "source": [
    "## Randomization\n",
    "> JAX uses its own setup to handle randomness and seeding the pseudo-random number generators.\n",
    "You can read about it [here](https://github.com/google/jax/blob/master/README.md#random-numbers-are-different).\n"
   ]
  },
  {
   "cell_type": "code",
   "execution_count": 4,
   "metadata": {
    "pycharm": {
     "metadata": false,
     "name": "#%%\n"
    }
   },
   "outputs": [],
   "source": [
    "MAX_SEED_INT = 10000000\n",
    "key = random.PRNGKey(onp.random.randint(0, MAX_SEED_INT))\n"
   ]
  },
  {
   "cell_type": "markdown",
   "metadata": {
    "pycharm": {
     "metadata": false,
     "name": "#%% md\n"
    }
   },
   "source": [
    "## Get Data\n",
    "Unlike notebook 05_02, where we used a small number of wide bins per sequence,\n",
    "here we use a large number of narrow bins per sequence, where a sequence corresponds to an entire trial\n",
    "from target onset to target hit (and a bit beyond for short trials).\n",
    "### Data Hyperparameters\n"
   ]
  },
  {
   "cell_type": "code",
   "execution_count": 5,
   "metadata": {
    "pycharm": {
     "is_executing": false,
     "metadata": false,
     "name": "#%%\n"
    }
   },
   "outputs": [],
   "source": [
    "SESS_IDX = 7          # Index of recording session we will use. 0:8\n",
    "MAX_TRIAL_DUR = 1.7   # This gets rid of about 7% of the slowest trials (long tail distribution)\n",
    "BIN_DURATION = 0.020  # Width of window used to bin spikes, in seconds\n",
    "P_TRAIN = 0.8         # Proportion of data used for training.\n"
   ]
  },
  {
   "cell_type": "markdown",
   "metadata": {
    "pycharm": {
     "metadata": false,
     "name": "#%% md\n"
    }
   },
   "source": [
    "### Load Spiking Data\n"
   ]
  },
  {
   "cell_type": "code",
   "execution_count": 6,
   "metadata": {
    "pycharm": {
     "is_executing": false,
     "metadata": false,
     "name": "#%%\n"
    }
   },
   "outputs": [
    {
     "name": "stdout",
     "output_type": "stream",
     "text": [
      "Keeping 463 of 487 trials (95.07186858316221 %) shorter than 1.7 s.\n"
     ]
    }
   ],
   "source": [
    "from data.utils.fileio import load_joeyo_reaching\n",
    "\n",
    "def load_dat_with_vel_accel(datadir, sess_idx, x_chunk='mu_spiketimes', trial_dur=1.7):\n",
    "    BEHAV_CHANS = ['CursorX', 'CursorY']\n",
    "    sess_names = ['indy_201' + _ for _ in ['60921_01', '60927_04', '60927_06', '60930_02', '60930_05', '61005_06',\n",
    "                                           '61006_02', '70124_01', '70127_03']]\n",
    "    X, Y, X_ax_info, Y_ax_info = load_joeyo_reaching(datadir, sess_names[sess_idx], x_chunk=x_chunk)\n",
    "\n",
    "    # Determine target onset times that we will keep.\n",
    "    targ_ch_ix = onp.where(onp.in1d(Y_ax_info['channel_names'], ['TargetX', 'TargetY']))[0]\n",
    "    b_targ_onset = onp.hstack((True, onp.any(onp.diff(Y[targ_ch_ix]) != 0, axis=0)))\n",
    "    targ_onset_times = Y_ax_info['timestamps'][b_targ_onset]\n",
    "    b_short_trials = onp.hstack((onp.diff(targ_onset_times) <= trial_dur, False))\n",
    "    print(\"Keeping {} of {} trials ({} %) shorter than {} s.\".format(onp.sum(b_short_trials),\n",
    "                                                                    b_short_trials.size,\n",
    "                                                                    100 * onp.sum(b_short_trials) / b_short_trials.size,\n",
    "                                                                    trial_dur))\n",
    "    targ_onset_times = targ_onset_times[b_short_trials]\n",
    "\n",
    "    # Slice Y to only keep required behaviour data (cursor position)\n",
    "    b_keep_y_chans = onp.in1d(Y_ax_info['channel_names'], BEHAV_CHANS)\n",
    "    Y = Y[b_keep_y_chans, :]\n",
    "    Y_ax_info['channel_names'] = [_ for _ in Y_ax_info['channel_names'] if _ in BEHAV_CHANS]\n",
    "\n",
    "    # Calculate discrete derivative and double-derivative to get velocity and acceleration.\n",
    "    vel = onp.diff(Y, axis=1)\n",
    "    vel = onp.concatenate((vel[:, 0][:, None], vel),\n",
    "                         axis=1)  # Assume velocity was constant across the first two samples.\n",
    "    accel = onp.concatenate(([[0], [0]], np.diff(vel, axis=1)), axis=1)  # Assume accel was 0 in the first sample.\n",
    "    Y = onp.concatenate((Y, vel, accel), axis=0)\n",
    "    Y_ax_info['channel_names'] += ['VelX', 'VelY', 'AccX', 'AccY']\n",
    "\n",
    "    return X, Y, X_ax_info, Y_ax_info, targ_onset_times\n",
    "\n",
    "X, Y, X_ax_info, Y_ax_info, targ_times = load_dat_with_vel_accel(datadir, SESS_IDX, trial_dur=MAX_TRIAL_DUR)\n"
   ]
  },
  {
   "cell_type": "markdown",
   "metadata": {
    "pycharm": {
     "metadata": false
    }
   },
   "source": [
    "### Segment Into Trials \n"
   ]
  },
  {
   "cell_type": "code",
   "execution_count": 7,
   "metadata": {
    "pycharm": {
     "metadata": false,
     "name": "#%%\n"
    }
   },
   "outputs": [
    {
     "name": "stdout",
     "output_type": "stream",
     "text": [
      "Actual bin duration: 0.02048\n"
     ]
    }
   ],
   "source": [
    "def bin_and_segment_spike_times(X, X_ax_info, targ_onset_times,\n",
    "                                nearest_bin_dur=0.005, nearest_bin_step_dur=None, trial_dur=1.7):\n",
    "\n",
    "    # We'll use an integer number of samples per bin: the next highest required to get the requested nearest_bin_dur\n",
    "    samps_per_bin = int(onp.ceil(nearest_bin_dur * X_ax_info['fs']))\n",
    "    true_bin_dur = samps_per_bin / X_ax_info['fs']\n",
    "    print(\"Actual bin duration: {}\".format(true_bin_dur))\n",
    "\n",
    "    # Similar for number of samples per bin-step.\n",
    "    if nearest_bin_step_dur is not None:\n",
    "        samps_per_step = int(onp.ceil(nearest_bin_step_dur * X_ax_info['fs']))\n",
    "        print(\"Actual bin duration: {}\".format(samps_per_bin / X_ax_info['fs']))\n",
    "    else:\n",
    "        # No overlap\n",
    "        samps_per_step = samps_per_bin\n",
    "\n",
    "    # Get the indices of each bin-start\n",
    "    bin_starts_idx = onp.arange(0, X.shape[-1], samps_per_step)\n",
    "    b_full_bins = bin_starts_idx <= (X.shape[-1] - samps_per_bin)\n",
    "    bin_starts_idx = bin_starts_idx[b_full_bins]\n",
    "\n",
    "    # The next chunk of code counts the number of spikes in each bin.\n",
    "    # -Create array of indices to reslice the raster data\n",
    "    bin_ix = onp.arange(samps_per_bin)[:, None] + bin_starts_idx[None, :]\n",
    "    # -Create buffer to hold the dense raster data\n",
    "    _temp = onp.zeros(X[0].shape, dtype=bool)\n",
    "    # -Preallocate _X to hold spike counts per bin\n",
    "    _X = onp.zeros((len(bin_starts_idx), X.shape[0]), dtype=np.int32)\n",
    "    for chan_ix in range(X.shape[0]):\n",
    "        _X[:, chan_ix] = np.sum(X[chan_ix].toarray(out=_temp)[0][bin_ix], axis=0)\n",
    "\n",
    "    # Now that our data are binned, let's slice it up into trials.\n",
    "    bins_per_trial = int(trial_dur / true_bin_dur)\n",
    "    trial_X = onp.zeros((len(targ_onset_times), bins_per_trial, _X.shape[-1]))\n",
    "\n",
    "    bin_stops_t = X_ax_info['timestamps'][bin_starts_idx + samps_per_bin - 1]\n",
    "    trial_starts_idx = onp.searchsorted(bin_stops_t, targ_onset_times)\n",
    "    for trial_ix, t_start_idx in enumerate(trial_starts_idx):\n",
    "        trial_X[trial_ix] = _X[t_start_idx:t_start_idx+bins_per_trial, :]\n",
    "\n",
    "    in_trial_tvec = onp.arange(bins_per_trial) * true_bin_dur\n",
    "\n",
    "    return trial_X, in_trial_tvec, true_bin_dur\n",
    "\n",
    "trial_X, trial_tvec, true_bin_dur = bin_and_segment_spike_times(X, X_ax_info, targ_times,\n",
    "                                                                nearest_bin_dur=BIN_DURATION, trial_dur=MAX_TRIAL_DUR)"
   ]
  },
  {
   "cell_type": "markdown",
   "metadata": {
    "pycharm": {
     "metadata": false
    }
   },
   "source": [
    "### Split Train and Validation\n"
   ]
  },
  {
   "cell_type": "code",
   "execution_count": 8,
   "metadata": {
    "pycharm": {
     "metadata": false,
     "name": "#%%\n"
    }
   },
   "outputs": [],
   "source": [
    "from sklearn.model_selection import train_test_split\n",
    "X_train, X_valid = train_test_split(trial_X, train_size=P_TRAIN)\n"
   ]
  },
  {
   "cell_type": "markdown",
   "metadata": {
    "pycharm": {
     "metadata": false,
     "name": "#%% md\n"
    }
   },
   "source": [
    "### Visualize Data\n"
   ]
  },
  {
   "cell_type": "code",
   "execution_count": 10,
   "metadata": {
    "pycharm": {
     "metadata": false,
     "name": "#%%\n"
    }
   },
   "outputs": [
    {
     "name": "stdout",
     "output_type": "stream",
     "text": [
      "trial_X has 463 trials, 83 bin-steps per trial, and 91 neurons.\n"
     ]
    },
    {
     "data": {
      "image/png": "[encoded data removed]",
      "text/plain": [
       "<Figure size 432x288 with 1 Axes>"
      ]
     },
     "metadata": {},
     "output_type": "display_data"
    }
   ],
   "source": [
    "fig = plt.figure(facecolor='white')\n",
    "\n",
    "n_trials, n_timesteps, n_neurons = trial_X.shape\n",
    "print(\"trial_X has {} trials, {} bin-steps per trial, and {} neurons.\".format(n_trials, n_timesteps, n_neurons))\n",
    "trial_idx = onp.random.randint(0, n_trials-1, 1)[0]\n",
    "neuron_idx = onp.random.randint(0, n_neurons-1, 4)\n",
    "plt.plot(trial_tvec, trial_X[trial_idx, :, neuron_idx].T)\n",
    "plt.title(\"{} random neurons from trial {}\".format(len(neuron_idx), trial_idx))\n",
    "plt.xlabel('Time after target onset (s)')\n",
    "plt.ylabel('Spikes / Bin')\n",
    "\n",
    "plt.show()\n"
   ]
  },
  {
   "cell_type": "markdown",
   "metadata": {
    "pycharm": {
     "metadata": false,
     "name": "#%% md\n"
    }
   },
   "source": [
    "## LFADS - Latent Factor Analysis via Dynamical Systems\n",
    "The rest of this notebook is based on a notebook and supporting code found in in the\n",
    "[google-research/computation-thru-dynamics github repo](https://github.com/google-research/computation-thru-dynamics).\n",
    "\n",
    "The LFADS model is summarized in the below diagram. For now we will ignore the bottom \"Controller\" and \"Inferred inputs\" parts.\n",
    "\n",
    "![](https://raw.githubusercontent.com/google-research/computation-thru-dynamics/master/images/lfads_architecture_w_inferred_inputs_3.png)\n",
    "\n",
    "The model is described in commented pseudocode below."
   ]
  },
  {
   "cell_type": "code",
   "execution_count": 14,
   "metadata": {},
   "outputs": [],
   "source": [
    "# Our data is of shape n_trials x n_bins_per_trial (aka timesteps) x n_neurons.\n",
    "# The batched_data is a list of data of shape n_trials_per_batch x n_bins_per_trial x n_neurons\n",
    "# Here we initialize it with an empty list just so we don't trigger errors when trying to run this cell.\n",
    "batched_data = []\n",
    "\n",
    "# For each batch of binned spike counts\n",
    "for binned_spike_counts in batched_data:\n",
    "    \n",
    "    ##################\n",
    "    ## ENCODER PART ##\n",
    "    \n",
    "    # Randomly drop out spikes. Re-randomized for each time-step!\n",
    "    do_binned_spike_counts = Dropout(binned_spike_counts)\n",
    "    \n",
    "    # Run the data through a nonlinear recurrent **encoder**. They use a Bidirectional GRU layer.\n",
    "    # n_neurons -> 2 * ENC_DIM\n",
    "    full_enc_fwd_bkwd, enc_ends_fwd_last_bkwd_first = BidirectionalGRU(do_binned_spike_counts)\n",
    "    # AFAICT, full_enc_fwd_bkwd is only used when calculating inferred inputs.\n",
    "    \n",
    "    # Convert the end-points of the RNN output to 'initial conditions', which is the per-trial mean and variance\n",
    "    # to produce random vectors to encode the trial. This is the 'bottleneck' or 'latent variables' in a VAE.\n",
    "    # 2 * ENC_DIM -> 2 * GEN_DIM; GEN_DIM for means and GEN_DIM for logvars\n",
    "    ic_mean_logvar = Dense(Dropout(enc_ends_fwd_last_bkwd_first))\n",
    "    \n",
    "    ##################\n",
    "    ## DECODER PART ##\n",
    "    \n",
    "    # The initial state used in the next step is a vector randomly drawn from the distribution calculated above.\n",
    "    g = initial_state = diag_gaussian_sample(ic_mean_logvar)\n",
    "    \n",
    "    # The generator is a GRU that takes as input the initial state.\n",
    "    # In the tensorflow implementation, this was a slightly specialized GRU: https://github.com/tensorflow/models/blob/c80de2ca3ec34c4d510961b6a604309772fc02ad/research/lfads/lfads.py#L158\n",
    "    # The output are the \"neural modes\", aka \"latent factors\".\n",
    "    # 2 * GEN_DIM -> FACTORS_DIM\n",
    "    latent_factors = []\n",
    "    for step_ix in range(n_bins_per_trial):\n",
    "        g = GRU(g)\n",
    "        g = Dropout(g)\n",
    "        f = normed_linear(g)\n",
    "        \n",
    "        latent_factors.append(f)\n",
    "        \n",
    "    # The factors are transformed to give 'rates' for as many channels as there were neurons in the binned_spike_counts.\n",
    "    reconstructed_log_rates = Dense(latent_factors)\n",
    "    reconstructed_rates = exp(reconstructed_log_rates)\n",
    "    \n",
    "    # The rates parameterize a Poisson distribution from which spikes are drawn.\n",
    "    reconstructed_binned_spike_counts = Poisson(reconstructed_rates)\n",
    "    \n",
    "    ##########\n",
    "    ## LOSS ##\n",
    "    \n",
    "    log_p_xgz = mean(log_likelihood(binned_spike_counts, reconstructed_binned_spike_counts))\n",
    "    loss = -log_p_xgz + kl_loss_g0 + l2_loss\n",
    "    \n",
    "    ############\n",
    "    ## UPDATE ##\n",
    "    \n",
    "    # All of the above would be wrapped in a compiled loss_fn called once per batch,\n",
    "    # then we can use JAX grad to calculate the gradients of that function.\n",
    "    gradients = grad(loss_fn)\n",
    "        \n",
    "    # Then the optimizer updates the model weights using the gradients.\n",
    "    optimizer_update(gradients)\n",
    "    "
   ]
  },
  {
   "cell_type": "markdown",
   "metadata": {
    "pycharm": {
     "metadata": false
    }
   },
   "source": [
    "## LFADS Hyperparameters\n",
    "\n",
    "In the above pseudocode the dimensions are mentioned but the hyperparameters are omitted.\n",
    "There are many."
   ]
  },
  {
   "cell_type": "code",
   "execution_count": 10,
   "metadata": {
    "pycharm": {
     "metadata": false,
     "name": "#%%\n"
    }
   },
   "outputs": [],
   "source": [
    "from indl.lfads import utils\n",
    "from indl.lfads.optimize import get_kl_warmup_fun\n",
    "import indl.lfads.distributions as dists\n",
    "\n",
    "BATCH_SIZE = 4        # Number of trials in each training step during optimization\n",
    "EPOCHS = 10           # Number of loops through the entire data set.\n",
    "\n",
    "# LFADS architecture\n",
    "N_RNN_UNITS = 60      # Size of RNN output (state)\n",
    "ENC_DIM = 128         # encoder dim\n",
    "CON_DIM = 128         # controller dim\n",
    "GEN_DIM = 128         # generator dim, should be large enough to generate dynamics\n",
    "FACTORS_DIM = 32      # factors dim, should be large enough to capture most variance of dynamics\n",
    "\n",
    "# Numerical stability\n",
    "VAR_MIN = 0.001               # Minimal variance any gaussian can become.\n",
    "\n",
    "# Initial state prior parameters\n",
    "# the mean is set to zero in the code\n",
    "IC_PRIOR_VAR = 0.1            # this is sigma^2 of uninformative prior\n",
    "\n",
    "# Inferred input autoregressive prior parameters\n",
    "# TODO: Remove\n",
    "ar_mean = 0.0                 # process mean\n",
    "ar_autocorrelation_tau = 1.0  # seconds, how correlated each time point is, related to $\\phi$ above.\n",
    "ar_noise_variance = 0.1       # noise variance\n",
    "\n",
    "# Optimization Hyperparameters\n",
    "num_batches = int(n_trials * EPOCHS / BATCH_SIZE)  # how many batches do we train\n",
    "print_every = 20              # give information every so often\n",
    "\n",
    "# Learning rate HPs\n",
    "STEP_SIZE = 0.05              # initial learning rate\n",
    "DECAY_FACTOR = 0.995          # learning rate decay param\n",
    "DECAY_STEPS = 1               # learning rate decay param\n",
    "\n",
    "# Regularization HPs\n",
    "P_DROPOUT = 0.05              # Proportion of units to set to 0 on each step.\n",
    "keep_rate = 1 - P_DROPOUT\n",
    "L2_REG = 2.0e-5               # Parameter regularization strength.\n",
    "\n",
    "# Numerical stability HPs\n",
    "MAX_GRAD_NORM = 10.0          # gradient clipping above this value\n"
   ]
  },
  {
   "cell_type": "markdown",
   "metadata": {
    "pycharm": {
     "metadata": false
    }
   },
   "source": [
    "### KL Warmup\n",
    "Copied straight from [LFADS tutorial optimize.py](https://github.com/google-research/computation-thru-dynamics/blob/master/lfads_tutorial/optimize.py).\n",
    "\n",
    "> It turns out that the KL term can be a lot easier to optimize initially than learning how to\n",
    "reconstruct your data. This results in a pathological stoppage of training where the KL goes to\n",
    "nearly zero and training is broken there on out (as you cannot represent any a given trial from\n",
    "uninformative priors). One way out of this is to warmup the KL penality, starting it off with a\n",
    "weight term of 0 and then slowly building to 1, giving the reconstruction a chance to train a bit\n",
    "without the KL penalty messing things up.\n"
   ]
  },
  {
   "cell_type": "code",
   "execution_count": 11,
   "metadata": {
    "pycharm": {
     "metadata": false,
     "name": "#%%\n"
    }
   },
   "outputs": [],
   "source": [
    "kl_warmup_start = 50.0 # batch number to start kl warmup, explicitly float\n",
    "kl_warmup_end = 250.0  # batch number to be finished with kl warmup, explicitly float\n",
    "kl_min = 0.01 # The minimum KL value, non-zero to make sure KL doesn't grow crazy before kicking in.\n",
    "kl_max = 1.0\n"
   ]
  },
  {
   "cell_type": "code",
   "execution_count": 14,
   "metadata": {
    "pycharm": {
     "metadata": false,
     "name": "#%%\n"
    }
   },
   "outputs": [
    {
     "data": {
      "text/plain": [
       "Text(0.5, 0, 'Training batch')"
      ]
     },
     "execution_count": 14,
     "metadata": {},
     "output_type": "execute_result"
    },
    {
     "data": {
      "image/png": "[encoded data removed]",
      "text/plain": [
       "<Figure size 1152x288 with 2 Axes>"
      ]
     },
     "metadata": {},
     "output_type": "display_data"
    }
   ],
   "source": [
    "# Plot the warmup function and the learning rate decay function.\n",
    "plt.figure(figsize=(16,4), facecolor='white')\n",
    "plt.subplot(1, 2, 1)\n",
    "x = onp.arange(0, num_batches, print_every)\n",
    "kl_warmup_fun = get_kl_warmup_fun(lfads_opt_hps)\n",
    "plt.plot(x, [kl_warmup_fun(i) for i in onp.arange(1, num_batches, print_every)]);\n",
    "plt.title('KL warmup function')\n",
    "plt.xlabel('Training batch')\n",
    "\n",
    "plt.subplot(1, 2, 2)\n",
    "decay_fun = optimizers.exponential_decay(STEP_SIZE, DECAY_STEPS, DECAY_STEPS)\n",
    "plt.plot(x, [decay_fun(i) for i in range(1, num_batches, print_every)])\n",
    "plt.title('learning rate function')\n",
    "plt.xlabel('Training batch') \n"
   ]
  },
  {
   "cell_type": "markdown",
   "metadata": {
    "pycharm": {
     "metadata": false
    }
   },
   "source": [
    "### Collect hyperparams\n"
   ]
  },
  {
   "cell_type": "code",
   "execution_count": 12,
   "metadata": {
    "pycharm": {
     "metadata": false,
     "name": "#%%\n"
    }
   },
   "outputs": [],
   "source": [
    "from indl.lfads.lfads import lfads_params\n",
    "lfads_hps = {'data_dim' : n_neurons, 'ntimesteps' : n_timesteps,\n",
    "             'enc_dim' : ENC_DIM, 'con_dim' : CON_DIM, 'var_min' : VAR_MIN,\n",
    "             'ic_prior_var' : IC_PRIOR_VAR, 'ar_mean' : ar_mean,\n",
    "             'ar_autocorrelation_tau' : ar_autocorrelation_tau,\n",
    "             'ar_noise_variance' : ar_noise_variance,\n",
    "             'ii_dim' : II_DIM, 'gen_dim' : GEN_DIM,\n",
    "             'factors_dim' : FACTORS_DIM,\n",
    "             'l2reg' : L2_REG,\n",
    "             'batch_size' : BATCH_SIZE}\n",
    "\n",
    "lfads_opt_hps = {'num_batches' : num_batches, 'step_size' : STEP_SIZE,\n",
    "                 'decay_steps' : DECAY_STEPS, 'decay_factor' : DECAY_FACTOR,\n",
    "                 'kl_min' : kl_min, 'kl_max' : kl_max, 'kl_warmup_start' : kl_warmup_start,\n",
    "                 'kl_warmup_end' : kl_warmup_end, 'keep_rate' : keep_rate,\n",
    "                 'max_grad_norm' : MAX_GRAD_NORM, 'print_every' : print_every,\n",
    "                 'adam_b1' : 0.9, 'adam_b2' : 0.999, 'adam_eps' : 1e-1}\n",
    "\n",
    "init_params = lfads_params(key, lfads_hps)\n"
   ]
  },
  {
   "cell_type": "markdown",
   "metadata": {
    "pycharm": {
     "metadata": false,
     "name": "#%% md\n"
    }
   },
   "source": [
    "## Define LFADS functions\n",
    "\n",
    "Some of the functions we should already be familiar with are imported from a helper module in the workshop repository.\n",
    "\n",
    "Here we define some new functions and the \"layers\".\n",
    "* JAX has a very lightweight interface for NN layers\n",
    "\n",
    "Some of these functions are copied directly from the LFADS tutorial [here](https://github.com/google-research/computation-thru-dynamics/blob/master/lfads_tutorial/lfads.py), with a bit of cleaning up and trimming comments for familiar things."
   ]
  },
  {
   "cell_type": "code",
   "execution_count": null,
   "metadata": {},
   "outputs": [],
   "source": [
    "def gru(params, h, x, bfg=0.5):\n",
    "    \"\"\"\n",
    "    Implement the GRU equations.\n",
    "    \n",
    "    Arguments:\n",
    "    params: dictionary of GRU parameters\n",
    "    h: np array of hidden state\n",
    "    x: np array of input\n",
    "    bfg: bias on forget gate (useful for learning if > 0.0)\n",
    "    \n",
    "    Returns:\n",
    "    np array of hidden state after GRU update\n",
    "    \"\"\"\n",
    "    hx = np.concatenate([h, x], axis=0)\n",
    "    ru = sigmoid(np.dot(params['wRUHX'], hx) + params['bRU'])\n",
    "    r, u = np.split(ru, 2, axis=0)\n",
    "    rhx = np.concatenate([r * h, x])\n",
    "    c = np.tanh(np.dot(params['wCHX'], rhx) + params['bC'] + bfg)\n",
    "    return u * h + (1.0 - u) * c\n",
    "\n",
    "\n",
    "def run_gru(params, x_t, h0=None):\n",
    "    \"\"\"\n",
    "    Run an GRU module forward in time.\n",
    "    \n",
    "    Arguments:\n",
    "    params: dictionary of RNN parameters\n",
    "    x_t: np array data for RNN input with leading dim being time\n",
    "    h0: initial condition for running rnn, which overwrites param h0\n",
    "    \n",
    "    Returns:\n",
    "    np array of rnn applied to time data with leading dim being time\n",
    "    \"\"\"\n",
    "    h = h0 if h0 is not None else params['h0']\n",
    "    h_t = []\n",
    "    for x in x_t:\n",
    "        h = gru(params, h, x)\n",
    "        h_t.append(h)\n",
    "    return np.array(h_t)\n",
    "\n",
    "\n",
    "def OverlyVerboseExampleLayerThatDoesNothing(**kwargs):\n",
    "    \"\"\"\n",
    "    Each layer constructor function returns an (init_fun, apply_fun) pair, where\n",
    "        init_fun: takes an rng key and an input shape and returns an\n",
    "                  (output_shape, params) pair,\n",
    "        apply_fun: takes params, inputs, and an rng key and applies the layer.\n",
    "                   Though I haven't seen any apply_fun actually use the rng key argument.\n",
    "\n",
    "    Layers implementing this interface can be composed by jax.experimental.stax.serial\n",
    "    https://github.com/google/jax/blob/master/jax/experimental/stax.py#L296-L305\n",
    "    \"\"\"\n",
    "    info_needed_to_calc_output = kwargs['something']\n",
    "    info_needed_to_gen_input_params = kwargs['something else']\n",
    "    def init_fun(rng, input_shape):\n",
    "        key1, key2 = random.split(rng)\n",
    "        output_shape = input_shape + info_needed_to_calc_output['key1']\n",
    "        params_1 = some_fn_to_init_params(key1, info_needed_to_gen_input_params[0])\n",
    "        params_2 = some_fn_to_init_params(key2, info_needed_to_gen_input_params[1])\n",
    "        init_params = params_1, params_2\n",
    "        return output_shape, init_params\n",
    "    def apply_fun(params, inputs, **kwargs):\n",
    "        weights, biases, activation_fn = params\n",
    "        result = activation_fn(np.dot(weights, inputs) + biases)\n",
    "        return result\n",
    "    return init_fun, apply_fun\n",
    "\n",
    "\n",
    "\n",
    "def GRU(params):\n",
    "    \"\"\"GRU Layer.\"\"\"\n",
    "    def init_fun(rng, input_shape):\n",
    "        return output_shape, init_params\n",
    "    def apply_fun(params, inputs, **kwargs):\n",
    "        return run_gru(params, inputs)\n",
    "    return init_fun, apply_fun\n",
    "\n",
    "\n",
    "def BidirectionalGRU(out_dim, W_init=glorot(), b_init=randn()):\n",
    "    \"\"\"Bidirectional GRU Layer.\"\"\"\n",
    "    def init_fun(rng, input_shape):\n",
    "        output_shape = input_shape[:-1] + (out_dim,)\n",
    "        k1, k2 = random.split(rng)\n",
    "        W, b = W_init(k1, (input_shape[-1], out_dim)), b_init(k2, (out_dim,))\n",
    "        return output_shape, (W, b)\n",
    "    def apply_fun(params, inputs, **kwargs):\n",
    "        fwd_enc_t = run_gru(params['fwd_rnn'], inputs)\n",
    "        bwd_enc_t = np.flipud(run_gru(params['bwd_rnn'], np.flipud(inputs)))\n",
    "        full_enc = np.concatenate([fwd_enc_t, bwd_enc_t], axis=1)\n",
    "        enc_ends = np.concatenate([bwd_enc_t[0], fwd_enc_t[-1]], axis=1)\n",
    "        return (full_enc, enc_ends)\n",
    "    return init_fun, apply_fun\n",
    "\n",
    "\n",
    "def Generator(params):\n",
    "    def init_fun(rng, input_shape):\n",
    "        return output_shape, init_params\n",
    "    def apply_fun(params, inputs, **kwargs):\n",
    "        latent_factors = []\n",
    "        for step_ix in range(n_bins_per_trial):\n",
    "            g = gru(g)\n",
    "            g = Dropout(g)\n",
    "            f = normed_linear(g)\n",
    "            latent_factors.append(f)\n",
    "        return latent_factors\n",
    "    return init_fun, apply_fun\n",
    "\n",
    "\n",
    "def ReconstructSpikes(params):\n",
    "    def init_fun(rng, input_shape):\n",
    "        return output_shape, init_params\n",
    "    def apply_fun(params, inputs, **kwargs):\n",
    "        reconstructed_rates = exp(reconstructed_log_rates)\n",
    "        # The rates parameterize a Poisson distribution from which spikes are drawn.\n",
    "        reconstructed_binned_spike_counts = Poisson(reconstructed_rates)\n",
    "        return reconstructed_binned_spike_counts\n",
    "    return init_fun, apply_fun"
   ]
  },
  {
   "cell_type": "markdown",
   "metadata": {
    "pycharm": {
     "metadata": false,
     "name": "#%% md\n"
    }
   },
   "source": [
    "### Transformation implementations\n",
    "sigmoid $y=\\frac{e^x}{1+e^x}=\\frac{\\tanh(\\frac{x}{2}) + 1}{2}$\n",
    "\n",
    "affine transform $y = w x + b$\n",
    "\n",
    "(batched) normed linear transform\n",
    "$y = \\hat{w} x$,\n",
    "where $\\hat{w}_{ij} = w_{ij} / |w_{i:}|$\n",
    "\n",
    "GRU\n",
    "\n",
    "(batched) Dropout\n"
   ]
  },
  {
   "cell_type": "code",
   "execution_count": 15,
   "metadata": {
    "pycharm": {
     "metadata": false,
     "name": "#%%\n"
    }
   },
   "outputs": [],
   "source": [
    "def sigmoid(vals):\n",
    "    return 0.5 * (np.tanh(vals / 2.) + 1)\n",
    "\n",
    "\n",
    "def affine(params, x):\n",
    "    \"\"\"Implements y = w x + b\"\"\"\n",
    "    return np.dot(params['w'], x) + params['b']\n",
    "batch_affine = vmap(affine, in_axes=(None, 0))\n",
    "\n",
    "\n",
    "def normed_linear(params, x):\n",
    "    \"\"\"Implement y = \\hat{w} x, where \\hat{w}_ij = w_ij / |w_{i:}|, norm over j\n",
    "    \n",
    "    Arguments:\n",
    "    params: a dictionary of params\n",
    "    x: np array of input\n",
    "    \n",
    "    Returns:\n",
    "    np array of output\n",
    "    \"\"\"\n",
    "    w = params['w']\n",
    "    w_row_norms = np.sqrt(np.sum(w**2, axis=1, keepdims=True))\n",
    "    w = w / w_row_norms\n",
    "    return np.dot(w, x)\n",
    "batch_normed_linear = vmap(normed_linear, in_axes=(None, 0))\n",
    "\n",
    "\n",
    "def gru(params, h, x, bfg=0.5):\n",
    "    \"\"\"\n",
    "    Implement the GRU equations.\n",
    "    \n",
    "    Arguments:\n",
    "    params: dictionary of GRU parameters\n",
    "    h: np array of  hidden state\n",
    "    x: np array of input\n",
    "    bfg: bias on forget gate (useful for learning if > 0.0)\n",
    "    \n",
    "    Returns:\n",
    "    np array of hidden state after GRU update\n",
    "    \"\"\"\n",
    "    hx = np.concatenate([h, x], axis=0)\n",
    "    ru = sigmoid(np.dot(params['wRUHX'], hx) + params['bRU'])\n",
    "    r, u = np.split(ru, 2, axis=0)\n",
    "    rhx = np.concatenate([r * h, x])\n",
    "    c = np.tanh(np.dot(params['wCHX'], rhx) + params['bC'] + bfg)\n",
    "    return u * h + (1.0 - u) * c\n",
    "\n",
    "\n",
    "def dropout(x, key, keep_rate):\n",
    "    \"\"\"Implement a dropout layer.\n",
    "    \n",
    "    Arguments:\n",
    "    x: np array to be dropped out\n",
    "    key: random.PRNGKey for random bits\n",
    "    keep_rate: dropout rate\n",
    "    \n",
    "    Returns:\n",
    "    np array of dropped out x\n",
    "    \"\"\"\n",
    "    # The shenanigans with np.where are to avoid having to re-jit if\n",
    "    # keep rate changes.\n",
    "    do_keep = random.bernoulli(key, keep_rate, x.shape)\n",
    "    kept_rates = np.where(do_keep, x / keep_rate, 0.0)\n",
    "    return np.where(keep_rate < 1.0, kept_rates, x)\n",
    "\n",
    "batch_dropout = vmap(dropout, in_axes=(0, 0, None))\n"
   ]
  },
  {
   "cell_type": "markdown",
   "metadata": {
    "pycharm": {
     "metadata": false,
     "name": "#%% md\n"
    }
   },
   "source": [
    "### Runners\n",
    "These functions run a layer/transformation over a sequence of data.\n"
   ]
  },
  {
   "cell_type": "code",
   "execution_count": 16,
   "metadata": {
    "pycharm": {
     "metadata": false,
     "name": "#%%\n"
    }
   },
   "outputs": [],
   "source": [
    "def run_dropout(x_t, key, keep_rate):\n",
    "    \"\"\"\n",
    "    Run the dropout layer over additional dimensions, e.g. time.\n",
    "    \n",
    "    Arguments:\n",
    "    x_t: np array to be dropped out\n",
    "    key: random.PRNGKey for random bits\n",
    "    keep_rate: dropout rate\n",
    "    \n",
    "    Returns:\n",
    "    np array of dropped out x\n",
    "    \"\"\"\n",
    "    ntime = x_t.shape[0]\n",
    "    keys = random.split(key, ntime)\n",
    "    return batch_dropout(x_t, keys, keep_rate)\n",
    "\n",
    "def run_rnn(params, rnn, x_t, h0=None):\n",
    "    \"\"\"\n",
    "    Run an RNN module forward in time.\n",
    "    \n",
    "    Arguments:\n",
    "    params: dictionary of RNN parameters\n",
    "    rnn: function for running RNN one step\n",
    "    x_t: np array data for RNN input with leading dim being time\n",
    "    h0: initial condition for running rnn, which overwrites param h0\n",
    "    \n",
    "    Returns:\n",
    "    np array of rnn applied to time data with leading dim being time\n",
    "    \"\"\"\n",
    "    h = h0 if h0 is not None else params['h0']\n",
    "    h_t = []\n",
    "    for x in x_t:\n",
    "        h = rnn(params, h, x)\n",
    "        h_t.append(h)\n",
    "    return np.array(h_t)\n",
    "\n",
    "\n",
    "def run_bidirectional_rnn(params, fwd_rnn, bwd_rnn, x_t):\n",
    "    \"\"\"\n",
    "    Run an RNN encoder backwards and forwards over some time series data.\n",
    "    \n",
    "    Arguments:\n",
    "    params: a dictionary of bidrectional RNN encoder parameters\n",
    "    fwd_rnn: function for running forward rnn encoding\n",
    "    bwd_rnn: function for running backward rnn encoding\n",
    "    x_t: np array data for RNN input with leading dim being time\n",
    "    \n",
    "    Returns:\n",
    "    tuple of np array concatenated forward, backward encoding, and\n",
    "      np array of concatenation of [forward_enc(T), backward_enc(1)]\n",
    "    \"\"\"\n",
    "    fwd_enc_t = run_rnn(params['fwd_rnn'], fwd_rnn, x_t)\n",
    "    bwd_enc_t = np.flipud(run_rnn(params['bwd_rnn'], bwd_rnn, np.flipud(x_t)))\n",
    "    full_enc = np.concatenate([fwd_enc_t, bwd_enc_t], axis=1)\n",
    "    enc_ends = np.concatenate([bwd_enc_t[0], fwd_enc_t[-1]], axis=1)\n",
    "    return full_enc, enc_ends\n"
   ]
  },
  {
   "cell_type": "markdown",
   "metadata": {
    "pycharm": {
     "metadata": false,
     "name": "#%% md\n"
    }
   },
   "source": [
    "### Encoder Part + Decoder Part\n"
   ]
  },
  {
   "cell_type": "code",
   "execution_count": 27,
   "metadata": {
    "pycharm": {
     "metadata": false,
     "name": "#%%\n"
    }
   },
   "outputs": [],
   "source": [
    "\n",
    "def lfads_encode(params, key, x_t, keep_rate):\n",
    "    \"\"\"\n",
    "    Run the LFADS network from input to generator initial condition vars.\n",
    "    \n",
    "    Arguments:\n",
    "    params: a dictionary of LFADS parameters\n",
    "    key: random.PRNGKey for random bits\n",
    "    x_t: np array input for lfads with leading dimension being time\n",
    "    keep_rate: dropout keep rate\n",
    "    \n",
    "    Returns:\n",
    "    3-tuple of np arrays: generator initial condition mean, log variance\n",
    "      and also bidirectional encoding of x_t, with leading dim being time\n",
    "    \"\"\"\n",
    "    key, skeys = utils.keygen(key, 3)\n",
    "    \n",
    "    # Encode the input\n",
    "    x_t = run_dropout(x_t, next(skeys), keep_rate)\n",
    "    con_ins_t, gen_pre_ics = run_bidirectional_rnn(params['ic_enc'], gru, gru, x_t)\n",
    "    \n",
    "    # Push through to posterior mean and variance for initial conditions.\n",
    "    xenc_t = dropout(con_ins_t, next(skeys), keep_rate)\n",
    "    gen_pre_ics = dropout(gen_pre_ics, next(skeys), keep_rate)\n",
    "    ic_gauss_params = affine(params['gen_ic'], gen_pre_ics)\n",
    "    ic_mean, ic_logvar = np.split(ic_gauss_params, 2, axis=0)\n",
    "    return ic_mean, ic_logvar, xenc_t\n",
    "\n",
    "\n",
    "def lfads_decode(params, lfads_hps, key, ic_mean, ic_logvar, xenc_t, keep_rate):\n",
    "    \"\"\"\n",
    "    Run the LFADS network from latent variables to log rates.\n",
    "    \n",
    "    Arguments:\n",
    "    params: a dictionary of LFADS parameters\n",
    "    lfads_hps: a dictionary of LFADS hyperparameters\n",
    "    key: random.PRNGKey for random bits\n",
    "    ic_mean: np array of generator initial condition mean\n",
    "    ic_logvar: np array of generator initial condition log variance\n",
    "    xenc_t: np array bidirectional encoding of input (x_t) with leading dim\n",
    "      being time\n",
    "    keep_rate: dropout keep rate\n",
    "    \n",
    "    Returns:\n",
    "    7-tuple of np arrays all with leading dim being time,\n",
    "      controller hidden state, inferred input mean, inferred input log var,\n",
    "      generator hidden state, factors and log rates\n",
    "    \"\"\"\n",
    "    ntime = lfads_hps['ntimesteps']\n",
    "    key, skeys = utils.keygen(key, 1+2*ntime)\n",
    "    \n",
    "    # Since the factors feed back to the controller,\n",
    "    #    factors_{t-1} -> controller_t -> sample_t -> generator_t -> factors_t\n",
    "    # is really one big loop and therefor one RNN.\n",
    "    c = c0 = params['con']['h0']\n",
    "    g = g0 = dists.diag_gaussian_sample(next(skeys), ic_mean, ic_logvar, lfads_hps['var_min'])\n",
    "    f = f0 = np.zeros((lfads_hps['factors_dim'],))\n",
    "    c_t = []\n",
    "    ii_mean_t = []\n",
    "    ii_logvar_t = []\n",
    "    ii_t = []\n",
    "    gen_t = []\n",
    "    factor_t = []\n",
    "    for xenc in xenc_t:\n",
    "        cin = np.concatenate([xenc, f], axis=0)\n",
    "        c = gru(params['con'], c, cin)\n",
    "        cout = affine(params['con_out'], c)\n",
    "        ii_mean, ii_logvar = np.split(cout, 2, axis=0) # inferred input params\n",
    "        ii = dists.diag_gaussian_sample(next(skeys), ii_mean,\n",
    "                                        ii_logvar, lfads_hps['var_min'])\n",
    "        g = gru(params['gen'], g, ii)\n",
    "        g = dropout(g, next(skeys), keep_rate)\n",
    "        f = normed_linear(params['factors'], g)\n",
    "        # Save everything.\n",
    "        c_t.append(c)\n",
    "        ii_t.append(ii)\n",
    "        gen_t.append(g)\n",
    "        ii_mean_t.append(ii_mean)\n",
    "        ii_logvar_t.append(ii_logvar)\n",
    "        factor_t.append(f)\n",
    "    \n",
    "    c_t = np.array(c_t)\n",
    "    ii_t = np.array(ii_t)\n",
    "    gen_t = np.array(gen_t)\n",
    "    ii_mean_t = np.array(ii_mean_t)\n",
    "    ii_logvar_t = np.array(ii_logvar_t)\n",
    "    factor_t = np.array(factor_t)\n",
    "    lograte_t = batch_affine(params['logrates'], factor_t)\n",
    "    \n",
    "    return c_t, ii_mean_t, ii_logvar_t, ii_t, gen_t, factor_t, lograte_t\n",
    "\n",
    "\n",
    "def lfads(params, lfads_hps, key, x_t, keep_rate):\n",
    "    \"\"\"Run the LFADS network from input to output.\n",
    "    \n",
    "    Arguments:\n",
    "    params: a dictionary of LFADS parameters\n",
    "    lfads_hps: a dictionary of LFADS hyperparameters\n",
    "    key: random.PRNGKey for random bits\n",
    "    x_t: np array of input with leading dim being time\n",
    "    keep_rate: dropout keep rate\n",
    "    \n",
    "    Returns:\n",
    "    A dictionary of np arrays of all LFADS values of interest.\n",
    "    \"\"\"\n",
    "    \n",
    "    key, skeys = utils.keygen(key, 2)\n",
    "    \n",
    "    ic_mean, ic_logvar, xenc_t = \\\n",
    "        lfads_encode(params, next(skeys), x_t, keep_rate)\n",
    "    \n",
    "    c_t, ii_mean_t, ii_logvar_t, ii_t, gen_t, factor_t, lograte_t = \\\n",
    "        lfads_decode(params, lfads_hps, next(skeys), ic_mean, ic_logvar,\n",
    "                     xenc_t, keep_rate)\n",
    "    \n",
    "    # As this is tutorial code, we're passing everything around.\n",
    "    return {'xenc_t' : xenc_t, 'ic_mean' : ic_mean, 'ic_logvar' : ic_logvar,\n",
    "            'ii_t' : ii_t, 'c_t' : c_t, 'ii_mean_t' : ii_mean_t,\n",
    "            'ii_logvar_t' : ii_logvar_t, 'gen_t' : gen_t, 'factor_t' : factor_t,\n",
    "            'lograte_t' : lograte_t}\n",
    "\n",
    "\n",
    "lfads_encode_jit = jit(lfads_encode)\n",
    "lfads_decode_jit = jit(lfads_decode, static_argnums=(1,))\n",
    "\n",
    "# Batching accomplished by vectorized mapping.\n",
    "# We simultaneously map over random keys for forward-pass randomness\n",
    "# and inputs for batching.\n",
    "batch_lfads = vmap(lfads, in_axes=(None, None, 0, 0, None))\n"
   ]
  },
  {
   "cell_type": "markdown",
   "metadata": {
    "pycharm": {
     "metadata": false,
     "name": "#%% md\n"
    }
   },
   "source": [
    "### Training Functions\n"
   ]
  },
  {
   "cell_type": "code",
   "execution_count": 28,
   "metadata": {
    "pycharm": {
     "metadata": false,
     "name": "#%%\n"
    }
   },
   "outputs": [],
   "source": [
    "def optimize_lfads_core(key, batch_idx_start, num_batches,\n",
    "                        update_fun, kl_warmup_fun,\n",
    "                        opt_state, lfads_hps, lfads_opt_hps, train_data):\n",
    "    \"\"\"Make gradient updates to the LFADS model.\n",
    "    \n",
    "    Uses lax.fori_loop instead of a Python loop to reduce JAX overhead. This \n",
    "    loop will be jit'd and run on device.\n",
    "    \n",
    "    Arguments:\n",
    "    init_params: a dict of parameters to be trained\n",
    "    batch_idx_start: Where are we in the total number of batches\n",
    "    num_batches: how many batches to run\n",
    "    update_fun: the function that changes params based on grad of loss\n",
    "    kl_warmup_fun: function to compute the kl warmup\n",
    "    opt_state: the jax optimizer state, containing params and opt state\n",
    "    lfads_hps: dict of lfads model HPs\n",
    "    lfads_opt_hps: dict of optimization HPs\n",
    "    train_data: nexamples x time x ndims np array of data for training\n",
    "    \n",
    "    Returns:\n",
    "    opt_state: the jax optimizer state, containing params and optimizer state\"\"\"\n",
    "    \n",
    "    key, dkeyg = utils.keygen(key, num_batches) # data\n",
    "    key, fkeyg = utils.keygen(key, num_batches) # forward pass\n",
    "    \n",
    "    # Begin optimziation loop. Explicitly avoiding a python for-loop\n",
    "    # so that jax will not trace it for the sake of a gradient we will not use.  \n",
    "    def run_update(batch_idx, opt_state):\n",
    "        kl_warmup = kl_warmup_fun(batch_idx)\n",
    "        didxs = random.randint(next(dkeyg), [lfads_hps['batch_size']], 0,\n",
    "                               train_data.shape[0])\n",
    "        x_bxt = train_data[didxs].astype(np.float32)\n",
    "        opt_state = update_fun(batch_idx, opt_state, lfads_hps, lfads_opt_hps,\n",
    "                               next(fkeyg), x_bxt, kl_warmup)\n",
    "        return opt_state\n",
    "    \n",
    "    lower = batch_idx_start\n",
    "    upper = batch_idx_start + num_batches\n",
    "    return lax.fori_loop(lower, upper, run_update, opt_state)\n",
    "\n",
    "\n",
    "optimize_lfads_core_jit = jit(optimize_lfads_core, static_argnums=(2,3,4,6,7))\n",
    "\n",
    "\n",
    "def optimize_lfads(key, init_params, lfads_hps, lfads_opt_hps,\n",
    "                   train_data, eval_data):\n",
    "    \"\"\"Optimize the LFADS model and print batch based optimization data.\n",
    "    \n",
    "    This loop is at the cpu nonjax-numpy level.\n",
    "    \n",
    "    Arguments:\n",
    "    init_params: a dict of parameters to be trained\n",
    "    lfads_hps: dict of lfads model HPs\n",
    "    lfads_opt_hps: dict of optimization HPs\n",
    "    train_data: nexamples x time x ndims np array of data for training\n",
    "    \n",
    "    Returns:\n",
    "    a dictionary of trained parameters\"\"\"\n",
    "    \n",
    "    # Begin optimziation loop.\n",
    "    all_tlosses = []\n",
    "    all_elosses = []\n",
    "    \n",
    "    # Build some functions used in optimization.\n",
    "    kl_warmup_fun = get_kl_warmup_fun(lfads_opt_hps)\n",
    "    decay_fun = optimizers.exponential_decay(lfads_opt_hps['step_size'],\n",
    "                                           lfads_opt_hps['decay_steps'],\n",
    "                                           lfads_opt_hps['decay_factor'])\n",
    "    \n",
    "    opt_init, opt_update, get_params = optimizers.adam(step_size=decay_fun,\n",
    "                                                     b1=lfads_opt_hps['adam_b1'],\n",
    "                                                     b2=lfads_opt_hps['adam_b2'],\n",
    "                                                     eps=lfads_opt_hps['adam_eps'])\n",
    "    opt_state = opt_init(init_params)\n",
    "    \n",
    "    def update_w_gc(i, opt_state, lfads_hps, lfads_opt_hps, key, x_bxt,\n",
    "                  kl_warmup):\n",
    "        \"\"\"Update fun for gradients, includes gradient clipping.\"\"\"\n",
    "        params = get_params(opt_state)\n",
    "        grads = grad(lfads_training_loss)(params, lfads_hps, key, x_bxt,\n",
    "                                          kl_warmup, lfads_opt_hps['keep_rate'])\n",
    "        clipped_grads = optimizers.clip_grads(grads, lfads_opt_hps['max_grad_norm'])\n",
    "        return opt_update(i, clipped_grads, opt_state)\n",
    "    \n",
    "    # Run the optimization, pausing every so often to collect data and\n",
    "    # print status.\n",
    "    batch_size = lfads_hps['batch_size']\n",
    "    num_batches = lfads_opt_hps['num_batches']\n",
    "    print_every = lfads_opt_hps['print_every']\n",
    "    num_opt_loops = int(num_batches / print_every)\n",
    "    params = get_params(opt_state)\n",
    "    for oidx in range(num_opt_loops):\n",
    "        batch_idx_start = oidx * print_every\n",
    "        start_time = time.time()\n",
    "        key, tkey, dtkey, dekey = random.split(random.fold_in(key, oidx), 4)\n",
    "        opt_state = optimize_lfads_core_jit(tkey, batch_idx_start,\n",
    "                                            print_every, update_w_gc, kl_warmup_fun,\n",
    "                                            opt_state, lfads_hps, lfads_opt_hps,\n",
    "                                            train_data)\n",
    "        batch_time = time.time() - start_time\n",
    "        \n",
    "        # Losses\n",
    "        params = get_params(opt_state)\n",
    "        batch_pidx = batch_idx_start + print_every\n",
    "        kl_warmup = kl_warmup_fun(batch_idx_start)\n",
    "        # Training loss\n",
    "        didxs = onp.random.randint(0, train_data.shape[0], batch_size)\n",
    "        x_bxt = train_data[didxs].astype(onp.float32)\n",
    "        tlosses = lfads_losses_jit(params, lfads_hps, dtkey, x_bxt,\n",
    "                                         kl_warmup, 1.0)\n",
    "        \n",
    "        # Evaluation loss\n",
    "        didxs = onp.random.randint(0, eval_data.shape[0], batch_size)\n",
    "        ex_bxt = eval_data[didxs].astype(onp.float32)\n",
    "        elosses = lfads_losses_jit(params, lfads_hps, dekey, ex_bxt,\n",
    "                                         kl_warmup, 1.0)\n",
    "        # Saving, printing.\n",
    "        all_tlosses.append(tlosses)\n",
    "        all_elosses.append(elosses)\n",
    "        s = \"Batches {}-{} in {:0.2f} sec, Step size: {:0.5f}, Training loss {:0.0f}, Eval loss {:0.0f}\"\n",
    "        print(s.format(batch_idx_start+1, batch_pidx, batch_time,\n",
    "                       decay_fun(batch_pidx), tlosses['total'], elosses['total']))\n",
    "        \n",
    "        tlosses_thru_training = utils.merge_losses_dicts(all_tlosses)\n",
    "        elosses_thru_training = utils.merge_losses_dicts(all_elosses)\n",
    "        optimizer_details = {'tlosses' : tlosses_thru_training,\n",
    "                             'elosses' : elosses_thru_training}\n",
    "    \n",
    "    return params, optimizer_details\n"
   ]
  },
  {
   "cell_type": "markdown",
   "metadata": {
    "pycharm": {
     "metadata": false,
     "name": "#%% md\n"
    }
   },
   "source": [
    "### Calculate Losses\n"
   ]
  },
  {
   "cell_type": "code",
   "execution_count": 29,
   "metadata": {
    "pycharm": {
     "metadata": false,
     "name": "#%%\n"
    }
   },
   "outputs": [],
   "source": [
    "def lfads_losses(params, lfads_hps, key, x_bxt, kl_scale, keep_rate):\n",
    "    \"\"\"Compute the training loss of the LFADS autoencoder\n",
    "    \n",
    "    Arguments:\n",
    "    params: a dictionary of LFADS parameters\n",
    "    lfads_hps: a dictionary of LFADS hyperparameters\n",
    "    key: random.PRNGKey for random bits\n",
    "    x_bxt: np array of input with leading dims being batch and time\n",
    "    keep_rate: dropout keep rate\n",
    "    kl_scale: scale on KL\n",
    "    \n",
    "    Returns:\n",
    "    a dictionary of all losses, including the key 'total' used for optimization\n",
    "    \"\"\"\n",
    "    \n",
    "    B = lfads_hps['batch_size']\n",
    "    key, skeys = utils.keygen(key, 2)\n",
    "    keys = random.split(next(skeys), B)\n",
    "    lfads = batch_lfads(params, lfads_hps, keys, x_bxt, keep_rate)\n",
    "    \n",
    "    # Sum over time and state dims, average over batch.\n",
    "    # KL - g0\n",
    "    ic_post_mean_b = lfads['ic_mean']\n",
    "    ic_post_logvar_b = lfads['ic_logvar']\n",
    "    kl_loss_g0_b = dists.batch_kl_gauss_gauss(ic_post_mean_b, ic_post_logvar_b,\n",
    "                                            params['ic_prior'],\n",
    "                                            lfads_hps['var_min'])\n",
    "    kl_loss_g0_prescale = np.sum(kl_loss_g0_b) / B  \n",
    "    kl_loss_g0 = kl_scale * kl_loss_g0_prescale\n",
    "    \n",
    "    # KL - Inferred input\n",
    "    ii_post_mean_bxt = lfads['ii_mean_t']\n",
    "    ii_post_var_bxt = lfads['ii_logvar_t']\n",
    "    keys = random.split(next(skeys), B)\n",
    "    kl_loss_ii_b = dists.batch_kl_gauss_ar1(keys, ii_post_mean_bxt,\n",
    "                                          ii_post_var_bxt, params['ii_prior'],\n",
    "                                          lfads_hps['var_min'])\n",
    "    kl_loss_ii_prescale = np.sum(kl_loss_ii_b) / B\n",
    "    kl_loss_ii = kl_scale * kl_loss_ii_prescale\n",
    "    \n",
    "    # Log-likelihood of data given latents.\n",
    "    lograte_bxt = lfads['lograte_t']\n",
    "    log_p_xgz = np.sum(dists.poisson_log_likelihood(x_bxt, lograte_bxt)) / B\n",
    "    \n",
    "    # L2\n",
    "    l2reg = lfads_hps['l2reg']\n",
    "    l2_loss = l2reg * optimizers.l2_norm(params)**2\n",
    "    \n",
    "    loss = -log_p_xgz + kl_loss_g0 + kl_loss_ii + l2_loss\n",
    "    all_losses = {'total' : loss, 'nlog_p_xgz' : -log_p_xgz,\n",
    "                'kl_g0' : kl_loss_g0, 'kl_g0_prescale' : kl_loss_g0_prescale,\n",
    "                'kl_ii' : kl_loss_ii, 'kl_ii_prescale' : kl_loss_ii_prescale,\n",
    "                'l2' : l2_loss}\n",
    "    return all_losses\n",
    "\n",
    "\n",
    "def lfads_training_loss(params, lfads_hps, key, x_bxt, kl_scale, keep_rate):\n",
    "    \"\"\"Pull out the total loss for training.\n",
    "    \n",
    "    Arguments:\n",
    "    params: a dictionary of LFADS parameters\n",
    "    lfads_hps: a dictionary of LFADS hyperparameters\n",
    "    key: random.PRNGKey for random bits\n",
    "    x_bxt: np array of input with leading dims being batch and time\n",
    "    keep_rate: dropout keep rate\n",
    "    kl_scale: scale on KL\n",
    "    \n",
    "    Returns:\n",
    "    return the total loss for optimization\n",
    "    \"\"\"\n",
    "    losses = lfads_losses(params, lfads_hps, key, x_bxt, kl_scale, keep_rate)\n",
    "    return losses['total']\n",
    "\n",
    "def posterior_sample_and_average(params, lfads_hps, key, x_txd):\n",
    "    \"\"\"Get the denoised lfad inferred values by posterior sample and average.\n",
    "    \n",
    "    Arguments:\n",
    "    params: dictionary of lfads parameters\n",
    "    lfads_hps: dict of LFADS hyperparameters\n",
    "    key: JAX random state\n",
    "    x_txd: 2d np.array time by dim trial to denoise\n",
    "    \n",
    "    Returns: \n",
    "    LFADS dictionary of inferred values, averaged over randomness.\n",
    "    \"\"\"\n",
    "    batch_size = lfads_hps['batch_size']\n",
    "    skeys = random.split(key, batch_size)  \n",
    "    x_bxtxd = np.repeat(np.expand_dims(x_txd, axis=0), batch_size, axis=0)\n",
    "    lfads_dict = batch_lfads(params, lfads_hps, skeys, x_bxtxd, 1.0)\n",
    "    return utils.average_lfads_batch(lfads_dict)\n"
   ]
  },
  {
   "cell_type": "markdown",
   "metadata": {
    "pycharm": {
     "metadata": false,
     "name": "#%% md\n"
    }
   },
   "source": [
    "### Compilation\n",
    ">JIT functions are orders of magnitude faster.  The first time you use them,\n",
    "they will take a couple of minutes to compile, then the second time you use\n",
    "them, they will be blindingly fast.\n"
   ]
  },
  {
   "cell_type": "code",
   "execution_count": 30,
   "metadata": {
    "pycharm": {
     "metadata": false,
     "name": "#%%\n"
    }
   },
   "outputs": [],
   "source": [
    "# The static_argnums is telling JAX to ignore the lfads_hps dictionary,\n",
    "# which means you'll have to pay attention if you change the params.\n",
    "# How does one force a recompile?\n",
    "batch_lfads_jit = jit(batch_lfads, static_argnums=(1,))\n",
    "lfads_losses_jit = jit(lfads_losses, static_argnums=(1,))\n",
    "lfads_training_loss_jit = jit(lfads_training_loss, static_argnums=(1,))\n",
    "posterior_sample_and_average_jit = jit(posterior_sample_and_average, static_argnums=(1,))\n"
   ]
  },
  {
   "cell_type": "markdown",
   "metadata": {
    "pycharm": {
     "metadata": false,
     "name": "#%% md\n"
    }
   },
   "source": [
    "## Train LFADS\n"
   ]
  },
  {
   "cell_type": "code",
   "execution_count": 31,
   "metadata": {
    "pycharm": {
     "metadata": false,
     "name": "#%%\n"
    }
   },
   "outputs": [
    {
     "name": "stdout",
     "output_type": "stream",
     "text": [
      "Batches 1-20 in 379.54 sec, Step size: 0.04523, Training loss 4120, Eval loss 3864\n",
      "Batches 21-40 in 1.90 sec, Step size: 0.04092, Training loss 3885, Eval loss 3721\n",
      "Batches 41-60 in 1.95 sec, Step size: 0.03701, Training loss 3489, Eval loss 3462\n",
      "Batches 61-80 in 1.94 sec, Step size: 0.03348, Training loss 3836, Eval loss 3772\n",
      "Batches 81-100 in 1.93 sec, Step size: 0.03029, Training loss 3685, Eval loss 3750\n",
      "Batches 101-120 in 1.94 sec, Step size: 0.02740, Training loss 3519, Eval loss 4064\n",
      "Batches 121-140 in 1.93 sec, Step size: 0.02479, Training loss 3706, Eval loss 3361\n",
      "Batches 141-160 in 1.94 sec, Step size: 0.02242, Training loss 3612, Eval loss 3599\n",
      "Batches 161-180 in 1.93 sec, Step size: 0.02028, Training loss 3687, Eval loss 3460\n",
      "Batches 181-200 in 1.93 sec, Step size: 0.01835, Training loss 3701, Eval loss 3547\n",
      "Batches 201-220 in 1.94 sec, Step size: 0.01660, Training loss 3555, Eval loss 3688\n",
      "Batches 221-240 in 1.93 sec, Step size: 0.01501, Training loss 3391, Eval loss 3565\n",
      "Batches 241-260 in 1.93 sec, Step size: 0.01358, Training loss 3753, Eval loss 3748\n",
      "Batches 261-280 in 1.94 sec, Step size: 0.01229, Training loss 3552, Eval loss 3499\n",
      "Batches 281-300 in 1.94 sec, Step size: 0.01111, Training loss 3559, Eval loss 3886\n",
      "Batches 301-320 in 1.94 sec, Step size: 0.01005, Training loss 3574, Eval loss 3619\n",
      "Batches 321-340 in 1.94 sec, Step size: 0.00910, Training loss 3504, Eval loss 3713\n",
      "Batches 341-360 in 1.99 sec, Step size: 0.00823, Training loss 3900, Eval loss 3591\n",
      "Batches 361-380 in 1.94 sec, Step size: 0.00744, Training loss 3737, Eval loss 4236\n",
      "Batches 381-400 in 1.93 sec, Step size: 0.00673, Training loss 3703, Eval loss 3566\n",
      "Batches 401-420 in 1.94 sec, Step size: 0.00609, Training loss 3607, Eval loss 3480\n",
      "Batches 421-440 in 1.96 sec, Step size: 0.00551, Training loss 3773, Eval loss 3554\n",
      "Batches 441-460 in 1.95 sec, Step size: 0.00498, Training loss 3794, Eval loss 3471\n",
      "Batches 461-480 in 1.93 sec, Step size: 0.00451, Training loss 3947, Eval loss 3547\n",
      "Batches 481-500 in 1.99 sec, Step size: 0.00408, Training loss 3625, Eval loss 3447\n",
      "Batches 501-520 in 1.99 sec, Step size: 0.00369, Training loss 3458, Eval loss 3506\n",
      "Batches 521-540 in 1.98 sec, Step size: 0.00334, Training loss 3644, Eval loss 3491\n",
      "Batches 541-560 in 1.99 sec, Step size: 0.00302, Training loss 3606, Eval loss 3648\n",
      "Batches 561-580 in 1.99 sec, Step size: 0.00273, Training loss 3614, Eval loss 3561\n",
      "Batches 581-600 in 1.98 sec, Step size: 0.00247, Training loss 3729, Eval loss 3640\n",
      "Batches 601-620 in 1.98 sec, Step size: 0.00224, Training loss 3504, Eval loss 3483\n",
      "Batches 621-640 in 1.99 sec, Step size: 0.00202, Training loss 3679, Eval loss 3447\n",
      "Batches 641-660 in 1.99 sec, Step size: 0.00183, Training loss 3760, Eval loss 3649\n",
      "Batches 661-680 in 1.98 sec, Step size: 0.00165, Training loss 3541, Eval loss 3504\n",
      "Batches 681-700 in 1.99 sec, Step size: 0.00150, Training loss 3443, Eval loss 3552\n",
      "Batches 701-720 in 1.98 sec, Step size: 0.00135, Training loss 3655, Eval loss 3639\n",
      "Batches 721-740 in 1.99 sec, Step size: 0.00122, Training loss 3621, Eval loss 3801\n",
      "Batches 741-760 in 1.96 sec, Step size: 0.00111, Training loss 3515, Eval loss 3990\n",
      "Batches 761-780 in 2.01 sec, Step size: 0.00100, Training loss 3531, Eval loss 3780\n",
      "Batches 781-800 in 1.99 sec, Step size: 0.00091, Training loss 3670, Eval loss 3746\n",
      "Batches 801-820 in 1.98 sec, Step size: 0.00082, Training loss 3582, Eval loss 3533\n",
      "Batches 821-840 in 1.99 sec, Step size: 0.00074, Training loss 3518, Eval loss 3444\n",
      "Batches 841-860 in 2.02 sec, Step size: 0.00067, Training loss 3501, Eval loss 3543\n",
      "Batches 861-880 in 1.99 sec, Step size: 0.00061, Training loss 3629, Eval loss 3727\n",
      "Batches 881-900 in 2.00 sec, Step size: 0.00055, Training loss 3597, Eval loss 3614\n",
      "Batches 901-920 in 1.97 sec, Step size: 0.00050, Training loss 3464, Eval loss 3470\n",
      "Batches 921-940 in 1.97 sec, Step size: 0.00045, Training loss 4338, Eval loss 3746\n",
      "Batches 941-960 in 1.98 sec, Step size: 0.00041, Training loss 3350, Eval loss 3368\n",
      "Batches 961-980 in 1.96 sec, Step size: 0.00037, Training loss 3656, Eval loss 3795\n",
      "Batches 981-1000 in 1.98 sec, Step size: 0.00033, Training loss 3733, Eval loss 3440\n",
      "Batches 1001-1020 in 1.99 sec, Step size: 0.00030, Training loss 3848, Eval loss 3654\n",
      "Batches 1021-1040 in 2.01 sec, Step size: 0.00027, Training loss 3469, Eval loss 3900\n",
      "Batches 1041-1060 in 1.98 sec, Step size: 0.00025, Training loss 3446, Eval loss 3491\n",
      "Batches 1061-1080 in 2.00 sec, Step size: 0.00022, Training loss 3692, Eval loss 3483\n",
      "Batches 1081-1100 in 1.97 sec, Step size: 0.00020, Training loss 4349, Eval loss 3665\n",
      "Batches 1101-1120 in 2.01 sec, Step size: 0.00018, Training loss 3741, Eval loss 3646\n",
      "Batches 1121-1140 in 2.01 sec, Step size: 0.00016, Training loss 3557, Eval loss 3695\n"
     ]
    }
   ],
   "source": [
    "key = random.PRNGKey(onp.random.randint(0, MAX_SEED_INT))\n",
    "trained_params, opt_details = \\\n",
    "    optimize_lfads(key, init_params, lfads_hps, lfads_opt_hps, X_train, X_valid)\n"
   ]
  },
  {
   "cell_type": "markdown",
   "metadata": {
    "pycharm": {
     "metadata": false,
     "name": "#%% md\n"
    }
   },
   "source": [
    "### Plot training details\n"
   ]
  },
  {
   "cell_type": "code",
   "execution_count": 41,
   "metadata": {
    "pycharm": {
     "metadata": false,
     "name": "#%%\n"
    }
   },
   "outputs": [
    {
     "data": {
      "image/png": "[encoded data removed]",
      "text/plain": [
       "<Figure size 1440x432 with 9 Axes>"
      ]
     },
     "metadata": {},
     "output_type": "display_data"
    }
   ],
   "source": [
    "# Plot the training details\n",
    "# x = onp.arange(0, num_batches, print_every)\n",
    "x = onp.arange(len(opt_details['tlosses']['total'])) * num_batches / len(opt_details['tlosses']['total'])\n",
    "plt.figure(figsize=(20,6), facecolor='white')\n",
    "plt.subplot(251)\n",
    "plt.plot(x, opt_details['tlosses']['total'], 'k')\n",
    "plt.ylabel('Training')\n",
    "plt.title('Total loss')\n",
    "plt.subplot(252)\n",
    "plt.plot(x, opt_details['tlosses']['nlog_p_xgz'], 'b')\n",
    "plt.title('Negative log p(z|x)')\n",
    "plt.subplot(253)\n",
    "plt.plot(x, opt_details['tlosses']['kl_ii'], 'r')\n",
    "plt.title('KL inferred inputs')\n",
    "plt.subplot(254)\n",
    "plt.plot(x, opt_details['tlosses']['kl_g0'], 'g')\n",
    "plt.title('KL initial state')\n",
    "plt.subplot(255)\n",
    "plt.plot(x, opt_details['tlosses']['l2'], 'c')\n",
    "plt.xlabel('Training batch')\n",
    "plt.title('L2 loss')\n",
    "plt.subplot(256)\n",
    "plt.plot(x, opt_details['elosses']['total'], 'k')\n",
    "plt.xlabel('Training batch')\n",
    "plt.ylabel('Evaluation')\n",
    "plt.subplot(257)\n",
    "plt.plot(x, opt_details['tlosses']['nlog_p_xgz'], 'b')\n",
    "plt.xlabel('Training batch')\n",
    "plt.subplot(258)\n",
    "plt.plot(x, opt_details['elosses']['kl_ii'], 'r')\n",
    "plt.xlabel('Training batch')\n",
    "plt.subplot(259)\n",
    "plt.plot(x, opt_details['elosses']['kl_g0'], 'g')\n",
    "plt.xlabel('Training batch');\n"
   ]
  },
  {
   "cell_type": "markdown",
   "metadata": {
    "pycharm": {
     "metadata": false,
     "name": "#%% md\n"
    }
   },
   "source": [
    "### Save the result\n"
   ]
  },
  {
   "cell_type": "code",
   "execution_count": null,
   "metadata": {
    "pycharm": {
     "metadata": false,
     "name": "#%%\n"
    }
   },
   "outputs": [],
   "source": [
    "fname_uniquifier = datetime.datetime.now().strftime(\"%Y-%m-%d_%H:%M:%S\")\n",
    "network_fname = ('trained_params_' + rnn_type + '_' + task_type + '_' + \\\n",
    "                 fname_uniquifier + '.npz')\n",
    "network_path = os.path.join(output_dir, network_fname)\n",
    "\n",
    "# Note we are just using numpy save instead of h5 because the LFADS parameter \n",
    "# is nested dictionaries, something I couldn't get h5 to save down easily.\n",
    "print(\"Saving parameters: \", network_path)\n",
    "onp.savez(network_path, trained_params)\n"
   ]
  },
  {
   "cell_type": "markdown",
   "metadata": {
    "pycharm": {
     "metadata": false,
     "name": "#%% md\n"
    }
   },
   "source": [
    "## Inspect Model"
   ]
  },
  {
   "cell_type": "code",
   "execution_count": null,
   "metadata": {
    "pycharm": {
     "metadata": false,
     "name": "#%%"
    }
   },
   "outputs": [],
   "source": []
  }
 ],
 "metadata": {
  "accelerator": "GPU",
  "colab": {
   "name": "06_00_LFADS_Tutorial.ipynb",
   "provenance": [],
   "version": "0.3.2"
  },
  "kernelspec": {
   "display_name": "Python 3",
   "language": "python",
   "name": "python3"
  },
  "language_info": {
   "codemirror_mode": {
    "name": "ipython",
    "version": 3
   },
   "file_extension": ".py",
   "mimetype": "text/x-python",
   "name": "python",
   "nbconvert_exporter": "python",
   "pygments_lexer": "ipython3",
   "version": "3.6.7"
  },
  "stem_cell": {
   "cell_type": "raw",
   "metadata": {
    "pycharm": {
     "metadata": false
    }
   },
   "source": ""
  }
 },
 "nbformat": 4,
 "nbformat_minor": 1
}
