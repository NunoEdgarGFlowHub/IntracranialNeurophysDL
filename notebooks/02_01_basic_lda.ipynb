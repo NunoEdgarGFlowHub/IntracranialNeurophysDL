{
 "cells": [
  {
   "cell_type": "code",
   "execution_count": 8,
   "outputs": [],
   "source": [
    "# Standard block to equalize local and Colab.\n",
    "from pathlib import Path\n",
    "import os\n",
    "try:\n",
    "    # See if we are running on google.colab\n",
    "    import google.colab\n",
    "    from google.colab import files\n",
    "    os.chdir('..')\n",
    "    if not (Path.cwd() / '.kaggle').is_dir():\n",
    "        # Configure kaggle\n",
    "        files.upload()  # Find the kaggle.json file in your ~/.kaggle directory.\n",
    "        !pip install -q kaggle\n",
    "        !mkdir -p ~/.kaggle\n",
    "        !mv kaggle.json ~/.kaggle/\n",
    "        !chmod 600 ~/.kaggle/kaggle.json\n",
    "    if not (Path.cwd() / 'repo').is_dir():\n",
    "        # Download the workshop repo and change to its directory\n",
    "        # For now edit the username/password. This requirement will be removed when the repo is made public.\n",
    "        !git clone https://github.com/SachsLab/IntracranialNeurophysDL.git\n",
    "        os.chdir('IntracranialNeurophysDL')\n",
    "    IN_COLAB = True\n",
    "except ModuleNotFoundError:\n",
    "    import sys\n",
    "    if Path.cwd().stem == 'notebooks':\n",
    "        os.chdir(Path.cwd().parent)\n",
    "    # Make sure the kaggle executable is on the PATH\n",
    "    os.environ['PATH'] = os.environ['PATH'] + ';' + str(Path(sys.executable).parent / 'Scripts')\n",
    "    IN_COLAB = False"
   ],
   "metadata": {
    "collapsed": false,
    "pycharm": {
     "name": "#%%\n",
     "is_executing": false
    }
   }
  },
  {
   "cell_type": "code",
   "execution_count": 10,
   "outputs": [],
   "source": [
    "# Download faces_basic if we don't already have it.\n",
    "datadir = Path.cwd() / 'data' / 'kjm_ecog'\n",
    "if not (datadir / 'converted').is_dir():\n",
    "    !kaggle datasets download -d cboulay/kjm-ecog-faces-basic\n",
    "    print(\"Finished downloading. Now extracting contents...\")\n",
    "    data_path = Path('kjm-ecog-faces-basic.zip')\n",
    "    import zipfile\n",
    "    with zipfile.ZipFile(data_path, 'r') as zip_ref:\n",
    "        zip_ref.extractall(datadir / 'converted' / 'faces_basic')\n",
    "    data_path.unlink()\n",
    "    print(\"Finished extracting data.\")    "
   ],
   "metadata": {
    "collapsed": false,
    "pycharm": {
     "name": "#%%\n",
     "is_executing": false
    }
   }
  },
  {
   "cell_type": "markdown",
   "source": [
    "Let's say we have a trivial system of linear equations:\n",
    "\n",
    "\\begin{array}{lcl}\n",
    "1m + 1n & = & 35\\\\\n",
    "2m + 4n & = & 94\n",
    "\\end{array}\n",
    "\n",
    "This system can be represented in matrix notation, where\n",
    "\n",
    "$A=\\begin{bmatrix}\n",
    "1 & 1 \\\\\n",
    "2 & 4 \\\\\n",
    "\\end{bmatrix}, \n",
    "x=\\begin{bmatrix}\n",
    "m \\\\\n",
    "n \\\\\n",
    "\\end{bmatrix}, \n",
    "b=\\begin{bmatrix}\n",
    "35 \\\\\n",
    "94 \\\\\n",
    "\\end{bmatrix}$\n",
    "\n",
    "$\\begin{bmatrix}\n",
    "1 & 1 \\\\\n",
    "2 & 4 \\\\\n",
    "\\end{bmatrix}\n",
    "\\begin{bmatrix}\n",
    "m \\\\\n",
    "n \\\\\n",
    "\\end{bmatrix}\n",
    "=\n",
    "\\begin{bmatrix}\n",
    "35 \\\\\n",
    "94 \\\\\n",
    "\\end{bmatrix}$\n",
    "\n",
    "$Ax=b$\n",
    "\n",
    "Let's let x and b be matrices:\n",
    "\n",
    "$AX=B$\n",
    "\n",
    "These variables can take on different meanings depending on the\n",
    "experiment formulation and type of analysis. This can be confusing.\n",
    "Instead, let's be consistent about how the variable names map to our data, and then\n",
    "we will shuffle the equation around as needed.\n",
    "\n",
    "X: Known brain signals, often reshaped into a matrix.\n",
    "\n",
    "(~~B~~)Y: Known labels (intention, behaviour, experimental conditions)\n",
    "\n",
    "A: The unknown variable.\n",
    "\n",
    "| Experiment Type | Equation | X dims | Y | A (solve for) | \n",
    "|---|---|---|---|---| \n",
    "|BCI|$XA=Y$|trials, time, space|Intention/Behaviour|Decoder weights|\n",
    "|Stats|$YA=X$|trials, time, space|Task Conditions|Encoder weights|\n",
    "|BCI|$XA=Y$|trials, space|Intention/Behaviour|Spatial filter|\n",
    "|Stats|$YA=X$|trials, space|Task Conditions|Spatial patterns|\n",
    "\n",
    "---\n",
    "**Bonus** \n",
    "\n",
    "$\\begin{array}\\\\\n",
    "XA&=&Y \\\\\n",
    "XAA^{-1}&=&YA^{-1} \\\\\n",
    "X&=&YA^{-1}\\end{array}$\n",
    "\n",
    "Or, in other words, the Decoder matrix is the inverse of the Encoder matrix.\n",
    "See [Haufe et al., NeuroImage 2014](https://www.sciencedirect.com/science/article/pii/S1053811913010914)\n",
    "\n",
    "---\n",
    "\n",
    "Let's solve for A.\n",
    "\n",
    "$\\begin{array}\\\\\n",
    "XA&=&Y \\\\\n",
    "X^{-1}XA&=&X^{-1}Y \\\\\n",
    "A&=&X^{-1}Y\\end{array}$\n"
   ],
   "metadata": {
    "collapsed": false
   }
  },
  {
   "cell_type": "code",
   "execution_count": 6,
   "metadata": {
    "collapsed": true,
    "pycharm": {
     "is_executing": false
    }
   },
   "outputs": [
    {
     "name": "stdout",
     "text": [
      "1*23.0 + 1*12.0 = 35; True\n2*23.0 + 4*12.0 = 94; True\n"
     ],
     "output_type": "stream"
    }
   ],
   "source": [
    "import numpy as np\n",
    "\n",
    "X = np.array([[1, 1,], [2, 4]])\n",
    "Y = np.array([[35], [94]])\n",
    "X_inv = np.linalg.inv(X)\n",
    "A = X_inv @ Y  # or np.matmul(X_inv, Y)\n",
    "\n",
    "print(\"1*{} + 1*{} = 35; {}\".format(\n",
    "    A[0, 0], A[1, 0], 1 * A[0, 0] + 1 * A[1, 0] == 35))\n",
    "print(\"2*{} + 4*{} = 94; {}\".format(\n",
    "    A[0, 0], A[1, 0], 2 * A[0, 0] + 4 * A[1, 0] == 94))"
   ]
  },
  {
   "cell_type": "markdown",
   "source": [
    "The majority of brain signal analysis is getting the data into these variables (X, Y),\n",
    "and then solving this equation, often with different constraints imposed on the solution.\n",
    "\n",
    "Let's look at one of the most basic examples...\n",
    "\n",
    "# (Fisher's) Linear Discriminant Analysis (LDA)\n",
    "\n",
    "Using the BCI formulation (XA=Y), find the transformation matrix (A) that\n",
    "maximizes the between-class variance in X relative to the within-class variance in X,\n",
    "where \"class\" is encoded in Y.\n",
    " "
   ],
   "metadata": {
    "collapsed": false
   }
  },
  {
   "cell_type": "code",
   "execution_count": 17,
   "outputs": [
    {
     "name": "stdout",
     "text": [
      "(603, 527)",
      " ",
      "(603,)",
      "\n"
     ],
     "output_type": "stream"
    }
   ],
   "source": [
    "# Load data from one participant.\n",
    "SUB_ID = 'de'\n",
    "from data.utils.fileio import from_neuropype_h5\n",
    "test_file = datadir / 'converted' / 'faces_basic' / (SUB_ID + '_bp.h5')\n",
    "chunks = from_neuropype_h5(test_file)\n",
    "chunk_names = [_[0] for _ in chunks]\n",
    "chunk = chunks[chunk_names.index('signals')][1]\n",
    "ax_types = [_['type'] for _ in chunk['axes']]\n",
    "instance_axis = chunk['axes'][ax_types.index('instance')]\n",
    "n_trials = len(instance_axis['data'])\n",
    "X = chunk['data'].reshape((n_trials, -1))  # 603 trials x 527 features\n",
    "Y = instance_axis['data']['Marker'].values\n",
    "print(X.shape, Y.shape)\n"
   ],
   "metadata": {
    "collapsed": false,
    "pycharm": {
     "name": "#%%\n",
     "is_executing": false
    }
   }
  },
  {
   "cell_type": "code",
   "execution_count": null,
   "outputs": [],
   "source": [
    "# TODO: Visualize individual trials, colour coded by condition\n",
    "# TODO: Visualize condition-average (much information lost)\n",
    "# TODO: Visualize covariance structure.\n"
   ],
   "metadata": {
    "collapsed": false,
    "pycharm": {
     "name": "#%%\n"
    }
   }
  },
  {
   "cell_type": "markdown",
   "source": [
    "For a full step-by-step example of doing LDA from scratch, try [this online example](https://www.python-course.eu/linear_discriminant_analysis.php).\n",
    "\n",
    "Here, let's try to classify these data using simple / shallow machine learning using the excellent scikit-learn Python package.\n",
    "\n",
    "https://scikit-learn.org/stable/modules/lda_qda.html\n",
    "\n",
    "TODO: Talk about regularization.\n"
   ],
   "metadata": {
    "collapsed": false
   }
  },
  {
   "cell_type": "code",
   "execution_count": 25,
   "outputs": [
    {
     "name": "stdout",
     "text": [
      "3-class accuracy: 97.6782752902156",
      "\n"
     ],
     "output_type": "stream"
    }
   ],
   "source": [
    "import numpy as np\n",
    "from sklearn.discriminant_analysis import LinearDiscriminantAnalysis as LDA\n",
    "from sklearn.model_selection import StratifiedKFold\n",
    "\n",
    "\n",
    "lda = LDA(shrinkage='auto', solver='eigen')\n",
    "splitter = StratifiedKFold(n_splits=10)\n",
    "\n",
    "y_preds = []\n",
    "y_true = []\n",
    "for trn, tst in splitter.split(X, Y):\n",
    "    lda.fit(X[trn], Y[trn])\n",
    "    y_preds.append(lda.predict(X[tst]))\n",
    "    y_true.append(Y[tst])\n",
    "\n",
    "y_preds = np.hstack(y_preds)\n",
    "y_true = np.hstack(y_true)\n",
    "\n",
    "pcnt_corr = 100 * np.sum(y_preds == y_true) / len(y_preds)\n",
    "print(\"3-class accuracy: {}\".format(pcnt_corr))\n"
   ],
   "metadata": {
    "collapsed": false,
    "pycharm": {
     "name": "#%%\n",
     "is_executing": false
    }
   }
  },
  {
   "cell_type": "markdown",
   "source": [
    "While this accuracy is undoubtedly good, it's hard to know how good without knowing what\n",
    "we should expect for baseline accuracy. There are a couple ways to do this.\n",
    "First, we will shuffle our labels and try again.\n",
    "Second, we will simply say that every trial is ISI and see how we do.\n"
   ],
   "metadata": {
    "collapsed": false,
    "pycharm": {
     "name": "#%% md\n"
    }
   }
  },
  {
   "cell_type": "code",
   "execution_count": 28,
   "outputs": [
    {
     "name": "stdout",
     "text": [
      "3-class shuffled accuracy: 34.991708126036485",
      "\n",
      "Always-ISI accuracy: 50.24875621890547",
      "\n"
     ],
     "output_type": "stream"
    }
   ],
   "source": [
    "shuff_preds = []\n",
    "y_shuff = []\n",
    "Y_shuff = np.copy(Y)\n",
    "np.random.shuffle(Y_shuff)\n",
    "for trn, tst in splitter.split(X, Y_shuff):\n",
    "    lda.fit(X[trn], Y_shuff[trn])\n",
    "    shuff_preds.append(lda.predict(X[tst]))\n",
    "    y_shuff.append(Y[tst])\n",
    "\n",
    "shuff_preds = np.hstack(shuff_preds)\n",
    "y_shuff = np.hstack(y_shuff)\n",
    "\n",
    "pcnt_corr = 100 * np.sum(shuff_preds == y_shuff) / len(y_preds)\n",
    "print(\"3-class shuffled accuracy: {}\".format(pcnt_corr))\n",
    "\n",
    "y_always_ISI = np.array(['ISI']*len(y_shuff))\n",
    "pcnt_corr = 100 * np.sum(y_always_ISI == y_true) / len(y_true)\n",
    "print(\"Always-ISI accuracy: {}\".format(pcnt_corr))\n"
   ],
   "metadata": {
    "collapsed": false,
    "pycharm": {
     "name": "#%%\n",
     "is_executing": false
    }
   }
  },
  {
   "cell_type": "markdown",
   "source": [
    "So the best we can do with random guessing is in the 35-40% range.\n",
    "The best we can do by guessing always ISI is 50% (note: this is technically \"better than chance\",\n",
    "so \"better than chance\" is meaningless!)\n",
    "\n",
    "Let's plot the data to take a closer look.\n",
    "TODO: Visualize results including weight projections on electrode grid.\n"
   ],
   "metadata": {
    "collapsed": false,
    "pycharm": {
     "name": "#%% md\n"
    }
   }
  },
  {
   "cell_type": "code",
   "execution_count": 19,
   "outputs": [
    {
     "data": {
      "text/plain": "<Figure size 432x288 with 2 Axes>",
      "image/png": "[encoded data removed]"
     },
     "metadata": {
      "needs_background": "light"
     },
     "output_type": "display_data"
    }
   ],
   "source": [
    "from sklearn.metrics import confusion_matrix\n",
    "from sklearn.utils.multiclass import unique_labels\n",
    "import matplotlib.pyplot as plt\n",
    "\n",
    "classes = unique_labels(y_true, y_preds)\n",
    "cm = confusion_matrix(y_true, y_preds)\n",
    "cm_int = np.copy(cm)\n",
    "cm = cm.astype('float') / cm.sum(axis=1)[:, np.newaxis]  # Normalize\n",
    "fig, ax = plt.subplots()\n",
    "im = ax.imshow(cm, interpolation='nearest')\n",
    "ax.figure.colorbar(im, ax=ax)\n",
    "# We want to show all ticks...\n",
    "ax.set(xticks=np.arange(cm.shape[1]),\n",
    "      yticks=np.arange(cm.shape[0]),\n",
    "      # ... and label them with the respective list entries\n",
    "      xticklabels=classes, yticklabels=classes,\n",
    "      ylabel='True label',\n",
    "      xlabel='Predicted label')\n",
    "\n",
    "# Loop over data dimensions and create text annotations.\n",
    "thresh = cm.max() / 2.\n",
    "for i in range(cm.shape[0]):\n",
    "    for j in range(cm.shape[1]):\n",
    "        ax.text(j, i, format(cm_int[i, j], 'd'),\n",
    "                ha=\"center\", va=\"center\",\n",
    "                color=\"black\" if cm[i, j] > thresh else \"white\")\n",
    "fig.tight_layout()\n"
   ],
   "metadata": {
    "collapsed": false,
    "pycharm": {
     "name": "#%%\n",
     "is_executing": false
    }
   }
  },
  {
   "cell_type": "markdown",
   "source": [
    "This is a pretty good result. But remember, we did some significant preprocessing based on years\n",
    "of expertise working with these types of data.\n",
    "Also, we used ~540 within-session trials to train the classifier.\n",
    "This classifier will not generalize well to another patient,\n",
    "and maybe not even to another session with the same patient.\n",
    "No one wants to spend 540 trials training a keyboard before they start typing every day."
   ],
   "metadata": {
    "collapsed": false
   }
  }
 ],
 "metadata": {
  "language_info": {
   "codemirror_mode": {
    "name": "ipython",
    "version": 2
   },
   "file_extension": ".py",
   "mimetype": "text/x-python",
   "name": "python",
   "nbconvert_exporter": "python",
   "pygments_lexer": "ipython2",
   "version": "2.7.6"
  },
  "kernelspec": {
   "name": "python3",
   "language": "python",
   "display_name": "Python 3"
  },
  "pycharm": {
   "stem_cell": {
    "cell_type": "raw",
    "source": [],
    "metadata": {
     "collapsed": false
    }
   }
  }
 },
 "nbformat": 4,
 "nbformat_minor": 0
}