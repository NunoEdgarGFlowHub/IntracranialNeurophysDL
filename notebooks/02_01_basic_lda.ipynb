{
  "nbformat": 4,
  "nbformat_minor": 0,
  "metadata": {
    "colab": {
      "name": "02_01_basic_lda.ipynb",
      "version": "0.3.2",
      "provenance": []
    },
    "language_info": {
      "codemirror_mode": {
        "name": "ipython",
        "version": 2
      },
      "file_extension": ".py",
      "mimetype": "text/x-python",
      "name": "python",
      "nbconvert_exporter": "python",
      "pygments_lexer": "ipython2",
      "version": "2.7.6"
    },
    "kernelspec": {
      "name": "python3",
      "language": "python",
      "display_name": "Python 3"
    }
  },
  "cells": [
    {
      "cell_type": "code",
      "metadata": {
        "pycharm": {
          "name": "#%%\n",
          "is_executing": false
        },
        "id": "lbwoF8qcugXQ",
        "colab_type": "code",
        "outputId": "656e6cc4-1cb9-4eb1-ad87-fdd68e6df959",
        "colab": {
          "resources": {
            "http://localhost:8080/nbextensions/google.colab/files.js": {
              "data": "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",
              "ok": true,
              "headers": [
                [
                  "content-type",
                  "application/javascript"
                ]
              ],
              "status": 200,
              "status_text": ""
            }
          },
          "base_uri": "https://localhost:8080/",
          "height": 88
        }
      },
      "source": [
        "# Block to standardize local and Colab.\n",
        "from pathlib import Path\n",
        "import os\n",
        "try:\n",
        "    # See if we are running on google.colab\n",
        "    import google.colab\n",
        "    from google.colab import files\n",
        "    # Configure kaggle\n",
        "    files.upload()  # Find the kaggle.json file in your ~/.kaggle directory.\n",
        "    !pip install -q kaggle\n",
        "    !mkdir -p ~/.kaggle\n",
        "    !mv kaggle.json ~/.kaggle/\n",
        "    !chmod 600 ~/.kaggle/kaggle.json\n",
        "    # Download the workshop repo and change to its directory\n",
        "    # For now edit the username/password. This requirement will be removed when the repo is made public.\n",
        "    !git clone https://github.com/SachsLab/IntracranialNeurophysDL.git ../repo\n",
        "    os.chdir('../repo')\n",
        "    IN_COLAB = True\n",
        "except ModuleNotFoundError:\n",
        "    import sys\n",
        "    if Path.cwd().stem == 'notebooks':\n",
        "        os.chdir(Path.cwd().parent)\n",
        "    os.environ['PATH'] = os.environ['PATH'] + ';' + str(Path(sys.executable).parent / 'Scripts')\n",
        "    IN_COLAB = False    "
      ],
      "execution_count": 2,
      "outputs": [
        {
          "output_type": "display_data",
          "data": {
            "text/html": [
              "\n",
              "     <input type=\"file\" id=\"files-b7887403-666c-4ac3-922a-7ba6671e84c0\" name=\"files[]\" multiple disabled />\n",
              "     <output id=\"result-b7887403-666c-4ac3-922a-7ba6671e84c0\">\n",
              "      Upload widget is only available when the cell has been executed in the\n",
              "      current browser session. Please rerun this cell to enable.\n",
              "      </output>\n",
              "      <script src=\"/nbextensions/google.colab/files.js\"></script> "
            ],
            "text/plain": [
              "<IPython.core.display.HTML object>"
            ]
          },
          "metadata": {
            "tags": []
          }
        },
        {
          "output_type": "stream",
          "text": [
            "Saving kaggle.json to kaggle.json\n",
            "fatal: destination path '../repo' already exists and is not an empty directory.\n"
          ],
          "name": "stdout"
        }
      ]
    },
    {
      "cell_type": "code",
      "metadata": {
        "pycharm": {
          "name": "#%%\n",
          "is_executing": false
        },
        "id": "kH7F39KkugXT",
        "colab_type": "code",
        "colab": {
          "base_uri": "https://localhost:8080/",
          "height": 85
        },
        "outputId": "0b3bee06-1942-4bb5-e8ca-63f4a94ba9a7"
      },
      "source": [
        "# Download faces_basic if we don't already have it.\n",
        "datadir = Path.cwd() / 'data' / 'kjm_ecog'\n",
        "if not (datadir / 'converted').is_dir():\n",
        "    !kaggle datasets download -d cboulay/kjm-ecog-faces-basic\n",
        "    print(\"Finished downloading. Now extracting contents...\")\n",
        "    data_path = Path('kjm-ecog-faces-basic.zip')\n",
        "    import zipfile\n",
        "    with zipfile.ZipFile(data_path, 'r') as zip_ref:\n",
        "        zip_ref.extractall(datadir / 'converted' / 'faces_basic')\n",
        "    data_path.unlink()\n",
        "    "
      ],
      "execution_count": 3,
      "outputs": [
        {
          "output_type": "stream",
          "text": [
            "Downloading kjm-ecog-faces-basic.zip to /repo\n",
            "100% 2.24G/2.24G [00:36<00:00, 16.6MB/s]\n",
            "100% 2.24G/2.24G [00:36<00:00, 65.7MB/s]\n",
            "Finished downloading. Now extracting contents...\n"
          ],
          "name": "stdout"
        }
      ]
    },
    {
      "cell_type": "markdown",
      "metadata": {
        "collapsed": false,
        "id": "NO3Sfou6ugXV",
        "colab_type": "text"
      },
      "source": [
        "Let's say we have a trivial system of linear equations:\n",
        "\n",
        "\\begin{array}{lcl}\n",
        "1m + 1n & = & 35\\\\\n",
        "2m + 4n & = & 94\n",
        "\\end{array}\n",
        "\n",
        "This system can be represented in matrix notation, where\n",
        "\n",
        "$A=\\begin{bmatrix}\n",
        "1 & 1 \\\\\n",
        "2 & 4 \\\\\n",
        "\\end{bmatrix}, \n",
        "x=\\begin{bmatrix}\n",
        "m \\\\\n",
        "n \\\\\n",
        "\\end{bmatrix}, \n",
        "b=\\begin{bmatrix}\n",
        "35 \\\\\n",
        "94 \\\\\n",
        "\\end{bmatrix}$\n",
        "\n",
        "$\\begin{bmatrix}\n",
        "1 & 1 \\\\\n",
        "2 & 4 \\\\\n",
        "\\end{bmatrix}\n",
        "\\begin{bmatrix}\n",
        "m \\\\\n",
        "n \\\\\n",
        "\\end{bmatrix}\n",
        "=\n",
        "\\begin{bmatrix}\n",
        "35 \\\\\n",
        "94 \\\\\n",
        "\\end{bmatrix}$\n",
        "\n",
        "$Ax=b$\n",
        "\n",
        "Let's let x and b be matrices:\n",
        "\n",
        "$AX=B$\n",
        "\n",
        "These variables can take on different meanings depending on the\n",
        "experiment formulation and type of analysis. This can be confusing.\n",
        "Instead, let's be consistent about how the variable names map to our data, and then\n",
        "we will shuffle the equation around as needed.\n",
        "\n",
        "X: Known brain signals, often reshaped into a matrix.\n",
        "\n",
        "(~~B~~)Y: Known labels (intention, behaviour, experimental conditions)\n",
        "\n",
        "A: The unknown variable.\n",
        "\n",
        "| Type | Equation .....| X dims | Y | A (solve for) | \n",
        "|---|---|---|---|---| \n",
        "|BCI|$XA=Y$|trials, time, space|Intent/Behav.|Decoder|\n",
        "|Stats|$YA=X$|trials, time, space|Task Conds.|Encoder|\n",
        "|BCI|$XA=Y$|trials, space|Intent/Behav.|Spatial filter|\n",
        "|Stats|$YA=X$|trials, space|Task Conds.|Spatial patterns|\n",
        "\n",
        "![patterns Vs filters](https://github.com/SachsLab/IntracranialNeurophysDL/blob/master/notebooks/img/patterns_v_filters.jpg?raw=1)\n",
        "\n",
        "---\n",
        "**Bonus** \n",
        "\n",
        "$\\begin{array}\\\\\n",
        "XA&=&Y \\\\\n",
        "XAA^{-1}&=&YA^{-1} \\\\\n",
        "X&=&YA^{-1}\\end{array}$\n",
        "\n",
        "Or, in other words, the Decoder matrix is the inverse of the Encoder matrix.\n",
        "See [Haufe et al., NeuroImage 2014](https://www.sciencedirect.com/science/article/pii/S1053811913010914)\n",
        "\n",
        "---\n",
        "\n",
        "Let's solve for A.\n",
        "\n",
        "$\\begin{array}\\\\\n",
        "XA&=&Y \\\\\n",
        "X^{-1}XA&=&X^{-1}Y \\\\\n",
        "A&=&X^{-1}Y\\end{array}$\n"
      ]
    },
    {
      "cell_type": "code",
      "metadata": {
        "collapsed": true,
        "pycharm": {
          "is_executing": false
        },
        "id": "ZGYzL9J0ugXW",
        "colab_type": "code",
        "outputId": "0fb6f3ef-a3c8-4429-8516-7c95dd9c01f9",
        "colab": {
          "base_uri": "https://localhost:8080/",
          "height": 54
        }
      },
      "source": [
        "import numpy as np\n",
        "\n",
        "X = np.array([[1, 1,], [2, 4]])\n",
        "Y = np.array([[35], [94]])\n",
        "X_inv = np.linalg.inv(X)\n",
        "A = X_inv @ Y  # or np.matmul(X_inv, Y)\n",
        "\n",
        "print(\"1*{} + 1*{} = 35; {}\".format(\n",
        "    A[0, 0], A[1, 0], 1 * A[0, 0] + 1 * A[1, 0] == 35))\n",
        "print(\"2*{} + 4*{} = 94; {}\".format(\n",
        "    A[0, 0], A[1, 0], 2 * A[0, 0] + 4 * A[1, 0] == 94))"
      ],
      "execution_count": 0,
      "outputs": [
        {
          "output_type": "stream",
          "text": [
            "1*23.0 + 1*12.0 = 35; True\n",
            "2*23.0 + 4*12.0 = 94; True\n"
          ],
          "name": "stdout"
        }
      ]
    },
    {
      "cell_type": "markdown",
      "metadata": {
        "collapsed": false,
        "id": "kwhbjwURugXZ",
        "colab_type": "text"
      },
      "source": [
        "The majority of brain signal analysis is getting the data into these variables (X, Y),\n",
        "and then solving this equation, often with different constraints imposed on the solution.\n",
        "\n",
        "Let's look at one of the most basic examples...\n",
        "\n",
        "## (Fisher's) Linear Discriminant Analysis (LDA)\n",
        "\n",
        "Using the BCI formulation (XA=Y), find the transformation matrix (A) that\n",
        "maximizes the between-class variance in X relative to the within-class variance in X,\n",
        "where \"class\" is encoded in Y.\n",
        " "
      ]
    },
    {
      "cell_type": "code",
      "metadata": {
        "pycharm": {
          "name": "#%%\n",
          "is_executing": false
        },
        "id": "aHnOa0f3ugXa",
        "colab_type": "code",
        "outputId": "f67f05a9-c0bb-4b68-bcc8-06a6f946ce5f",
        "colab": {
          "base_uri": "https://localhost:8080/",
          "height": 34
        }
      },
      "source": [
        "# Load data from one participant.\n",
        "SUB_ID = 'de'  # 'de', 'ca', 'fp', 'ha' ~ 97%; 'ap', 'ja' 90-92%; 'jt', 'rn': 80%\n",
        "from data.utils.fileio import from_neuropype_h5\n",
        "test_file = datadir / 'converted' / 'faces_basic' / (SUB_ID + '_bp.h5')\n",
        "chunks = from_neuropype_h5(test_file)\n",
        "chunk_names = [_[0] for _ in chunks]\n",
        "chunk = chunks[chunk_names.index('signals')][1]\n",
        "ax_types = [_['type'] for _ in chunk['axes']]\n",
        "instance_axis = chunk['axes'][ax_types.index('instance')]\n",
        "n_trials = len(instance_axis['data'])\n",
        "X = chunk['data'].reshape((n_trials, -1))  # 603 trials x 527 features\n",
        "Y = instance_axis['data']['Marker'].values\n",
        "print(X.shape, Y.shape)"
      ],
      "execution_count": 28,
      "outputs": [
        {
          "output_type": "stream",
          "text": [
            "(603, 986) (603,)\n"
          ],
          "name": "stdout"
        }
      ]
    },
    {
      "cell_type": "markdown",
      "metadata": {
        "collapsed": false,
        "id": "Pox3-b3FugXe",
        "colab_type": "text"
      },
      "source": [
        "For a full step-by-step example of doing LDA from scratch, try [this online example](https://www.python-course.eu/linear_discriminant_analysis.php).\n",
        "\n",
        "Here, let's try to classify these data using simple / shallow machine learning using the excellent scikit-learn Python package.\n",
        "\n",
        "https://scikit-learn.org/stable/modules/lda_qda.html"
      ]
    },
    {
      "cell_type": "code",
      "metadata": {
        "pycharm": {
          "name": "#%%\n",
          "is_executing": false
        },
        "id": "GirYe2ufugXf",
        "colab_type": "code",
        "outputId": "2ac31a5a-67ca-45d1-ce16-3a7f8f98805f",
        "colab": {
          "base_uri": "https://localhost:8080/",
          "height": 34
        }
      },
      "source": [
        "import numpy as np\n",
        "from sklearn.discriminant_analysis import LinearDiscriminantAnalysis as LDA\n",
        "from sklearn.model_selection import StratifiedKFold\n",
        "\n",
        "\n",
        "lda = LDA(shrinkage='auto', solver='eigen')\n",
        "splitter = StratifiedKFold(n_splits=10)\n",
        "\n",
        "y_preds = []\n",
        "y_true = []\n",
        "for trn, tst in splitter.split(X, Y):\n",
        "    lda.fit(X[trn], Y[trn])\n",
        "    y_preds.append(lda.predict(X[tst]))\n",
        "    y_true.append(Y[tst])\n",
        "\n",
        "y_preds = np.hstack(y_preds)\n",
        "y_true = np.hstack(y_true)\n",
        "\n",
        "pcnt_corr = 100 * np.sum(y_preds == y_true) / len(y_preds)\n",
        "print(\"3-class accuracy: {}\".format(pcnt_corr))"
      ],
      "execution_count": 29,
      "outputs": [
        {
          "output_type": "stream",
          "text": [
            "3-class accuracy: 98.00995024875621\n"
          ],
          "name": "stdout"
        }
      ]
    },
    {
      "cell_type": "markdown",
      "metadata": {
        "collapsed": false,
        "pycharm": {
          "name": "#%% md\n"
        },
        "id": "9aBwBRDNugXh",
        "colab_type": "text"
      },
      "source": [
        "### Compare to baseline\n",
        "While this accuracy is undoubtedly good, it's hard to know how good without knowing what\n",
        "we should expect for baseline accuracy. There are a couple ways to do this.\n",
        "First, we will shuffle our labels and try again.\n",
        "Second, we will simply say that every trial is ISI and see how we do."
      ]
    },
    {
      "cell_type": "code",
      "metadata": {
        "pycharm": {
          "name": "#%%\n",
          "is_executing": false
        },
        "id": "E_QpmQfdugXh",
        "colab_type": "code",
        "outputId": "83ff0515-0d71-4af1-ef05-413951dce167",
        "colab": {
          "base_uri": "https://localhost:8080/",
          "height": 54
        }
      },
      "source": [
        "shuff_preds = []\n",
        "y_shuff = []\n",
        "Y_shuff = np.copy(Y)\n",
        "np.random.shuffle(Y_shuff)\n",
        "for trn, tst in splitter.split(X, Y_shuff):\n",
        "    lda.fit(X[trn], Y_shuff[trn])\n",
        "    shuff_preds.append(lda.predict(X[tst]))\n",
        "    y_shuff.append(Y[tst])\n",
        "\n",
        "shuff_preds = np.hstack(shuff_preds)\n",
        "y_shuff = np.hstack(y_shuff)\n",
        "\n",
        "pcnt_corr = 100 * np.sum(shuff_preds == y_shuff) / len(y_preds)\n",
        "print(\"3-class shuffled accuracy: {}\".format(pcnt_corr))\n",
        "\n",
        "y_always_ISI = np.array(['ISI']*len(y_shuff))\n",
        "pcnt_corr = 100 * np.sum(y_always_ISI == y_true) / len(y_true)\n",
        "print(\"Always-ISI accuracy: {}\".format(pcnt_corr))"
      ],
      "execution_count": 0,
      "outputs": [
        {
          "output_type": "stream",
          "text": [
            "3-class shuffled accuracy: 40.46434494195688\n",
            "Always-ISI accuracy: 50.24875621890547\n"
          ],
          "name": "stdout"
        }
      ]
    },
    {
      "cell_type": "markdown",
      "metadata": {
        "collapsed": false,
        "pycharm": {
          "name": "#%% md\n"
        },
        "id": "pvNh-LtFugXk",
        "colab_type": "text"
      },
      "source": [
        "So the best we can do with random guessing is in the 35-40% range.\n",
        "The best we can do by guessing always ISI is 50% (note: this is technically \"better than chance\",\n",
        "so \"better than chance\" is meaningless!)"
      ]
    },
    {
      "cell_type": "markdown",
      "metadata": {
        "id": "bkDqoxbpCKmL",
        "colab_type": "text"
      },
      "source": [
        "### Plot result\n",
        "Let's plot the results in a Confusion Matrix to take a closer look."
      ]
    },
    {
      "cell_type": "code",
      "metadata": {
        "pycharm": {
          "name": "#%%\n",
          "is_executing": false
        },
        "id": "FLbnngMyugXl",
        "colab_type": "code",
        "outputId": "e0483db9-e268-4356-adc6-3c1edeaeb0bd",
        "colab": {
          "base_uri": "https://localhost:8080/",
          "height": 297
        }
      },
      "source": [
        "from sklearn.metrics import confusion_matrix\n",
        "from sklearn.utils.multiclass import unique_labels\n",
        "import matplotlib.pyplot as plt\n",
        "\n",
        "classes = unique_labels(y_true, y_preds)\n",
        "cm = confusion_matrix(y_true, y_preds)\n",
        "cm_int = np.copy(cm)\n",
        "cm = cm.astype('float') / cm.sum(axis=1)[:, np.newaxis]  # Normalize\n",
        "fig, ax = plt.subplots()\n",
        "im = ax.imshow(cm, interpolation='nearest')\n",
        "ax.figure.colorbar(im, ax=ax)\n",
        "# We want to show all ticks...\n",
        "ax.set(xticks=np.arange(cm.shape[1]),\n",
        "      yticks=np.arange(cm.shape[0]),\n",
        "      # ... and label them with the respective list entries\n",
        "      xticklabels=classes, yticklabels=classes,\n",
        "      ylabel='True label',\n",
        "      xlabel='Predicted label')\n",
        "\n",
        "# Loop over data dimensions and create text annotations.\n",
        "thresh = cm.max() / 2.\n",
        "for i in range(cm.shape[0]):\n",
        "    for j in range(cm.shape[1]):\n",
        "        ax.text(j, i, format(cm_int[i, j], 'd'),\n",
        "                ha=\"center\", va=\"center\",\n",
        "                color=\"black\" if cm[i, j] > thresh else \"white\")\n",
        "fig.tight_layout()"
      ],
      "execution_count": 0,
      "outputs": [
        {
          "output_type": "display_data",
          "data": {
            "image/png": "[encoded data removed]",
            "text/plain": [
              "<Figure size 432x288 with 2 Axes>"
            ]
          },
          "metadata": {
            "tags": []
          }
        }
      ]
    },
    {
      "cell_type": "markdown",
      "metadata": {
        "collapsed": false,
        "id": "7KNGVniCugXn",
        "colab_type": "text"
      },
      "source": [
        "This is a pretty good result. But remember, we did some significant preprocessing based on years\n",
        "of expertise working with these types of data.\n",
        "Also, we used ~540 within-session trials to train the classifier.\n",
        "This classifier will not generalize well to another patient,\n",
        "and maybe not even to another session with the same patient.\n",
        "No one wants to spend 540 trials training a keyboard before they start typing every day."
      ]
    },
    {
      "cell_type": "markdown",
      "metadata": {
        "id": "ZQnoRXoVCrtD",
        "colab_type": "text"
      },
      "source": [
        "### Visualize model\n",
        "We want to visualize the best possible model for these data, without worrying about whether or not it generalizes to outside data. So let's train the model again using all trials, and start by visualizing the LDA components."
      ]
    },
    {
      "cell_type": "code",
      "metadata": {
        "id": "RXaGPfXREPdt",
        "colab_type": "code",
        "outputId": "40894db1-6e3c-462a-ef74-208218b14da1",
        "colab": {
          "base_uri": "https://localhost:8080/",
          "height": 295
        }
      },
      "source": [
        "lda = LDA(shrinkage='auto', solver='eigen')\n",
        "lda.fit(X, Y)\n",
        "\n",
        "# Transform data with model to get lower-dimensional projections that separate classes\n",
        "comps = lda.transform(X)\n",
        "\n",
        "for color, label in zip(['navy', 'turquoise', 'darkorange'], ['ISI', 'house', 'face']):\n",
        "    plt.scatter(comps[Y == label, 0], comps[Y == label, 1],\n",
        "                alpha=.8, color=color, label=label)\n",
        "plt.legend(loc='best', shadow=False, scatterpoints=1)\n",
        "plt.title('LDA')\n",
        "plt.xlabel('LDA Comp. 1 score')\n",
        "plt.ylabel('LDA Comp. 2 score')\n",
        "plt.show()"
      ],
      "execution_count": 0,
      "outputs": [
        {
          "output_type": "display_data",
          "data": {
            "image/png": "[encoded data removed]",
            "text/plain": [
              "<Figure size 432x288 with 1 Axes>"
            ]
          },
          "metadata": {
            "tags": []
          }
        }
      ]
    },
    {
      "cell_type": "markdown",
      "metadata": {
        "id": "yaKhtrsQH3Xs",
        "colab_type": "text"
      },
      "source": [
        "We see that the first component separates ISI from stimulus conditions,\n",
        "and the second component separates house from face.\n",
        "So let's visualize the scalings so we can get an idea for which channels and samples are important for each component."
      ]
    },
    {
      "cell_type": "code",
      "metadata": {
        "id": "lXCnc7dxFV30",
        "colab_type": "code",
        "outputId": "24560815-63ca-4001-eae2-62ca0a83857b",
        "colab": {
          "base_uri": "https://localhost:8080/",
          "height": 284
        }
      },
      "source": [
        "for comp_ix in range(2):\n",
        "  decoder = lda.scalings_[:, comp_ix].reshape(chunk['data'].shape[1:])\n",
        "  plt.subplot(2, 1, comp_ix + 1)\n",
        "  plt.imshow(decoder)\n",
        "  plt.xlabel('Channel')\n",
        "  plt.ylabel('Sample')\n",
        "plt.show()"
      ],
      "execution_count": 0,
      "outputs": [
        {
          "output_type": "display_data",
          "data": {
            "image/png": "[encoded data removed]",
            "text/plain": [
              "<Figure size 432x288 with 2 Axes>"
            ]
          },
          "metadata": {
            "tags": []
          }
        }
      ]
    },
    {
      "cell_type": "markdown",
      "metadata": {
        "id": "1pXCf60_CvWS",
        "colab_type": "text"
      },
      "source": [
        "### Regularization\n",
        "In the call to the LinearDiscriminantAnalysis, we supplied an argument `shrinkage=auto`. The parameter is explained [here](https://scikit-learn.org/stable/modules/lda_qda.html#shrinkage) and the difference with and without shrinkage is ([demonstrated here](https://scikit-learn.org/stable/auto_examples/classification/plot_lda.html#sphx-glr-auto-examples-classification-plot-lda-py)).\n",
        "\n",
        "Shrinkage is a form of regularization."
      ]
    },
    {
      "cell_type": "code",
      "metadata": {
        "id": "tJyFMCPTyuIJ",
        "colab_type": "code",
        "colab": {}
      },
      "source": [
        "# TODO: Talk about regularization."
      ],
      "execution_count": 0,
      "outputs": []
    }
  ]
}