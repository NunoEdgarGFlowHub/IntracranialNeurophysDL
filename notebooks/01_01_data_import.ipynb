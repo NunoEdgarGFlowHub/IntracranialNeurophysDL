{
  "nbformat": 4,
  "nbformat_minor": 0,
  "metadata": {
    "colab": {
      "name": "01_01_data_import.ipynb",
      "version": "0.3.2",
      "provenance": [],
      "include_colab_link": true
    },
    "language_info": {
      "codemirror_mode": {
        "name": "ipython",
        "version": 2
      },
      "file_extension": ".py",
      "mimetype": "text/x-python",
      "name": "python",
      "nbconvert_exporter": "python",
      "pygments_lexer": "ipython2",
      "version": "2.7.6"
    },
    "kernelspec": {
      "name": "python3",
      "language": "python",
      "display_name": "Python 3"
    }
  },
  "cells": [
    {
      "cell_type": "markdown",
      "metadata": {
        "id": "view-in-github",
        "colab_type": "text"
      },
      "source": [
        "<a href=\"https://colab.research.google.com/github/SachsLab/IntracranialNeurophysDL/blob/master/notebooks/01_01_data_import.ipynb\" target=\"_parent\"><img src=\"https://colab.research.google.com/assets/colab-badge.svg\" alt=\"Open In Colab\"/></a>"
      ]
    },
    {
      "cell_type": "code",
      "metadata": {
        "pycharm": {
          "metadata": false,
          "name": "#%%\n",
          "is_executing": false
        },
        "id": "xtIuJ5T0gQjj",
        "colab_type": "code",
        "colab": {}
      },
      "source": [
        "%load_ext autoreload\n",
        "%autoreload 2"
      ],
      "execution_count": 0,
      "outputs": []
    },
    {
      "cell_type": "markdown",
      "metadata": {
        "pycharm": {
          "metadata": false
        },
        "id": "9evVZVDegQjn",
        "colab_type": "text"
      },
      "source": [
        "Create a kaggle account if you don't already have one, then download your kaggle API key.\n",
        "Info on how to get your api key (kaggle.json) here:\n",
        "https://github.com/Kaggle/kaggle-api#api-credentials\n",
        "Place the kaggle.json file in the correct directory (~/.kaggle)."
      ]
    },
    {
      "cell_type": "markdown",
      "metadata": {
        "id": "_sZ4PYvKjpQ9",
        "colab_type": "text"
      },
      "source": [
        "Let's try to unify the Google Colab environment and the local environment.\n",
        "\n",
        "If you are running on google colab, then in the next cell you'll be presented\n",
        "with a widget. Use it to browse to the kaggle.json file.\n",
        "(Note: You might have to show hidden files/folders in the file browser) \n",
        "\n",
        "It will also clone the workshop repository and change into its directory."
      ]
    },
    {
      "cell_type": "code",
      "metadata": {
        "pycharm": {
          "is_executing": false
        },
        "id": "epyF9OJxgQjo",
        "colab_type": "code",
        "colab": {
          "resources": {
            "http://localhost:8080/nbextensions/google.colab/files.js": {
              "data": "Ly8gQ29weXJpZ2h0IDIwMTcgR29vZ2xlIExMQwovLwovLyBMaWNlbnNlZCB1bmRlciB0aGUgQXBhY2hlIExpY2Vuc2UsIFZlcnNpb24gMi4wICh0aGUgIkxpY2Vuc2UiKTsKLy8geW91IG1heSBub3QgdXNlIHRoaXMgZmlsZSBleGNlcHQgaW4gY29tcGxpYW5jZSB3aXRoIHRoZSBMaWNlbnNlLgovLyBZb3UgbWF5IG9idGFpbiBhIGNvcHkgb2YgdGhlIExpY2Vuc2UgYXQKLy8KLy8gICAgICBodHRwOi8vd3d3LmFwYWNoZS5vcmcvbGljZW5zZXMvTElDRU5TRS0yLjAKLy8KLy8gVW5sZXNzIHJlcXVpcmVkIGJ5IGFwcGxpY2FibGUgbGF3IG9yIGFncmVlZCB0byBpbiB3cml0aW5nLCBzb2Z0d2FyZQovLyBkaXN0cmlidXRlZCB1bmRlciB0aGUgTGljZW5zZSBpcyBkaXN0cmlidXRlZCBvbiBhbiAiQVMgSVMiIEJBU0lTLAovLyBXSVRIT1VUIFdBUlJBTlRJRVMgT1IgQ09ORElUSU9OUyBPRiBBTlkgS0lORCwgZWl0aGVyIGV4cHJlc3Mgb3IgaW1wbGllZC4KLy8gU2VlIHRoZSBMaWNlbnNlIGZvciB0aGUgc3BlY2lmaWMgbGFuZ3VhZ2UgZ292ZXJuaW5nIHBlcm1pc3Npb25zIGFuZAovLyBsaW1pdGF0aW9ucyB1bmRlciB0aGUgTGljZW5zZS4KCi8qKgogKiBAZmlsZW92ZXJ2aWV3IEhlbHBlcnMgZm9yIGdvb2dsZS5jb2xhYiBQeXRob24gbW9kdWxlLgogKi8KKGZ1bmN0aW9uKHNjb3BlKSB7CmZ1bmN0aW9uIHNwYW4odGV4dCwgc3R5bGVBdHRyaWJ1dGVzID0ge30pIHsKICBjb25zdCBlbGVtZW50ID0gZG9jdW1lbnQuY3JlYXRlRWxlbWVudCgnc3BhbicpOwogIGVsZW1lbnQudGV4dENvbnRlbnQgPSB0ZXh0OwogIGZvciAoY29uc3Qga2V5IG9mIE9iamVjdC5rZXlzKHN0eWxlQXR0cmlidXRlcykpIHsKICAgIGVsZW1lbnQuc3R5bGVba2V5XSA9IHN0eWxlQXR0cmlidXRlc1trZXldOwogIH0KICByZXR1cm4gZWxlbWVudDsKfQoKLy8gTWF4IG51bWJlciBvZiBieXRlcyB3aGljaCB3aWxsIGJlIHVwbG9hZGVkIGF0IGEgdGltZS4KY29uc3QgTUFYX1BBWUxPQURfU0laRSA9IDEwMCAqIDEwMjQ7Ci8vIE1heCBhbW91bnQgb2YgdGltZSB0byBibG9jayB3YWl0aW5nIGZvciB0aGUgdXNlci4KY29uc3QgRklMRV9DSEFOR0VfVElNRU9VVF9NUyA9IDMwICogMTAwMDsKCmZ1bmN0aW9uIF91cGxvYWRGaWxlcyhpbnB1dElkLCBvdXRwdXRJZCkgewogIGNvbnN0IHN0ZXBzID0gdXBsb2FkRmlsZXNTdGVwKGlucHV0SWQsIG91dHB1dElkKTsKICBjb25zdCBvdXRwdXRFbGVtZW50ID0gZG9jdW1lbnQuZ2V0RWxlbWVudEJ5SWQob3V0cHV0SWQpOwogIC8vIENhY2hlIHN0ZXBzIG9uIHRoZSBvdXRwdXRFbGVtZW50IHRvIG1ha2UgaXQgYXZhaWxhYmxlIGZvciB0aGUgbmV4dCBjYWxsCiAgLy8gdG8gdXBsb2FkRmlsZXNDb250aW51ZSBmcm9tIFB5dGhvbi4KICBvdXRwdXRFbGVtZW50LnN0ZXBzID0gc3RlcHM7CgogIHJldHVybiBfdXBsb2FkRmlsZXNDb250aW51ZShvdXRwdXRJZCk7Cn0KCi8vIFRoaXMgaXMgcm91Z2hseSBhbiBhc3luYyBnZW5lcmF0b3IgKG5vdCBzdXBwb3J0ZWQgaW4gdGhlIGJyb3dzZXIgeWV0KSwKLy8gd2hlcmUgdGhlcmUgYXJlIG11bHRpcGxlIGFzeW5jaHJvbm91cyBzdGVwcyBhbmQgdGhlIFB5dGhvbiBzaWRlIGlzIGdvaW5nCi8vIHRvIHBvbGwgZm9yIGNvbXBsZXRpb24gb2YgZWFjaCBzdGVwLgovLyBUaGlzIHVzZXMgYSBQcm9taXNlIHRvIGJsb2NrIHRoZSBweXRob24gc2lkZSBvbiBjb21wbGV0aW9uIG9mIGVhY2ggc3RlcCwKLy8gdGhlbiBwYXNzZXMgdGhlIHJlc3VsdCBvZiB0aGUgcHJldmlvdXMgc3RlcCBhcyB0aGUgaW5wdXQgdG8gdGhlIG5leHQgc3RlcC4KZnVuY3Rpb24gX3VwbG9hZEZpbGVzQ29udGludWUob3V0cHV0SWQpIHsKICBjb25zdCBvdXRwdXRFbGVtZW50ID0gZG9jdW1lbnQuZ2V0RWxlbWVudEJ5SWQob3V0cHV0SWQpOwogIGNvbnN0IHN0ZXBzID0gb3V0cHV0RWxlbWVudC5zdGVwczsKCiAgY29uc3QgbmV4dCA9IHN0ZXBzLm5leHQob3V0cHV0RWxlbWVudC5sYXN0UHJvbWlzZVZhbHVlKTsKICByZXR1cm4gUHJvbWlzZS5yZXNvbHZlKG5leHQudmFsdWUucHJvbWlzZSkudGhlbigodmFsdWUpID0+IHsKICAgIC8vIENhY2hlIHRoZSBsYXN0IHByb21pc2UgdmFsdWUgdG8gbWFrZSBpdCBhdmFpbGFibGUgdG8gdGhlIG5leHQKICAgIC8vIHN0ZXAgb2YgdGhlIGdlbmVyYXRvci4KICAgIG91dHB1dEVsZW1lbnQubGFzdFByb21pc2VWYWx1ZSA9IHZhbHVlOwogICAgcmV0dXJuIG5leHQudmFsdWUucmVzcG9uc2U7CiAgfSk7Cn0KCi8qKgogKiBHZW5lcmF0b3IgZnVuY3Rpb24gd2hpY2ggaXMgY2FsbGVkIGJldHdlZW4gZWFjaCBhc3luYyBzdGVwIG9mIHRoZSB1cGxvYWQKICogcHJvY2Vzcy4KICogQHBhcmFtIHtzdHJpbmd9IGlucHV0SWQgRWxlbWVudCBJRCBvZiB0aGUgaW5wdXQgZmlsZSBwaWNrZXIgZWxlbWVudC4KICogQHBhcmFtIHtzdHJpbmd9IG91dHB1dElkIEVsZW1lbnQgSUQgb2YgdGhlIG91dHB1dCBkaXNwbGF5LgogKiBAcmV0dXJuIHshSXRlcmFibGU8IU9iamVjdD59IEl0ZXJhYmxlIG9mIG5leHQgc3RlcHMuCiAqLwpmdW5jdGlvbiogdXBsb2FkRmlsZXNTdGVwKGlucHV0SWQsIG91dHB1dElkKSB7CiAgY29uc3QgaW5wdXRFbGVtZW50ID0gZG9jdW1lbnQuZ2V0RWxlbWVudEJ5SWQoaW5wdXRJZCk7CiAgaW5wdXRFbGVtZW50LmRpc2FibGVkID0gZmFsc2U7CgogIGNvbnN0IG91dHB1dEVsZW1lbnQgPSBkb2N1bWVudC5nZXRFbGVtZW50QnlJZChvdXRwdXRJZCk7CiAgb3V0cHV0RWxlbWVudC5pbm5lckhUTUwgPSAnJzsKCiAgY29uc3QgcGlja2VkUHJvbWlzZSA9IG5ldyBQcm9taXNlKChyZXNvbHZlKSA9PiB7CiAgICBpbnB1dEVsZW1lbnQuYWRkRXZlbnRMaXN0ZW5lcignY2hhbmdlJywgKGUpID0+IHsKICAgICAgcmVzb2x2ZShlLnRhcmdldC5maWxlcyk7CiAgICB9KTsKICB9KTsKCiAgY29uc3QgY2FuY2VsID0gZG9jdW1lbnQuY3JlYXRlRWxlbWVudCgnYnV0dG9uJyk7CiAgaW5wdXRFbGVtZW50LnBhcmVudEVsZW1lbnQuYXBwZW5kQ2hpbGQoY2FuY2VsKTsKICBjYW5jZWwudGV4dENvbnRlbnQgPSAnQ2FuY2VsIHVwbG9hZCc7CiAgY29uc3QgY2FuY2VsUHJvbWlzZSA9IG5ldyBQcm9taXNlKChyZXNvbHZlKSA9PiB7CiAgICBjYW5jZWwub25jbGljayA9ICgpID0+IHsKICAgICAgcmVzb2x2ZShudWxsKTsKICAgIH07CiAgfSk7CgogIC8vIENhbmNlbCB1cGxvYWQgaWYgdXNlciBoYXNuJ3QgcGlja2VkIGFueXRoaW5nIGluIHRpbWVvdXQuCiAgY29uc3QgdGltZW91dFByb21pc2UgPSBuZXcgUHJvbWlzZSgocmVzb2x2ZSkgPT4gewogICAgc2V0VGltZW91dCgoKSA9PiB7CiAgICAgIHJlc29sdmUobnVsbCk7CiAgICB9LCBGSUxFX0NIQU5HRV9USU1FT1VUX01TKTsKICB9KTsKCiAgLy8gV2FpdCBmb3IgdGhlIHVzZXIgdG8gcGljayB0aGUgZmlsZXMuCiAgY29uc3QgZmlsZXMgPSB5aWVsZCB7CiAgICBwcm9taXNlOiBQcm9taXNlLnJhY2UoW3BpY2tlZFByb21pc2UsIHRpbWVvdXRQcm9taXNlLCBjYW5jZWxQcm9taXNlXSksCiAgICByZXNwb25zZTogewogICAgICBhY3Rpb246ICdzdGFydGluZycsCiAgICB9CiAgfTsKCiAgaWYgKCFmaWxlcykgewogICAgcmV0dXJuIHsKICAgICAgcmVzcG9uc2U6IHsKICAgICAgICBhY3Rpb246ICdjb21wbGV0ZScsCiAgICAgIH0KICAgIH07CiAgfQoKICBjYW5jZWwucmVtb3ZlKCk7CgogIC8vIERpc2FibGUgdGhlIGlucHV0IGVsZW1lbnQgc2luY2UgZnVydGhlciBwaWNrcyBhcmUgbm90IGFsbG93ZWQuCiAgaW5wdXRFbGVtZW50LmRpc2FibGVkID0gdHJ1ZTsKCiAgZm9yIChjb25zdCBmaWxlIG9mIGZpbGVzKSB7CiAgICBjb25zdCBsaSA9IGRvY3VtZW50LmNyZWF0ZUVsZW1lbnQoJ2xpJyk7CiAgICBsaS5hcHBlbmQoc3BhbihmaWxlLm5hbWUsIHtmb250V2VpZ2h0OiAnYm9sZCd9KSk7CiAgICBsaS5hcHBlbmQoc3BhbigKICAgICAgICBgKCR7ZmlsZS50eXBlIHx8ICduL2EnfSkgLSAke2ZpbGUuc2l6ZX0gYnl0ZXMsIGAgKwogICAgICAgIGBsYXN0IG1vZGlmaWVkOiAkewogICAgICAgICAgICBmaWxlLmxhc3RNb2RpZmllZERhdGUgPyBmaWxlLmxhc3RNb2RpZmllZERhdGUudG9Mb2NhbGVEYXRlU3RyaW5nKCkgOgogICAgICAgICAgICAgICAgICAgICAgICAgICAgICAgICAgICAnbi9hJ30gLSBgKSk7CiAgICBjb25zdCBwZXJjZW50ID0gc3BhbignMCUgZG9uZScpOwogICAgbGkuYXBwZW5kQ2hpbGQocGVyY2VudCk7CgogICAgb3V0cHV0RWxlbWVudC5hcHBlbmRDaGlsZChsaSk7CgogICAgY29uc3QgZmlsZURhdGFQcm9taXNlID0gbmV3IFByb21pc2UoKHJlc29sdmUpID0+IHsKICAgICAgY29uc3QgcmVhZGVyID0gbmV3IEZpbGVSZWFkZXIoKTsKICAgICAgcmVhZGVyLm9ubG9hZCA9IChlKSA9PiB7CiAgICAgICAgcmVzb2x2ZShlLnRhcmdldC5yZXN1bHQpOwogICAgICB9OwogICAgICByZWFkZXIucmVhZEFzQXJyYXlCdWZmZXIoZmlsZSk7CiAgICB9KTsKICAgIC8vIFdhaXQgZm9yIHRoZSBkYXRhIHRvIGJlIHJlYWR5LgogICAgbGV0IGZpbGVEYXRhID0geWllbGQgewogICAgICBwcm9taXNlOiBmaWxlRGF0YVByb21pc2UsCiAgICAgIHJlc3BvbnNlOiB7CiAgICAgICAgYWN0aW9uOiAnY29udGludWUnLAogICAgICB9CiAgICB9OwoKICAgIC8vIFVzZSBhIGNodW5rZWQgc2VuZGluZyB0byBhdm9pZCBtZXNzYWdlIHNpemUgbGltaXRzLiBTZWUgYi82MjExNTY2MC4KICAgIGxldCBwb3NpdGlvbiA9IDA7CiAgICB3aGlsZSAocG9zaXRpb24gPCBmaWxlRGF0YS5ieXRlTGVuZ3RoKSB7CiAgICAgIGNvbnN0IGxlbmd0aCA9IE1hdGgubWluKGZpbGVEYXRhLmJ5dGVMZW5ndGggLSBwb3NpdGlvbiwgTUFYX1BBWUxPQURfU0laRSk7CiAgICAgIGNvbnN0IGNodW5rID0gbmV3IFVpbnQ4QXJyYXkoZmlsZURhdGEsIHBvc2l0aW9uLCBsZW5ndGgpOwogICAgICBwb3NpdGlvbiArPSBsZW5ndGg7CgogICAgICBjb25zdCBiYXNlNjQgPSBidG9hKFN0cmluZy5mcm9tQ2hhckNvZGUuYXBwbHkobnVsbCwgY2h1bmspKTsKICAgICAgeWllbGQgewogICAgICAgIHJlc3BvbnNlOiB7CiAgICAgICAgICBhY3Rpb246ICdhcHBlbmQnLAogICAgICAgICAgZmlsZTogZmlsZS5uYW1lLAogICAgICAgICAgZGF0YTogYmFzZTY0LAogICAgICAgIH0sCiAgICAgIH07CiAgICAgIHBlcmNlbnQudGV4dENvbnRlbnQgPQogICAgICAgICAgYCR7TWF0aC5yb3VuZCgocG9zaXRpb24gLyBmaWxlRGF0YS5ieXRlTGVuZ3RoKSAqIDEwMCl9JSBkb25lYDsKICAgIH0KICB9CgogIC8vIEFsbCBkb25lLgogIHlpZWxkIHsKICAgIHJlc3BvbnNlOiB7CiAgICAgIGFjdGlvbjogJ2NvbXBsZXRlJywKICAgIH0KICB9Owp9CgpzY29wZS5nb29nbGUgPSBzY29wZS5nb29nbGUgfHwge307CnNjb3BlLmdvb2dsZS5jb2xhYiA9IHNjb3BlLmdvb2dsZS5jb2xhYiB8fCB7fTsKc2NvcGUuZ29vZ2xlLmNvbGFiLl9maWxlcyA9IHsKICBfdXBsb2FkRmlsZXMsCiAgX3VwbG9hZEZpbGVzQ29udGludWUsCn07Cn0pKHNlbGYpOwo=",
              "ok": true,
              "headers": [
                [
                  "content-type",
                  "application/javascript"
                ]
              ],
              "status": 200,
              "status_text": ""
            }
          },
          "base_uri": "https://localhost:8080/",
          "height": 329
        },
        "outputId": "c17b7702-f363-48e4-8bda-7b7d4164832f"
      },
      "source": [
        "from pathlib import Path\n",
        "try:\n",
        "    import os\n",
        "    # See if we are running on google.colab\n",
        "    import google.colab\n",
        "    from google.colab import files\n",
        "    # Configure kaggle\n",
        "    files.upload()  # Find the kaggle.json file in your ~/.kaggle directory.\n",
        "    !pip install -q kaggle\n",
        "    !mkdir -p ~/.kaggle\n",
        "    !mv kaggle.json ~/.kaggle/\n",
        "    !chmod 600 ~/.kaggle/kaggle.json\n",
        "    # Download the workshop repo and change to its directory\n",
        "    # For now edit the username/password. This will be removed when the repo is made public.\n",
        "    !git clone https://<username>:<password>@github.com/SachsLab/IntracranialNeurophysDL.git ../repo\n",
        "    os.chdir('../repo')\n",
        "    IN_COLAB = True\n",
        "except:\n",
        "    import os\n",
        "    import sys\n",
        "    if Path.cwd().stem == 'notebooks':\n",
        "        os.chdir(Path.cwd().parent)\n",
        "    os.environ['PATH'] = os.environ['PATH'] + ';' + str(Path(sys.executable).parent / 'Scripts')\n",
        "    IN_COLAB = False"
      ],
      "execution_count": 2,
      "outputs": [
        {
          "output_type": "display_data",
          "data": {
            "text/html": [
              "\n",
              "     <input type=\"file\" id=\"files-b0cfa395-5440-4e42-9e2a-07d64be7523f\" name=\"files[]\" multiple disabled />\n",
              "     <output id=\"result-b0cfa395-5440-4e42-9e2a-07d64be7523f\">\n",
              "      Upload widget is only available when the cell has been executed in the\n",
              "      current browser session. Please rerun this cell to enable.\n",
              "      </output>\n",
              "      <script src=\"/nbextensions/google.colab/files.js\"></script> "
            ],
            "text/plain": [
              "<IPython.core.display.HTML object>"
            ]
          },
          "metadata": {
            "tags": []
          }
        },
        {
          "output_type": "stream",
          "text": [
            "Saving kaggle.json to kaggle.json\n",
            "Collecting git+https://github.com/ahwillia/tensortools\n",
            "  Cloning https://github.com/ahwillia/tensortools to /tmp/pip-req-build-539w0qxn\n",
            "  Running command git clone -q https://github.com/ahwillia/tensortools /tmp/pip-req-build-539w0qxn\n",
            "Requirement already satisfied: cython in /usr/local/lib/python3.6/dist-packages (from tensortools==0.3) (0.29.7)\n",
            "Requirement already satisfied: numpy in /usr/local/lib/python3.6/dist-packages (from tensortools==0.3) (1.16.3)\n",
            "Requirement already satisfied: scipy in /usr/local/lib/python3.6/dist-packages (from tensortools==0.3) (1.2.1)\n",
            "Requirement already satisfied: tqdm in /usr/local/lib/python3.6/dist-packages (from tensortools==0.3) (4.28.1)\n",
            "Collecting munkres (from tensortools==0.3)\n",
            "  Downloading https://files.pythonhosted.org/packages/64/97/61ddc63578870e04db6eb1d3bee58ad4e727f682068a7c7405edb8b2cdeb/munkres-1.1.2-py2.py3-none-any.whl\n",
            "Building wheels for collected packages: tensortools\n",
            "  Building wheel for tensortools (setup.py) ... \u001b[?25l\u001b[?25hdone\n",
            "  Stored in directory: /tmp/pip-ephem-wheel-cache-7yztbp0p/wheels/e4/4f/c6/b7ea145adb6874a9583dfe0c5c8ef3048335f4f885c6ee01ac\n",
            "Successfully built tensortools\n",
            "Installing collected packages: munkres, tensortools\n",
            "Successfully installed munkres-1.1.2 tensortools-0.3\n"
          ],
          "name": "stdout"
        }
      ]
    },
    {
      "cell_type": "markdown",
      "metadata": {
        "pycharm": {
          "metadata": false
        },
        "id": "8-1AfrdFgQjq",
        "colab_type": "text"
      },
      "source": [
        "Now that your system is configured to use kaggle, whether local or running on colab,\n",
        "we check for the existence of the datadir, and if it's not there we download the data\n",
        "as a zip file (2.2 GB), then unzip it, then delete the zip file.\n",
        "\n",
        "While running on google colab, this takes about a minute to download and another minute to unzip.\n",
        "\n",
        "While running locally, this can take a long time depending on your internet connection. The\n",
        "PyCharm notebook interface doesn't give feedback about download or unzip status, so you may\n",
        "want to download and extract from an Anaconda prompt, in the repository parent directory:\n",
        "```\n",
        "kaggle datasets download -d cboulay/kjm-ecog-faces-basic\n",
        "# Mac/Linux only:\n",
        "unzip faces-basic.zip -d data/kjm_ecog/converted/\n",
        "# Windows users will have to use the Explorer interface and extract to data\\kjm_ecog\n",
        "```\n",
        "\n",
        "This dataset may still be private, in which case you will have to ask Chad to grant you\n",
        "access.\n"
      ]
    },
    {
      "cell_type": "code",
      "metadata": {
        "pycharm": {
          "metadata": false,
          "name": "#%%\n",
          "is_executing": false
        },
        "id": "_FsrWjApgQjq",
        "colab_type": "code",
        "colab": {
          "base_uri": "https://localhost:8080/",
          "height": 85
        },
        "outputId": "4b961b78-f427-48a6-96ea-37cecb2e22ed"
      },
      "source": [
        "datadir = Path.cwd() / 'data' / 'kjm_ecog'\n",
        "if not (datadir / 'converted').is_dir():\n",
        "    !kaggle datasets download -d cboulay/kjm-ecog-faces-basic\n",
        "    print(\"Finished downloading. Now extracting contents...\")\n",
        "    data_path = Path('kjm-ecog-faces-basic.zip')\n",
        "    import zipfile\n",
        "    with zipfile.ZipFile(data_path, 'r') as zip_ref:\n",
        "        zip_ref.extractall(datadir / 'converted' / 'faces_basic')\n",
        "    data_path.unlink()"
      ],
      "execution_count": 3,
      "outputs": [
        {
          "output_type": "stream",
          "text": [
            "Downloading kjm-ecog-faces-basic.zip to /content\n",
            "100% 2.24G/2.24G [00:38<00:00, 26.1MB/s]\n",
            "100% 2.24G/2.24G [00:38<00:00, 62.4MB/s]\n",
            "Finished downloading. Now extracting contents...\n"
          ],
          "name": "stdout"
        }
      ]
    },
    {
      "cell_type": "markdown",
      "metadata": {
        "pycharm": {
          "metadata": false,
          "name": "#%% md\n"
        },
        "id": "R6Bzz1oogQjs",
        "colab_type": "text"
      },
      "source": [
        "We can now start working with the data.\n",
        "We will import a single file that contains processed band-power data.\n"
      ]
    },
    {
      "cell_type": "code",
      "metadata": {
        "pycharm": {
          "metadata": false,
          "name": "#%%\n",
          "is_executing": false
        },
        "id": "rakvzT5XgQjt",
        "colab_type": "code",
        "colab": {}
      },
      "source": [
        "SUB_ID = 'de'\n",
        "from data.utils.fileio import from_neuropype_h5\n",
        "test_file = datadir / 'converted' / 'faces_basic' / (SUB_ID + '_bp.h5')\n",
        "chunks = from_neuropype_h5(test_file)"
      ],
      "execution_count": 0,
      "outputs": []
    },
    {
      "cell_type": "markdown",
      "metadata": {
        "collapsed": false,
        "id": "1ZbG5YwNgQju",
        "colab_type": "text"
      },
      "source": [
        "Let's quickly inspect the data to see what we have.\n"
      ]
    },
    {
      "cell_type": "code",
      "metadata": {
        "pycharm": {
          "metadata": false,
          "name": "#%%\n",
          "is_executing": false
        },
        "id": "crddoI0_gQjv",
        "colab_type": "code",
        "colab": {
          "base_uri": "https://localhost:8080/",
          "height": 136
        },
        "outputId": "c10aca3c-d4a0-405d-d18d-0331bafb5cfa"
      },
      "source": [
        "import pandas as pd\n",
        "\n",
        "# Get the 'signals' chunk\n",
        "chunk_names = [_[0] for _ in chunks]\n",
        "chunk = chunks[chunk_names.index('signals')][1]\n",
        "ax_types = [_['type'] for _ in chunk['axes']]\n",
        "\n",
        "print(\"The 'signals' chunk has data with shape {}.\".format(chunk['data'].shape))\n",
        "print(\"The axes types are {}\".format(ax_types))\n",
        "\n",
        "instance_axis = chunk['axes'][ax_types.index('instance')]\n",
        "print(\"The trial label frequencies are \\n{}\".format(pd.value_counts(instance_axis['data']['Marker'])))"
      ],
      "execution_count": 28,
      "outputs": [
        {
          "output_type": "stream",
          "text": [
            "The 'signals' chunk has data with shape (603, 17, 31).\n",
            "The axes types are ['instance', 'time', 'space']\n",
            "The trial label frequencies are \n",
            "ISI      303\n",
            "face     150\n",
            "house    150\n",
            "Name: Marker, dtype: int64\n"
          ],
          "name": "stdout"
        }
      ]
    },
    {
      "cell_type": "markdown",
      "metadata": {
        "collapsed": false,
        "id": "4y6kGaR9gQjz",
        "colab_type": "text"
      },
      "source": [
        "The data contain 603 trials, with each trial having\n",
        "17 samples in time, and 31 channels.\n",
        "Of the 603 trials, 303 or inter-stimulus intervals, and the remaining\n",
        "300 are split between `face` and `house`.\n",
        "\n",
        "When a data container has more than 2 axes (or dimensions), it is no longer a \"matrix\",\n",
        "it is a \"tensor\". Let's use a tensor-decomposition tool to get a simpler view\n",
        "of the tensor contents.\n"
      ]
    },
    {
      "cell_type": "code",
      "metadata": {
        "pycharm": {
          "name": "#%%\n",
          "is_executing": false
        },
        "id": "bSCkTZE6gQj0",
        "colab_type": "code",
        "colab": {
          "base_uri": "https://localhost:8080/",
          "height": 803
        },
        "outputId": "31c3f4e0-4985-4c61-b170-764f55349f7b"
      },
      "source": [
        "!pip install git+https://github.com/ahwillia/tensortools\n",
        "import tensortools as tt\n",
        "U = tt.cp_als(chunk['data'], rank=3, verbose=True)\n",
        "fig, ax, po = tt.plot_factors(U.factors, plots=['scatter', 'line', 'bar'])"
      ],
      "execution_count": 31,
      "outputs": [
        {
          "output_type": "stream",
          "text": [
            "CP_ALS: iteration 1, objective 0.9883672700046677, improvement inf.\n",
            "CP_ALS: iteration 2, objective 0.949892465209131, improvement 0.03847480479553678.\n",
            "CP_ALS: iteration 3, objective 0.9241502849513975, improvement 0.02574218025773345.\n",
            "CP_ALS: iteration 4, objective 0.9212809312123826, improvement 0.0028693537390148682.\n",
            "CP_ALS: iteration 5, objective 0.9207296193772073, improvement 0.0005513118351753166.\n",
            "CP_ALS: iteration 6, objective 0.92038926351909, improvement 0.00034035585811731384.\n",
            "CP_ALS: iteration 7, objective 0.9200611261569256, improvement 0.0003281373621644157.\n",
            "CP_ALS: iteration 8, objective 0.9197269833986912, improvement 0.0003341427582344014.\n",
            "CP_ALS: iteration 9, objective 0.9194049177769622, improvement 0.0003220656217289841.\n",
            "CP_ALS: iteration 10, objective 0.9191231498986359, improvement 0.0002817678783263444.\n",
            "CP_ALS: iteration 11, objective 0.9188997647674648, improvement 0.00022338513117103886.\n",
            "CP_ALS: iteration 12, objective 0.9187331417425094, improvement 0.0001666230249554035.\n",
            "CP_ALS: iteration 13, objective 0.9186079623667165, improvement 0.0001251793757929276.\n",
            "CP_ALS: iteration 14, objective 0.9185060848689568, improvement 0.00010187749775969479.\n",
            "CP_ALS: iteration 15, objective 0.9184126360091706, improvement 9.344885978623818e-05.\n",
            "CP_ALS: iteration 16, objective 0.9183168995470601, improvement 9.573646211047393e-05.\n",
            "CP_ALS: iteration 17, objective 0.9182110353349677, improvement 0.00010586421209235475.\n",
            "CP_ALS: iteration 18, objective 0.9180886976971541, improvement 0.00012233763781366314.\n",
            "CP_ALS: iteration 19, objective 0.9179443811943881, improvement 0.00014431650276591768.\n",
            "CP_ALS: iteration 20, objective 0.9177738756818995, improvement 0.0001705055124886501.\n",
            "CP_ALS: iteration 21, objective 0.9175760902310068, improvement 0.00019778545089266242.\n",
            "CP_ALS: iteration 22, objective 0.9173558761838088, improvement 0.00022021404719807514.\n",
            "CP_ALS: iteration 23, objective 0.9171258707714112, improvement 0.00023000541239759364.\n",
            "CP_ALS: iteration 24, objective 0.9169043621540939, improvement 0.00022150861731728977.\n",
            "CP_ALS: iteration 25, objective 0.9167089108452471, improvement 0.00019545130884679462.\n",
            "CP_ALS: iteration 26, objective 0.9165501906092293, improvement 0.00015872023601781748.\n",
            "CP_ALS: iteration 27, objective 0.9164302905377029, improvement 0.00011990007152640203.\n",
            "CP_ALS: iteration 28, objective 0.916344993269852, improvement 8.529726785089231e-05.\n",
            "CP_ALS: iteration 29, objective 0.9162871586394419, improvement 5.783463041009185e-05.\n",
            "CP_ALS: iteration 30, objective 0.916249345687493, improvement 3.78129519488235e-05.\n",
            "CP_ALS: iteration 31, objective 0.9162252315340425, improvement 2.411415345060508e-05.\n",
            "CP_ALS: iteration 32, objective 0.9162100653313177, improvement 1.51662027247923e-05.\n",
            "CP_ALS: iteration 33, objective 0.9162005622714905, improvement 9.503059827165039e-06.\n",
            "Converged after 33 iterations, 0.2943610479999279 seconds. Objective: 0.9162005622714905.\n"
          ],
          "name": "stdout"
        },
        {
          "output_type": "display_data",
          "data": {
            "image/png": "[encoded data removed]",
            "text/plain": [
              "<Figure size 576x216 with 9 Axes>"
            ]
          },
          "metadata": {
            "tags": []
          }
        }
      ]
    },
    {
      "cell_type": "markdown",
      "metadata": {
        "collapsed": false,
        "pycharm": {
          "name": "#%% md\n"
        },
        "id": "ehTByzcWgQj3",
        "colab_type": "text"
      },
      "source": [
        "In this plot, each row is a different tensor component and each column is a different axis/dimension.\n",
        "The output changes each time it is run.\n",
        "Look for a component where the 1st column clearly shows two different groups of trials.\n",
        "Then in the 2nd column we can see the time-course of that component, and in the 3rd column we see the channels that contributed to that component.\n",
        "\n",
        "The next cell does the same thing with a slightly better plot, but is for Neuropype users only.\n",
        "As it uses plotly, it won't show up in PyCharm (should be fixed in v2019.2) but it will in a browser."
      ]
    },
    {
      "cell_type": "code",
      "metadata": {
        "pycharm": {
          "name": "#%%\n",
          "is_executing": false
        },
        "id": "xCRdP0bCgQj4",
        "colab_type": "code",
        "colab": {
          "base_uri": "https://localhost:8080/",
          "height": 367
        },
        "outputId": "f07b66c3-9491-47ad-91c3-096581ebaef6"
      },
      "source": [
        "import sys\n",
        "sys.path.append(str(Path.cwd().parent / 'Intheon' / 'cpe'))\n",
        "import neuropype.nodes as nn\n",
        "pkt = nn.ImportH5(filename=str(test_file))()\n",
        "tt_res = nn.TensorDecomposition(num_components=3, aggregate_axes=['instance'])(\n",
        "    data=pkt, return_outputs='all')\n",
        "type_map = {'time': 'lines', 'space': 'bars', 'instance': 'markers'}\n",
        "plt = nn.TensorDecompositionPlot(output_mode='notebook', iv_field='Marker',\n",
        "                                 type_map=type_map)(data=tt_res['model'])"
      ],
      "execution_count": 32,
      "outputs": [
        {
          "output_type": "error",
          "ename": "ModuleNotFoundError",
          "evalue": "ignored",
          "traceback": [
            "\u001b[0;31m---------------------------------------------------------------------------\u001b[0m",
            "\u001b[0;31mModuleNotFoundError\u001b[0m                       Traceback (most recent call last)",
            "\u001b[0;32m<ipython-input-32-35d5e527f238>\u001b[0m in \u001b[0;36m<module>\u001b[0;34m()\u001b[0m\n\u001b[1;32m      1\u001b[0m \u001b[0;32mimport\u001b[0m \u001b[0msys\u001b[0m\u001b[0;34m\u001b[0m\u001b[0;34m\u001b[0m\u001b[0m\n\u001b[1;32m      2\u001b[0m \u001b[0msys\u001b[0m\u001b[0;34m.\u001b[0m\u001b[0mpath\u001b[0m\u001b[0;34m.\u001b[0m\u001b[0mappend\u001b[0m\u001b[0;34m(\u001b[0m\u001b[0mstr\u001b[0m\u001b[0;34m(\u001b[0m\u001b[0mPath\u001b[0m\u001b[0;34m.\u001b[0m\u001b[0mcwd\u001b[0m\u001b[0;34m(\u001b[0m\u001b[0;34m)\u001b[0m\u001b[0;34m.\u001b[0m\u001b[0mparent\u001b[0m \u001b[0;34m/\u001b[0m \u001b[0;34m'Intheon'\u001b[0m \u001b[0;34m/\u001b[0m \u001b[0;34m'cpe'\u001b[0m\u001b[0;34m)\u001b[0m\u001b[0;34m)\u001b[0m\u001b[0;34m\u001b[0m\u001b[0;34m\u001b[0m\u001b[0m\n\u001b[0;32m----> 3\u001b[0;31m \u001b[0;32mimport\u001b[0m \u001b[0mneuropype\u001b[0m\u001b[0;34m.\u001b[0m\u001b[0mnodes\u001b[0m \u001b[0;32mas\u001b[0m \u001b[0mnn\u001b[0m\u001b[0;34m\u001b[0m\u001b[0;34m\u001b[0m\u001b[0m\n\u001b[0m\u001b[1;32m      4\u001b[0m \u001b[0mpkt\u001b[0m \u001b[0;34m=\u001b[0m \u001b[0mnn\u001b[0m\u001b[0;34m.\u001b[0m\u001b[0mImportH5\u001b[0m\u001b[0;34m(\u001b[0m\u001b[0mfilename\u001b[0m\u001b[0;34m=\u001b[0m\u001b[0mstr\u001b[0m\u001b[0;34m(\u001b[0m\u001b[0mtest_file\u001b[0m\u001b[0;34m)\u001b[0m\u001b[0;34m)\u001b[0m\u001b[0;34m(\u001b[0m\u001b[0;34m)\u001b[0m\u001b[0;34m\u001b[0m\u001b[0;34m\u001b[0m\u001b[0m\n\u001b[1;32m      5\u001b[0m tt_res = nn.TensorDecomposition(num_components=3, aggregate_axes=['instance'])(\n",
            "\u001b[0;31mModuleNotFoundError\u001b[0m: No module named 'neuropype'",
            "",
            "\u001b[0;31m---------------------------------------------------------------------------\u001b[0;32m\nNOTE: If your import is failing due to a missing package, you can\nmanually install dependencies using either !pip or !apt.\n\nTo view examples of installing some common dependencies, click the\n\"Open Examples\" button below.\n\u001b[0;31m---------------------------------------------------------------------------\u001b[0m\n"
          ]
        }
      ]
    },
    {
      "cell_type": "markdown",
      "metadata": {
        "id": "8gX1TYuXmbSp",
        "colab_type": "text"
      },
      "source": [
        "Let's try to classify these data using simple / shallow machine learning.\n",
        "We'll use the excellent scikit-learn Python package.\n",
        "\n",
        "https://scikit-learn.org/stable/modules/lda_qda.html"
      ]
    },
    {
      "cell_type": "code",
      "metadata": {
        "id": "s5Oltsz2nshd",
        "colab_type": "code",
        "colab": {
          "base_uri": "https://localhost:8080/",
          "height": 54
        },
        "outputId": "15b710d4-ed61-433f-b7b4-44c1895cdf76"
      },
      "source": [
        "from sklearn.discriminant_analysis import LinearDiscriminantAnalysis as LDA\n",
        "from sklearn.model_selection import LeaveOneOut as LOO\n",
        "from sklearn.model_selection import cross_val_score\n",
        "\n",
        "X = chunk['data'].reshape((chunk['data'].shape[0], -1))\n",
        "y = instance_axis['data']['Marker'].values\n",
        "lda = LDA(shrinkage='auto', solver='eigen')\n",
        "loo = LOO()\n",
        "\n",
        "test_fold_predictions = []\n",
        "for trn, tst in loo.split(X):\n",
        "    lda.fit(X[trn], y[trn])\n",
        "    test_fold_predictions.append(lda.predict(X[tst]))\n",
        "\n",
        "y_preds = [_[0] for _ in test_fold_predictions]"
      ],
      "execution_count": 42,
      "outputs": [
        {
          "output_type": "stream",
          "text": [
            "[array(['face'], dtype='<U5'), array(['house'], dtype='<U5'), array(['ISI'], dtype='<U5'), array(['face'], dtype='<U5'), array(['ISI'], dtype='<U5'), array(['face'], dtype='<U5'), array(['ISI'], dtype='<U5'), array(['face'], dtype='<U5'), array(['ISI'], dtype='<U5'), array(['house'], dtype='<U5'), array(['ISI'], dtype='<U5'), array(['house'], dtype='<U5'), array(['ISI'], dtype='<U5'), array(['house'], dtype='<U5'), array(['ISI'], dtype='<U5'), array(['house'], dtype='<U5'), array(['ISI'], dtype='<U5'), array(['house'], dtype='<U5'), array(['ISI'], dtype='<U5'), array(['house'], dtype='<U5'), array(['ISI'], dtype='<U5'), array(['face'], dtype='<U5'), array(['ISI'], dtype='<U5'), array(['house'], dtype='<U5'), array(['ISI'], dtype='<U5'), array(['house'], dtype='<U5'), array(['ISI'], dtype='<U5'), array(['face'], dtype='<U5'), array(['ISI'], dtype='<U5'), array(['house'], dtype='<U5'), array(['ISI'], dtype='<U5'), array(['face'], dtype='<U5'), array(['ISI'], dtype='<U5'), array(['house'], dtype='<U5'), array(['ISI'], dtype='<U5'), array(['face'], dtype='<U5'), array(['ISI'], dtype='<U5'), array(['face'], dtype='<U5'), array(['ISI'], dtype='<U5'), array(['house'], dtype='<U5'), array(['ISI'], dtype='<U5'), array(['house'], dtype='<U5'), array(['ISI'], dtype='<U5'), array(['house'], dtype='<U5'), array(['ISI'], dtype='<U5'), array(['face'], dtype='<U5'), array(['ISI'], dtype='<U5'), array(['face'], dtype='<U5'), array(['ISI'], dtype='<U5'), array(['house'], dtype='<U5'), array(['ISI'], dtype='<U5'), array(['house'], dtype='<U5'), array(['ISI'], dtype='<U5'), array(['face'], dtype='<U5'), array(['ISI'], dtype='<U5'), array(['face'], dtype='<U5'), array(['ISI'], dtype='<U5'), array(['house'], dtype='<U5'), array(['ISI'], dtype='<U5'), array(['house'], dtype='<U5'), array(['ISI'], dtype='<U5'), array(['face'], dtype='<U5'), array(['ISI'], dtype='<U5'), array(['house'], dtype='<U5'), array(['ISI'], dtype='<U5'), array(['face'], dtype='<U5'), array(['ISI'], dtype='<U5'), array(['face'], dtype='<U5'), array(['ISI'], dtype='<U5'), array(['house'], dtype='<U5'), array(['ISI'], dtype='<U5'), array(['face'], dtype='<U5'), array(['ISI'], dtype='<U5'), array(['face'], dtype='<U5'), array(['ISI'], dtype='<U5'), array(['face'], dtype='<U5'), array(['ISI'], dtype='<U5'), array(['face'], dtype='<U5'), array(['ISI'], dtype='<U5'), array(['face'], dtype='<U5'), array(['ISI'], dtype='<U5'), array(['face'], dtype='<U5'), array(['ISI'], dtype='<U5'), array(['face'], dtype='<U5'), array(['ISI'], dtype='<U5'), array(['house'], dtype='<U5'), array(['ISI'], dtype='<U5'), array(['face'], dtype='<U5'), array(['ISI'], dtype='<U5'), array(['face'], dtype='<U5'), array(['ISI'], dtype='<U5'), array(['house'], dtype='<U5'), array(['ISI'], dtype='<U5'), array(['face'], dtype='<U5'), array(['ISI'], dtype='<U5'), array(['house'], dtype='<U5'), array(['ISI'], dtype='<U5'), array(['house'], dtype='<U5'), array(['ISI'], dtype='<U5'), array(['house'], dtype='<U5'), array(['ISI'], dtype='<U5'), array(['house'], dtype='<U5'), array(['ISI'], dtype='<U5'), array(['house'], dtype='<U5'), array(['ISI'], dtype='<U5'), array(['house'], dtype='<U5'), array(['ISI'], dtype='<U5'), array(['face'], dtype='<U5'), array(['ISI'], dtype='<U5'), array(['face'], dtype='<U5'), array(['ISI'], dtype='<U5'), array(['house'], dtype='<U5'), array(['ISI'], dtype='<U5'), array(['face'], dtype='<U5'), array(['ISI'], dtype='<U5'), array(['house'], dtype='<U5'), array(['ISI'], dtype='<U5'), array(['house'], dtype='<U5'), array(['ISI'], dtype='<U5'), array(['house'], dtype='<U5'), array(['ISI'], dtype='<U5'), array(['house'], dtype='<U5'), array(['ISI'], dtype='<U5'), array(['face'], dtype='<U5'), array(['ISI'], dtype='<U5'), array(['house'], dtype='<U5'), array(['ISI'], dtype='<U5'), array(['face'], dtype='<U5'), array(['ISI'], dtype='<U5'), array(['face'], dtype='<U5'), array(['ISI'], dtype='<U5'), array(['face'], dtype='<U5'), array(['ISI'], dtype='<U5'), array(['house'], dtype='<U5'), array(['ISI'], dtype='<U5'), array(['house'], dtype='<U5'), array(['ISI'], dtype='<U5'), array(['house'], dtype='<U5'), array(['ISI'], dtype='<U5'), array(['face'], dtype='<U5'), array(['ISI'], dtype='<U5'), array(['face'], dtype='<U5'), array(['ISI'], dtype='<U5'), array(['face'], dtype='<U5'), array(['ISI'], dtype='<U5'), array(['house'], dtype='<U5'), array(['ISI'], dtype='<U5'), array(['house'], dtype='<U5'), array(['ISI'], dtype='<U5'), array(['face'], dtype='<U5'), array(['ISI'], dtype='<U5'), array(['house'], dtype='<U5'), array(['ISI'], dtype='<U5'), array(['house'], dtype='<U5'), array(['ISI'], dtype='<U5'), array(['house'], dtype='<U5'), array(['ISI'], dtype='<U5'), array(['house'], dtype='<U5'), array(['ISI'], dtype='<U5'), array(['house'], dtype='<U5'), array(['ISI'], dtype='<U5'), array(['house'], dtype='<U5'), array(['ISI'], dtype='<U5'), array(['face'], dtype='<U5'), array(['ISI'], dtype='<U5'), array(['face'], dtype='<U5'), array(['ISI'], dtype='<U5'), array(['face'], dtype='<U5'), array(['ISI'], dtype='<U5'), array(['face'], dtype='<U5'), array(['ISI'], dtype='<U5'), array(['face'], dtype='<U5'), array(['ISI'], dtype='<U5'), array(['face'], dtype='<U5'), array(['ISI'], dtype='<U5'), array(['face'], dtype='<U5'), array(['ISI'], dtype='<U5'), array(['house'], dtype='<U5'), array(['ISI'], dtype='<U5'), array(['face'], dtype='<U5'), array(['ISI'], dtype='<U5'), array(['house'], dtype='<U5'), array(['ISI'], dtype='<U5'), array(['house'], dtype='<U5'), array(['ISI'], dtype='<U5'), array(['face'], dtype='<U5'), array(['ISI'], dtype='<U5'), array(['face'], dtype='<U5'), array(['ISI'], dtype='<U5'), array(['house'], dtype='<U5'), array(['ISI'], dtype='<U5'), array(['house'], dtype='<U5'), array(['ISI'], dtype='<U5'), array(['face'], dtype='<U5'), array(['ISI'], dtype='<U5'), array(['ISI'], dtype='<U5'), array(['house'], dtype='<U5'), array(['house'], dtype='<U5'), array(['ISI'], dtype='<U5'), array(['house'], dtype='<U5'), array(['ISI'], dtype='<U5'), array(['ISI'], dtype='<U5'), array(['house'], dtype='<U5'), array(['ISI'], dtype='<U5'), array(['face'], dtype='<U5'), array(['ISI'], dtype='<U5'), array(['face'], dtype='<U5'), array(['ISI'], dtype='<U5'), array(['face'], dtype='<U5'), array(['ISI'], dtype='<U5'), array(['house'], dtype='<U5'), array(['ISI'], dtype='<U5'), array(['face'], dtype='<U5'), array(['ISI'], dtype='<U5'), array(['house'], dtype='<U5'), array(['ISI'], dtype='<U5'), array(['face'], dtype='<U5'), array(['ISI'], dtype='<U5'), array(['house'], dtype='<U5'), array(['ISI'], dtype='<U5'), array(['house'], dtype='<U5'), array(['ISI'], dtype='<U5'), array(['house'], dtype='<U5'), array(['ISI'], dtype='<U5'), array(['house'], dtype='<U5'), array(['ISI'], dtype='<U5'), array(['house'], dtype='<U5'), array(['ISI'], dtype='<U5'), array(['face'], dtype='<U5'), array(['ISI'], dtype='<U5'), array(['house'], dtype='<U5'), array(['ISI'], dtype='<U5'), array(['face'], dtype='<U5'), array(['ISI'], dtype='<U5'), array(['house'], dtype='<U5'), array(['ISI'], dtype='<U5'), array(['face'], dtype='<U5'), array(['ISI'], dtype='<U5'), array(['face'], dtype='<U5'), array(['ISI'], dtype='<U5'), array(['house'], dtype='<U5'), array(['ISI'], dtype='<U5'), array(['house'], dtype='<U5'), array(['ISI'], dtype='<U5'), array(['house'], dtype='<U5'), array(['ISI'], dtype='<U5'), array(['face'], dtype='<U5'), array(['ISI'], dtype='<U5'), array(['face'], dtype='<U5'), array(['ISI'], dtype='<U5'), array(['house'], dtype='<U5'), array(['ISI'], dtype='<U5'), array(['house'], dtype='<U5'), array(['ISI'], dtype='<U5'), array(['face'], dtype='<U5'), array(['ISI'], dtype='<U5'), array(['face'], dtype='<U5'), array(['ISI'], dtype='<U5'), array(['house'], dtype='<U5'), array(['ISI'], dtype='<U5'), array(['house'], dtype='<U5'), array(['ISI'], dtype='<U5'), array(['face'], dtype='<U5'), array(['ISI'], dtype='<U5'), array(['house'], dtype='<U5'), array(['ISI'], dtype='<U5'), array(['face'], dtype='<U5'), array(['ISI'], dtype='<U5'), array(['face'], dtype='<U5'), array(['ISI'], dtype='<U5'), array(['house'], dtype='<U5'), array(['ISI'], dtype='<U5'), array(['face'], dtype='<U5'), array(['ISI'], dtype='<U5'), array(['face'], dtype='<U5'), array(['ISI'], dtype='<U5'), array(['face'], dtype='<U5'), array(['ISI'], dtype='<U5'), array(['face'], dtype='<U5'), array(['ISI'], dtype='<U5'), array(['face'], dtype='<U5'), array(['ISI'], dtype='<U5'), array(['face'], dtype='<U5'), array(['ISI'], dtype='<U5'), array(['face'], dtype='<U5'), array(['ISI'], dtype='<U5'), array(['house'], dtype='<U5'), array(['ISI'], dtype='<U5'), array(['face'], dtype='<U5'), array(['ISI'], dtype='<U5'), array(['face'], dtype='<U5'), array(['ISI'], dtype='<U5'), array(['house'], dtype='<U5'), array(['ISI'], dtype='<U5'), array(['face'], dtype='<U5'), array(['ISI'], dtype='<U5'), array(['house'], dtype='<U5'), array(['ISI'], dtype='<U5'), array(['house'], dtype='<U5'), array(['ISI'], dtype='<U5'), array(['house'], dtype='<U5'), array(['ISI'], dtype='<U5'), array(['face'], dtype='<U5'), array(['ISI'], dtype='<U5'), array(['house'], dtype='<U5'), array(['ISI'], dtype='<U5'), array(['house'], dtype='<U5'), array(['ISI'], dtype='<U5'), array(['house'], dtype='<U5'), array(['ISI'], dtype='<U5'), array(['face'], dtype='<U5'), array(['ISI'], dtype='<U5'), array(['house'], dtype='<U5'), array(['ISI'], dtype='<U5'), array(['face'], dtype='<U5'), array(['ISI'], dtype='<U5'), array(['house'], dtype='<U5'), array(['ISI'], dtype='<U5'), array(['house'], dtype='<U5'), array(['ISI'], dtype='<U5'), array(['house'], dtype='<U5'), array(['ISI'], dtype='<U5'), array(['face'], dtype='<U5'), array(['ISI'], dtype='<U5'), array(['face'], dtype='<U5'), array(['ISI'], dtype='<U5'), array(['house'], dtype='<U5'), array(['ISI'], dtype='<U5'), array(['face'], dtype='<U5'), array(['ISI'], dtype='<U5'), array(['face'], dtype='<U5'), array(['ISI'], dtype='<U5'), array(['face'], dtype='<U5'), array(['ISI'], dtype='<U5'), array(['house'], dtype='<U5'), array(['ISI'], dtype='<U5'), array(['house'], dtype='<U5'), array(['ISI'], dtype='<U5'), array(['house'], dtype='<U5'), array(['ISI'], dtype='<U5'), array(['face'], dtype='<U5'), array(['ISI'], dtype='<U5'), array(['face'], dtype='<U5'), array(['ISI'], dtype='<U5'), array(['face'], dtype='<U5'), array(['ISI'], dtype='<U5'), array(['house'], dtype='<U5'), array(['ISI'], dtype='<U5'), array(['house'], dtype='<U5'), array(['ISI'], dtype='<U5'), array(['face'], dtype='<U5'), array(['ISI'], dtype='<U5'), array(['house'], dtype='<U5'), array(['ISI'], dtype='<U5'), array(['house'], dtype='<U5'), array(['ISI'], dtype='<U5'), array(['house'], dtype='<U5'), array(['ISI'], dtype='<U5'), array(['house'], dtype='<U5'), array(['ISI'], dtype='<U5'), array(['house'], dtype='<U5'), array(['ISI'], dtype='<U5'), array(['house'], dtype='<U5'), array(['ISI'], dtype='<U5'), array(['face'], dtype='<U5'), array(['ISI'], dtype='<U5'), array(['house'], dtype='<U5'), array(['ISI'], dtype='<U5'), array(['face'], dtype='<U5'), array(['ISI'], dtype='<U5'), array(['face'], dtype='<U5'), array(['ISI'], dtype='<U5'), array(['face'], dtype='<U5'), array(['ISI'], dtype='<U5'), array(['face'], dtype='<U5'), array(['ISI'], dtype='<U5'), array(['face'], dtype='<U5'), array(['ISI'], dtype='<U5'), array(['house'], dtype='<U5'), array(['ISI'], dtype='<U5'), array(['face'], dtype='<U5'), array(['ISI'], dtype='<U5'), array(['house'], dtype='<U5'), array(['ISI'], dtype='<U5'), array(['house'], dtype='<U5'), array(['ISI'], dtype='<U5'), array(['face'], dtype='<U5'), array(['ISI'], dtype='<U5'), array(['face'], dtype='<U5'), array(['ISI'], dtype='<U5'), array(['house'], dtype='<U5'), array(['ISI'], dtype='<U5'), array(['house'], dtype='<U5'), array(['ISI'], dtype='<U5'), array(['face'], dtype='<U5'), array(['ISI'], dtype='<U5'), array(['face'], dtype='<U5'), array(['ISI'], dtype='<U5'), array(['house'], dtype='<U5'), array(['ISI'], dtype='<U5'), array(['house'], dtype='<U5'), array(['ISI'], dtype='<U5'), array(['house'], dtype='<U5'), array(['face'], dtype='<U5'), array(['ISI'], dtype='<U5'), array(['face'], dtype='<U5'), array(['ISI'], dtype='<U5'), array(['face'], dtype='<U5'), array(['ISI'], dtype='<U5'), array(['face'], dtype='<U5'), array(['ISI'], dtype='<U5'), array(['house'], dtype='<U5'), array(['ISI'], dtype='<U5'), array(['face'], dtype='<U5'), array(['ISI'], dtype='<U5'), array(['house'], dtype='<U5'), array(['ISI'], dtype='<U5'), array(['face'], dtype='<U5'), array(['ISI'], dtype='<U5'), array(['house'], dtype='<U5'), array(['ISI'], dtype='<U5'), array(['house'], dtype='<U5'), array(['ISI'], dtype='<U5'), array(['face'], dtype='<U5'), array(['ISI'], dtype='<U5'), array(['house'], dtype='<U5'), array(['ISI'], dtype='<U5'), array(['house'], dtype='<U5'), array(['ISI'], dtype='<U5'), array(['face'], dtype='<U5'), array(['ISI'], dtype='<U5'), array(['house'], dtype='<U5'), array(['ISI'], dtype='<U5'), array(['face'], dtype='<U5'), array(['ISI'], dtype='<U5'), array(['house'], dtype='<U5'), array(['ISI'], dtype='<U5'), array(['face'], dtype='<U5'), array(['ISI'], dtype='<U5'), array(['face'], dtype='<U5'), array(['ISI'], dtype='<U5'), array(['house'], dtype='<U5'), array(['ISI'], dtype='<U5'), array(['house'], dtype='<U5'), array(['ISI'], dtype='<U5'), array(['house'], dtype='<U5'), array(['ISI'], dtype='<U5'), array(['face'], dtype='<U5'), array(['ISI'], dtype='<U5'), array(['face'], dtype='<U5'), array(['ISI'], dtype='<U5'), array(['house'], dtype='<U5'), array(['ISI'], dtype='<U5'), array(['house'], dtype='<U5'), array(['ISI'], dtype='<U5'), array(['face'], dtype='<U5'), array(['ISI'], dtype='<U5'), array(['face'], dtype='<U5'), array(['ISI'], dtype='<U5'), array(['house'], dtype='<U5'), array(['ISI'], dtype='<U5'), array(['house'], dtype='<U5'), array(['ISI'], dtype='<U5'), array(['face'], dtype='<U5'), array(['ISI'], dtype='<U5'), array(['house'], dtype='<U5'), array(['ISI'], dtype='<U5'), array(['face'], dtype='<U5'), array(['ISI'], dtype='<U5'), array(['face'], dtype='<U5'), array(['ISI'], dtype='<U5'), array(['house'], dtype='<U5'), array(['ISI'], dtype='<U5'), array(['face'], dtype='<U5'), array(['ISI'], dtype='<U5'), array(['face'], dtype='<U5'), array(['ISI'], dtype='<U5'), array(['face'], dtype='<U5'), array(['ISI'], dtype='<U5'), array(['face'], dtype='<U5'), array(['ISI'], dtype='<U5'), array(['face'], dtype='<U5'), array(['ISI'], dtype='<U5'), array(['face'], dtype='<U5'), array(['ISI'], dtype='<U5'), array(['face'], dtype='<U5'), array(['ISI'], dtype='<U5'), array(['house'], dtype='<U5'), array(['ISI'], dtype='<U5'), array(['face'], dtype='<U5'), array(['ISI'], dtype='<U5'), array(['face'], dtype='<U5'), array(['ISI'], dtype='<U5'), array(['house'], dtype='<U5'), array(['ISI'], dtype='<U5'), array(['face'], dtype='<U5'), array(['ISI'], dtype='<U5'), array(['house'], dtype='<U5'), array(['ISI'], dtype='<U5'), array(['house'], dtype='<U5'), array(['ISI'], dtype='<U5'), array(['house'], dtype='<U5'), array(['ISI'], dtype='<U5'), array(['face'], dtype='<U5'), array(['ISI'], dtype='<U5'), array(['house'], dtype='<U5'), array(['ISI'], dtype='<U5'), array(['house'], dtype='<U5'), array(['ISI'], dtype='<U5'), array(['house'], dtype='<U5'), array(['ISI'], dtype='<U5'), array(['face'], dtype='<U5'), array(['ISI'], dtype='<U5'), array(['house'], dtype='<U5'), array(['ISI'], dtype='<U5'), array(['face'], dtype='<U5'), array(['ISI'], dtype='<U5'), array(['house'], dtype='<U5'), array(['ISI'], dtype='<U5'), array(['house'], dtype='<U5'), array(['ISI'], dtype='<U5'), array(['house'], dtype='<U5'), array(['ISI'], dtype='<U5'), array(['house'], dtype='<U5'), array(['ISI'], dtype='<U5'), array(['face'], dtype='<U5'), array(['ISI'], dtype='<U5'), array(['house'], dtype='<U5'), array(['ISI'], dtype='<U5'), array(['face'], dtype='<U5'), array(['ISI'], dtype='<U5'), array(['house'], dtype='<U5'), array(['ISI'], dtype='<U5'), array(['face'], dtype='<U5'), array(['ISI'], dtype='<U5'), array(['house'], dtype='<U5'), array(['ISI'], dtype='<U5'), array(['house'], dtype='<U5'), array(['ISI'], dtype='<U5'), array(['house'], dtype='<U5'), array(['ISI'], dtype='<U5'), array(['face'], dtype='<U5'), array(['ISI'], dtype='<U5'), array(['face'], dtype='<U5'), array(['ISI'], dtype='<U5'), array(['face'], dtype='<U5'), array(['ISI'], dtype='<U5'), array(['house'], dtype='<U5'), array(['ISI'], dtype='<U5'), array(['house'], dtype='<U5'), array(['ISI'], dtype='<U5'), array(['face'], dtype='<U5'), array(['ISI'], dtype='<U5'), array(['face'], dtype='<U5'), array(['ISI'], dtype='<U5'), array(['house'], dtype='<U5'), array(['ISI'], dtype='<U5'), array(['house'], dtype='<U5'), array(['ISI'], dtype='<U5'), array(['house'], dtype='<U5'), array(['ISI'], dtype='<U5'), array(['house'], dtype='<U5'), array(['ISI'], dtype='<U5'), array(['house'], dtype='<U5'), array(['ISI'], dtype='<U5'), array(['face'], dtype='<U5'), array(['ISI'], dtype='<U5'), array(['face'], dtype='<U5'), array(['ISI'], dtype='<U5'), array(['face'], dtype='<U5'), array(['ISI'], dtype='<U5'), array(['face'], dtype='<U5'), array(['ISI'], dtype='<U5'), array(['face'], dtype='<U5'), array(['ISI'], dtype='<U5'), array(['face'], dtype='<U5'), array(['ISI'], dtype='<U5'), array(['face'], dtype='<U5'), array(['ISI'], dtype='<U5'), array(['house'], dtype='<U5'), array(['ISI'], dtype='<U5'), array(['face'], dtype='<U5'), array(['ISI'], dtype='<U5'), array(['house'], dtype='<U5'), array(['ISI'], dtype='<U5'), array(['house'], dtype='<U5'), array(['ISI'], dtype='<U5'), array(['face'], dtype='<U5'), array(['ISI'], dtype='<U5'), array(['face'], dtype='<U5'), array(['ISI'], dtype='<U5'), array(['house'], dtype='<U5'), array(['ISI'], dtype='<U5'), array(['face'], dtype='<U5'), array(['ISI'], dtype='<U5'), array(['face'], dtype='<U5'), array(['ISI'], dtype='<U5'), array(['face'], dtype='<U5'), array(['ISI'], dtype='<U5'), array(['house'], dtype='<U5'), array(['ISI'], dtype='<U5'), array(['house'], dtype='<U5'), array(['ISI'], dtype='<U5')]\n"
          ],
          "name": "stdout"
        }
      ]
    },
    {
      "cell_type": "code",
      "metadata": {
        "id": "R4BJ8PCdtoPm",
        "colab_type": "code",
        "colab": {
          "base_uri": "https://localhost:8080/",
          "height": 453
        },
        "outputId": "1a6c3dc1-de18-487c-f0a0-583d0f7cce3a"
      },
      "source": [
        "from sklearn.metrics import confusion_matrix\n",
        "from sklearn.utils.multiclass import unique_labels\n",
        "import matplotlib.pyplot as plt\n",
        "\n",
        "classes = unique_labels(y, y_preds)\n",
        "cm = confusion_matrix(y, y_preds)\n",
        "cm = cm.astype('float') / cm.sum(axis=1)[:, np.newaxis]  # Normalize\n",
        "fig, ax = plt.subplots()\n",
        "im = ax.imshow(cm, interpolation='nearest')\n",
        "ax.figure.colorbar(im, ax=ax)\n",
        "# We want to show all ticks...\n",
        "ax.set(xticks=np.arange(cm.shape[1]),\n",
        "      yticks=np.arange(cm.shape[0]),\n",
        "      # ... and label them with the respective list entries\n",
        "      xticklabels=classes, yticklabels=classes,\n",
        "      ylabel='True label',\n",
        "      xlabel='Predicted label')"
      ],
      "execution_count": 52,
      "outputs": [
        {
          "output_type": "execute_result",
          "data": {
            "text/plain": [
              "[[<matplotlib.axis.YTick at 0x7f02139fbd68>,\n",
              "  <matplotlib.axis.YTick at 0x7f02139fb6a0>,\n",
              "  <matplotlib.axis.YTick at 0x7f02139f66a0>],\n",
              " [Text(0, 0, 'ISI'), Text(0, 0, 'face'), Text(0, 0, 'house')],\n",
              " Text(0, 0.5, 'True label'),\n",
              " [<matplotlib.axis.XTick at 0x7f02139fb048>,\n",
              "  <matplotlib.axis.XTick at 0x7f02139f6940>,\n",
              "  <matplotlib.axis.XTick at 0x7f02139f6668>],\n",
              " [Text(0, 0, 'ISI'), Text(0, 0, 'face'), Text(0, 0, 'house')],\n",
              " Text(0.5, 0, 'Predicted label')]"
            ]
          },
          "metadata": {
            "tags": []
          },
          "execution_count": 52
        },
        {
          "output_type": "display_data",
          "data": {
            "image/png": "[encoded data removed]",
            "text/plain": [
              "<Figure size 432x288 with 2 Axes>"
            ]
          },
          "metadata": {
            "tags": []
          }
        }
      ]
    }
  ]
}