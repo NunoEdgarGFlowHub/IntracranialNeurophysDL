{
 "cells": [
  {
   "cell_type": "markdown",
   "metadata": {
    "colab_type": "text",
    "collapsed": true,
    "id": "P7sX-B4aUbRN",
    "pycharm": {
     "name": "#%% md\n"
    }
   },
   "source": [
    "# Introduction to RNNs\n",
    "This notebook is part of the [SachsLab Workshop for Intracranial Neurophysiology and Deep Learning](https://github.com/SachsLab/IntracranialNeurophysDL).\n",
    "\n",
    "### Normalize Environments\n",
    "Run the first two cells to normalize Local / Colab environments, then proceed below for the lesson.\n",
    "\n",
    "<table class=\"tfo-notebook-buttons\" align=\"left\">\n",
    "  <td>\n",
    "    <a target=\"_blank\" href=\"https://colab.research.google.com/github/SachsLab/IntracranialNeurophysDL/blob/master/notebooks/05_01_intro_to_RNNs.ipynb\"><img src=\"https://www.tensorflow.org/images/colab_logo_32px.png\" />Run in Google Colab</a>\n",
    "  </td>\n",
    "  <td>\n",
    "    <a target=\"_blank\" href=\"https://github.com/SachsLab/IntracranialNeurophysDL/blob/master/notebooks/05_01_intro_to_RNNs.ipynb\"><img src=\"https://www.tensorflow.org/images/GitHub-Mark-32px.png\" />View source on GitHub</a>\n",
    "  </td>\n",
    "</table>"
   ]
  },
  {
   "cell_type": "code",
   "execution_count": 0,
   "metadata": {
    "colab": {},
    "colab_type": "code",
    "id": "rXM9gHqLUbRP",
    "pycharm": {
     "is_executing": false,
     "name": "#%%\n"
    }
   },
   "outputs": [],
   "source": [
    "%load_ext autoreload\n",
    "%autoreload 2"
   ]
  },
  {
   "cell_type": "code",
   "execution_count": 2,
   "metadata": {
    "colab": {
     "base_uri": "https://localhost:8080/",
     "height": 87
    },
    "colab_type": "code",
    "id": "aL4QcKd5UbRT",
    "outputId": "f0999821-0e3c-4e1a-c605-c793f3fee6a0",
    "pycharm": {
     "is_executing": false,
     "name": "#%%\n"
    }
   },
   "outputs": [
    {
     "name": "stdout",
     "output_type": "stream",
     "text": [
      "\u001b[K     |████████████████████████████████| 332.1MB 59kB/s \n",
      "\u001b[K     |████████████████████████████████| 61kB 22.8MB/s \n",
      "\u001b[K     |████████████████████████████████| 3.0MB 37.7MB/s \n",
      "\u001b[K     |████████████████████████████████| 419kB 39.4MB/s \n",
      "\u001b[?25h"
     ]
    }
   ],
   "source": [
    "from pathlib import Path\n",
    "import os\n",
    "try:\n",
    "    # See if we are running on google.colab\n",
    "    import google.colab\n",
    "    IN_COLAB = True\n",
    "    # Setup tensorflow 2.0\n",
    "    !pip install -q tensorflow-gpu==2.0.0-beta0\n",
    "except ModuleNotFoundError:\n",
    "    IN_COLAB = False\n",
    "    import sys\n",
    "    if Path.cwd().stem == 'notebooks':\n",
    "        os.chdir(Path.cwd().parent)\n",
    "# Common imports\n",
    "import numpy as np\n",
    "import tensorflow as tf\n",
    "import matplotlib.pyplot as plt\n",
    "%matplotlib inline"
   ]
  },
  {
   "cell_type": "markdown",
   "metadata": {
    "colab_type": "text",
    "id": "k9Og3lOfUbRV",
    "pycharm": {
     "name": "#%% md\n"
    }
   },
   "source": [
    "## RNN Step-by-Step\n",
    "A recurrent neural network (RNN) is an artificial neural network that maintains an internal state (memory)\n",
    "as it processes items in a sequence. RNNs are most often applied to sequence data such as text\n",
    "(sequences of characters; sequences of words) or time series (e.g., stock prices, weather data, neurophysiology).\n",
    "RNNs can provide an output at each step of the sequence to predict different sequences (e.g., text translation) or\n",
    "the next item in the same sequence (e.g., assistive typing, stock prediction, prosthetic control).\n",
    "The loss does not back-propagate to update weights until the sequence is complete. RNNs can also be configured\n",
    "to produce a single output at the end of a sequence (e.g., classify a tweet sentiment, decode categorical intention).\n",
    "\n",
    "We will create our own RNN step-by-step. We will train it using toy data that we generate."
   ]
  },
  {
   "cell_type": "markdown",
   "metadata": {
    "colab_type": "text",
    "id": "_DAvkmycUbRV",
    "pycharm": {
     "name": "#%% md\n"
    }
   },
   "source": [
    "### Generate data\n",
    "X is a multi-channel time series and Y is a different multi-channel time series\n",
    "constructed from a linear combination of a delayed version of X."
   ]
  },
  {
   "cell_type": "code",
   "execution_count": 0,
   "metadata": {
    "colab": {},
    "colab_type": "code",
    "id": "kA9Fqu_qUbRW",
    "pycharm": {
     "is_executing": false,
     "name": "#%%\n"
    }
   },
   "outputs": [],
   "source": [
    "PEAK_FREQS = [10, 22, 75]  # Hz\n",
    "FS = 1000.0  # Hz\n",
    "DURATION = 5.0  # seconds\n",
    "DELAY = 0.01  # seconds\n",
    "N_OUT = 2  # Y dimensions\n",
    "\n",
    "n_samples = int(DURATION * FS)\n",
    "delay_samples = int(DELAY * FS)\n",
    "t_vec = np.arange(n_samples + delay_samples) / FS\n",
    "\n",
    "X = np.zeros((n_samples + delay_samples, len(PEAK_FREQS)), dtype=np.float32)\n",
    "for chan_ix, pf in enumerate(PEAK_FREQS):\n",
    "    X[:, chan_ix] = (1 / (chan_ix + 1) ) * np.sin(t_vec * 2 * np.pi * pf)\n",
    "\n",
    "# Create mixing matrix that mixes inputs into outputs\n",
    "W = 2 * np.random.rand(N_OUT, len(PEAK_FREQS)) - 1\n",
    "# W = W / np.sum(W, axis=1, keepdims=True)\n",
    "\n",
    "b = np.random.rand(N_OUT) - 0.5\n",
    "\n",
    "Y = W @ X[:-delay_samples, :].T + b[:, None]\n",
    "Y = Y.T\n",
    "X = X[delay_samples:, :]\n",
    "t_vec = t_vec[delay_samples:]\n",
    "\n",
    "X += 0.05*np.random.rand(*X.shape)\n",
    "Y += 0.05*np.random.rand(*Y.shape)"
   ]
  },
  {
   "cell_type": "code",
   "execution_count": 4,
   "metadata": {
    "colab": {
     "base_uri": "https://localhost:8080/",
     "height": 269
    },
    "colab_type": "code",
    "id": "A4PXkiSEUbRY",
    "outputId": "eaf181ba-4a70-4a28-89f9-b5f468148be1",
    "pycharm": {
     "is_executing": false,
     "name": "#%%\n"
    }
   },
   "outputs": [
    {
     "data": {
      "image/png": "[encoded data removed]",
      "text/plain": [
       "<Figure size 432x288 with 1 Axes>"
      ]
     },
     "metadata": {
      "tags": []
     },
     "output_type": "display_data"
    }
   ],
   "source": [
    "plt.plot(t_vec[:100], X[:100, :])\n",
    "plt.plot(t_vec[:100], Y[:100, :], 'k')\n",
    "plt.show()"
   ]
  },
  {
   "cell_type": "markdown",
   "metadata": {
    "colab_type": "text",
    "id": "8ymuKRXPUbRc",
    "pycharm": {
     "name": "#%% md\n"
    }
   },
   "source": [
    "### Define forward pass and loss\n",
    "We aren't actually going to run this next cell.\n",
    "This is just to give you an indication of what the forward pass looks like."
   ]
  },
  {
   "cell_type": "code",
   "execution_count": 10,
   "metadata": {
    "colab": {
     "base_uri": "https://localhost:8080/",
     "height": 35
    },
    "colab_type": "code",
    "id": "spnNLauUUbRd",
    "outputId": "595f796f-e37a-4a3e-8eca-7da000931293",
    "pycharm": {
     "is_executing": false,
     "name": "#%%\n"
    }
   },
   "outputs": [
    {
     "name": "stdout",
     "output_type": "stream",
     "text": [
      "2.458000063060051e+159\n"
     ]
    }
   ],
   "source": [
    "activation_fn = lambda x: x\n",
    "# activation_fn = np.tanh\n",
    "state_t = np.zeros((N_OUT,))\n",
    "_W = np.random.random((N_OUT, X.shape[1]))  # Mixes input with output\n",
    "_U = np.random.random((N_OUT, N_OUT))       # Mixes old state with output\n",
    "_b = np.random.random((N_OUT,))             # Bias term\n",
    "successive_outputs = []\n",
    "for x_t in X:\n",
    "    y_t = activation_fn(np.dot(_W, x_t) + np.dot(_U, state_t) + _b)\n",
    "    successive_outputs.append(y_t)\n",
    "    state_t = y_t\n",
    "final_output_sequence = np.stack(successive_outputs, axis=0)\n",
    "loss = np.mean( (Y - final_output_sequence)**2 )\n",
    "print(loss)"
   ]
  },
  {
   "cell_type": "markdown",
   "metadata": {
    "colab_type": "text",
    "id": "ukwchqVWUbRf"
   },
   "source": [
    "## RNN in Tensorflow\n",
    "[Tutorial](https://www.tensorflow.org/tutorials/sequences/text_generation) (text generation w/ eager)"
   ]
  },
  {
   "cell_type": "markdown",
   "metadata": {
    "colab_type": "text",
    "id": "cOHeBypcUbRg",
    "pycharm": {
     "name": "#%% md\n"
    }
   },
   "source": [
    "### Prepare data for Tensorflow\n",
    "In the tutorial linked above, the `batch` transformation is used to convert a continuous sequence into\n",
    "many sequences, then the batch transform is used AGAIN to get batches of sequences."
   ]
  },
  {
   "cell_type": "code",
   "execution_count": 0,
   "metadata": {
    "colab": {},
    "colab_type": "code",
    "id": "kW2toraOUbRg",
    "pycharm": {
     "is_executing": false,
     "name": "#%%\n"
    }
   },
   "outputs": [],
   "source": [
    "SEQ_LENGTH = 200\n",
    "BATCH_SIZE = 2\n",
    "BUFFER_SIZE = 10000\n",
    "\n",
    "dataset = tf.data.Dataset.from_tensor_slices((X, Y))\n",
    "dataset = dataset.batch(SEQ_LENGTH, drop_remainder=True)  # Continuous to segmented sequences\n",
    "dataset = dataset.shuffle(BUFFER_SIZE)\n",
    "dataset = dataset.batch(BATCH_SIZE, drop_remainder=True)  # Segmented sequences to batches of seg. seq."
   ]
  },
  {
   "cell_type": "markdown",
   "metadata": {
    "colab_type": "text",
    "id": "iVYi9e43UbRj",
    "pycharm": {
     "name": "#%% md\n"
    }
   },
   "source": [
    "### Define RNN model in Tensorflow"
   ]
  },
  {
   "cell_type": "code",
   "execution_count": 16,
   "metadata": {
    "colab": {
     "base_uri": "https://localhost:8080/",
     "height": 225
    },
    "colab_type": "code",
    "id": "kxhHmWZXUbRk",
    "outputId": "d79a18b7-aabc-4a38-ccc4-1d88a5461147",
    "pycharm": {
     "is_executing": false,
     "name": "#%%\n"
    }
   },
   "outputs": [
    {
     "name": "stdout",
     "output_type": "stream",
     "text": [
      "Model: \"model\"\n",
      "_________________________________________________________________\n",
      "Layer (type)                 Output Shape              Param #   \n",
      "=================================================================\n",
      "input_1 (InputLayer)         [(None, 200, 3)]          0         \n",
      "_________________________________________________________________\n",
      "simple_rnn (SimpleRNN)       (None, 200, 2)            12        \n",
      "=================================================================\n",
      "Total params: 12\n",
      "Trainable params: 12\n",
      "Non-trainable params: 0\n",
      "_________________________________________________________________\n"
     ]
    }
   ],
   "source": [
    "inputs = tf.keras.layers.Input(shape=(SEQ_LENGTH, X.shape[-1]))\n",
    "outputs = tf.keras.layers.SimpleRNN(N_OUT, return_sequences=True, activation='linear')(inputs)\n",
    "model = tf.keras.Model(inputs, outputs)\n",
    "model.compile(optimizer='rmsprop', loss='mean_squared_error')\n",
    "model.summary()"
   ]
  },
  {
   "cell_type": "code",
   "execution_count": 0,
   "metadata": {
    "colab": {},
    "colab_type": "code",
    "id": "L9nwtlv8UbRn",
    "pycharm": {
     "is_executing": false,
     "name": "#%%\n"
    }
   },
   "outputs": [],
   "source": [
    "# Just to save us some training time, let's cheat and init the model with good weights\n",
    "old_init_weights = model.layers[-1].get_weights()\n",
    "model.layers[-1].set_weights([W.T, old_init_weights[1], b])"
   ]
  },
  {
   "cell_type": "code",
   "execution_count": 18,
   "metadata": {
    "colab": {
     "base_uri": "https://localhost:8080/",
     "height": 1751
    },
    "colab_type": "code",
    "id": "Xk1qktbEUbRo",
    "outputId": "7c7e1235-8d4a-482d-b426-18c6dcf3fa5b",
    "pycharm": {
     "is_executing": false,
     "name": "#%%\n"
    }
   },
   "outputs": [
    {
     "name": "stdout",
     "output_type": "stream",
     "text": [
      "Epoch 1/50\n",
      "12/12 [==============================] - 3s 247ms/step - loss: 0.1951\n",
      "Epoch 2/50\n",
      "12/12 [==============================] - 2s 140ms/step - loss: 0.1646\n",
      "Epoch 3/50\n",
      "12/12 [==============================] - 2s 143ms/step - loss: 0.1546\n",
      "Epoch 4/50\n",
      "12/12 [==============================] - 2s 141ms/step - loss: 0.1473\n",
      "Epoch 5/50\n",
      "12/12 [==============================] - 2s 143ms/step - loss: 0.1411\n",
      "Epoch 6/50\n",
      "12/12 [==============================] - 2s 139ms/step - loss: 0.1357\n",
      "Epoch 7/50\n",
      "12/12 [==============================] - 2s 141ms/step - loss: 0.1309\n",
      "Epoch 8/50\n",
      "12/12 [==============================] - 2s 139ms/step - loss: 0.1265\n",
      "Epoch 9/50\n",
      "12/12 [==============================] - 2s 143ms/step - loss: 0.1225\n",
      "Epoch 10/50\n",
      "12/12 [==============================] - 2s 145ms/step - loss: 0.1188\n",
      "Epoch 11/50\n",
      "12/12 [==============================] - 2s 154ms/step - loss: 0.1155\n",
      "Epoch 12/50\n",
      "12/12 [==============================] - 2s 138ms/step - loss: 0.1124\n",
      "Epoch 13/50\n",
      "12/12 [==============================] - 2s 145ms/step - loss: 0.1095\n",
      "Epoch 14/50\n",
      "12/12 [==============================] - 2s 139ms/step - loss: 0.1070\n",
      "Epoch 15/50\n",
      "12/12 [==============================] - 2s 145ms/step - loss: 0.1046\n",
      "Epoch 16/50\n",
      "12/12 [==============================] - 2s 137ms/step - loss: 0.1026\n",
      "Epoch 17/50\n",
      "12/12 [==============================] - 2s 142ms/step - loss: 0.1007\n",
      "Epoch 18/50\n",
      "12/12 [==============================] - 2s 147ms/step - loss: 0.0991\n",
      "Epoch 19/50\n",
      "12/12 [==============================] - 2s 143ms/step - loss: 0.0977\n",
      "Epoch 20/50\n",
      "12/12 [==============================] - 2s 143ms/step - loss: 0.0965\n",
      "Epoch 21/50\n",
      "12/12 [==============================] - 2s 142ms/step - loss: 0.0955\n",
      "Epoch 22/50\n",
      "12/12 [==============================] - 2s 142ms/step - loss: 0.0947\n",
      "Epoch 23/50\n",
      "12/12 [==============================] - 2s 145ms/step - loss: 0.0941\n",
      "Epoch 24/50\n",
      "12/12 [==============================] - 2s 137ms/step - loss: 0.0935\n",
      "Epoch 25/50\n",
      "12/12 [==============================] - 2s 140ms/step - loss: 0.0931\n",
      "Epoch 26/50\n",
      "12/12 [==============================] - 2s 140ms/step - loss: 0.0928\n",
      "Epoch 27/50\n",
      "12/12 [==============================] - 2s 146ms/step - loss: 0.0925\n",
      "Epoch 28/50\n",
      "12/12 [==============================] - 2s 144ms/step - loss: 0.0923\n",
      "Epoch 29/50\n",
      "12/12 [==============================] - 2s 142ms/step - loss: 0.0920\n",
      "Epoch 30/50\n",
      "12/12 [==============================] - 2s 138ms/step - loss: 0.0918\n",
      "Epoch 31/50\n",
      "12/12 [==============================] - 2s 142ms/step - loss: 0.0916\n",
      "Epoch 32/50\n",
      "12/12 [==============================] - 2s 137ms/step - loss: 0.0914\n",
      "Epoch 33/50\n",
      "12/12 [==============================] - 2s 144ms/step - loss: 0.0912\n",
      "Epoch 34/50\n",
      "12/12 [==============================] - 2s 139ms/step - loss: 0.0910\n",
      "Epoch 35/50\n",
      "12/12 [==============================] - 2s 142ms/step - loss: 0.0908\n",
      "Epoch 36/50\n",
      "12/12 [==============================] - 2s 142ms/step - loss: 0.0907\n",
      "Epoch 37/50\n",
      "12/12 [==============================] - 2s 138ms/step - loss: 0.0905\n",
      "Epoch 38/50\n",
      "12/12 [==============================] - 2s 145ms/step - loss: 0.0903\n",
      "Epoch 39/50\n",
      "12/12 [==============================] - 2s 141ms/step - loss: 0.0902\n",
      "Epoch 40/50\n",
      "12/12 [==============================] - 2s 137ms/step - loss: 0.0900\n",
      "Epoch 41/50\n",
      "12/12 [==============================] - 2s 143ms/step - loss: 0.0899\n",
      "Epoch 42/50\n",
      "12/12 [==============================] - 2s 139ms/step - loss: 0.0898\n",
      "Epoch 43/50\n",
      "12/12 [==============================] - 2s 138ms/step - loss: 0.0896\n",
      "Epoch 44/50\n",
      "12/12 [==============================] - 2s 145ms/step - loss: 0.0895\n",
      "Epoch 45/50\n",
      "12/12 [==============================] - 2s 144ms/step - loss: 0.0894\n",
      "Epoch 46/50\n",
      "12/12 [==============================] - 2s 144ms/step - loss: 0.0893\n",
      "Epoch 47/50\n",
      "12/12 [==============================] - 2s 140ms/step - loss: 0.0892\n",
      "Epoch 48/50\n",
      "12/12 [==============================] - 2s 140ms/step - loss: 0.0891\n",
      "Epoch 49/50\n",
      "12/12 [==============================] - 2s 145ms/step - loss: 0.0890\n",
      "Epoch 50/50\n",
      "12/12 [==============================] - 2s 134ms/step - loss: 0.0889\n"
     ]
    }
   ],
   "source": [
    "EPOCHS = 50\n",
    "history = model.fit(x=dataset, epochs=EPOCHS, verbose=1)"
   ]
  },
  {
   "cell_type": "code",
   "execution_count": 19,
   "metadata": {
    "colab": {
     "base_uri": "https://localhost:8080/",
     "height": 269
    },
    "colab_type": "code",
    "id": "buU5s_XlUbRr",
    "outputId": "7f54ea3a-aa5b-4f2d-9b82-71ea7ea19f01",
    "pycharm": {
     "is_executing": false
    }
   },
   "outputs": [
    {
     "data": {
      "image/png": "[encoded data removed]",
      "text/plain": [
       "<Figure size 432x288 with 1 Axes>"
      ]
     },
     "metadata": {
      "tags": []
     },
     "output_type": "display_data"
    }
   ],
   "source": [
    "_Y1 = model.predict(X[:SEQ_LENGTH, :][None, :, :])\n",
    "plt.plot(Y[:SEQ_LENGTH, :], label='real')\n",
    "plt.plot(_Y1[0], label='pred')\n",
    "plt.legend()\n",
    "plt.show()"
   ]
  },
  {
   "cell_type": "code",
   "execution_count": 20,
   "metadata": {
    "colab": {
     "base_uri": "https://localhost:8080/",
     "height": 240
    },
    "colab_type": "code",
    "id": "VQeoT-SlUbRu",
    "outputId": "ab26f3f5-88d6-46a0-9b21-c614589b8925",
    "pycharm": {
     "is_executing": false,
     "name": "#%%\n"
    }
   },
   "outputs": [
    {
     "name": "stdout",
     "output_type": "stream",
     "text": [
      "[[ 0.65235748  0.79187483 -0.31087652]\n",
      " [-0.25880023 -0.08673025 -0.13821863]]\n",
      "[[ 0.7516013   0.26548496 -0.05235682]\n",
      " [-0.34948957 -0.03004882 -0.03938876]]\n",
      "[0.28169315 0.37959125] [0.51799786 0.6070676 ]\n"
     ]
    },
    {
     "data": {
      "image/png": "[encoded data removed]",
      "text/plain": [
       "<Figure size 432x288 with 2 Axes>"
      ]
     },
     "metadata": {
      "tags": []
     },
     "output_type": "display_data"
    }
   ],
   "source": [
    "_W, _U, _b = model.layers[-1].get_weights()\n",
    "\n",
    "print(W)\n",
    "print(_W.T)\n",
    "print(b, _b)\n",
    "\n",
    "plt.subplot(1, 2, 1)\n",
    "plt.imshow(W)\n",
    "plt.subplot(1, 2, 2)\n",
    "plt.imshow(_W.T)\n",
    "plt.show()\n"
   ]
  }
 ],
 "metadata": {
  "accelerator": "GPU",
  "colab": {
   "name": "05_01_intro_to_RNNs.ipynb",
   "provenance": [],
   "version": "0.3.2"
  },
  "kernelspec": {
   "display_name": "Python 3",
   "language": "python",
   "name": "python3"
  },
  "language_info": {
   "codemirror_mode": {
    "name": "ipython",
    "version": 3
   },
   "file_extension": ".py",
   "mimetype": "text/x-python",
   "name": "python",
   "nbconvert_exporter": "python",
   "pygments_lexer": "ipython3",
   "version": "3.6.3"
  }
 },
 "nbformat": 4,
 "nbformat_minor": 1
}
