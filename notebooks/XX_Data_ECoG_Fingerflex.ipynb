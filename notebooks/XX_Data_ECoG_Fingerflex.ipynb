{
 "cells": [
  {
   "cell_type": "markdown",
   "metadata": {
    "pycharm": {
     "name": "#%% md\n"
    }
   },
   "source": [
    "# KJM ECoG Fingerflex Dataset\n",
    "\n",
    "Two of the datasets we have prepared for the workshop come from Kai Miller's ECoG data repository.\n",
    "* [Miller, KJ. A library of human electrocorticographic data and analyses. Nature Human Behaviour, 2019](https://www.nature.com/articles/s41562-019-0678-3)\n",
    "* [Direct Data Repository Link](https://searchworks.stanford.edu/view/zk881ps0522)\n",
    "\n",
    "If you want the full raw data from the entire repository then you can use the scripts in this workshop's data/kjm_ecog folder.\n",
    "If you are satisfied using somewhat preprocessed data then you can proceed below and the data will be downloaded on demand.\n",
    "\n",
    "In this notebook we will explore the \"Fingerflex\" study data.\n",
    "The data originally appeared in the [manuscript](https://journals.plos.org/ploscompbiol/article?id=10.1371/journal.pcbi.1002655)\n",
    "Human Motor Cortical Activity Is Selectively Phase-Entrained on Underlying Rhythms published in PLoS Computational Biology in 2012.\n",
    "\n",
    "A portion of the dataset composes the [BCI Competition IV Dataset 4](http://www.bbci.de/competition/iv/#dataset4).\n"
   ]
  },
  {
   "cell_type": "markdown",
   "source": [
    "## Prepare the notebook\n",
    "The next cell is to normalize local environments and Google Colaboratory environments.\n",
    "If you're running this on Colab, then a widget will appear asking you to upload your [kaggle API auth token](https://www.kaggle.com/docs/api#authentication).\n",
    "This is normally found in `~/.kaggle/kaggle.json` where `~` is your Home directory. You may need to make visible\n",
    "hidden files or folders before you can find the file in explorer.\n",
    "If you're running this locally then please make sure the kaggle.json file is in the expected location."
   ],
   "metadata": {
    "collapsed": false
   }
  },
  {
   "cell_type": "code",
   "execution_count": null,
   "outputs": [],
   "source": [
    "from pathlib import Path\n",
    "import os\n",
    "import matplotlib.pyplot as plt\n",
    "\n",
    "\n",
    "try:\n",
    "    from google.colab import files\n",
    "    %tensorflow_version 2.x\n",
    "    os.chdir('..')\n",
    "    \n",
    "    if not (Path.home() / '.kaggle').is_dir():\n",
    "        # Configure kaggle\n",
    "        uploaded = files.upload()  # Find the kaggle.json file in your ~/.kaggle directory.\n",
    "        if 'kaggle.json' in uploaded.keys():\n",
    "            !mkdir -p ~/.kaggle\n",
    "            !mv kaggle.json ~/.kaggle/\n",
    "            !chmod 600 ~/.kaggle/kaggle.json\n",
    "            \n",
    "    if Path.cwd().stem != 'IntracranialNeurophysDL':\n",
    "        if not (Path.cwd() / 'IntracranialNeurophysDL').is_dir():\n",
    "            # Download the workshop repo and change to its directory\n",
    "            !git clone --recursive https://github.com/SachsLab/IntracranialNeurophysDL.git\n",
    "        os.chdir('IntracranialNeurophysDL')\n",
    "    \n",
    "    !pip install -q kaggle\n",
    "    plt.style.use('dark_background')\n",
    "    IN_COLAB = True\n",
    "    \n",
    "except ModuleNotFoundError:\n",
    "    IN_COLAB = False\n",
    "    import sys\n",
    "    if Path.cwd().stem == 'notebooks':\n",
    "        os.chdir(Path.cwd().parent)\n",
    "    # Make sure the kaggle executable is on the PATH\n",
    "    os.environ['PATH'] = os.environ['PATH'] + ';' + str(Path(sys.executable).parent / 'Scripts')\n",
    "\n",
    "# Try to clear any logs from previous runs\n",
    "if (Path.cwd() / 'logs').is_dir():\n",
    "    import shutil\n",
    "    try:\n",
    "        shutil.rmtree(str(Path.cwd() / 'logs'))\n",
    "    except PermissionError:\n",
    "        print(\"Unable to remove logs directory.\")\n",
    "        \n",
    "\n",
    "import numpy as np\n",
    "import tensorflow as tf\n",
    "from indl import turbo_cmap, reset_keras\n",
    "plt.rcParams.update({\n",
    "    'axes.titlesize': 24,\n",
    "    'axes.labelsize': 20,\n",
    "    'lines.linewidth': 3,\n",
    "    'lines.markersize': 10,\n",
    "    'xtick.labelsize': 16,\n",
    "    'ytick.labelsize': 16,\n",
    "    'legend.fontsize': 18\n",
    "})\n",
    "%load_ext autoreload\n",
    "%autoreload 2"
   ],
   "metadata": {
    "collapsed": false,
    "pycharm": {
     "name": "#%%\n"
    }
   }
  },
  {
   "cell_type": "markdown",
   "source": [
    "## Download Data\n",
    "Run the next cell to download and unzip the data. Compared to the original data from the data repository,\n",
    "the files in the Kaggle Dataset have had some additional preprocessing.\n",
    "\n",
    "The downloaded data contain 3 files for each of the 9 subjects:\n",
    "* subname_full.h5 - Bad channel removal, common average referencing, 60 Hz notch filter.\n",
    "* subname_segs.h5 - Same as _full but the data have been segmented from -0.75 to +0.75 s around the onset of (human-coded) finger-flexion events.\n",
    "* subname_bp.h5 - _full with spectral whitening, filterbank (6th order Butter filtfilt) at alpha, beta, and broadband frequencies,\n",
    "power in each band downsampled to 20 Hz, zscored, segmented as in _segs."
   ],
   "metadata": {
    "collapsed": false
   }
  },
  {
   "cell_type": "code",
   "execution_count": null,
   "outputs": [],
   "source": [
    "# Download and unzip data\n",
    "datadir = Path.cwd() / 'data' / 'kjm_ecog'\n",
    "if not (datadir / 'converted').is_dir():\n",
    "    !kaggle datasets download --unzip --path {str(datadir / 'converted' / 'fingerflex')} cboulay/kjm-ecog-fingerflex\n",
    "    print(\"Finished downloading and extracting data.\")\n",
    "else:\n",
    "    print(\"Data directory found. Skipping download.\")"
   ],
   "metadata": {
    "collapsed": false,
    "pycharm": {
     "name": "#%%\n"
    }
   }
  },
  {
   "cell_type": "markdown",
   "source": [
    "## Import one subject's data\n",
    "The data have been stored as HDF5 files and thus can be imported directly into Python.\n",
    "However, to make your life a little easier, we wrote a small function that makes importing slightly friendlier."
   ],
   "metadata": {
    "collapsed": false
   }
  },
  {
   "cell_type": "code",
   "execution_count": null,
   "outputs": [],
   "source": [
    "from data.utils.fileio import load_fingerflex\n",
    "\n",
    "\n",
    "SUB_ID = 'cc'\n",
    "X, Y, ax_info, behav = load_fingerflex(datadir, SUB_ID, feature_set='full', event_set='Stim')\n",
    "tvec = ax_info['timestamps']\n",
    "srate = ax_info['fs']\n",
    "print(f\"Found {len(tvec)} timestamps ({tvec[0]} to {tvec[-1]} at {srate} Hz), {X.shape[-1]} chans\")"
   ],
   "metadata": {
    "collapsed": false,
    "pycharm": {
     "name": "#%%\n"
    }
   }
  }
 ],
 "metadata": {
  "kernelspec": {
   "display_name": "PyCharm (IntracranialNeurophysDL)",
   "language": "python",
   "name": "pycharm-7849faaa"
  },
  "language_info": {
   "codemirror_mode": {
    "name": "ipython",
    "version": 3
   },
   "file_extension": ".py",
   "mimetype": "text/x-python",
   "name": "python",
   "nbconvert_exporter": "python",
   "pygments_lexer": "ipython3",
   "version": "3.6.7"
  },
  "pycharm": {
   "stem_cell": {
    "cell_type": "raw",
    "source": [],
    "metadata": {
     "collapsed": false
    }
   }
  }
 },
 "nbformat": 4,
 "nbformat_minor": 2
}