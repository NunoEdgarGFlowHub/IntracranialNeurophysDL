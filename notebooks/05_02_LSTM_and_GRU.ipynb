{
 "cells": [
  {
   "cell_type": "markdown",
   "metadata": {
    "collapsed": true,
    "pycharm": {
     "name": "#%% md\n"
    }
   },
   "source": [
    "# LSTM and GRU with cortical electrophys\n",
    "This notebook is part of the [SachsLab Workshop for Intracranial Neurophysiology and Deep Learning](https://github.com/SachsLab/IntracranialNeurophysDL).\n",
    "\n",
    "Run the first three cells to normalize Local / Colab environments, then proceed below for the lesson."
   ]
  },
  {
   "cell_type": "code",
   "execution_count": 1,
   "metadata": {
    "pycharm": {
     "name": "#%%\n"
    }
   },
   "outputs": [],
   "source": [
    "%load_ext autoreload\n",
    "%autoreload 2"
   ]
  },
  {
   "cell_type": "code",
   "execution_count": 2,
   "metadata": {
    "pycharm": {
     "name": "#%%\n"
    }
   },
   "outputs": [],
   "source": [
    "from pathlib import Path\n",
    "import os\n",
    "try:\n",
    "    # See if we are running on google.colab\n",
    "    import google.colab\n",
    "    from google.colab import files\n",
    "    os.chdir('..')\n",
    "    if not (Path.home() / '.kaggle').is_dir():\n",
    "        # Configure kaggle\n",
    "        files.upload()  # Find the kaggle.json file in your ~/.kaggle directory.\n",
    "        !pip install -q kaggle\n",
    "        !mkdir -p ~/.kaggle\n",
    "        !mv kaggle.json ~/.kaggle/\n",
    "        !chmod 600 ~/.kaggle/kaggle.json\n",
    "    if Path.cwd().stem != 'IntracranialNeurophysDL':\n",
    "        if not (Path.cwd() / 'IntracranialNeurophysDL').is_dir():\n",
    "            # Download the workshop repo and change to its directory\n",
    "            !git clone --recursive https://github.com/SachsLab/IntracranialNeurophysDL.git\n",
    "        os.chdir('IntracranialNeurophysDL')\n",
    "    IN_COLAB = True\n",
    "    # Setup tensorflow 2.0\n",
    "    !pip install -q tensorflow-gpu==2.0.0-alpha0\n",
    "except ModuleNotFoundError:\n",
    "    IN_COLAB = False\n",
    "    import sys\n",
    "    if Path.cwd().stem == 'notebooks':\n",
    "        os.chdir(Path.cwd().parent)\n",
    "    # Make sure the kaggle executable is on the PATH\n",
    "    os.environ['PATH'] = os.environ['PATH'] + ';' + str(Path(sys.executable).parent / 'Scripts')\n",
    "\n",
    "# Try to clear any logs from previous runs\n",
    "if (Path.cwd() / 'logs').is_dir():\n",
    "    import shutil\n",
    "    try:\n",
    "        shutil.rmtree(str(Path.cwd() / 'logs'))\n",
    "    except PermissionError:\n",
    "        print(\"Unable to remove logs directory.\")\n",
    "\n",
    "# Additional imports\n",
    "import tensorflow as tf\n",
    "import datetime\n",
    "import numpy as np\n",
    "import matplotlib.pyplot as plt\n",
    "from indl import enable_plotly_in_cell\n",
    "%load_ext tensorboard.notebook"
   ]
  },
  {
   "cell_type": "code",
   "execution_count": 3,
   "metadata": {
    "pycharm": {
     "name": "#%%\n"
    }
   },
   "outputs": [
    {
     "name": "stdout",
     "output_type": "stream",
     "text": [
      "Data directory found. Skipping download.\n"
     ]
    }
   ],
   "source": [
    "# Download and unzip data (3.4 GB)\n",
    "datadir = Path.cwd() / 'data' / 'joeyo'\n",
    "if not (datadir / 'converted').is_dir():\n",
    "    !kaggle datasets download --unzip --path {str(datadir / 'converted')} cboulay/joeyo_nhp_reach_mea\n",
    "    print(\"Finished downloading and extracting data.\")\n",
    "else:\n",
    "    print(\"Data directory found. Skipping download.\")"
   ]
  },
  {
   "cell_type": "markdown",
   "metadata": {},
   "source": [
    "## Prepare Data"
   ]
  },
  {
   "cell_type": "markdown",
   "metadata": {},
   "source": [
    "### Import"
   ]
  },
  {
   "cell_type": "code",
   "execution_count": 26,
   "metadata": {},
   "outputs": [],
   "source": [
    "from data.utils.fileio import load_joeyo_reaching\n",
    "sess_names = ['indy_2016' + _ for _ in ['0921_01', '0927_04', '0927_06', '0930_02', '0930_05' '1005_06' '1006_02']]\n",
    "sess_name = sess_names[0]\n",
    "# TODO: No z-score on load. We'll z-score with training mean/sd only.\n",
    "X, Y, X_ax_info, Y_ax_info = load_joeyo_reaching(datadir, sess_name, x_chunk='spikerates')\n",
    "assert X_ax_info['fs'] == Y_ax_info['fs']\n",
    "# TODO: If we want to use LFP data (1 kHz) we need to downsample it or upsample behaviour (250 Hz)"
   ]
  },
  {
   "cell_type": "markdown",
   "metadata": {},
   "source": [
    "### Prepare for TensorFlow\n",
    "\n",
    "Y has finger position (3-D), cursor position (2-D; direct projection of finger position), and the target position. We need only the cursor position, so we select only those channels from Y.\n",
    "\n",
    "Both X and Y come in shape (channels, samples) as float64. We need them in (segments, samples, channels) as float32.\n",
    "\n",
    "Finally, we split into training and validation sets, shuffling the training data, and batching both."
   ]
  },
  {
   "cell_type": "code",
   "execution_count": 27,
   "metadata": {},
   "outputs": [],
   "source": [
    "from sklearn.model_selection import train_test_split\n",
    "SEQ_DUR = 1.0\n",
    "P_TRAIN = 0.8\n",
    "BATCH_SIZE = 5\n",
    "behav_chans = ['CursorX', 'CursorY']\n",
    "\n",
    "seq_length = int(SEQ_DUR * X_ax_info['fs'])\n",
    "\n",
    "# Slice Y to only keep required behaviour data.\n",
    "b_keep_y_chans = np.in1d(Y_ax_info['channel_names'] , behav_chans)\n",
    "Y = Y[b_keep_y_chans, :]\n",
    "\n",
    "# Segment X and Y into sequences of length seq_length. Also convert to 32-bit and transpose to get channels last.\n",
    "n_drop = X.shape[-1] % seq_length\n",
    "X = X[:, :-n_drop].astype(np.float32).reshape((X.shape[0], -1, seq_length)).transpose((1, 2, 0))\n",
    "Y = Y[:, :-n_drop].astype(np.float32).reshape((Y.shape[0], -1, seq_length)).transpose((1, 2, 0))\n",
    "n_trials = X.shape[0]  # Not really 'trials', more like 'sequences'\n",
    "\n",
    "# DON'T DO THIS! It randomizes training so they don't carry over.\n",
    "X_train, X_valid, Y_train, Y_valid = train_test_split(X, Y, train_size=P_TRAIN)\n",
    "\n",
    "ds_train = tf.data.Dataset.from_tensor_slices((X_train, Y_train))\n",
    "ds_valid = tf.data.Dataset.from_tensor_slices((X_valid, Y_valid))\n",
    "\n",
    "# use shuffling as long as stateful doesn't work.\n",
    "ds_train = ds_train.shuffle(int(n_trials * P_TRAIN) + 1)\n",
    "ds_train = ds_train.batch(BATCH_SIZE, drop_remainder=True)\n",
    "ds_valid = ds_valid.batch(BATCH_SIZE)"
   ]
  },
  {
   "cell_type": "markdown",
   "metadata": {
    "pycharm": {
     "name": "#%% md\n"
    }
   },
   "source": [
    "## Long Short-Term Memory (LSTM) and Gated Recurrent Unit (GRU)\n",
    "[This blog post](https://colah.github.io/posts/2015-08-Understanding-LSTMs/) from mid-2015 is still one of the best explanations of LSTMs around. The short of it is that each LSTM cell has three functions or 'gates' that decide (on each step) how much of the state (forget gate) gets combined with how much of the input (update gate) to make the new state, and how much of the input gets combined with the state to make the output (output gate).\n",
    "\n",
    "GRUs are similar in concept but use only two gates: an update gate and a reset gate. [See here](https://arxiv.org/pdf/1412.3555v1.pdf).\n",
    "\n",
    "As such, LSTMs are slightly more sophisticated and theoretically could model more of your model space, but in practice GRUs usually do just as well and are more efficient computationally. We will quickly try each version.\n",
    "\n",
    "### Other studies\n",
    "\n",
    "* [Ahmadi et al]() - Using one of these datasets.\n",
    "    * \n",
    "* [Glaser et al., arxiv 2018](https://arxiv.org/abs/1708.00909) [with code!](https://github.com/KordingLab/Neural_Decoding)\n",
    "    * \n",
    "* [Park and Kim, IEEE APSIPA ASC 2018](https://ieeexplore.ieee.org/abstract/document/8659760)\n",
    "* [Tseng et al... Nicolelis, IEEE Neural Computation 2019](https://www.mitpressjournals.org/doi/abs/10.1162/neco_a_01189)\n",
    "    * \"1000 iterations of training with a batch size of 64 and unrolling of 30 steps (equivalent to 1.5 s as each time step was 50 ms)\".    \n",
    "    * Tested 1-layer and 2-layer networks, 2-layer widening was best, with dropout=0.2\n",
    "* [Wang et al., EMBC 2018](https://ieeexplore.ieee.org/abstract/document/8512609) - Decoding hindlimb kinematics.\n",
    "    * seq_length=3; N_RNN_UNITS=200; lr=0.001; neural_dropout=0.2; batch_size=32; epochs=100\n",
    "\n",
    "### Implementation Details\n",
    "This will probably change, but the unification of LSTM APIs in TensorFlow 2.0 means that there are some constraints on how an LSTM can be parameterized and still run on the GPU.\n",
    "\n",
    "1. activation == 'tanh'\n",
    "2. recurrent_activation == 'sigmoid'\n",
    "3. recurrent_dropout == 0\n",
    "4. unroll is False\n",
    "5. use_bias is True\n",
    "6. No use of masking."
   ]
  },
  {
   "cell_type": "code",
   "execution_count": 30,
   "metadata": {},
   "outputs": [
    {
     "name": "stderr",
     "output_type": "stream",
     "text": [
      "W0604 18:12:07.251312 11076 tf_logging.py:161] <tensorflow.python.keras.layers.recurrent.UnifiedLSTM object at 0x000002188379AA90>: Note that this layer is not optimized for performance. Please use tf.keras.layers.CuDNNLSTM for better performance on GPU.\n"
     ]
    },
    {
     "name": "stdout",
     "output_type": "stream",
     "text": [
      "Model: \"model_7\"\n",
      "_________________________________________________________________\n",
      "Layer (type)                 Output Shape              Param #   \n",
      "=================================================================\n",
      "input_9 (InputLayer)         [(None, 250, 257)]        0         \n",
      "_________________________________________________________________\n",
      "unified_lstm_14 (UnifiedLSTM (None, 250, 100)          143200    \n",
      "_________________________________________________________________\n",
      "conv1d_2 (Conv1D)            (None, 250, 2)            202       \n",
      "=================================================================\n",
      "Total params: 143,402\n",
      "Trainable params: 143,402\n",
      "Non-trainable params: 0\n",
      "_________________________________________________________________\n"
     ]
    }
   ],
   "source": [
    "N_RNN_UNITS = 100\n",
    "inputs = tf.keras.layers.Input(shape=(seq_length, X.shape[-1]))  # Note: batch_shape, not shape, if using stateful\n",
    "_y = tf.keras.layers.LSTM(N_RNN_UNITS, return_sequences=True)(inputs)  # Why doesn't stateful work?\n",
    "outputs = tf.keras.layers.Conv1D(2, 1, activation='relu')(_y)\n",
    "model = tf.keras.Model(inputs, outputs)\n",
    "model.compile(optimizer='NAdam', loss='mean_squared_error')\n",
    "model.summary()\n",
    "\n",
    "\n",
    "# model.add(LSTM(self.units,input_shape=(X_train.shape[1],X_train.shape[2]),dropout_W=self.dropout,dropout_U=self.dropout)) #Within recurrent layer, include dropout\n",
    "#     if self.dropout!=0: model.add(Dropout(self.dropout)) #Dropout some units (recurrent layer output units)\n",
    "        "
   ]
  },
  {
   "cell_type": "code",
   "execution_count": 31,
   "metadata": {},
   "outputs": [
    {
     "name": "stdout",
     "output_type": "stream",
     "text": [
      "Epoch 1/50\n",
      "57/57 [==============================] - ETA: 52s - loss: 1.62 - ETA: 10s - loss: 1.11 - ETA: 5s - loss: 1.0726 - ETA: 3s - loss: 1.036 - ETA: 2s - loss: 1.045 - ETA: 2s - loss: 1.009 - ETA: 1s - loss: 0.978 - ETA: 1s - loss: 0.988 - ETA: 1s - loss: 0.962 - ETA: 0s - loss: 0.961 - ETA: 0s - loss: 0.932 - ETA: 0s - loss: 0.920 - ETA: 0s - loss: 0.928 - ETA: 0s - loss: 0.932 - 2s 35ms/step - loss: 0.9288 - val_loss: 0.9437\n",
      "Epoch 2/50\n",
      "57/57 [==============================] - ETA: 2s - loss: 1.064 - ETA: 1s - loss: 0.750 - ETA: 0s - loss: 0.751 - ETA: 0s - loss: 0.731 - ETA: 0s - loss: 0.732 - ETA: 0s - loss: 0.715 - ETA: 0s - loss: 0.704 - ETA: 0s - loss: 0.717 - ETA: 0s - loss: 0.704 - ETA: 0s - loss: 0.705 - ETA: 0s - loss: 0.683 - ETA: 0s - loss: 0.675 - ETA: 0s - loss: 0.692 - ETA: 0s - loss: 0.697 - 1s 18ms/step - loss: 0.6977 - val_loss: 0.8782\n",
      "Epoch 3/50\n",
      "57/57 [==============================] - ETA: 2s - loss: 0.943 - ETA: 1s - loss: 0.623 - ETA: 0s - loss: 0.640 - ETA: 0s - loss: 0.616 - ETA: 0s - loss: 0.609 - ETA: 0s - loss: 0.599 - ETA: 0s - loss: 0.593 - ETA: 0s - loss: 0.606 - ETA: 0s - loss: 0.592 - ETA: 0s - loss: 0.595 - ETA: 0s - loss: 0.575 - ETA: 0s - loss: 0.567 - ETA: 0s - loss: 0.588 - ETA: 0s - loss: 0.596 - 1s 17ms/step - loss: 0.5963 - val_loss: 0.8634\n",
      "Epoch 4/50\n",
      "57/57 [==============================] - ETA: 2s - loss: 0.876 - ETA: 1s - loss: 0.565 - ETA: 0s - loss: 0.587 - ETA: 0s - loss: 0.562 - ETA: 0s - loss: 0.552 - ETA: 0s - loss: 0.545 - ETA: 0s - loss: 0.540 - ETA: 0s - loss: 0.553 - ETA: 0s - loss: 0.539 - ETA: 0s - loss: 0.543 - ETA: 0s - loss: 0.523 - ETA: 0s - loss: 0.516 - ETA: 0s - loss: 0.538 - ETA: 0s - loss: 0.552 - ETA: 0s - loss: 0.546 - 1s 17ms/step - loss: 0.5475 - val_loss: 0.8542\n",
      "Epoch 5/50\n",
      "57/57 [==============================] - ETA: 2s - loss: 0.834 - ETA: 1s - loss: 0.526 - ETA: 0s - loss: 0.556 - ETA: 0s - loss: 0.535 - ETA: 0s - loss: 0.523 - ETA: 0s - loss: 0.516 - ETA: 0s - loss: 0.513 - ETA: 0s - loss: 0.524 - ETA: 0s - loss: 0.510 - ETA: 0s - loss: 0.516 - ETA: 0s - loss: 0.496 - ETA: 0s - loss: 0.489 - ETA: 0s - loss: 0.511 - ETA: 0s - loss: 0.522 - 1s 17ms/step - loss: 0.5209 - val_loss: 0.8534\n",
      "Epoch 6/50\n",
      "57/57 [==============================] - ETA: 2s - loss: 0.816 - ETA: 1s - loss: 0.505 - ETA: 0s - loss: 0.535 - ETA: 0s - loss: 0.516 - ETA: 0s - loss: 0.505 - ETA: 0s - loss: 0.498 - ETA: 0s - loss: 0.496 - ETA: 0s - loss: 0.508 - ETA: 0s - loss: 0.495 - ETA: 0s - loss: 0.501 - ETA: 0s - loss: 0.481 - ETA: 0s - loss: 0.474 - ETA: 0s - loss: 0.495 - ETA: 0s - loss: 0.507 - 1s 17ms/step - loss: 0.5062 - val_loss: 0.8519\n",
      "Epoch 7/50\n",
      "57/57 [==============================] - ETA: 2s - loss: 0.808 - ETA: 1s - loss: 0.490 - ETA: 0s - loss: 0.522 - ETA: 0s - loss: 0.506 - ETA: 0s - loss: 0.494 - ETA: 0s - loss: 0.488 - ETA: 0s - loss: 0.486 - ETA: 0s - loss: 0.499 - ETA: 0s - loss: 0.486 - ETA: 0s - loss: 0.493 - ETA: 0s - loss: 0.472 - ETA: 0s - loss: 0.465 - ETA: 0s - loss: 0.487 - ETA: 0s - loss: 0.499 - 1s 17ms/step - loss: 0.4982 - val_loss: 0.8556\n",
      "Epoch 8/50\n",
      "57/57 [==============================] - ETA: 2s - loss: 0.801 - ETA: 1s - loss: 0.484 - ETA: 0s - loss: 0.515 - ETA: 0s - loss: 0.500 - ETA: 0s - loss: 0.487 - ETA: 0s - loss: 0.482 - ETA: 0s - loss: 0.481 - ETA: 0s - loss: 0.494 - ETA: 0s - loss: 0.481 - ETA: 0s - loss: 0.488 - ETA: 0s - loss: 0.468 - ETA: 0s - loss: 0.460 - ETA: 0s - loss: 0.482 - ETA: 0s - loss: 0.494 - 1s 17ms/step - loss: 0.4937 - val_loss: 0.8557\n",
      "Epoch 9/50\n",
      "57/57 [==============================] - ETA: 2s - loss: 0.797 - ETA: 1s - loss: 0.481 - ETA: 0s - loss: 0.512 - ETA: 0s - loss: 0.497 - ETA: 0s - loss: 0.483 - ETA: 0s - loss: 0.478 - ETA: 0s - loss: 0.478 - ETA: 0s - loss: 0.490 - ETA: 0s - loss: 0.478 - ETA: 0s - loss: 0.485 - ETA: 0s - loss: 0.465 - ETA: 0s - loss: 0.457 - ETA: 0s - loss: 0.479 - ETA: 0s - loss: 0.491 - 1s 17ms/step - loss: 0.4906 - val_loss: 0.8552\n",
      "Epoch 10/50\n",
      "57/57 [==============================] - ETA: 2s - loss: 0.794 - ETA: 1s - loss: 0.479 - ETA: 0s - loss: 0.510 - ETA: 0s - loss: 0.495 - ETA: 0s - loss: 0.481 - ETA: 0s - loss: 0.476 - ETA: 0s - loss: 0.476 - ETA: 0s - loss: 0.489 - ETA: 0s - loss: 0.476 - ETA: 0s - loss: 0.483 - ETA: 0s - loss: 0.463 - ETA: 0s - loss: 0.455 - ETA: 0s - loss: 0.477 - ETA: 0s - loss: 0.493 - ETA: 0s - loss: 0.487 - 1s 17ms/step - loss: 0.4890 - val_loss: 0.8522\n",
      "Epoch 11/50\n",
      "57/57 [==============================] - ETA: 2s - loss: 0.794 - ETA: 1s - loss: 0.478 - ETA: 0s - loss: 0.509 - ETA: 0s - loss: 0.494 - ETA: 0s - loss: 0.479 - ETA: 0s - loss: 0.475 - ETA: 0s - loss: 0.475 - ETA: 0s - loss: 0.488 - ETA: 0s - loss: 0.475 - ETA: 0s - loss: 0.482 - ETA: 0s - loss: 0.462 - ETA: 0s - loss: 0.454 - ETA: 0s - loss: 0.476 - ETA: 0s - loss: 0.488 - 1s 17ms/step - loss: 0.4877 - val_loss: 0.8523\n",
      "Epoch 12/50\n",
      "57/57 [==============================] - ETA: 2s - loss: 0.793 - ETA: 1s - loss: 0.477 - ETA: 0s - loss: 0.508 - ETA: 0s - loss: 0.492 - ETA: 0s - loss: 0.478 - ETA: 0s - loss: 0.474 - ETA: 0s - loss: 0.474 - ETA: 0s - loss: 0.487 - ETA: 0s - loss: 0.474 - ETA: 0s - loss: 0.481 - ETA: 0s - loss: 0.461 - ETA: 0s - loss: 0.453 - ETA: 0s - loss: 0.475 - ETA: 0s - loss: 0.490 - ETA: 0s - loss: 0.485 - 1s 17ms/step - loss: 0.4869 - val_loss: 0.8471\n",
      "Epoch 13/50\n",
      "57/57 [==============================] - ETA: 2s - loss: 0.792 - ETA: 1s - loss: 0.477 - ETA: 0s - loss: 0.508 - ETA: 0s - loss: 0.492 - ETA: 0s - loss: 0.478 - ETA: 0s - loss: 0.473 - ETA: 0s - loss: 0.473 - ETA: 0s - loss: 0.486 - ETA: 0s - loss: 0.473 - ETA: 0s - loss: 0.480 - ETA: 0s - loss: 0.460 - ETA: 0s - loss: 0.452 - ETA: 0s - loss: 0.474 - ETA: 0s - loss: 0.487 - 1s 17ms/step - loss: 0.4864 - val_loss: 0.8472\n",
      "Epoch 14/50\n",
      "57/57 [==============================] - ETA: 2s - loss: 0.793 - ETA: 1s - loss: 0.477 - ETA: 0s - loss: 0.508 - ETA: 0s - loss: 0.492 - ETA: 0s - loss: 0.478 - ETA: 0s - loss: 0.473 - ETA: 0s - loss: 0.474 - ETA: 0s - loss: 0.487 - ETA: 0s - loss: 0.473 - ETA: 0s - loss: 0.480 - ETA: 0s - loss: 0.460 - ETA: 0s - loss: 0.452 - ETA: 0s - loss: 0.474 - ETA: 0s - loss: 0.487 - 1s 17ms/step - loss: 0.4862 - val_loss: 0.8437\n",
      "Epoch 15/50\n",
      "57/57 [==============================] - ETA: 2s - loss: 0.793 - ETA: 1s - loss: 0.477 - ETA: 0s - loss: 0.508 - ETA: 0s - loss: 0.492 - ETA: 0s - loss: 0.478 - ETA: 0s - loss: 0.474 - ETA: 0s - loss: 0.474 - ETA: 0s - loss: 0.487 - ETA: 0s - loss: 0.474 - ETA: 0s - loss: 0.481 - ETA: 0s - loss: 0.461 - ETA: 0s - loss: 0.453 - ETA: 0s - loss: 0.475 - ETA: 0s - loss: 0.487 - 1s 17ms/step - loss: 0.4863 - val_loss: 0.8529\n",
      "Epoch 16/50\n",
      "57/57 [==============================] - ETA: 2s - loss: 0.794 - ETA: 1s - loss: 0.478 - ETA: 0s - loss: 0.509 - ETA: 0s - loss: 0.492 - ETA: 0s - loss: 0.478 - ETA: 0s - loss: 0.474 - ETA: 0s - loss: 0.474 - ETA: 0s - loss: 0.487 - ETA: 0s - loss: 0.473 - ETA: 0s - loss: 0.480 - ETA: 0s - loss: 0.460 - ETA: 0s - loss: 0.452 - ETA: 0s - loss: 0.474 - ETA: 0s - loss: 0.487 - 1s 17ms/step - loss: 0.4859 - val_loss: 0.8480\n",
      "Epoch 17/50\n",
      "57/57 [==============================] - ETA: 2s - loss: 0.792 - ETA: 0s - loss: 0.477 - ETA: 0s - loss: 0.508 - ETA: 0s - loss: 0.492 - ETA: 0s - loss: 0.478 - ETA: 0s - loss: 0.473 - ETA: 0s - loss: 0.473 - ETA: 0s - loss: 0.486 - ETA: 0s - loss: 0.473 - ETA: 0s - loss: 0.480 - ETA: 0s - loss: 0.460 - ETA: 0s - loss: 0.452 - ETA: 0s - loss: 0.474 - ETA: 0s - loss: 0.489 - ETA: 0s - loss: 0.483 - 1s 17ms/step - loss: 0.4853 - val_loss: 0.8453\n",
      "Epoch 18/50\n",
      "57/57 [==============================] - ETA: 2s - loss: 0.793 - ETA: 1s - loss: 0.476 - ETA: 0s - loss: 0.507 - ETA: 0s - loss: 0.491 - ETA: 0s - loss: 0.477 - ETA: 0s - loss: 0.473 - ETA: 0s - loss: 0.472 - ETA: 0s - loss: 0.485 - ETA: 0s - loss: 0.472 - ETA: 0s - loss: 0.479 - ETA: 0s - loss: 0.459 - ETA: 0s - loss: 0.451 - ETA: 0s - loss: 0.473 - ETA: 0s - loss: 0.485 - 1s 17ms/step - loss: 0.4847 - val_loss: 0.8452\n",
      "Epoch 19/50\n"
     ]
    },
    {
     "name": "stdout",
     "output_type": "stream",
     "text": [
      "57/57 [==============================] - ETA: 2s - loss: 0.792 - ETA: 1s - loss: 0.476 - ETA: 0s - loss: 0.506 - ETA: 0s - loss: 0.490 - ETA: 0s - loss: 0.476 - ETA: 0s - loss: 0.472 - ETA: 0s - loss: 0.472 - ETA: 0s - loss: 0.485 - ETA: 0s - loss: 0.472 - ETA: 0s - loss: 0.478 - ETA: 0s - loss: 0.459 - ETA: 0s - loss: 0.451 - ETA: 0s - loss: 0.473 - ETA: 0s - loss: 0.485 - 1s 17ms/step - loss: 0.4847 - val_loss: 0.8466\n",
      "Epoch 20/50\n",
      "57/57 [==============================] - ETA: 2s - loss: 0.794 - ETA: 1s - loss: 0.477 - ETA: 0s - loss: 0.507 - ETA: 0s - loss: 0.491 - ETA: 0s - loss: 0.476 - ETA: 0s - loss: 0.472 - ETA: 0s - loss: 0.472 - ETA: 0s - loss: 0.485 - ETA: 0s - loss: 0.472 - ETA: 0s - loss: 0.478 - ETA: 0s - loss: 0.459 - ETA: 0s - loss: 0.451 - ETA: 0s - loss: 0.473 - ETA: 0s - loss: 0.485 - 1s 17ms/step - loss: 0.4846 - val_loss: 0.8429\n",
      "Epoch 21/50\n",
      "57/57 [==============================] - ETA: 2s - loss: 0.792 - ETA: 0s - loss: 0.477 - ETA: 0s - loss: 0.506 - ETA: 0s - loss: 0.491 - ETA: 0s - loss: 0.476 - ETA: 0s - loss: 0.472 - ETA: 0s - loss: 0.472 - ETA: 0s - loss: 0.485 - ETA: 0s - loss: 0.471 - ETA: 0s - loss: 0.484 - ETA: 0s - loss: 0.467 - ETA: 0s - loss: 0.450 - ETA: 0s - loss: 0.473 - ETA: 0s - loss: 0.488 - ETA: 0s - loss: 0.482 - 1s 18ms/step - loss: 0.4843 - val_loss: 0.8452\n",
      "Epoch 22/50\n",
      "57/57 [==============================] - ETA: 2s - loss: 0.793 - ETA: 1s - loss: 0.477 - ETA: 0s - loss: 0.506 - ETA: 0s - loss: 0.490 - ETA: 0s - loss: 0.476 - ETA: 0s - loss: 0.472 - ETA: 0s - loss: 0.472 - ETA: 0s - loss: 0.485 - ETA: 0s - loss: 0.471 - ETA: 0s - loss: 0.478 - ETA: 0s - loss: 0.458 - ETA: 0s - loss: 0.450 - ETA: 0s - loss: 0.472 - ETA: 0s - loss: 0.485 - 1s 17ms/step - loss: 0.4842 - val_loss: 0.8460\n",
      "Epoch 23/50\n",
      "57/57 [==============================] - ETA: 2s - loss: 0.792 - ETA: 1s - loss: 0.476 - ETA: 0s - loss: 0.506 - ETA: 0s - loss: 0.490 - ETA: 0s - loss: 0.476 - ETA: 0s - loss: 0.472 - ETA: 0s - loss: 0.472 - ETA: 0s - loss: 0.485 - ETA: 0s - loss: 0.471 - ETA: 0s - loss: 0.478 - ETA: 0s - loss: 0.458 - ETA: 0s - loss: 0.450 - ETA: 0s - loss: 0.472 - ETA: 0s - loss: 0.485 - 1s 17ms/step - loss: 0.4840 - val_loss: 0.8460\n",
      "Epoch 24/50\n",
      "57/57 [==============================] - ETA: 2s - loss: 0.792 - ETA: 1s - loss: 0.476 - ETA: 0s - loss: 0.505 - ETA: 0s - loss: 0.489 - ETA: 0s - loss: 0.475 - ETA: 0s - loss: 0.471 - ETA: 0s - loss: 0.471 - ETA: 0s - loss: 0.484 - ETA: 0s - loss: 0.471 - ETA: 0s - loss: 0.477 - ETA: 0s - loss: 0.458 - ETA: 0s - loss: 0.450 - ETA: 0s - loss: 0.472 - ETA: 0s - loss: 0.484 - 1s 17ms/step - loss: 0.4837 - val_loss: 0.8475\n",
      "Epoch 25/50\n",
      "57/57 [==============================] - ETA: 2s - loss: 0.793 - ETA: 1s - loss: 0.476 - ETA: 0s - loss: 0.505 - ETA: 0s - loss: 0.490 - ETA: 0s - loss: 0.476 - ETA: 0s - loss: 0.472 - ETA: 0s - loss: 0.472 - ETA: 0s - loss: 0.484 - ETA: 0s - loss: 0.471 - ETA: 0s - loss: 0.477 - ETA: 0s - loss: 0.458 - ETA: 0s - loss: 0.450 - ETA: 0s - loss: 0.472 - ETA: 0s - loss: 0.484 - 1s 17ms/step - loss: 0.4836 - val_loss: 0.8418\n",
      "Epoch 26/50\n",
      "57/57 [==============================] - ETA: 2s - loss: 0.792 - ETA: 0s - loss: 0.476 - ETA: 0s - loss: 0.505 - ETA: 0s - loss: 0.490 - ETA: 0s - loss: 0.476 - ETA: 0s - loss: 0.472 - ETA: 0s - loss: 0.472 - ETA: 0s - loss: 0.485 - ETA: 0s - loss: 0.471 - ETA: 0s - loss: 0.477 - ETA: 0s - loss: 0.458 - ETA: 0s - loss: 0.450 - ETA: 0s - loss: 0.472 - ETA: 0s - loss: 0.484 - 1s 17ms/step - loss: 0.4836 - val_loss: 0.8502\n",
      "Epoch 27/50\n",
      "57/57 [==============================] - ETA: 2s - loss: 0.794 - ETA: 1s - loss: 0.477 - ETA: 0s - loss: 0.505 - ETA: 0s - loss: 0.490 - ETA: 0s - loss: 0.476 - ETA: 0s - loss: 0.472 - ETA: 0s - loss: 0.472 - ETA: 0s - loss: 0.485 - ETA: 0s - loss: 0.471 - ETA: 0s - loss: 0.477 - ETA: 0s - loss: 0.458 - ETA: 0s - loss: 0.450 - ETA: 0s - loss: 0.472 - ETA: 0s - loss: 0.487 - ETA: 0s - loss: 0.482 - 1s 17ms/step - loss: 0.4837 - val_loss: 0.8414\n",
      "Epoch 28/50\n",
      "57/57 [==============================] - ETA: 2s - loss: 0.793 - ETA: 1s - loss: 0.476 - ETA: 0s - loss: 0.505 - ETA: 0s - loss: 0.490 - ETA: 0s - loss: 0.476 - ETA: 0s - loss: 0.472 - ETA: 0s - loss: 0.472 - ETA: 0s - loss: 0.485 - ETA: 0s - loss: 0.471 - ETA: 0s - loss: 0.477 - ETA: 0s - loss: 0.458 - ETA: 0s - loss: 0.449 - ETA: 0s - loss: 0.472 - ETA: 0s - loss: 0.487 - ETA: 0s - loss: 0.482 - 1s 17ms/step - loss: 0.4838 - val_loss: 0.8355\n",
      "Epoch 29/50\n",
      "57/57 [==============================] - ETA: 2s - loss: 0.791 - ETA: 1s - loss: 0.475 - ETA: 0s - loss: 0.505 - ETA: 0s - loss: 0.489 - ETA: 0s - loss: 0.476 - ETA: 0s - loss: 0.472 - ETA: 0s - loss: 0.471 - ETA: 0s - loss: 0.484 - ETA: 0s - loss: 0.471 - ETA: 0s - loss: 0.477 - ETA: 0s - loss: 0.457 - ETA: 0s - loss: 0.449 - ETA: 0s - loss: 0.472 - ETA: 0s - loss: 0.484 - 1s 17ms/step - loss: 0.4837 - val_loss: 0.8383\n",
      "Epoch 30/50\n",
      "57/57 [==============================] - ETA: 2s - loss: 0.791 - ETA: 1s - loss: 0.476 - ETA: 0s - loss: 0.505 - ETA: 0s - loss: 0.489 - ETA: 0s - loss: 0.475 - ETA: 0s - loss: 0.471 - ETA: 0s - loss: 0.471 - ETA: 0s - loss: 0.485 - ETA: 0s - loss: 0.471 - ETA: 0s - loss: 0.477 - ETA: 0s - loss: 0.458 - ETA: 0s - loss: 0.450 - ETA: 0s - loss: 0.472 - ETA: 0s - loss: 0.484 - 1s 17ms/step - loss: 0.4837 - val_loss: 0.8354\n",
      "Epoch 31/50\n",
      "57/57 [==============================] - ETA: 2s - loss: 0.792 - ETA: 1s - loss: 0.475 - ETA: 0s - loss: 0.505 - ETA: 0s - loss: 0.489 - ETA: 0s - loss: 0.475 - ETA: 0s - loss: 0.471 - ETA: 0s - loss: 0.472 - ETA: 0s - loss: 0.484 - ETA: 0s - loss: 0.471 - ETA: 0s - loss: 0.477 - ETA: 0s - loss: 0.458 - ETA: 0s - loss: 0.450 - ETA: 0s - loss: 0.472 - ETA: 0s - loss: 0.484 - 1s 17ms/step - loss: 0.4837 - val_loss: 0.8360\n",
      "Epoch 32/50\n",
      "57/57 [==============================] - ETA: 2s - loss: 0.794 - ETA: 1s - loss: 0.476 - ETA: 0s - loss: 0.505 - ETA: 0s - loss: 0.489 - ETA: 0s - loss: 0.475 - ETA: 0s - loss: 0.471 - ETA: 0s - loss: 0.471 - ETA: 0s - loss: 0.484 - ETA: 0s - loss: 0.471 - ETA: 0s - loss: 0.477 - ETA: 0s - loss: 0.457 - ETA: 0s - loss: 0.449 - ETA: 0s - loss: 0.471 - ETA: 0s - loss: 0.484 - 1s 17ms/step - loss: 0.4833 - val_loss: 0.8331\n",
      "Epoch 33/50\n",
      "57/57 [==============================] - ETA: 2s - loss: 0.792 - ETA: 1s - loss: 0.476 - ETA: 0s - loss: 0.505 - ETA: 0s - loss: 0.489 - ETA: 0s - loss: 0.475 - ETA: 0s - loss: 0.471 - ETA: 0s - loss: 0.471 - ETA: 0s - loss: 0.484 - ETA: 0s - loss: 0.470 - ETA: 0s - loss: 0.477 - ETA: 0s - loss: 0.457 - ETA: 0s - loss: 0.449 - ETA: 0s - loss: 0.471 - ETA: 0s - loss: 0.484 - 1s 17ms/step - loss: 0.4831 - val_loss: 0.8300\n",
      "Epoch 34/50\n",
      "57/57 [==============================] - ETA: 2s - loss: 0.792 - ETA: 0s - loss: 0.476 - ETA: 0s - loss: 0.505 - ETA: 0s - loss: 0.489 - ETA: 0s - loss: 0.475 - ETA: 0s - loss: 0.471 - ETA: 0s - loss: 0.471 - ETA: 0s - loss: 0.484 - ETA: 0s - loss: 0.470 - ETA: 0s - loss: 0.483 - ETA: 0s - loss: 0.465 - ETA: 0s - loss: 0.449 - ETA: 0s - loss: 0.472 - ETA: 0s - loss: 0.490 - ETA: 0s - loss: 0.477 - 1s 17ms/step - loss: 0.4831 - val_loss: 0.8356\n",
      "Epoch 35/50\n",
      "57/57 [==============================] - ETA: 2s - loss: 0.791 - ETA: 0s - loss: 0.476 - ETA: 0s - loss: 0.505 - ETA: 0s - loss: 0.489 - ETA: 0s - loss: 0.475 - ETA: 0s - loss: 0.471 - ETA: 0s - loss: 0.471 - ETA: 0s - loss: 0.484 - ETA: 0s - loss: 0.470 - ETA: 0s - loss: 0.477 - ETA: 0s - loss: 0.457 - ETA: 0s - loss: 0.449 - ETA: 0s - loss: 0.471 - ETA: 0s - loss: 0.487 - ETA: 0s - loss: 0.481 - 1s 18ms/step - loss: 0.4830 - val_loss: 0.8227\n",
      "Epoch 36/50\n",
      "57/57 [==============================] - ETA: 2s - loss: 0.791 - ETA: 1s - loss: 0.476 - ETA: 0s - loss: 0.505 - ETA: 0s - loss: 0.489 - ETA: 0s - loss: 0.475 - ETA: 0s - loss: 0.471 - ETA: 0s - loss: 0.471 - ETA: 0s - loss: 0.484 - ETA: 0s - loss: 0.470 - ETA: 0s - loss: 0.476 - ETA: 0s - loss: 0.457 - ETA: 0s - loss: 0.449 - ETA: 0s - loss: 0.471 - ETA: 0s - loss: 0.483 - 1s 18ms/step - loss: 0.4826 - val_loss: 0.8335\n",
      "Epoch 37/50\n"
     ]
    },
    {
     "name": "stdout",
     "output_type": "stream",
     "text": [
      "57/57 [==============================] - ETA: 2s - loss: 0.793 - ETA: 1s - loss: 0.475 - ETA: 0s - loss: 0.504 - ETA: 0s - loss: 0.488 - ETA: 0s - loss: 0.475 - ETA: 0s - loss: 0.471 - ETA: 0s - loss: 0.471 - ETA: 0s - loss: 0.483 - ETA: 0s - loss: 0.470 - ETA: 0s - loss: 0.476 - ETA: 0s - loss: 0.456 - ETA: 0s - loss: 0.448 - ETA: 0s - loss: 0.470 - ETA: 0s - loss: 0.483 - 1s 17ms/step - loss: 0.4824 - val_loss: 0.8318\n",
      "Epoch 38/50\n",
      "57/57 [==============================] - ETA: 2s - loss: 0.792 - ETA: 1s - loss: 0.475 - ETA: 0s - loss: 0.505 - ETA: 0s - loss: 0.489 - ETA: 0s - loss: 0.475 - ETA: 0s - loss: 0.478 - ETA: 0s - loss: 0.474 - ETA: 0s - loss: 0.483 - ETA: 0s - loss: 0.477 - ETA: 0s - loss: 0.483 - ETA: 0s - loss: 0.465 - ETA: 0s - loss: 0.446 - ETA: 0s - loss: 0.467 - ETA: 0s - loss: 0.489 - ETA: 0s - loss: 0.481 - 1s 19ms/step - loss: 0.4826 - val_loss: 0.8330\n",
      "Epoch 39/50\n",
      "57/57 [==============================] - ETA: 2s - loss: 0.792 - ETA: 1s - loss: 0.475 - ETA: 0s - loss: 0.505 - ETA: 0s - loss: 0.489 - ETA: 0s - loss: 0.475 - ETA: 0s - loss: 0.471 - ETA: 0s - loss: 0.471 - ETA: 0s - loss: 0.484 - ETA: 0s - loss: 0.470 - ETA: 0s - loss: 0.476 - ETA: 0s - loss: 0.457 - ETA: 0s - loss: 0.449 - ETA: 0s - loss: 0.471 - ETA: 0s - loss: 0.486 - ETA: 0s - loss: 0.481 - 1s 18ms/step - loss: 0.4827 - val_loss: 0.8362\n",
      "Epoch 40/50\n",
      "57/57 [==============================] - ETA: 2s - loss: 0.792 - ETA: 1s - loss: 0.476 - ETA: 0s - loss: 0.505 - ETA: 0s - loss: 0.489 - ETA: 0s - loss: 0.475 - ETA: 0s - loss: 0.471 - ETA: 0s - loss: 0.471 - ETA: 0s - loss: 0.484 - ETA: 0s - loss: 0.470 - ETA: 0s - loss: 0.477 - ETA: 0s - loss: 0.457 - ETA: 0s - loss: 0.449 - ETA: 0s - loss: 0.471 - ETA: 0s - loss: 0.483 - 1s 18ms/step - loss: 0.4827 - val_loss: 0.8301\n",
      "Epoch 41/50\n",
      "57/57 [==============================] - ETA: 2s - loss: 0.791 - ETA: 0s - loss: 0.475 - ETA: 0s - loss: 0.505 - ETA: 0s - loss: 0.489 - ETA: 0s - loss: 0.475 - ETA: 0s - loss: 0.471 - ETA: 0s - loss: 0.471 - ETA: 0s - loss: 0.484 - ETA: 0s - loss: 0.470 - ETA: 0s - loss: 0.476 - ETA: 0s - loss: 0.457 - ETA: 0s - loss: 0.449 - ETA: 0s - loss: 0.471 - ETA: 0s - loss: 0.483 - 1s 17ms/step - loss: 0.4827 - val_loss: 0.8301\n",
      "Epoch 42/50\n",
      "57/57 [==============================] - ETA: 2s - loss: 0.792 - ETA: 1s - loss: 0.476 - ETA: 0s - loss: 0.506 - ETA: 0s - loss: 0.490 - ETA: 0s - loss: 0.476 - ETA: 0s - loss: 0.472 - ETA: 0s - loss: 0.472 - ETA: 0s - loss: 0.485 - ETA: 0s - loss: 0.471 - ETA: 0s - loss: 0.477 - ETA: 0s - loss: 0.458 - ETA: 0s - loss: 0.449 - ETA: 0s - loss: 0.472 - ETA: 0s - loss: 0.484 - 1s 17ms/step - loss: 0.4835 - val_loss: 0.8335\n",
      "Epoch 43/50\n",
      "57/57 [==============================] - ETA: 2s - loss: 0.793 - ETA: 1s - loss: 0.476 - ETA: 0s - loss: 0.508 - ETA: 0s - loss: 0.492 - ETA: 0s - loss: 0.478 - ETA: 0s - loss: 0.473 - ETA: 0s - loss: 0.473 - ETA: 0s - loss: 0.486 - ETA: 0s - loss: 0.472 - ETA: 0s - loss: 0.478 - ETA: 0s - loss: 0.458 - ETA: 0s - loss: 0.450 - ETA: 0s - loss: 0.472 - ETA: 0s - loss: 0.485 - 1s 17ms/step - loss: 0.4842 - val_loss: 0.8267\n",
      "Epoch 44/50\n",
      "57/57 [==============================] - ETA: 2s - loss: 0.792 - ETA: 1s - loss: 0.477 - ETA: 0s - loss: 0.507 - ETA: 0s - loss: 0.491 - ETA: 0s - loss: 0.477 - ETA: 0s - loss: 0.473 - ETA: 0s - loss: 0.473 - ETA: 0s - loss: 0.486 - ETA: 0s - loss: 0.472 - ETA: 0s - loss: 0.478 - ETA: 0s - loss: 0.458 - ETA: 0s - loss: 0.450 - ETA: 0s - loss: 0.472 - ETA: 0s - loss: 0.485 - 1s 17ms/step - loss: 0.4842 - val_loss: 0.8181\n",
      "Epoch 45/50\n",
      "57/57 [==============================] - ETA: 2s - loss: 0.792 - ETA: 1s - loss: 0.477 - ETA: 0s - loss: 0.506 - ETA: 0s - loss: 0.490 - ETA: 0s - loss: 0.476 - ETA: 0s - loss: 0.472 - ETA: 0s - loss: 0.472 - ETA: 0s - loss: 0.485 - ETA: 0s - loss: 0.471 - ETA: 0s - loss: 0.478 - ETA: 0s - loss: 0.458 - ETA: 0s - loss: 0.450 - ETA: 0s - loss: 0.472 - ETA: 0s - loss: 0.484 - 1s 17ms/step - loss: 0.4837 - val_loss: 0.8233\n",
      "Epoch 46/50\n",
      "57/57 [==============================] - ETA: 2s - loss: 0.791 - ETA: 1s - loss: 0.476 - ETA: 0s - loss: 0.506 - ETA: 0s - loss: 0.489 - ETA: 0s - loss: 0.476 - ETA: 0s - loss: 0.471 - ETA: 0s - loss: 0.471 - ETA: 0s - loss: 0.484 - ETA: 0s - loss: 0.471 - ETA: 0s - loss: 0.477 - ETA: 0s - loss: 0.457 - ETA: 0s - loss: 0.449 - ETA: 0s - loss: 0.471 - ETA: 0s - loss: 0.487 - ETA: 0s - loss: 0.481 - 1s 17ms/step - loss: 0.4831 - val_loss: 0.8216\n",
      "Epoch 47/50\n",
      "57/57 [==============================] - ETA: 2s - loss: 0.791 - ETA: 0s - loss: 0.475 - ETA: 0s - loss: 0.505 - ETA: 0s - loss: 0.489 - ETA: 0s - loss: 0.475 - ETA: 0s - loss: 0.471 - ETA: 0s - loss: 0.471 - ETA: 0s - loss: 0.484 - ETA: 0s - loss: 0.470 - ETA: 0s - loss: 0.477 - ETA: 0s - loss: 0.457 - ETA: 0s - loss: 0.449 - ETA: 0s - loss: 0.471 - ETA: 0s - loss: 0.483 - 1s 17ms/step - loss: 0.4829 - val_loss: 0.8284\n",
      "Epoch 48/50\n",
      "57/57 [==============================] - ETA: 2s - loss: 0.791 - ETA: 1s - loss: 0.475 - ETA: 0s - loss: 0.504 - ETA: 0s - loss: 0.488 - ETA: 0s - loss: 0.474 - ETA: 0s - loss: 0.470 - ETA: 0s - loss: 0.471 - ETA: 0s - loss: 0.483 - ETA: 0s - loss: 0.470 - ETA: 0s - loss: 0.476 - ETA: 0s - loss: 0.456 - ETA: 0s - loss: 0.448 - ETA: 0s - loss: 0.470 - ETA: 0s - loss: 0.483 - 1s 17ms/step - loss: 0.4823 - val_loss: 0.8308\n",
      "Epoch 49/50\n",
      "57/57 [==============================] - ETA: 2s - loss: 0.791 - ETA: 1s - loss: 0.475 - ETA: 0s - loss: 0.504 - ETA: 0s - loss: 0.488 - ETA: 0s - loss: 0.474 - ETA: 0s - loss: 0.470 - ETA: 0s - loss: 0.470 - ETA: 0s - loss: 0.483 - ETA: 0s - loss: 0.469 - ETA: 0s - loss: 0.476 - ETA: 0s - loss: 0.456 - ETA: 0s - loss: 0.448 - ETA: 0s - loss: 0.470 - ETA: 0s - loss: 0.482 - 1s 17ms/step - loss: 0.4819 - val_loss: 0.8218\n",
      "Epoch 50/50\n",
      "57/57 [==============================] - ETA: 2s - loss: 0.791 - ETA: 1s - loss: 0.474 - ETA: 0s - loss: 0.504 - ETA: 0s - loss: 0.488 - ETA: 0s - loss: 0.474 - ETA: 0s - loss: 0.470 - ETA: 0s - loss: 0.470 - ETA: 0s - loss: 0.483 - ETA: 0s - loss: 0.469 - ETA: 0s - loss: 0.475 - ETA: 0s - loss: 0.456 - ETA: 0s - loss: 0.448 - ETA: 0s - loss: 0.470 - ETA: 0s - loss: 0.482 - 1s 17ms/step - loss: 0.4819 - val_loss: 0.8183\n"
     ]
    }
   ],
   "source": [
    "EPOCHS = 50\n",
    "history = model.fit(x=ds_train, epochs=EPOCHS, verbose=1, validation_data=ds_valid)"
   ]
  },
  {
   "cell_type": "code",
   "execution_count": 32,
   "metadata": {},
   "outputs": [
    {
     "data": {
      "image/png": "[encoded data removed]",
      "text/plain": [
       "<Figure size 576x576 with 2 Axes>"
      ]
     },
     "metadata": {},
     "output_type": "display_data"
    }
   ],
   "source": [
    "fig = plt.figure(figsize=(8, 8), facecolor='white')\n",
    "plt.subplot(2, 1, 1)\n",
    "plt.plot(history.history['val_loss'], label='Validation')\n",
    "plt.plot(history.history['loss'], label='Training')\n",
    "plt.title('model loss')\n",
    "plt.ylabel('loss')\n",
    "plt.xlabel('epoch')\n",
    "plt.legend(loc='upper right')\n",
    "plt.subplot(2, 1, 2)\n",
    "pred_y = model.predict(x=X_valid[0][None, :, :])\n",
    "plt.plot(Y_valid[0], 'k', label='True Values')\n",
    "plt.plot(pred_y[0], 'r', label='Predictions')\n",
    "plt.legend()\n",
    "plt.show()"
   ]
  }
 ],
 "metadata": {
  "kernelspec": {
   "display_name": "Python 3",
   "language": "python",
   "name": "python3"
  },
  "language_info": {
   "codemirror_mode": {
    "name": "ipython",
    "version": 3
   },
   "file_extension": ".py",
   "mimetype": "text/x-python",
   "name": "python",
   "nbconvert_exporter": "python",
   "pygments_lexer": "ipython3",
   "version": "3.6.8"
  },
  "pycharm": {
   "stem_cell": {
    "cell_type": "raw",
    "source": [],
    "metadata": {
     "collapsed": false
    }
   }
  }
 },
 "nbformat": 4,
 "nbformat_minor": 1
}