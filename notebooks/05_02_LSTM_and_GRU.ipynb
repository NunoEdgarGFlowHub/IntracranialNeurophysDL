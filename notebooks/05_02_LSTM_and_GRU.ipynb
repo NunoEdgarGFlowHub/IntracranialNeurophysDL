{
 "cells": [
  {
   "cell_type": "markdown",
   "metadata": {
    "collapsed": true,
    "pycharm": {
     "name": "#%% md\n"
    }
   },
   "source": [
    "# LSTM and GRU with cortical electrophys\n",
    "This notebook is part of the [SachsLab Workshop for Intracranial Neurophysiology and Deep Learning](https://github.com/SachsLab/IntracranialNeurophysDL).\n",
    "\n",
    "Run the first three cells to normalize Local / Colab environments, then proceed below for the lesson."
   ]
  },
  {
   "cell_type": "code",
   "execution_count": 1,
   "metadata": {
    "pycharm": {
     "name": "#%%\n"
    }
   },
   "outputs": [],
   "source": [
    "%load_ext autoreload\n",
    "%autoreload 2"
   ]
  },
  {
   "cell_type": "code",
   "execution_count": 2,
   "metadata": {
    "pycharm": {
     "name": "#%%\n"
    }
   },
   "outputs": [],
   "source": [
    "from pathlib import Path\n",
    "import os\n",
    "try:\n",
    "    # See if we are running on google.colab\n",
    "    import google.colab\n",
    "    from google.colab import files\n",
    "    os.chdir('..')\n",
    "    if not (Path.home() / '.kaggle').is_dir():\n",
    "        # Configure kaggle\n",
    "        files.upload()  # Find the kaggle.json file in your ~/.kaggle directory.\n",
    "        !pip install -q kaggle\n",
    "        !mkdir -p ~/.kaggle\n",
    "        !mv kaggle.json ~/.kaggle/\n",
    "        !chmod 600 ~/.kaggle/kaggle.json\n",
    "    if Path.cwd().stem != 'IntracranialNeurophysDL':\n",
    "        if not (Path.cwd() / 'IntracranialNeurophysDL').is_dir():\n",
    "            # Download the workshop repo and change to its directory\n",
    "            !git clone --recursive https://github.com/SachsLab/IntracranialNeurophysDL.git\n",
    "        os.chdir('IntracranialNeurophysDL')\n",
    "    IN_COLAB = True\n",
    "    # Setup tensorflow 2.0\n",
    "    !pip install -q tensorflow-gpu==2.0.0-alpha0\n",
    "except ModuleNotFoundError:\n",
    "    IN_COLAB = False\n",
    "    import sys\n",
    "    if Path.cwd().stem == 'notebooks':\n",
    "        os.chdir(Path.cwd().parent)\n",
    "    # Make sure the kaggle executable is on the PATH\n",
    "    os.environ['PATH'] = os.environ['PATH'] + ';' + str(Path(sys.executable).parent / 'Scripts')\n",
    "\n",
    "# Try to clear any logs from previous runs\n",
    "if (Path.cwd() / 'logs').is_dir():\n",
    "    import shutil\n",
    "    try:\n",
    "        shutil.rmtree(str(Path.cwd() / 'logs'))\n",
    "    except PermissionError:\n",
    "        print(\"Unable to remove logs directory.\")\n",
    "\n",
    "# Additional imports\n",
    "import tensorflow as tf\n",
    "import datetime\n",
    "import numpy as np\n",
    "import matplotlib.pyplot as plt\n",
    "from indl import enable_plotly_in_cell\n",
    "%load_ext tensorboard.notebook"
   ]
  },
  {
   "cell_type": "code",
   "execution_count": 3,
   "metadata": {
    "pycharm": {
     "name": "#%%\n"
    }
   },
   "outputs": [
    {
     "name": "stdout",
     "output_type": "stream",
     "text": [
      "Data directory found. Skipping download.\n"
     ]
    }
   ],
   "source": [
    "# Download and unzip data (3.4 GB)\n",
    "datadir = Path.cwd() / 'data' / 'joeyo'\n",
    "if not (datadir / 'converted').is_dir():\n",
    "    !kaggle datasets download --unzip --path {str(datadir / 'converted')} cboulay/joeyo_nhp_reach_mea\n",
    "    print(\"Finished downloading and extracting data.\")\n",
    "else:\n",
    "    print(\"Data directory found. Skipping download.\")"
   ]
  },
  {
   "cell_type": "markdown",
   "metadata": {},
   "source": [
    "## Prepare Data"
   ]
  },
  {
   "cell_type": "markdown",
   "metadata": {},
   "source": [
    "### Import"
   ]
  },
  {
   "cell_type": "code",
   "execution_count": 4,
   "metadata": {},
   "outputs": [],
   "source": [
    "from data.utils.fileio import load_joeyo_reaching\n",
    "sess_names = ['indy_2016' + _ for _ in ['0921_01', '0927_04', '0927_06', '0930_02', '0930_05' '1005_06' '1006_02']]\n",
    "sess_name = sess_names[0]\n",
    "X, Y, X_ax_info, Y_ax_info = load_joeyo_reaching(datadir, sess_name, x_chunk='spikerates')"
   ]
  },
  {
   "cell_type": "markdown",
   "metadata": {},
   "source": [
    "### Prepare for TensorFlow\n",
    "TODO: If we want to use LFP data (1 kHz) we need to downsample it or upsample behaviour (250 Hz)\n",
    "\n",
    "Y has finger position (3-D), cursor position (2-D; direct projection of finger position), and the target position. We need only the cursor position, so we select only those channels from Y.\n",
    "\n",
    "Both X and Y come in shape (channels, samples) as float64. We need them in (segments, samples, channels) as float32.\n",
    "\n",
    "Finally, we create training and validation sets."
   ]
  },
  {
   "cell_type": "code",
   "execution_count": 5,
   "metadata": {},
   "outputs": [],
   "source": [
    "from sklearn.model_selection import train_test_split\n",
    "SEQ_LENGTH = 100\n",
    "P_TRAIN = 0.8\n",
    "BATCH_SIZE = 5\n",
    "behav_chans = ['CursorX', 'CursorY']\n",
    "\n",
    "# Slice Y to only keep required behaviour data.\n",
    "b_keep_y_chans = np.in1d(Y_ax_info['channel_names'] , behav_chans)\n",
    "Y = Y[b_keep_y_chans, :]\n",
    "\n",
    "# Segment X and Y into sequences of length seq_length\n",
    "n_drop = X.shape[-1] % SEQ_LENGTH\n",
    "X = X[:, :-n_drop].astype(np.float32).reshape((X.shape[0], -1, SEQ_LENGTH)).transpose((1, 2, 0))\n",
    "Y = Y[:, :-n_drop].astype(np.float32).reshape((Y.shape[0], -1, SEQ_LENGTH)).transpose((1, 2, 0))\n",
    "n_trials = X.shape[0]\n",
    "\n",
    "X_train, X_valid, Y_train, Y_valid = train_test_split(X, Y, train_size=P_TRAIN)\n",
    "\n",
    "ds_train = tf.data.Dataset.from_tensor_slices((X_train, Y_train))\n",
    "ds_valid = tf.data.Dataset.from_tensor_slices((X_valid, Y_valid))\n",
    "\n",
    "ds_train = ds_train.shuffle(int(n_trials * P_TRAIN) + 1).batch(BATCH_SIZE, drop_remainder=True)  # , drop_remainder=True?\n",
    "ds_valid = ds_valid.batch(BATCH_SIZE)"
   ]
  },
  {
   "cell_type": "markdown",
   "metadata": {
    "pycharm": {
     "name": "#%% md\n"
    }
   },
   "source": [
    "## Long Short-Term Memory (LSTM) and Gated Recurrent Unit (GRU)\n",
    "[This blog post](https://colah.github.io/posts/2015-08-Understanding-LSTMs/) from mid-2015 is still one of the best explanations of LSTMs around. The short of it is that each LSTM cell has three functions or 'gates' that decide (on each step) how much of the state (forget gate) gets combined with how much of the input (update gate) to make the new state, and how much of the input gets combined with the state to make the output (output gate).\n",
    "\n",
    "GRUs are similar in concept but use only two gates: an update gate and a reset gate. [See here](https://arxiv.org/pdf/1412.3555v1.pdf).\n",
    "\n",
    "As such, LSTMs are slightly more sophisticated and theoretically could model more of your model space, but in practice GRUs usually do just as well and are more efficient computationally. We will quickly try each version.\n",
    "\n",
    "### Implementation Details\n",
    "This will probably change, but the unification of LSTM APIs in TensorFlow 2.0 means that there are some constraints on how an LSTM can be parameterized and still run on the GPU.\n",
    "\n",
    "1. activation == 'tanh'\n",
    "2. recurrent_activation == 'sigmoid'\n",
    "3. recurrent_dropout == 0\n",
    "4. unroll is False\n",
    "5. use_bias is True\n",
    "6. No use of masking."
   ]
  },
  {
   "cell_type": "code",
   "execution_count": 9,
   "metadata": {},
   "outputs": [
    {
     "name": "stderr",
     "output_type": "stream",
     "text": [
      "W0604 12:28:21.643764  3564 tf_logging.py:161] <tensorflow.python.keras.layers.recurrent.UnifiedLSTM object at 0x0000023F77BE9D30>: Note that this layer is not optimized for performance. Please use tf.keras.layers.CuDNNLSTM for better performance on GPU.\n"
     ]
    },
    {
     "name": "stdout",
     "output_type": "stream",
     "text": [
      "Model: \"model_1\"\n",
      "_________________________________________________________________\n",
      "Layer (type)                 Output Shape              Param #   \n",
      "=================================================================\n",
      "input_2 (InputLayer)         [(None, 100, 257)]        0         \n",
      "_________________________________________________________________\n",
      "unified_lstm_1 (UnifiedLSTM) (None, 100, 2)            2080      \n",
      "=================================================================\n",
      "Total params: 2,080\n",
      "Trainable params: 2,080\n",
      "Non-trainable params: 0\n",
      "_________________________________________________________________\n"
     ]
    }
   ],
   "source": [
    "N_RNN_UNITS = 2\n",
    "inputs = tf.keras.layers.Input(shape=(SEQ_LENGTH, X.shape[-1]))\n",
    "outputs = tf.keras.layers.LSTM(N_RNN_UNITS, return_sequences=True)(inputs)\n",
    "model = tf.keras.Model(inputs, outputs)\n",
    "model.compile(optimizer='rmsprop', loss='mean_squared_error')\n",
    "model.summary()"
   ]
  },
  {
   "cell_type": "code",
   "execution_count": 10,
   "metadata": {},
   "outputs": [
    {
     "name": "stdout",
     "output_type": "stream",
     "text": [
      "Epoch 1/100\n",
      "144/144 [==============================] - ETA: 1:16 - loss: 2901.98 - ETA: 41s - loss: 3478.2501 - ETA: 8s - loss: 2782.293 - ETA: 4s - loss: 2647.98 - ETA: 3s - loss: 2700.17 - ETA: 2s - loss: 2645.44 - ETA: 2s - loss: 2704.97 - ETA: 1s - loss: 2738.52 - ETA: 1s - loss: 2723.52 - ETA: 1s - loss: 2747.66 - ETA: 0s - loss: 2717.99 - ETA: 0s - loss: 2708.18 - ETA: 0s - loss: 2714.61 - ETA: 0s - loss: 2685.59 - ETA: 0s - loss: 2671.66 - ETA: 0s - loss: 2641.66 - ETA: 0s - loss: 2652.62 - ETA: 0s - loss: 2672.18 - ETA: 0s - loss: 2667.75 - 2s 12ms/step - loss: 2668.6155 - val_loss: 2665.2590\n",
      "Epoch 2/100\n",
      "144/144 [==============================] - ETA: 4s - loss: 2832.97 - ETA: 1s - loss: 2804.80 - ETA: 1s - loss: 2678.33 - ETA: 0s - loss: 2666.62 - ETA: 0s - loss: 2653.25 - ETA: 0s - loss: 2697.87 - ETA: 0s - loss: 2732.28 - ETA: 0s - loss: 2717.82 - ETA: 0s - loss: 2750.39 - ETA: 0s - loss: 2716.76 - ETA: 0s - loss: 2705.41 - ETA: 0s - loss: 2710.91 - ETA: 0s - loss: 2703.58 - ETA: 0s - loss: 2666.61 - ETA: 0s - loss: 2642.05 - ETA: 0s - loss: 2641.97 - ETA: 0s - loss: 2671.16 - ETA: 0s - loss: 2682.81 - 1s 8ms/step - loss: 2664.8698 - val_loss: 2665.0337\n",
      "Epoch 3/100\n",
      "144/144 [==============================] - ETA: 5s - loss: 2832.49 - ETA: 1s - loss: 2755.49 - ETA: 0s - loss: 2629.73 - ETA: 0s - loss: 2697.95 - ETA: 0s - loss: 2638.95 - ETA: 0s - loss: 2714.44 - ETA: 0s - loss: 2702.24 - ETA: 0s - loss: 2729.53 - ETA: 0s - loss: 2748.65 - ETA: 0s - loss: 2704.32 - ETA: 0s - loss: 2686.75 - ETA: 0s - loss: 2704.58 - ETA: 0s - loss: 2701.94 - ETA: 0s - loss: 2664.25 - ETA: 0s - loss: 2639.21 - ETA: 0s - loss: 2645.60 - ETA: 0s - loss: 2669.46 - ETA: 0s - loss: 2680.99 - 1s 8ms/step - loss: 2663.0872 - val_loss: 2663.7326\n",
      "Epoch 4/100\n",
      "144/144 [==============================] - ETA: 5s - loss: 2832.29 - ETA: 1s - loss: 2800.11 - ETA: 1s - loss: 2674.49 - ETA: 0s - loss: 2684.82 - ETA: 0s - loss: 2632.92 - ETA: 0s - loss: 2694.76 - ETA: 0s - loss: 2729.46 - ETA: 0s - loss: 2715.12 - ETA: 0s - loss: 2739.69 - ETA: 0s - loss: 2710.12 - ETA: 0s - loss: 2700.30 - ETA: 0s - loss: 2707.12 - ETA: 0s - loss: 2678.25 - ETA: 0s - loss: 2664.63 - ETA: 0s - loss: 2634.04 - ETA: 0s - loss: 2638.66 - ETA: 0s - loss: 2662.78 - ETA: 0s - loss: 2673.73 - 1s 8ms/step - loss: 2661.5239 - val_loss: 2663.1459\n",
      "Epoch 5/100\n",
      "144/144 [==============================] - ETA: 5s - loss: 2835.44 - ETA: 1s - loss: 2799.48 - ETA: 1s - loss: 2672.70 - ETA: 0s - loss: 2660.39 - ETA: 0s - loss: 2630.15 - ETA: 0s - loss: 2711.05 - ETA: 0s - loss: 2699.03 - ETA: 0s - loss: 2720.74 - ETA: 0s - loss: 2731.76 - ETA: 0s - loss: 2701.14 - ETA: 0s - loss: 2683.48 - ETA: 0s - loss: 2701.14 - ETA: 0s - loss: 2698.72 - ETA: 0s - loss: 2661.96 - ETA: 0s - loss: 2636.06 - ETA: 0s - loss: 2642.36 - ETA: 0s - loss: 2666.28 - ETA: 0s - loss: 2677.63 - 1s 8ms/step - loss: 2659.8711 - val_loss: 2663.1111\n",
      "Epoch 6/100\n",
      "144/144 [==============================] - ETA: 5s - loss: 2835.79 - ETA: 1s - loss: 2799.45 - ETA: 1s - loss: 2672.60 - ETA: 0s - loss: 2659.63 - ETA: 0s - loss: 2645.87 - ETA: 0s - loss: 2706.21 - ETA: 0s - loss: 2697.80 - ETA: 0s - loss: 2690.81 - ETA: 0s - loss: 2736.63 - ETA: 0s - loss: 2707.18 - ETA: 0s - loss: 2697.38 - ETA: 0s - loss: 2704.27 - ETA: 0s - loss: 2675.50 - ETA: 0s - loss: 2662.03 - ETA: 0s - loss: 2631.77 - ETA: 0s - loss: 2642.66 - ETA: 0s - loss: 2662.34 - ETA: 0s - loss: 2657.87 - 1s 8ms/step - loss: 2658.8523 - val_loss: 2662.6870\n",
      "Epoch 7/100\n",
      "144/144 [==============================] - ETA: 5s - loss: 2836.97 - ETA: 1s - loss: 2798.20 - ETA: 1s - loss: 2671.53 - ETA: 0s - loss: 2680.28 - ETA: 0s - loss: 2627.81 - ETA: 0s - loss: 2689.53 - ETA: 0s - loss: 2724.64 - ETA: 0s - loss: 2724.31 - ETA: 0s - loss: 2743.50 - ETA: 0s - loss: 2709.89 - ETA: 0s - loss: 2698.34 - ETA: 0s - loss: 2704.07 - ETA: 0s - loss: 2693.49 - ETA: 0s - loss: 2660.14 - ETA: 0s - loss: 2630.67 - ETA: 0s - loss: 2641.19 - ETA: 0s - loss: 2668.34 - ETA: 0s - loss: 2666.88 - 1s 8ms/step - loss: 2658.0435 - val_loss: 2661.9988\n",
      "Epoch 8/100\n",
      "144/144 [==============================] - ETA: 5s - loss: 2836.53 - ETA: 1s - loss: 2797.24 - ETA: 1s - loss: 2670.61 - ETA: 0s - loss: 2657.49 - ETA: 0s - loss: 2643.53 - ETA: 0s - loss: 2704.04 - ETA: 0s - loss: 2696.20 - ETA: 0s - loss: 2689.23 - ETA: 0s - loss: 2731.69 - ETA: 0s - loss: 2703.16 - ETA: 0s - loss: 2701.75 - ETA: 0s - loss: 2702.90 - ETA: 0s - loss: 2674.16 - ETA: 0s - loss: 2660.71 - ETA: 0s - loss: 2630.43 - ETA: 0s - loss: 2641.26 - ETA: 0s - loss: 2660.91 - ETA: 0s - loss: 2656.43 - 1s 8ms/step - loss: 2657.3736 - val_loss: 2661.6051\n",
      "Epoch 9/100\n",
      "144/144 [==============================] - ETA: 5s - loss: 2835.53 - ETA: 1s - loss: 2795.61 - ETA: 1s - loss: 2669.58 - ETA: 0s - loss: 2656.50 - ETA: 0s - loss: 2642.62 - ETA: 0s - loss: 2703.08 - ETA: 0s - loss: 2694.59 - ETA: 0s - loss: 2687.63 - ETA: 0s - loss: 2730.05 - ETA: 0s - loss: 2701.65 - ETA: 0s - loss: 2700.40 - ETA: 0s - loss: 2708.58 - ETA: 0s - loss: 2678.41 - ETA: 0s - loss: 2665.97 - ETA: 0s - loss: 2626.62 - ETA: 0s - loss: 2634.09 - ETA: 0s - loss: 2653.12 - ETA: 0s - loss: 2658.35 - 1s 8ms/step - loss: 2656.6216 - val_loss: 2661.8014\n",
      "Epoch 10/100\n",
      "144/144 [==============================] - ETA: 5s - loss: 2835.38 - ETA: 1s - loss: 2794.80 - ETA: 1s - loss: 2668.99 - ETA: 0s - loss: 2656.03 - ETA: 0s - loss: 2641.91 - ETA: 0s - loss: 2702.64 - ETA: 0s - loss: 2694.24 - ETA: 0s - loss: 2687.17 - ETA: 0s - loss: 2729.51 - ETA: 0s - loss: 2701.06 - ETA: 0s - loss: 2699.73 - ETA: 0s - loss: 2707.89 - ETA: 0s - loss: 2677.73 - ETA: 0s - loss: 2665.12 - ETA: 0s - loss: 2628.82 - ETA: 0s - loss: 2639.67 - ETA: 0s - loss: 2659.45 - ETA: 0s - loss: 2655.06 - 1s 8ms/step - loss: 2656.0396 - val_loss: 2661.3003\n",
      "Epoch 11/100\n",
      "144/144 [==============================] - ETA: 5s - loss: 2835.29 - ETA: 1s - loss: 2794.86 - ETA: 0s - loss: 2622.21 - ETA: 0s - loss: 2678.28 - ETA: 0s - loss: 2625.33 - ETA: 0s - loss: 2686.56 - ETA: 0s - loss: 2721.76 - ETA: 0s - loss: 2707.60 - ETA: 0s - loss: 2732.43 - ETA: 0s - loss: 2703.05 - ETA: 0s - loss: 2693.50 - ETA: 0s - loss: 2700.64 - ETA: 0s - loss: 2672.11 - ETA: 0s - loss: 2658.80 - ETA: 0s - loss: 2628.50 - ETA: 0s - loss: 2639.35 - ETA: 0s - loss: 2659.10 - ETA: 0s - loss: 2654.72 - 1s 8ms/step - loss: 2655.6889 - val_loss: 2660.6520\n",
      "Epoch 12/100\n",
      "144/144 [==============================] - ETA: 5s - loss: 2834.90 - ETA: 1s - loss: 2793.37 - ETA: 1s - loss: 2667.76 - ETA: 0s - loss: 2655.08 - ETA: 0s - loss: 2641.09 - ETA: 0s - loss: 2701.42 - ETA: 0s - loss: 2693.15 - ETA: 0s - loss: 2686.13 - ETA: 0s - loss: 2728.54 - ETA: 0s - loss: 2700.10 - ETA: 0s - loss: 2698.81 - ETA: 0s - loss: 2706.99 - ETA: 0s - loss: 2676.84 - ETA: 0s - loss: 2664.36 - ETA: 0s - loss: 2625.02 - ETA: 0s - loss: 2632.55 - ETA: 0s - loss: 2651.77 - ETA: 0s - loss: 2657.06 - 1s 8ms/step - loss: 2655.3556 - val_loss: 2660.0958\n",
      "Epoch 13/100\n",
      "144/144 [==============================] - ETA: 5s - loss: 2834.73 - ETA: 1s - loss: 2793.27 - ETA: 1s - loss: 2667.96 - ETA: 0s - loss: 2655.24 - ETA: 0s - loss: 2641.04 - ETA: 0s - loss: 2701.27 - ETA: 0s - loss: 2692.97 - ETA: 0s - loss: 2685.92 - ETA: 0s - loss: 2731.81 - ETA: 0s - loss: 2702.43 - ETA: 0s - loss: 2692.84 - ETA: 0s - loss: 2699.84 - ETA: 0s - loss: 2671.32 - ETA: 0s - loss: 2658.02 - ETA: 0s - loss: 2627.36 - ETA: 0s - loss: 2637.94 - ETA: 0s - loss: 2665.10 - ETA: 0s - loss: 2663.73 - 1s 8ms/step - loss: 2654.9091 - val_loss: 2659.0042\n",
      "Epoch 14/100\n",
      "144/144 [==============================] - ETA: 5s - loss: 2834.04 - ETA: 1s - loss: 2747.03 - ETA: 1s - loss: 2620.83 - ETA: 0s - loss: 2676.61 - ETA: 0s - loss: 2623.90 - ETA: 0s - loss: 2685.07 - ETA: 0s - loss: 2720.44 - ETA: 0s - loss: 2706.19 - ETA: 0s - loss: 2731.16 - ETA: 0s - loss: 2701.72 - ETA: 0s - loss: 2692.21 - ETA: 0s - loss: 2699.20 - ETA: 0s - loss: 2670.68 - ETA: 0s - loss: 2657.43 - ETA: 0s - loss: 2627.13 - ETA: 0s - loss: 2637.39 - ETA: 0s - loss: 2664.58 - ETA: 0s - loss: 2663.23 - 1s 8ms/step - loss: 2654.4276 - val_loss: 2659.1247\n",
      "Epoch 15/100\n"
     ]
    },
    {
     "name": "stdout",
     "output_type": "stream",
     "text": [
      "144/144 [==============================] - ETA: 5s - loss: 2833.64 - ETA: 1s - loss: 2792.27 - ETA: 1s - loss: 2666.98 - ETA: 0s - loss: 2676.30 - ETA: 0s - loss: 2623.72 - ETA: 0s - loss: 2684.85 - ETA: 0s - loss: 2720.53 - ETA: 0s - loss: 2706.21 - ETA: 0s - loss: 2731.18 - ETA: 0s - loss: 2701.67 - ETA: 0s - loss: 2692.14 - ETA: 0s - loss: 2699.07 - ETA: 0s - loss: 2670.55 - ETA: 0s - loss: 2657.31 - ETA: 0s - loss: 2627.00 - ETA: 0s - loss: 2637.82 - ETA: 0s - loss: 2657.61 - ETA: 0s - loss: 2653.26 - 1s 8ms/step - loss: 2654.2683 - val_loss: 2659.3377\n",
      "Epoch 16/100\n",
      "144/144 [==============================] - ETA: 5s - loss: 2833.81 - ETA: 1s - loss: 2792.33 - ETA: 1s - loss: 2666.95 - ETA: 0s - loss: 2653.81 - ETA: 0s - loss: 2623.23 - ETA: 0s - loss: 2684.50 - ETA: 0s - loss: 2720.02 - ETA: 0s - loss: 2705.82 - ETA: 0s - loss: 2730.86 - ETA: 0s - loss: 2701.38 - ETA: 0s - loss: 2691.89 - ETA: 0s - loss: 2698.81 - ETA: 0s - loss: 2670.23 - ETA: 0s - loss: 2657.00 - ETA: 0s - loss: 2626.69 - ETA: 0s - loss: 2637.50 - ETA: 0s - loss: 2657.30 - ETA: 0s - loss: 2652.96 - 1s 8ms/step - loss: 2653.9778 - val_loss: 2659.2560\n",
      "Epoch 17/100\n",
      "144/144 [==============================] - ETA: 5s - loss: 2832.13 - ETA: 1s - loss: 2791.60 - ETA: 1s - loss: 2666.63 - ETA: 0s - loss: 2653.90 - ETA: 0s - loss: 2639.62 - ETA: 0s - loss: 2699.96 - ETA: 0s - loss: 2691.79 - ETA: 0s - loss: 2684.82 - ETA: 0s - loss: 2727.29 - ETA: 0s - loss: 2698.72 - ETA: 0s - loss: 2697.46 - ETA: 0s - loss: 2705.50 - ETA: 0s - loss: 2675.33 - ETA: 0s - loss: 2662.84 - ETA: 0s - loss: 2623.53 - ETA: 0s - loss: 2631.00 - ETA: 0s - loss: 2650.14 - ETA: 0s - loss: 2655.49 - 1s 8ms/step - loss: 2653.8549 - val_loss: 2659.1546\n",
      "Epoch 18/100\n",
      "144/144 [==============================] - ETA: 5s - loss: 2831.20 - ETA: 1s - loss: 2792.53 - ETA: 1s - loss: 2666.89 - ETA: 0s - loss: 2654.10 - ETA: 0s - loss: 2639.72 - ETA: 0s - loss: 2700.11 - ETA: 0s - loss: 2691.80 - ETA: 0s - loss: 2684.78 - ETA: 0s - loss: 2727.13 - ETA: 0s - loss: 2698.55 - ETA: 0s - loss: 2697.31 - ETA: 0s - loss: 2698.40 - ETA: 0s - loss: 2688.65 - ETA: 0s - loss: 2655.40 - ETA: 0s - loss: 2625.89 - ETA: 0s - loss: 2636.47 - ETA: 0s - loss: 2663.66 - ETA: 0s - loss: 2662.35 - 1s 8ms/step - loss: 2653.5590 - val_loss: 2658.8071\n",
      "Epoch 19/100\n",
      "144/144 [==============================] - ETA: 5s - loss: 2830.94 - ETA: 1s - loss: 2745.78 - ETA: 0s - loss: 2667.86 - ETA: 0s - loss: 2687.15 - ETA: 0s - loss: 2627.73 - ETA: 0s - loss: 2703.23 - ETA: 0s - loss: 2691.38 - ETA: 0s - loss: 2718.75 - ETA: 0s - loss: 2738.14 - ETA: 0s - loss: 2704.39 - ETA: 0s - loss: 2693.16 - ETA: 0s - loss: 2698.68 - ETA: 0s - loss: 2688.21 - ETA: 0s - loss: 2655.08 - ETA: 0s - loss: 2629.16 - ETA: 0s - loss: 2635.38 - ETA: 0s - loss: 2659.50 - ETA: 0s - loss: 2670.97 - 1s 8ms/step - loss: 2653.1900 - val_loss: 2658.4396\n",
      "Epoch 20/100\n",
      "144/144 [==============================] - ETA: 5s - loss: 2830.60 - ETA: 1s - loss: 2792.33 - ETA: 1s - loss: 2620.08 - ETA: 0s - loss: 2675.76 - ETA: 0s - loss: 2639.16 - ETA: 0s - loss: 2699.31 - ETA: 0s - loss: 2690.83 - ETA: 0s - loss: 2683.93 - ETA: 0s - loss: 2729.87 - ETA: 0s - loss: 2700.36 - ETA: 0s - loss: 2690.81 - ETA: 0s - loss: 2697.71 - ETA: 0s - loss: 2668.95 - ETA: 0s - loss: 2654.60 - ETA: 0s - loss: 2625.13 - ETA: 0s - loss: 2635.69 - ETA: 0s - loss: 2662.85 - ETA: 0s - loss: 2661.57 - 1s 8ms/step - loss: 2652.7742 - val_loss: 2658.4219\n",
      "Epoch 21/100\n",
      "144/144 [==============================] - ETA: 5s - loss: 2830.62 - ETA: 1s - loss: 2791.77 - ETA: 1s - loss: 2665.75 - ETA: 0s - loss: 2653.38 - ETA: 0s - loss: 2638.98 - ETA: 0s - loss: 2699.05 - ETA: 0s - loss: 2690.55 - ETA: 0s - loss: 2683.67 - ETA: 0s - loss: 2726.05 - ETA: 0s - loss: 2697.49 - ETA: 0s - loss: 2696.27 - ETA: 0s - loss: 2704.30 - ETA: 0s - loss: 2668.61 - ETA: 0s - loss: 2654.29 - ETA: 0s - loss: 2624.83 - ETA: 0s - loss: 2635.37 - ETA: 0s - loss: 2662.54 - ETA: 0s - loss: 2661.22 - 1s 8ms/step - loss: 2652.4283 - val_loss: 2658.3968\n",
      "Epoch 22/100\n",
      "144/144 [==============================] - ETA: 5s - loss: 2830.34 - ETA: 1s - loss: 2790.78 - ETA: 1s - loss: 2664.98 - ETA: 0s - loss: 2652.86 - ETA: 0s - loss: 2638.42 - ETA: 0s - loss: 2682.98 - ETA: 0s - loss: 2718.14 - ETA: 0s - loss: 2704.22 - ETA: 0s - loss: 2737.29 - ETA: 0s - loss: 2703.54 - ETA: 0s - loss: 2675.24 - ETA: 0s - loss: 2692.74 - ETA: 0s - loss: 2690.63 - ETA: 0s - loss: 2654.10 - ETA: 0s - loss: 2629.35 - ETA: 0s - loss: 2629.01 - ETA: 0s - loss: 2653.23 - ETA: 0s - loss: 2664.18 - 1s 8ms/step - loss: 2652.1048 - val_loss: 2658.4942\n",
      "Epoch 23/100\n",
      "144/144 [==============================] - ETA: 5s - loss: 2830.74 - ETA: 1s - loss: 2790.86 - ETA: 1s - loss: 2618.87 - ETA: 0s - loss: 2674.98 - ETA: 0s - loss: 2626.77 - ETA: 0s - loss: 2701.97 - ETA: 0s - loss: 2690.42 - ETA: 0s - loss: 2717.78 - ETA: 0s - loss: 2723.36 - ETA: 0s - loss: 2692.77 - ETA: 0s - loss: 2675.12 - ETA: 0s - loss: 2688.48 - ETA: 0s - loss: 2702.18 - ETA: 0s - loss: 2653.11 - ETA: 0s - loss: 2628.10 - ETA: 0s - loss: 2634.27 - ETA: 0s - loss: 2658.36 - ETA: 0s - loss: 2669.77 - 1s 8ms/step - loss: 2651.9834 - val_loss: 2658.2402\n",
      "Epoch 24/100\n",
      "144/144 [==============================] - ETA: 5s - loss: 2830.39 - ETA: 1s - loss: 2790.04 - ETA: 1s - loss: 2664.48 - ETA: 0s - loss: 2652.57 - ETA: 0s - loss: 2638.04 - ETA: 0s - loss: 2698.18 - ETA: 0s - loss: 2689.88 - ETA: 0s - loss: 2683.03 - ETA: 0s - loss: 2728.86 - ETA: 0s - loss: 2699.40 - ETA: 0s - loss: 2689.79 - ETA: 0s - loss: 2696.74 - ETA: 0s - loss: 2667.95 - ETA: 0s - loss: 2653.62 - ETA: 0s - loss: 2624.55 - ETA: 0s - loss: 2629.07 - ETA: 0s - loss: 2631.54 - ETA: 0s - loss: 2662.66 - ETA: 0s - loss: 2656.53 - 1s 8ms/step - loss: 2651.7413 - val_loss: 2658.3463\n",
      "Epoch 25/100\n",
      "144/144 [==============================] - ETA: 5s - loss: 2830.29 - ETA: 1s - loss: 2789.44 - ETA: 1s - loss: 2664.00 - ETA: 0s - loss: 2651.95 - ETA: 0s - loss: 2637.73 - ETA: 0s - loss: 2697.95 - ETA: 0s - loss: 2689.63 - ETA: 0s - loss: 2682.78 - ETA: 0s - loss: 2725.19 - ETA: 0s - loss: 2696.62 - ETA: 0s - loss: 2695.36 - ETA: 0s - loss: 2703.38 - ETA: 0s - loss: 2673.04 - ETA: 0s - loss: 2660.68 - ETA: 0s - loss: 2621.41 - ETA: 0s - loss: 2628.90 - ETA: 0s - loss: 2647.83 - ETA: 0s - loss: 2653.26 - 1s 8ms/step - loss: 2651.6406 - val_loss: 2658.2531\n",
      "Epoch 26/100\n",
      "144/144 [==============================] - ETA: 5s - loss: 2830.39 - ETA: 1s - loss: 2789.06 - ETA: 1s - loss: 2663.88 - ETA: 0s - loss: 2652.34 - ETA: 0s - loss: 2637.69 - ETA: 0s - loss: 2697.95 - ETA: 0s - loss: 2689.61 - ETA: 0s - loss: 2682.73 - ETA: 0s - loss: 2725.12 - ETA: 0s - loss: 2696.55 - ETA: 0s - loss: 2695.30 - ETA: 0s - loss: 2703.29 - ETA: 0s - loss: 2672.90 - ETA: 0s - loss: 2660.56 - ETA: 0s - loss: 2621.27 - ETA: 0s - loss: 2628.76 - ETA: 0s - loss: 2647.67 - ETA: 0s - loss: 2653.02 - 1s 8ms/step - loss: 2651.4124 - val_loss: 2657.9197\n",
      "Epoch 27/100\n",
      "144/144 [==============================] - ETA: 5s - loss: 2830.20 - ETA: 1s - loss: 2788.97 - ETA: 1s - loss: 2663.53 - ETA: 0s - loss: 2651.60 - ETA: 0s - loss: 2637.01 - ETA: 0s - loss: 2697.32 - ETA: 0s - loss: 2689.09 - ETA: 0s - loss: 2682.22 - ETA: 0s - loss: 2724.67 - ETA: 0s - loss: 2698.68 - ETA: 0s - loss: 2689.15 - ETA: 0s - loss: 2696.06 - ETA: 0s - loss: 2667.22 - ETA: 0s - loss: 2652.95 - ETA: 0s - loss: 2623.55 - ETA: 0s - loss: 2634.04 - ETA: 0s - loss: 2661.16 - ETA: 0s - loss: 2659.87 - 1s 8ms/step - loss: 2651.0927 - val_loss: 2658.1654\n",
      "Epoch 28/100\n",
      "144/144 [==============================] - ETA: 5s - loss: 2830.16 - ETA: 1s - loss: 2743.28 - ETA: 1s - loss: 2617.33 - ETA: 0s - loss: 2673.80 - ETA: 0s - loss: 2620.32 - ETA: 0s - loss: 2700.58 - ETA: 0s - loss: 2688.98 - ETA: 0s - loss: 2716.40 - ETA: 0s - loss: 2735.92 - ETA: 0s - loss: 2702.08 - ETA: 0s - loss: 2690.80 - ETA: 0s - loss: 2696.31 - ETA: 0s - loss: 2685.79 - ETA: 0s - loss: 2652.68 - ETA: 0s - loss: 2623.28 - ETA: 0s - loss: 2633.78 - ETA: 0s - loss: 2660.84 - ETA: 0s - loss: 2659.54 - 1s 8ms/step - loss: 2650.7740 - val_loss: 2658.2647\n",
      "Epoch 29/100\n"
     ]
    },
    {
     "name": "stdout",
     "output_type": "stream",
     "text": [
      "144/144 [==============================] - ETA: 5s - loss: 2830.11 - ETA: 1s - loss: 2788.55 - ETA: 1s - loss: 2663.29 - ETA: 0s - loss: 2651.28 - ETA: 0s - loss: 2636.78 - ETA: 0s - loss: 2697.11 - ETA: 0s - loss: 2688.90 - ETA: 0s - loss: 2682.04 - ETA: 0s - loss: 2724.47 - ETA: 0s - loss: 2698.48 - ETA: 0s - loss: 2688.76 - ETA: 0s - loss: 2695.71 - ETA: 0s - loss: 2685.59 - ETA: 0s - loss: 2652.49 - ETA: 0s - loss: 2623.10 - ETA: 0s - loss: 2633.60 - ETA: 0s - loss: 2660.64 - ETA: 0s - loss: 2662.63 - 1s 8ms/step - loss: 2650.5790 - val_loss: 2658.3517\n",
      "Epoch 30/100\n",
      "144/144 [==============================] - ETA: 5s - loss: 2830.05 - ETA: 1s - loss: 2742.96 - ETA: 1s - loss: 2617.12 - ETA: 0s - loss: 2673.46 - ETA: 0s - loss: 2619.88 - ETA: 0s - loss: 2680.96 - ETA: 0s - loss: 2716.33 - ETA: 0s - loss: 2702.36 - ETA: 0s - loss: 2727.48 - ETA: 0s - loss: 2698.09 - ETA: 0s - loss: 2688.37 - ETA: 0s - loss: 2695.33 - ETA: 0s - loss: 2666.48 - ETA: 0s - loss: 2653.24 - ETA: 0s - loss: 2623.05 - ETA: 0s - loss: 2633.90 - ETA: 0s - loss: 2653.52 - ETA: 0s - loss: 2649.25 - 1s 8ms/step - loss: 2650.3097 - val_loss: 2658.2387\n",
      "Epoch 31/100\n",
      "144/144 [==============================] - ETA: 5s - loss: 2830.06 - ETA: 1s - loss: 2788.34 - ETA: 1s - loss: 2664.25 - ETA: 0s - loss: 2674.19 - ETA: 0s - loss: 2625.45 - ETA: 0s - loss: 2700.89 - ETA: 0s - loss: 2692.03 - ETA: 0s - loss: 2710.65 - ETA: 0s - loss: 2722.03 - ETA: 0s - loss: 2691.24 - ETA: 0s - loss: 2690.52 - ETA: 0s - loss: 2695.96 - ETA: 0s - loss: 2685.35 - ETA: 0s - loss: 2652.17 - ETA: 0s - loss: 2622.79 - ETA: 0s - loss: 2633.31 - ETA: 0s - loss: 2660.38 - ETA: 0s - loss: 2659.11 - 1s 8ms/step - loss: 2650.3382 - val_loss: 2657.9551\n",
      "Epoch 32/100\n",
      "144/144 [==============================] - ETA: 5s - loss: 2829.82 - ETA: 1s - loss: 2788.29 - ETA: 1s - loss: 2664.30 - ETA: 0s - loss: 2651.65 - ETA: 0s - loss: 2636.44 - ETA: 0s - loss: 2697.15 - ETA: 0s - loss: 2689.10 - ETA: 0s - loss: 2702.78 - ETA: 0s - loss: 2727.81 - ETA: 0s - loss: 2698.32 - ETA: 0s - loss: 2688.59 - ETA: 0s - loss: 2695.50 - ETA: 0s - loss: 2666.61 - ETA: 0s - loss: 2653.31 - ETA: 0s - loss: 2622.74 - ETA: 0s - loss: 2633.24 - ETA: 0s - loss: 2660.29 - ETA: 0s - loss: 2658.99 - 1s 8ms/step - loss: 2650.2280 - val_loss: 2658.0656\n",
      "Epoch 33/100\n",
      "144/144 [==============================] - ETA: 5s - loss: 2829.67 - ETA: 1s - loss: 2788.06 - ETA: 1s - loss: 2616.74 - ETA: 0s - loss: 2673.29 - ETA: 0s - loss: 2619.77 - ETA: 0s - loss: 2680.98 - ETA: 0s - loss: 2716.33 - ETA: 0s - loss: 2702.23 - ETA: 0s - loss: 2727.30 - ETA: 0s - loss: 2697.88 - ETA: 0s - loss: 2688.10 - ETA: 0s - loss: 2695.04 - ETA: 0s - loss: 2666.17 - ETA: 0s - loss: 2652.90 - ETA: 0s - loss: 2622.67 - ETA: 0s - loss: 2633.51 - ETA: 0s - loss: 2653.04 - ETA: 0s - loss: 2648.81 - 1s 8ms/step - loss: 2649.8735 - val_loss: 2658.5184\n",
      "Epoch 34/100\n",
      "144/144 [==============================] - ETA: 5s - loss: 2829.52 - ETA: 1s - loss: 2742.28 - ETA: 1s - loss: 2617.52 - ETA: 0s - loss: 2673.28 - ETA: 0s - loss: 2619.41 - ETA: 0s - loss: 2680.50 - ETA: 0s - loss: 2716.12 - ETA: 0s - loss: 2702.09 - ETA: 0s - loss: 2727.17 - ETA: 0s - loss: 2697.75 - ETA: 0s - loss: 2689.90 - ETA: 0s - loss: 2695.36 - ETA: 0s - loss: 2684.75 - ETA: 0s - loss: 2651.60 - ETA: 0s - loss: 2626.94 - ETA: 0s - loss: 2626.53 - ETA: 0s - loss: 2650.71 - ETA: 0s - loss: 2661.68 - 1s 8ms/step - loss: 2649.6491 - val_loss: 2658.3936\n",
      "Epoch 35/100\n",
      "144/144 [==============================] - ETA: 5s - loss: 2829.26 - ETA: 1s - loss: 2788.14 - ETA: 1s - loss: 2662.65 - ETA: 0s - loss: 2650.27 - ETA: 0s - loss: 2635.13 - ETA: 0s - loss: 2695.71 - ETA: 0s - loss: 2687.78 - ETA: 0s - loss: 2680.83 - ETA: 0s - loss: 2723.23 - ETA: 0s - loss: 2694.85 - ETA: 0s - loss: 2693.33 - ETA: 0s - loss: 2701.40 - ETA: 0s - loss: 2671.01 - ETA: 0s - loss: 2658.43 - ETA: 0s - loss: 2619.13 - ETA: 0s - loss: 2626.70 - ETA: 0s - loss: 2645.49 - ETA: 0s - loss: 2650.84 - 1s 8ms/step - loss: 2649.2603 - val_loss: 2658.3551\n",
      "Epoch 36/100\n",
      "144/144 [==============================] - ETA: 5s - loss: 2828.52 - ETA: 1s - loss: 2787.65 - ETA: 1s - loss: 2662.37 - ETA: 0s - loss: 2649.79 - ETA: 0s - loss: 2634.81 - ETA: 0s - loss: 2695.67 - ETA: 0s - loss: 2687.58 - ETA: 0s - loss: 2680.59 - ETA: 0s - loss: 2726.43 - ETA: 0s - loss: 2697.04 - ETA: 0s - loss: 2687.25 - ETA: 0s - loss: 2694.13 - ETA: 0s - loss: 2665.27 - ETA: 0s - loss: 2652.02 - ETA: 0s - loss: 2621.74 - ETA: 0s - loss: 2632.54 - ETA: 0s - loss: 2652.09 - ETA: 0s - loss: 2647.82 - 1s 8ms/step - loss: 2648.8965 - val_loss: 2657.8811\n",
      "Epoch 37/100\n",
      "144/144 [==============================] - ETA: 5s - loss: 2827.63 - ETA: 1s - loss: 2787.63 - ETA: 1s - loss: 2662.51 - ETA: 0s - loss: 2672.57 - ETA: 0s - loss: 2618.68 - ETA: 0s - loss: 2699.28 - ETA: 0s - loss: 2687.54 - ETA: 0s - loss: 2714.85 - ETA: 0s - loss: 2734.47 - ETA: 0s - loss: 2700.60 - ETA: 0s - loss: 2689.06 - ETA: 0s - loss: 2694.33 - ETA: 0s - loss: 2683.77 - ETA: 0s - loss: 2650.51 - ETA: 0s - loss: 2621.13 - ETA: 0s - loss: 2631.58 - ETA: 0s - loss: 2658.61 - ETA: 0s - loss: 2657.34 - 1s 8ms/step - loss: 2648.6493 - val_loss: 2657.8796\n",
      "Epoch 38/100\n",
      "144/144 [==============================] - ETA: 5s - loss: 2827.01 - ETA: 1s - loss: 2786.09 - ETA: 1s - loss: 2661.34 - ETA: 0s - loss: 2648.91 - ETA: 0s - loss: 2634.03 - ETA: 0s - loss: 2694.54 - ETA: 0s - loss: 2686.70 - ETA: 0s - loss: 2679.87 - ETA: 0s - loss: 2722.35 - ETA: 0s - loss: 2693.95 - ETA: 0s - loss: 2692.42 - ETA: 0s - loss: 2700.44 - ETA: 0s - loss: 2670.03 - ETA: 0s - loss: 2657.45 - ETA: 0s - loss: 2618.25 - ETA: 0s - loss: 2625.77 - ETA: 0s - loss: 2644.56 - ETA: 0s - loss: 2649.91 - 1s 8ms/step - loss: 2648.3359 - val_loss: 2658.5087\n",
      "Epoch 39/100\n",
      "144/144 [==============================] - ETA: 5s - loss: 2827.17 - ETA: 1s - loss: 2741.18 - ETA: 1s - loss: 2615.12 - ETA: 0s - loss: 2671.16 - ETA: 0s - loss: 2617.38 - ETA: 0s - loss: 2678.52 - ETA: 0s - loss: 2714.37 - ETA: 0s - loss: 2700.40 - ETA: 0s - loss: 2725.50 - ETA: 0s - loss: 2696.11 - ETA: 0s - loss: 2686.29 - ETA: 0s - loss: 2693.13 - ETA: 0s - loss: 2664.31 - ETA: 0s - loss: 2650.96 - ETA: 0s - loss: 2620.74 - ETA: 0s - loss: 2631.53 - ETA: 0s - loss: 2651.07 - ETA: 0s - loss: 2646.82 - 1s 8ms/step - loss: 2647.8679 - val_loss: 2658.2478\n",
      "Epoch 40/100\n",
      "144/144 [==============================] - ETA: 5s - loss: 2827.37 - ETA: 1s - loss: 2786.21 - ETA: 1s - loss: 2661.69 - ETA: 0s - loss: 2649.16 - ETA: 0s - loss: 2634.02 - ETA: 0s - loss: 2694.63 - ETA: 0s - loss: 2714.48 - ETA: 0s - loss: 2700.49 - ETA: 0s - loss: 2725.54 - ETA: 0s - loss: 2696.16 - ETA: 0s - loss: 2686.36 - ETA: 0s - loss: 2693.10 - ETA: 0s - loss: 2664.25 - ETA: 0s - loss: 2650.90 - ETA: 0s - loss: 2620.66 - ETA: 0s - loss: 2631.46 - ETA: 0s - loss: 2651.00 - ETA: 0s - loss: 2646.74 - 1s 8ms/step - loss: 2647.7395 - val_loss: 2657.8210\n",
      "Epoch 41/100\n",
      "144/144 [==============================] - ETA: 5s - loss: 2827.11 - ETA: 1s - loss: 2786.35 - ETA: 1s - loss: 2661.41 - ETA: 0s - loss: 2648.53 - ETA: 0s - loss: 2633.49 - ETA: 0s - loss: 2694.09 - ETA: 0s - loss: 2686.18 - ETA: 0s - loss: 2679.28 - ETA: 0s - loss: 2721.68 - ETA: 0s - loss: 2693.31 - ETA: 0s - loss: 2691.78 - ETA: 0s - loss: 2699.72 - ETA: 0s - loss: 2669.22 - ETA: 0s - loss: 2656.59 - ETA: 0s - loss: 2617.37 - ETA: 0s - loss: 2631.15 - ETA: 0s - loss: 2650.70 - ETA: 0s - loss: 2646.43 - 1s 8ms/step - loss: 2647.4351 - val_loss: 2657.4928\n",
      "Epoch 42/100\n",
      "144/144 [==============================] - ETA: 5s - loss: 2827.03 - ETA: 1s - loss: 2785.42 - ETA: 1s - loss: 2660.31 - ETA: 0s - loss: 2647.50 - ETA: 0s - loss: 2632.64 - ETA: 0s - loss: 2693.58 - ETA: 0s - loss: 2685.65 - ETA: 0s - loss: 2678.81 - ETA: 0s - loss: 2721.24 - ETA: 0s - loss: 2692.92 - ETA: 0s - loss: 2685.66 - ETA: 0s - loss: 2692.39 - ETA: 0s - loss: 2663.53 - ETA: 0s - loss: 2650.18 - ETA: 0s - loss: 2619.67 - ETA: 0s - loss: 2630.09 - ETA: 0s - loss: 2657.18 - ETA: 0s - loss: 2655.76 - 1s 8ms/step - loss: 2647.0107 - val_loss: 2657.3258\n",
      "Epoch 43/100\n"
     ]
    },
    {
     "name": "stdout",
     "output_type": "stream",
     "text": [
      "144/144 [==============================] - ETA: 5s - loss: 2826.88 - ETA: 1s - loss: 2785.10 - ETA: 1s - loss: 2659.91 - ETA: 0s - loss: 2647.08 - ETA: 0s - loss: 2632.14 - ETA: 0s - loss: 2692.94 - ETA: 0s - loss: 2685.15 - ETA: 0s - loss: 2678.32 - ETA: 0s - loss: 2720.80 - ETA: 0s - loss: 2692.50 - ETA: 0s - loss: 2690.99 - ETA: 0s - loss: 2698.90 - ETA: 0s - loss: 2668.44 - ETA: 0s - loss: 2655.83 - ETA: 0s - loss: 2619.57 - ETA: 0s - loss: 2630.35 - ETA: 0s - loss: 2649.92 - ETA: 0s - loss: 2645.63 - 1s 8ms/step - loss: 2646.6154 - val_loss: 2657.4688\n",
      "Epoch 44/100\n",
      "144/144 [==============================] - ETA: 5s - loss: 2827.18 - ETA: 1s - loss: 2784.86 - ETA: 1s - loss: 2659.58 - ETA: 0s - loss: 2669.07 - ETA: 0s - loss: 2615.53 - ETA: 0s - loss: 2696.03 - ETA: 0s - loss: 2687.48 - ETA: 0s - loss: 2706.48 - ETA: 0s - loss: 2711.47 - ETA: 0s - loss: 2694.54 - ETA: 0s - loss: 2683.40 - ETA: 0s - loss: 2683.06 - ETA: 0s - loss: 2696.63 - ETA: 0s - loss: 2647.52 - ETA: 0s - loss: 2622.68 - ETA: 0s - loss: 2628.77 - ETA: 0s - loss: 2652.75 - ETA: 0s - loss: 2664.12 - 1s 8ms/step - loss: 2646.3586 - val_loss: 2657.1295\n",
      "Epoch 45/100\n",
      "144/144 [==============================] - ETA: 5s - loss: 2827.01 - ETA: 1s - loss: 2739.64 - ETA: 1s - loss: 2613.47 - ETA: 0s - loss: 2680.73 - ETA: 0s - loss: 2620.42 - ETA: 0s - loss: 2670.59 - ETA: 0s - loss: 2687.77 - ETA: 0s - loss: 2706.69 - ETA: 0s - loss: 2718.25 - ETA: 0s - loss: 2687.64 - ETA: 0s - loss: 2669.83 - ETA: 0s - loss: 2687.22 - ETA: 0s - loss: 2685.00 - ETA: 0s - loss: 2647.52 - ETA: 0s - loss: 2622.66 - ETA: 0s - loss: 2628.73 - ETA: 0s - loss: 2652.67 - ETA: 0s - loss: 2664.03 - 1s 8ms/step - loss: 2646.2656 - val_loss: 2657.0059\n",
      "Epoch 46/100\n",
      "144/144 [==============================] - ETA: 5s - loss: 2827.19 - ETA: 1s - loss: 2785.02 - ETA: 1s - loss: 2659.62 - ETA: 0s - loss: 2646.87 - ETA: 0s - loss: 2631.68 - ETA: 0s - loss: 2692.38 - ETA: 0s - loss: 2684.65 - ETA: 0s - loss: 2677.77 - ETA: 0s - loss: 2720.33 - ETA: 0s - loss: 2692.00 - ETA: 0s - loss: 2684.81 - ETA: 0s - loss: 2691.52 - ETA: 0s - loss: 2662.70 - ETA: 0s - loss: 2649.36 - ETA: 0s - loss: 2618.79 - ETA: 0s - loss: 2629.21 - ETA: 0s - loss: 2656.27 - ETA: 0s - loss: 2654.84 - 1s 8ms/step - loss: 2646.1038 - val_loss: 2656.7786\n",
      "Epoch 47/100\n",
      "144/144 [==============================] - ETA: 5s - loss: 2826.97 - ETA: 1s - loss: 2785.24 - ETA: 1s - loss: 2613.15 - ETA: 0s - loss: 2680.39 - ETA: 0s - loss: 2619.99 - ETA: 0s - loss: 2695.92 - ETA: 0s - loss: 2684.37 - ETA: 0s - loss: 2711.78 - ETA: 0s - loss: 2731.55 - ETA: 0s - loss: 2697.85 - ETA: 0s - loss: 2686.44 - ETA: 0s - loss: 2686.72 - ETA: 0s - loss: 2684.53 - ETA: 0s - loss: 2648.00 - ETA: 0s - loss: 2623.36 - ETA: 0s - loss: 2628.26 - ETA: 0s - loss: 2652.16 - ETA: 0s - loss: 2663.53 - 1s 8ms/step - loss: 2645.7688 - val_loss: 2656.4599\n",
      "Epoch 48/100\n",
      "144/144 [==============================] - ETA: 5s - loss: 2827.10 - ETA: 1s - loss: 2785.13 - ETA: 1s - loss: 2659.40 - ETA: 0s - loss: 2646.66 - ETA: 0s - loss: 2631.43 - ETA: 0s - loss: 2692.01 - ETA: 0s - loss: 2712.20 - ETA: 0s - loss: 2698.28 - ETA: 0s - loss: 2731.48 - ETA: 0s - loss: 2697.71 - ETA: 0s - loss: 2686.38 - ETA: 0s - loss: 2691.62 - ETA: 0s - loss: 2684.43 - ETA: 0s - loss: 2647.89 - ETA: 0s - loss: 2623.24 - ETA: 0s - loss: 2622.74 - ETA: 0s - loss: 2646.85 - ETA: 0s - loss: 2657.68 - 1s 8ms/step - loss: 2645.6578 - val_loss: 2656.7779\n",
      "Epoch 49/100\n",
      "144/144 [==============================] - ETA: 5s - loss: 2826.95 - ETA: 1s - loss: 2739.23 - ETA: 1s - loss: 2612.90 - ETA: 0s - loss: 2668.86 - ETA: 0s - loss: 2615.29 - ETA: 0s - loss: 2676.46 - ETA: 0s - loss: 2712.37 - ETA: 0s - loss: 2698.43 - ETA: 0s - loss: 2723.44 - ETA: 0s - loss: 2694.11 - ETA: 0s - loss: 2684.42 - ETA: 0s - loss: 2691.11 - ETA: 0s - loss: 2662.24 - ETA: 0s - loss: 2648.96 - ETA: 0s - loss: 2618.72 - ETA: 0s - loss: 2629.41 - ETA: 0s - loss: 2649.04 - ETA: 0s - loss: 2644.66 - 1s 8ms/step - loss: 2645.6297 - val_loss: 2656.4390\n",
      "Epoch 50/100\n",
      "144/144 [==============================] - ETA: 5s - loss: 2826.96 - ETA: 1s - loss: 2785.02 - ETA: 1s - loss: 2659.18 - ETA: 0s - loss: 2646.51 - ETA: 0s - loss: 2631.21 - ETA: 0s - loss: 2692.54 - ETA: 0s - loss: 2684.82 - ETA: 0s - loss: 2677.84 - ETA: 0s - loss: 2720.27 - ETA: 0s - loss: 2691.78 - ETA: 0s - loss: 2690.38 - ETA: 0s - loss: 2698.28 - ETA: 0s - loss: 2662.37 - ETA: 0s - loss: 2649.06 - ETA: 0s - loss: 2618.80 - ETA: 0s - loss: 2629.46 - ETA: 0s - loss: 2648.98 - ETA: 0s - loss: 2644.59 - 1s 8ms/step - loss: 2645.5549 - val_loss: 2656.4607\n",
      "Epoch 51/100\n",
      "144/144 [==============================] - ETA: 5s - loss: 2826.87 - ETA: 1s - loss: 2784.73 - ETA: 1s - loss: 2658.93 - ETA: 0s - loss: 2646.13 - ETA: 0s - loss: 2630.90 - ETA: 0s - loss: 2691.77 - ETA: 0s - loss: 2684.00 - ETA: 0s - loss: 2697.94 - ETA: 0s - loss: 2723.06 - ETA: 0s - loss: 2693.75 - ETA: 0s - loss: 2684.11 - ETA: 0s - loss: 2690.78 - ETA: 0s - loss: 2661.90 - ETA: 0s - loss: 2648.59 - ETA: 0s - loss: 2618.36 - ETA: 0s - loss: 2629.05 - ETA: 0s - loss: 2648.66 - ETA: 0s - loss: 2644.26 - 1s 8ms/step - loss: 2645.2524 - val_loss: 2656.7613\n",
      "Epoch 52/100\n",
      "144/144 [==============================] - ETA: 5s - loss: 2826.99 - ETA: 1s - loss: 2786.25 - ETA: 1s - loss: 2659.76 - ETA: 0s - loss: 2646.62 - ETA: 0s - loss: 2631.55 - ETA: 0s - loss: 2692.35 - ETA: 0s - loss: 2684.44 - ETA: 0s - loss: 2677.45 - ETA: 0s - loss: 2719.95 - ETA: 0s - loss: 2691.49 - ETA: 0s - loss: 2690.01 - ETA: 0s - loss: 2697.91 - ETA: 0s - loss: 2667.28 - ETA: 0s - loss: 2654.67 - ETA: 0s - loss: 2615.48 - ETA: 0s - loss: 2622.96 - ETA: 0s - loss: 2641.82 - ETA: 0s - loss: 2647.06 - 1s 8ms/step - loss: 2645.3662 - val_loss: 2656.4131\n",
      "Epoch 53/100\n",
      "144/144 [==============================] - ETA: 5s - loss: 2826.85 - ETA: 1s - loss: 2784.27 - ETA: 1s - loss: 2658.67 - ETA: 0s - loss: 2668.09 - ETA: 0s - loss: 2614.64 - ETA: 0s - loss: 2676.09 - ETA: 0s - loss: 2711.75 - ETA: 0s - loss: 2697.85 - ETA: 0s - loss: 2722.95 - ETA: 0s - loss: 2693.65 - ETA: 0s - loss: 2683.92 - ETA: 0s - loss: 2690.59 - ETA: 0s - loss: 2680.42 - ETA: 0s - loss: 2647.17 - ETA: 0s - loss: 2622.64 - ETA: 0s - loss: 2622.14 - ETA: 0s - loss: 2646.23 - ETA: 0s - loss: 2656.95 - 1s 8ms/step - loss: 2644.9247 - val_loss: 2656.3450\n",
      "Epoch 54/100\n",
      "144/144 [==============================] - ETA: 5s - loss: 2826.69 - ETA: 1s - loss: 2784.54 - ETA: 1s - loss: 2658.85 - ETA: 0s - loss: 2645.91 - ETA: 0s - loss: 2630.85 - ETA: 0s - loss: 2691.77 - ETA: 0s - loss: 2683.91 - ETA: 0s - loss: 2676.99 - ETA: 0s - loss: 2719.53 - ETA: 0s - loss: 2691.09 - ETA: 0s - loss: 2689.63 - ETA: 0s - loss: 2697.56 - ETA: 0s - loss: 2666.96 - ETA: 0s - loss: 2648.35 - ETA: 0s - loss: 2618.14 - ETA: 0s - loss: 2628.82 - ETA: 0s - loss: 2648.46 - ETA: 0s - loss: 2644.11 - 1s 8ms/step - loss: 2645.0610 - val_loss: 2656.2590\n",
      "Epoch 55/100\n",
      "144/144 [==============================] - ETA: 5s - loss: 2826.33 - ETA: 1s - loss: 2784.39 - ETA: 1s - loss: 2658.87 - ETA: 0s - loss: 2645.91 - ETA: 0s - loss: 2614.60 - ETA: 0s - loss: 2675.89 - ETA: 0s - loss: 2711.59 - ETA: 0s - loss: 2697.62 - ETA: 0s - loss: 2722.69 - ETA: 0s - loss: 2693.39 - ETA: 0s - loss: 2683.71 - ETA: 0s - loss: 2690.38 - ETA: 0s - loss: 2661.49 - ETA: 0s - loss: 2648.17 - ETA: 0s - loss: 2617.96 - ETA: 0s - loss: 2627.95 - ETA: 0s - loss: 2654.95 - ETA: 0s - loss: 2653.51 - 1s 8ms/step - loss: 2644.7757 - val_loss: 2656.1446\n",
      "Epoch 56/100\n",
      "144/144 [==============================] - ETA: 5s - loss: 2826.19 - ETA: 1s - loss: 2784.26 - ETA: 1s - loss: 2658.63 - ETA: 0s - loss: 2645.65 - ETA: 0s - loss: 2614.35 - ETA: 0s - loss: 2675.89 - ETA: 0s - loss: 2683.75 - ETA: 0s - loss: 2711.05 - ETA: 0s - loss: 2730.83 - ETA: 0s - loss: 2697.07 - ETA: 0s - loss: 2668.56 - ETA: 0s - loss: 2685.90 - ETA: 0s - loss: 2683.60 - ETA: 0s - loss: 2647.10 - ETA: 0s - loss: 2622.46 - ETA: 0s - loss: 2621.94 - ETA: 0s - loss: 2646.11 - ETA: 0s - loss: 2656.82 - 1s 8ms/step - loss: 2644.7875 - val_loss: 2655.9515\n",
      "Epoch 57/100\n"
     ]
    },
    {
     "name": "stdout",
     "output_type": "stream",
     "text": [
      "144/144 [==============================] - ETA: 5s - loss: 2825.85 - ETA: 1s - loss: 2784.28 - ETA: 1s - loss: 2658.66 - ETA: 0s - loss: 2645.75 - ETA: 0s - loss: 2630.64 - ETA: 0s - loss: 2691.29 - ETA: 0s - loss: 2711.43 - ETA: 0s - loss: 2697.50 - ETA: 0s - loss: 2722.56 - ETA: 0s - loss: 2693.27 - ETA: 0s - loss: 2685.49 - ETA: 0s - loss: 2690.77 - ETA: 0s - loss: 2680.10 - ETA: 0s - loss: 2646.88 - ETA: 0s - loss: 2617.50 - ETA: 0s - loss: 2627.83 - ETA: 0s - loss: 2654.91 - ETA: 0s - loss: 2653.41 - 1s 8ms/step - loss: 2644.6950 - val_loss: 2656.0950\n",
      "Epoch 58/100\n",
      "144/144 [==============================] - ETA: 5s - loss: 2825.91 - ETA: 1s - loss: 2738.49 - ETA: 0s - loss: 2660.25 - ETA: 0s - loss: 2679.48 - ETA: 0s - loss: 2619.11 - ETA: 0s - loss: 2695.03 - ETA: 0s - loss: 2683.53 - ETA: 0s - loss: 2710.86 - ETA: 0s - loss: 2730.64 - ETA: 0s - loss: 2696.89 - ETA: 0s - loss: 2685.41 - ETA: 0s - loss: 2690.64 - ETA: 0s - loss: 2679.99 - ETA: 0s - loss: 2646.78 - ETA: 0s - loss: 2617.41 - ETA: 0s - loss: 2627.73 - ETA: 0s - loss: 2654.75 - ETA: 0s - loss: 2653.46 - 1s 8ms/step - loss: 2644.7112 - val_loss: 2655.9983\n",
      "Epoch 59/100\n",
      "144/144 [==============================] - ETA: 5s - loss: 2825.77 - ETA: 1s - loss: 2784.33 - ETA: 1s - loss: 2658.68 - ETA: 0s - loss: 2645.69 - ETA: 0s - loss: 2630.62 - ETA: 0s - loss: 2691.50 - ETA: 0s - loss: 2711.51 - ETA: 0s - loss: 2697.51 - ETA: 0s - loss: 2722.57 - ETA: 0s - loss: 2693.28 - ETA: 0s - loss: 2683.50 - ETA: 0s - loss: 2690.21 - ETA: 0s - loss: 2661.31 - ETA: 0s - loss: 2648.03 - ETA: 0s - loss: 2617.44 - ETA: 0s - loss: 2627.74 - ETA: 0s - loss: 2654.76 - ETA: 0s - loss: 2653.32 - 1s 8ms/step - loss: 2644.5754 - val_loss: 2655.6657\n",
      "Epoch 60/100\n",
      "144/144 [==============================] - ETA: 5s - loss: 2825.43 - ETA: 1s - loss: 2783.96 - ETA: 1s - loss: 2658.85 - ETA: 0s - loss: 2668.28 - ETA: 0s - loss: 2614.76 - ETA: 0s - loss: 2676.16 - ETA: 0s - loss: 2711.68 - ETA: 0s - loss: 2697.62 - ETA: 0s - loss: 2731.03 - ETA: 0s - loss: 2697.19 - ETA: 0s - loss: 2685.68 - ETA: 0s - loss: 2690.88 - ETA: 0s - loss: 2680.19 - ETA: 0s - loss: 2646.97 - ETA: 0s - loss: 2617.57 - ETA: 0s - loss: 2627.86 - ETA: 0s - loss: 2654.95 - ETA: 0s - loss: 2653.46 - 1s 8ms/step - loss: 2644.6923 - val_loss: 2655.8259\n",
      "Epoch 61/100\n",
      "144/144 [==============================] - ETA: 5s - loss: 2825.46 - ETA: 1s - loss: 2784.09 - ETA: 1s - loss: 2658.58 - ETA: 0s - loss: 2645.68 - ETA: 0s - loss: 2630.49 - ETA: 0s - loss: 2691.19 - ETA: 0s - loss: 2683.40 - ETA: 0s - loss: 2676.41 - ETA: 0s - loss: 2719.13 - ETA: 0s - loss: 2690.65 - ETA: 0s - loss: 2689.18 - ETA: 0s - loss: 2697.13 - ETA: 0s - loss: 2666.52 - ETA: 0s - loss: 2648.01 - ETA: 0s - loss: 2617.77 - ETA: 0s - loss: 2628.39 - ETA: 0s - loss: 2647.90 - ETA: 0s - loss: 2643.59 - 1s 8ms/step - loss: 2644.5313 - val_loss: 2655.7629\n",
      "Epoch 62/100\n",
      "144/144 [==============================] - ETA: 5s - loss: 2825.47 - ETA: 1s - loss: 2783.57 - ETA: 1s - loss: 2658.57 - ETA: 0s - loss: 2667.96 - ETA: 0s - loss: 2614.37 - ETA: 0s - loss: 2695.00 - ETA: 0s - loss: 2683.47 - ETA: 0s - loss: 2710.73 - ETA: 0s - loss: 2730.45 - ETA: 0s - loss: 2696.64 - ETA: 0s - loss: 2668.07 - ETA: 0s - loss: 2685.44 - ETA: 0s - loss: 2683.17 - ETA: 0s - loss: 2646.70 - ETA: 0s - loss: 2622.05 - ETA: 0s - loss: 2621.50 - ETA: 0s - loss: 2645.68 - ETA: 0s - loss: 2656.46 - 1s 8ms/step - loss: 2644.4044 - val_loss: 2655.6831\n",
      "Epoch 63/100\n",
      "144/144 [==============================] - ETA: 5s - loss: 2825.46 - ETA: 1s - loss: 2783.44 - ETA: 1s - loss: 2658.16 - ETA: 0s - loss: 2667.69 - ETA: 0s - loss: 2614.20 - ETA: 0s - loss: 2694.76 - ETA: 0s - loss: 2683.28 - ETA: 0s - loss: 2705.13 - ETA: 0s - loss: 2716.53 - ETA: 0s - loss: 2692.98 - ETA: 0s - loss: 2681.70 - ETA: 0s - loss: 2682.99 - ETA: 0s - loss: 2681.98 - ETA: 0s - loss: 2632.50 - ETA: 0s - loss: 2623.41 - ETA: 0s - loss: 2624.40 - ETA: 0s - loss: 2655.40 - ETA: 0s - loss: 2649.22 - 1s 8ms/step - loss: 2644.4709 - val_loss: 2655.8225\n",
      "Epoch 64/100\n",
      "144/144 [==============================] - ETA: 5s - loss: 2825.66 - ETA: 1s - loss: 2783.31 - ETA: 1s - loss: 2658.27 - ETA: 0s - loss: 2645.50 - ETA: 0s - loss: 2630.82 - ETA: 0s - loss: 2675.91 - ETA: 0s - loss: 2711.43 - ETA: 0s - loss: 2697.34 - ETA: 0s - loss: 2730.49 - ETA: 0s - loss: 2696.71 - ETA: 0s - loss: 2685.29 - ETA: 0s - loss: 2690.53 - ETA: 0s - loss: 2679.86 - ETA: 0s - loss: 2646.65 - ETA: 0s - loss: 2617.26 - ETA: 0s - loss: 2627.57 - ETA: 0s - loss: 2654.61 - ETA: 0s - loss: 2653.23 - 1s 8ms/step - loss: 2644.4702 - val_loss: 2655.7736\n",
      "Epoch 65/100\n",
      "144/144 [==============================] - ETA: 5s - loss: 2825.54 - ETA: 1s - loss: 2737.90 - ETA: 1s - loss: 2611.73 - ETA: 0s - loss: 2667.93 - ETA: 0s - loss: 2614.49 - ETA: 0s - loss: 2675.85 - ETA: 0s - loss: 2711.36 - ETA: 0s - loss: 2697.27 - ETA: 0s - loss: 2722.28 - ETA: 0s - loss: 2692.92 - ETA: 0s - loss: 2683.14 - ETA: 0s - loss: 2689.86 - ETA: 0s - loss: 2660.97 - ETA: 0s - loss: 2647.70 - ETA: 0s - loss: 2617.47 - ETA: 0s - loss: 2628.09 - ETA: 0s - loss: 2647.60 - ETA: 0s - loss: 2643.30 - 1s 8ms/step - loss: 2644.2599 - val_loss: 2655.5275\n",
      "Epoch 66/100\n",
      "144/144 [==============================] - ETA: 5s - loss: 2825.53 - ETA: 1s - loss: 2783.05 - ETA: 1s - loss: 2657.77 - ETA: 0s - loss: 2667.74 - ETA: 0s - loss: 2614.36 - ETA: 0s - loss: 2695.10 - ETA: 0s - loss: 2683.49 - ETA: 0s - loss: 2710.74 - ETA: 0s - loss: 2730.42 - ETA: 0s - loss: 2696.58 - ETA: 0s - loss: 2685.11 - ETA: 0s - loss: 2690.37 - ETA: 0s - loss: 2679.70 - ETA: 0s - loss: 2646.64 - ETA: 0s - loss: 2621.99 - ETA: 0s - loss: 2621.39 - ETA: 0s - loss: 2645.55 - ETA: 0s - loss: 2662.09 - 1s 8ms/step - loss: 2644.3203 - val_loss: 2655.6462\n",
      "Epoch 67/100\n",
      "144/144 [==============================] - ETA: 5s - loss: 2825.49 - ETA: 1s - loss: 2783.03 - ETA: 1s - loss: 2657.78 - ETA: 0s - loss: 2645.16 - ETA: 0s - loss: 2630.36 - ETA: 0s - loss: 2691.18 - ETA: 0s - loss: 2711.16 - ETA: 0s - loss: 2697.05 - ETA: 0s - loss: 2722.08 - ETA: 0s - loss: 2696.40 - ETA: 0s - loss: 2685.00 - ETA: 0s - loss: 2690.28 - ETA: 0s - loss: 2679.62 - ETA: 0s - loss: 2646.50 - ETA: 0s - loss: 2617.12 - ETA: 0s - loss: 2621.39 - ETA: 0s - loss: 2645.49 - ETA: 0s - loss: 2656.30 - 1s 8ms/step - loss: 2644.2473 - val_loss: 2655.6142\n",
      "Epoch 68/100\n",
      "144/144 [==============================] - ETA: 5s - loss: 2825.52 - ETA: 1s - loss: 2782.87 - ETA: 1s - loss: 2657.59 - ETA: 0s - loss: 2667.57 - ETA: 0s - loss: 2614.16 - ETA: 0s - loss: 2675.51 - ETA: 0s - loss: 2711.06 - ETA: 0s - loss: 2710.46 - ETA: 0s - loss: 2730.20 - ETA: 0s - loss: 2696.39 - ETA: 0s - loss: 2684.88 - ETA: 0s - loss: 2690.16 - ETA: 0s - loss: 2682.94 - ETA: 0s - loss: 2646.47 - ETA: 0s - loss: 2621.82 - ETA: 0s - loss: 2621.23 - ETA: 0s - loss: 2645.41 - ETA: 0s - loss: 2656.21 - 1s 8ms/step - loss: 2644.1590 - val_loss: 2655.6745\n",
      "Epoch 69/100\n",
      "144/144 [==============================] - ETA: 5s - loss: 2825.51 - ETA: 1s - loss: 2737.77 - ETA: 1s - loss: 2611.48 - ETA: 0s - loss: 2678.97 - ETA: 0s - loss: 2618.85 - ETA: 0s - loss: 2694.74 - ETA: 0s - loss: 2686.14 - ETA: 0s - loss: 2704.69 - ETA: 0s - loss: 2709.47 - ETA: 0s - loss: 2692.51 - ETA: 0s - loss: 2681.29 - ETA: 0s - loss: 2682.63 - ETA: 0s - loss: 2695.83 - ETA: 0s - loss: 2640.03 - ETA: 0s - loss: 2623.11 - ETA: 0s - loss: 2624.12 - ETA: 0s - loss: 2652.41 - ETA: 0s - loss: 2646.13 - 1s 8ms/step - loss: 2644.1851 - val_loss: 2655.2995\n",
      "Epoch 70/100\n",
      "144/144 [==============================] - ETA: 5s - loss: 2825.41 - ETA: 1s - loss: 2783.25 - ETA: 1s - loss: 2657.72 - ETA: 0s - loss: 2667.33 - ETA: 0s - loss: 2613.93 - ETA: 0s - loss: 2675.27 - ETA: 0s - loss: 2710.93 - ETA: 0s - loss: 2710.33 - ETA: 0s - loss: 2716.16 - ETA: 0s - loss: 2685.59 - ETA: 0s - loss: 2667.84 - ETA: 0s - loss: 2685.23 - ETA: 0s - loss: 2694.66 - ETA: 0s - loss: 2640.14 - ETA: 0s - loss: 2627.44 - ETA: 0s - loss: 2624.33 - ETA: 0s - loss: 2647.14 - ETA: 0s - loss: 2657.33 - 1s 8ms/step - loss: 2644.1615 - val_loss: 2655.5002\n",
      "Epoch 71/100\n"
     ]
    },
    {
     "name": "stdout",
     "output_type": "stream",
     "text": [
      "144/144 [==============================] - ETA: 5s - loss: 2825.46 - ETA: 1s - loss: 2782.94 - ETA: 1s - loss: 2657.52 - ETA: 0s - loss: 2644.76 - ETA: 0s - loss: 2629.92 - ETA: 0s - loss: 2690.64 - ETA: 0s - loss: 2710.73 - ETA: 0s - loss: 2696.67 - ETA: 0s - loss: 2721.75 - ETA: 0s - loss: 2692.41 - ETA: 0s - loss: 2684.59 - ETA: 0s - loss: 2689.91 - ETA: 0s - loss: 2679.28 - ETA: 0s - loss: 2646.12 - ETA: 0s - loss: 2616.75 - ETA: 0s - loss: 2627.04 - ETA: 0s - loss: 2645.17 - ETA: 0s - loss: 2655.98 - 1s 8ms/step - loss: 2643.9914 - val_loss: 2655.5895\n",
      "Epoch 72/100\n",
      "144/144 [==============================] - ETA: 5s - loss: 2825.55 - ETA: 1s - loss: 2782.50 - ETA: 1s - loss: 2611.07 - ETA: 0s - loss: 2667.07 - ETA: 0s - loss: 2613.65 - ETA: 0s - loss: 2674.94 - ETA: 0s - loss: 2710.67 - ETA: 0s - loss: 2696.57 - ETA: 0s - loss: 2721.66 - ETA: 0s - loss: 2692.39 - ETA: 0s - loss: 2682.63 - ETA: 0s - loss: 2689.39 - ETA: 0s - loss: 2660.53 - ETA: 0s - loss: 2647.31 - ETA: 0s - loss: 2617.10 - ETA: 0s - loss: 2627.70 - ETA: 0s - loss: 2647.28 - ETA: 0s - loss: 2642.88 - 1s 8ms/step - loss: 2643.8548 - val_loss: 2655.2422\n",
      "Epoch 73/100\n",
      "144/144 [==============================] - ETA: 5s - loss: 2825.38 - ETA: 1s - loss: 2782.06 - ETA: 1s - loss: 2657.55 - ETA: 0s - loss: 2644.92 - ETA: 0s - loss: 2629.94 - ETA: 0s - loss: 2690.56 - ETA: 0s - loss: 2710.66 - ETA: 0s - loss: 2696.59 - ETA: 0s - loss: 2721.67 - ETA: 0s - loss: 2692.36 - ETA: 0s - loss: 2684.49 - ETA: 0s - loss: 2689.82 - ETA: 0s - loss: 2679.19 - ETA: 0s - loss: 2646.03 - ETA: 0s - loss: 2616.67 - ETA: 0s - loss: 2626.94 - ETA: 0s - loss: 2654.02 - ETA: 0s - loss: 2652.62 - 1s 8ms/step - loss: 2643.8681 - val_loss: 2655.5750\n",
      "Epoch 74/100\n",
      "144/144 [==============================] - ETA: 5s - loss: 2825.45 - ETA: 1s - loss: 2783.00 - ETA: 1s - loss: 2657.51 - ETA: 0s - loss: 2644.93 - ETA: 0s - loss: 2629.92 - ETA: 0s - loss: 2675.23 - ETA: 0s - loss: 2710.80 - ETA: 0s - loss: 2696.67 - ETA: 0s - loss: 2721.87 - ETA: 0s - loss: 2696.31 - ETA: 0s - loss: 2684.69 - ETA: 0s - loss: 2689.98 - ETA: 0s - loss: 2682.76 - ETA: 0s - loss: 2646.33 - ETA: 0s - loss: 2621.74 - ETA: 0s - loss: 2621.13 - ETA: 0s - loss: 2645.22 - ETA: 0s - loss: 2655.94 - 1s 8ms/step - loss: 2643.8895 - val_loss: 2655.6420\n",
      "Epoch 75/100\n",
      "144/144 [==============================] - ETA: 5s - loss: 2825.39 - ETA: 1s - loss: 2782.96 - ETA: 1s - loss: 2657.48 - ETA: 0s - loss: 2644.91 - ETA: 0s - loss: 2629.91 - ETA: 0s - loss: 2675.00 - ETA: 0s - loss: 2710.57 - ETA: 0s - loss: 2696.49 - ETA: 0s - loss: 2721.58 - ETA: 0s - loss: 2692.30 - ETA: 0s - loss: 2684.44 - ETA: 0s - loss: 2689.74 - ETA: 0s - loss: 2682.55 - ETA: 0s - loss: 2646.13 - ETA: 0s - loss: 2621.51 - ETA: 0s - loss: 2620.91 - ETA: 0s - loss: 2650.22 - ETA: 0s - loss: 2661.60 - 1s 8ms/step - loss: 2643.8366 - val_loss: 2655.7847\n",
      "Epoch 76/100\n",
      "144/144 [==============================] - ETA: 5s - loss: 2825.45 - ETA: 1s - loss: 2783.28 - ETA: 1s - loss: 2657.65 - ETA: 0s - loss: 2644.98 - ETA: 0s - loss: 2614.22 - ETA: 0s - loss: 2675.67 - ETA: 0s - loss: 2711.56 - ETA: 0s - loss: 2697.38 - ETA: 0s - loss: 2722.33 - ETA: 0s - loss: 2692.91 - ETA: 0s - loss: 2682.99 - ETA: 0s - loss: 2690.25 - ETA: 0s - loss: 2679.58 - ETA: 0s - loss: 2646.53 - ETA: 0s - loss: 2621.88 - ETA: 0s - loss: 2621.24 - ETA: 0s - loss: 2645.37 - ETA: 0s - loss: 2656.09 - 1s 8ms/step - loss: 2644.0460 - val_loss: 2655.8179\n",
      "Epoch 77/100\n",
      "144/144 [==============================] - ETA: 5s - loss: 2825.49 - ETA: 1s - loss: 2736.40 - ETA: 1s - loss: 2610.54 - ETA: 0s - loss: 2666.81 - ETA: 0s - loss: 2613.46 - ETA: 0s - loss: 2674.97 - ETA: 0s - loss: 2710.66 - ETA: 0s - loss: 2710.15 - ETA: 0s - loss: 2729.89 - ETA: 0s - loss: 2696.10 - ETA: 0s - loss: 2684.52 - ETA: 0s - loss: 2684.90 - ETA: 0s - loss: 2682.65 - ETA: 0s - loss: 2646.24 - ETA: 0s - loss: 2621.59 - ETA: 0s - loss: 2620.96 - ETA: 0s - loss: 2650.23 - ETA: 0s - loss: 2661.61 - 1s 8ms/step - loss: 2643.8438 - val_loss: 2655.9504\n",
      "Epoch 78/100\n",
      "144/144 [==============================] - ETA: 5s - loss: 2825.49 - ETA: 1s - loss: 2782.02 - ETA: 1s - loss: 2656.96 - ETA: 0s - loss: 2644.73 - ETA: 0s - loss: 2629.78 - ETA: 0s - loss: 2674.90 - ETA: 0s - loss: 2710.48 - ETA: 0s - loss: 2696.37 - ETA: 0s - loss: 2729.61 - ETA: 0s - loss: 2695.88 - ETA: 0s - loss: 2684.33 - ETA: 0s - loss: 2689.63 - ETA: 0s - loss: 2682.41 - ETA: 0s - loss: 2646.00 - ETA: 0s - loss: 2621.37 - ETA: 0s - loss: 2620.75 - ETA: 0s - loss: 2644.91 - ETA: 0s - loss: 2655.69 - 1s 8ms/step - loss: 2643.6458 - val_loss: 2655.8760\n",
      "Epoch 79/100\n",
      "144/144 [==============================] - ETA: 5s - loss: 2825.51 - ETA: 1s - loss: 2737.35 - ETA: 1s - loss: 2611.03 - ETA: 0s - loss: 2667.17 - ETA: 0s - loss: 2618.51 - ETA: 0s - loss: 2694.34 - ETA: 0s - loss: 2682.84 - ETA: 0s - loss: 2709.94 - ETA: 0s - loss: 2729.70 - ETA: 0s - loss: 2685.21 - ETA: 0s - loss: 2681.01 - ETA: 0s - loss: 2680.78 - ETA: 0s - loss: 2694.29 - ETA: 0s - loss: 2645.22 - ETA: 0s - loss: 2620.40 - ETA: 0s - loss: 2626.30 - ETA: 0s - loss: 2646.69 - ETA: 0s - loss: 2656.89 - 1s 8ms/step - loss: 2643.7325 - val_loss: 2655.1847\n",
      "Epoch 80/100\n",
      "144/144 [==============================] - ETA: 5s - loss: 2825.45 - ETA: 1s - loss: 2782.45 - ETA: 1s - loss: 2657.30 - ETA: 0s - loss: 2667.20 - ETA: 0s - loss: 2618.52 - ETA: 0s - loss: 2694.35 - ETA: 0s - loss: 2685.97 - ETA: 0s - loss: 2704.54 - ETA: 0s - loss: 2716.00 - ETA: 0s - loss: 2692.25 - ETA: 0s - loss: 2680.91 - ETA: 0s - loss: 2680.61 - ETA: 0s - loss: 2695.48 - ETA: 0s - loss: 2639.68 - ETA: 0s - loss: 2626.99 - ETA: 0s - loss: 2623.86 - ETA: 0s - loss: 2646.58 - ETA: 0s - loss: 2648.36 - 1s 8ms/step - loss: 2643.6280 - val_loss: 2655.8608\n",
      "Epoch 81/100\n",
      "144/144 [==============================] - ETA: 5s - loss: 2825.45 - ETA: 1s - loss: 2782.71 - ETA: 1s - loss: 2657.36 - ETA: 0s - loss: 2667.17 - ETA: 0s - loss: 2613.99 - ETA: 0s - loss: 2675.47 - ETA: 0s - loss: 2710.96 - ETA: 0s - loss: 2710.24 - ETA: 0s - loss: 2729.94 - ETA: 0s - loss: 2696.09 - ETA: 0s - loss: 2667.44 - ETA: 0s - loss: 2684.86 - ETA: 0s - loss: 2682.59 - ETA: 0s - loss: 2646.16 - ETA: 0s - loss: 2620.40 - ETA: 0s - loss: 2626.31 - ETA: 0s - loss: 2650.21 - ETA: 0s - loss: 2661.58 - 1s 8ms/step - loss: 2643.8074 - val_loss: 2656.1286\n",
      "Epoch 82/100\n",
      "144/144 [==============================] - ETA: 5s - loss: 2825.53 - ETA: 1s - loss: 2737.60 - ETA: 1s - loss: 2611.22 - ETA: 0s - loss: 2667.27 - ETA: 0s - loss: 2618.63 - ETA: 0s - loss: 2668.87 - ETA: 0s - loss: 2686.01 - ETA: 0s - loss: 2704.49 - ETA: 0s - loss: 2715.97 - ETA: 0s - loss: 2692.20 - ETA: 0s - loss: 2680.96 - ETA: 0s - loss: 2680.66 - ETA: 0s - loss: 2694.17 - ETA: 0s - loss: 2645.10 - ETA: 0s - loss: 2620.31 - ETA: 0s - loss: 2626.27 - ETA: 0s - loss: 2650.21 - ETA: 0s - loss: 2661.55 - 1s 8ms/step - loss: 2643.7705 - val_loss: 2656.0011\n",
      "Epoch 83/100\n",
      "144/144 [==============================] - ETA: 5s - loss: 2825.51 - ETA: 1s - loss: 2781.97 - ETA: 1s - loss: 2656.97 - ETA: 0s - loss: 2644.47 - ETA: 0s - loss: 2629.60 - ETA: 0s - loss: 2690.30 - ETA: 0s - loss: 2682.60 - ETA: 0s - loss: 2696.35 - ETA: 0s - loss: 2721.39 - ETA: 0s - loss: 2695.76 - ETA: 0s - loss: 2684.12 - ETA: 0s - loss: 2689.45 - ETA: 0s - loss: 2678.84 - ETA: 0s - loss: 2645.82 - ETA: 0s - loss: 2621.22 - ETA: 0s - loss: 2626.00 - ETA: 0s - loss: 2649.96 - ETA: 0s - loss: 2661.35 - 1s 8ms/step - loss: 2643.5814 - val_loss: 2656.1117\n",
      "Epoch 84/100\n",
      "144/144 [==============================] - ETA: 5s - loss: 2825.48 - ETA: 1s - loss: 2737.20 - ETA: 1s - loss: 2610.89 - ETA: 0s - loss: 2667.31 - ETA: 0s - loss: 2613.83 - ETA: 0s - loss: 2675.25 - ETA: 0s - loss: 2710.78 - ETA: 0s - loss: 2696.64 - ETA: 0s - loss: 2721.65 - ETA: 0s - loss: 2692.35 - ETA: 0s - loss: 2682.38 - ETA: 0s - loss: 2689.70 - ETA: 0s - loss: 2679.07 - ETA: 0s - loss: 2645.90 - ETA: 0s - loss: 2616.53 - ETA: 0s - loss: 2626.77 - ETA: 0s - loss: 2653.81 - ETA: 0s - loss: 2652.38 - 1s 8ms/step - loss: 2643.6190 - val_loss: 2655.9352\n",
      "Epoch 85/100\n"
     ]
    },
    {
     "name": "stdout",
     "output_type": "stream",
     "text": [
      "144/144 [==============================] - ETA: 5s - loss: 2825.48 - ETA: 1s - loss: 2736.46 - ETA: 1s - loss: 2610.61 - ETA: 0s - loss: 2666.78 - ETA: 0s - loss: 2613.41 - ETA: 0s - loss: 2694.13 - ETA: 0s - loss: 2682.69 - ETA: 0s - loss: 2709.90 - ETA: 0s - loss: 2729.62 - ETA: 0s - loss: 2695.82 - ETA: 0s - loss: 2684.20 - ETA: 0s - loss: 2689.51 - ETA: 0s - loss: 2678.90 - ETA: 0s - loss: 2645.73 - ETA: 0s - loss: 2616.36 - ETA: 0s - loss: 2626.61 - ETA: 0s - loss: 2653.73 - ETA: 0s - loss: 2652.33 - 1s 8ms/step - loss: 2643.5619 - val_loss: 2655.7294\n",
      "Epoch 86/100\n",
      "144/144 [==============================] - ETA: 5s - loss: 2825.37 - ETA: 1s - loss: 2736.63 - ETA: 1s - loss: 2610.54 - ETA: 0s - loss: 2678.19 - ETA: 0s - loss: 2618.03 - ETA: 0s - loss: 2694.10 - ETA: 0s - loss: 2682.66 - ETA: 0s - loss: 2709.85 - ETA: 0s - loss: 2729.54 - ETA: 0s - loss: 2685.15 - ETA: 0s - loss: 2667.08 - ETA: 0s - loss: 2684.53 - ETA: 0s - loss: 2693.94 - ETA: 0s - loss: 2644.90 - ETA: 0s - loss: 2626.85 - ETA: 0s - loss: 2623.72 - ETA: 0s - loss: 2646.52 - ETA: 0s - loss: 2656.73 - 1s 8ms/step - loss: 2643.5606 - val_loss: 2655.3538\n",
      "Epoch 87/100\n",
      "144/144 [==============================] - ETA: 5s - loss: 2825.38 - ETA: 1s - loss: 2781.75 - ETA: 1s - loss: 2656.76 - ETA: 0s - loss: 2644.06 - ETA: 0s - loss: 2629.34 - ETA: 0s - loss: 2690.48 - ETA: 0s - loss: 2710.51 - ETA: 0s - loss: 2696.38 - ETA: 0s - loss: 2721.41 - ETA: 0s - loss: 2692.04 - ETA: 0s - loss: 2682.08 - ETA: 0s - loss: 2689.38 - ETA: 0s - loss: 2682.14 - ETA: 0s - loss: 2645.73 - ETA: 0s - loss: 2621.12 - ETA: 0s - loss: 2620.51 - ETA: 0s - loss: 2644.67 - ETA: 0s - loss: 2661.22 - 1s 8ms/step - loss: 2643.4899 - val_loss: 2656.8863\n",
      "Epoch 88/100\n",
      "144/144 [==============================] - ETA: 5s - loss: 2825.66 - ETA: 1s - loss: 2783.29 - ETA: 1s - loss: 2657.45 - ETA: 0s - loss: 2644.47 - ETA: 0s - loss: 2629.88 - ETA: 0s - loss: 2690.60 - ETA: 0s - loss: 2682.76 - ETA: 0s - loss: 2675.60 - ETA: 0s - loss: 2718.14 - ETA: 0s - loss: 2692.20 - ETA: 0s - loss: 2682.31 - ETA: 0s - loss: 2689.58 - ETA: 0s - loss: 2678.99 - ETA: 0s - loss: 2645.94 - ETA: 0s - loss: 2621.33 - ETA: 0s - loss: 2626.11 - ETA: 0s - loss: 2649.93 - ETA: 0s - loss: 2661.31 - 1s 8ms/step - loss: 2643.5370 - val_loss: 2655.0447\n",
      "Epoch 89/100\n",
      "144/144 [==============================] - ETA: 5s - loss: 2825.35 - ETA: 1s - loss: 2781.74 - ETA: 1s - loss: 2656.70 - ETA: 0s - loss: 2644.07 - ETA: 0s - loss: 2613.23 - ETA: 0s - loss: 2674.59 - ETA: 0s - loss: 2710.19 - ETA: 0s - loss: 2696.14 - ETA: 0s - loss: 2729.32 - ETA: 0s - loss: 2695.61 - ETA: 0s - loss: 2666.89 - ETA: 0s - loss: 2684.39 - ETA: 0s - loss: 2693.81 - ETA: 0s - loss: 2644.75 - ETA: 0s - loss: 2619.96 - ETA: 0s - loss: 2625.88 - ETA: 0s - loss: 2649.79 - ETA: 0s - loss: 2661.14 - 1s 8ms/step - loss: 2643.3706 - val_loss: 2656.1838\n",
      "Epoch 90/100\n",
      "144/144 [==============================] - ETA: 5s - loss: 2825.44 - ETA: 1s - loss: 2737.30 - ETA: 1s - loss: 2610.90 - ETA: 0s - loss: 2666.65 - ETA: 0s - loss: 2618.08 - ETA: 0s - loss: 2693.93 - ETA: 0s - loss: 2682.43 - ETA: 0s - loss: 2709.53 - ETA: 0s - loss: 2729.30 - ETA: 0s - loss: 2695.55 - ETA: 0s - loss: 2683.91 - ETA: 0s - loss: 2689.25 - ETA: 0s - loss: 2678.67 - ETA: 0s - loss: 2645.51 - ETA: 0s - loss: 2616.19 - ETA: 0s - loss: 2626.44 - ETA: 0s - loss: 2653.51 - ETA: 0s - loss: 2652.06 - 1s 8ms/step - loss: 2643.3016 - val_loss: 2656.4120\n",
      "Epoch 91/100\n",
      "144/144 [==============================] - ETA: 5s - loss: 2825.52 - ETA: 1s - loss: 2782.88 - ETA: 1s - loss: 2610.84 - ETA: 0s - loss: 2666.58 - ETA: 0s - loss: 2613.24 - ETA: 0s - loss: 2674.66 - ETA: 0s - loss: 2710.26 - ETA: 0s - loss: 2696.16 - ETA: 0s - loss: 2721.22 - ETA: 0s - loss: 2695.67 - ETA: 0s - loss: 2684.10 - ETA: 0s - loss: 2689.42 - ETA: 0s - loss: 2678.83 - ETA: 0s - loss: 2645.71 - ETA: 0s - loss: 2616.36 - ETA: 0s - loss: 2626.60 - ETA: 0s - loss: 2653.75 - ETA: 0s - loss: 2652.28 - 1s 8ms/step - loss: 2643.5095 - val_loss: 2656.4444\n",
      "Epoch 92/100\n",
      "144/144 [==============================] - ETA: 5s - loss: 2825.55 - ETA: 1s - loss: 2781.98 - ETA: 1s - loss: 2610.33 - ETA: 0s - loss: 2677.95 - ETA: 0s - loss: 2617.84 - ETA: 0s - loss: 2693.86 - ETA: 0s - loss: 2682.37 - ETA: 0s - loss: 2703.92 - ETA: 0s - loss: 2715.35 - ETA: 0s - loss: 2684.76 - ETA: 0s - loss: 2666.74 - ETA: 0s - loss: 2684.22 - ETA: 0s - loss: 2681.99 - ETA: 0s - loss: 2644.62 - ETA: 0s - loss: 2619.83 - ETA: 0s - loss: 2625.76 - ETA: 0s - loss: 2649.60 - ETA: 0s - loss: 2660.96 - 1s 8ms/step - loss: 2643.1859 - val_loss: 2656.0633\n",
      "Epoch 93/100\n",
      "144/144 [==============================] - ETA: 5s - loss: 2825.52 - ETA: 1s - loss: 2782.35 - ETA: 1s - loss: 2610.96 - ETA: 0s - loss: 2666.71 - ETA: 0s - loss: 2618.10 - ETA: 0s - loss: 2694.25 - ETA: 0s - loss: 2682.78 - ETA: 0s - loss: 2709.97 - ETA: 0s - loss: 2715.71 - ETA: 0s - loss: 2685.06 - ETA: 0s - loss: 2666.98 - ETA: 0s - loss: 2684.42 - ETA: 0s - loss: 2693.84 - ETA: 0s - loss: 2644.79 - ETA: 0s - loss: 2620.02 - ETA: 0s - loss: 2625.93 - ETA: 0s - loss: 2649.84 - ETA: 0s - loss: 2661.17 - 1s 8ms/step - loss: 2643.3895 - val_loss: 2655.9721\n",
      "Epoch 94/100\n",
      "144/144 [==============================] - ETA: 5s - loss: 2825.39 - ETA: 1s - loss: 2782.06 - ETA: 1s - loss: 2656.67 - ETA: 0s - loss: 2666.29 - ETA: 0s - loss: 2613.01 - ETA: 0s - loss: 2674.55 - ETA: 0s - loss: 2710.11 - ETA: 0s - loss: 2709.49 - ETA: 0s - loss: 2715.31 - ETA: 0s - loss: 2684.71 - ETA: 0s - loss: 2666.73 - ETA: 0s - loss: 2684.23 - ETA: 0s - loss: 2693.68 - ETA: 0s - loss: 2644.65 - ETA: 0s - loss: 2619.86 - ETA: 0s - loss: 2625.86 - ETA: 0s - loss: 2646.27 - ETA: 0s - loss: 2656.44 - 1s 8ms/step - loss: 2643.2765 - val_loss: 2655.6682\n",
      "Epoch 95/100\n",
      "144/144 [==============================] - ETA: 5s - loss: 2825.36 - ETA: 1s - loss: 2737.35 - ETA: 1s - loss: 2610.83 - ETA: 0s - loss: 2666.55 - ETA: 0s - loss: 2613.21 - ETA: 0s - loss: 2674.65 - ETA: 0s - loss: 2710.36 - ETA: 0s - loss: 2696.29 - ETA: 0s - loss: 2721.32 - ETA: 0s - loss: 2691.89 - ETA: 0s - loss: 2684.00 - ETA: 0s - loss: 2689.32 - ETA: 0s - loss: 2678.74 - ETA: 0s - loss: 2645.71 - ETA: 0s - loss: 2619.96 - ETA: 0s - loss: 2625.89 - ETA: 0s - loss: 2649.75 - ETA: 0s - loss: 2661.11 - 1s 8ms/step - loss: 2643.3376 - val_loss: 2655.7807\n",
      "Epoch 96/100\n",
      "144/144 [==============================] - ETA: 5s - loss: 2825.37 - ETA: 1s - loss: 2782.79 - ETA: 1s - loss: 2657.16 - ETA: 0s - loss: 2644.35 - ETA: 0s - loss: 2629.43 - ETA: 0s - loss: 2674.75 - ETA: 0s - loss: 2710.33 - ETA: 0s - loss: 2696.18 - ETA: 0s - loss: 2721.23 - ETA: 0s - loss: 2691.77 - ETA: 0s - loss: 2681.83 - ETA: 0s - loss: 2688.65 - ETA: 0s - loss: 2678.56 - ETA: 0s - loss: 2645.57 - ETA: 0s - loss: 2620.95 - ETA: 0s - loss: 2620.35 - ETA: 0s - loss: 2644.48 - ETA: 0s - loss: 2655.36 - 1s 8ms/step - loss: 2643.2977 - val_loss: 2656.2529\n",
      "Epoch 97/100\n",
      "144/144 [==============================] - ETA: 5s - loss: 2825.42 - ETA: 1s - loss: 2781.74 - ETA: 1s - loss: 2656.56 - ETA: 0s - loss: 2643.92 - ETA: 0s - loss: 2629.13 - ETA: 0s - loss: 2674.74 - ETA: 0s - loss: 2682.66 - ETA: 0s - loss: 2709.91 - ETA: 0s - loss: 2715.65 - ETA: 0s - loss: 2685.01 - ETA: 0s - loss: 2680.55 - ETA: 0s - loss: 2681.91 - ETA: 0s - loss: 2695.14 - ETA: 0s - loss: 2631.52 - ETA: 0s - loss: 2622.37 - ETA: 0s - loss: 2623.32 - ETA: 0s - loss: 2654.32 - ETA: 0s - loss: 2648.11 - 1s 8ms/step - loss: 2643.3703 - val_loss: 2655.4755\n",
      "Epoch 98/100\n",
      "144/144 [==============================] - ETA: 5s - loss: 2825.36 - ETA: 1s - loss: 2782.42 - ETA: 1s - loss: 2610.60 - ETA: 0s - loss: 2666.50 - ETA: 0s - loss: 2613.16 - ETA: 0s - loss: 2674.52 - ETA: 0s - loss: 2682.38 - ETA: 0s - loss: 2709.54 - ETA: 0s - loss: 2729.24 - ETA: 0s - loss: 2684.74 - ETA: 0s - loss: 2666.70 - ETA: 0s - loss: 2684.19 - ETA: 0s - loss: 2681.95 - ETA: 0s - loss: 2645.55 - ETA: 0s - loss: 2619.81 - ETA: 0s - loss: 2625.74 - ETA: 0s - loss: 2646.15 - ETA: 0s - loss: 2656.33 - 1s 8ms/step - loss: 2643.1555 - val_loss: 2655.5109\n",
      "Epoch 99/100\n"
     ]
    },
    {
     "name": "stdout",
     "output_type": "stream",
     "text": [
      "144/144 [==============================] - ETA: 5s - loss: 2825.36 - ETA: 1s - loss: 2781.86 - ETA: 1s - loss: 2656.74 - ETA: 0s - loss: 2644.20 - ETA: 0s - loss: 2613.25 - ETA: 0s - loss: 2674.81 - ETA: 0s - loss: 2710.33 - ETA: 0s - loss: 2696.14 - ETA: 0s - loss: 2729.31 - ETA: 0s - loss: 2695.48 - ETA: 0s - loss: 2666.76 - ETA: 0s - loss: 2684.23 - ETA: 0s - loss: 2681.98 - ETA: 0s - loss: 2644.63 - ETA: 0s - loss: 2619.85 - ETA: 0s - loss: 2625.78 - ETA: 0s - loss: 2649.69 - ETA: 0s - loss: 2661.11 - 1s 8ms/step - loss: 2643.3225 - val_loss: 2655.9843\n",
      "Epoch 100/100\n",
      "144/144 [==============================] - ETA: 5s - loss: 2825.41 - ETA: 1s - loss: 2781.81 - ETA: 1s - loss: 2610.30 - ETA: 0s - loss: 2666.28 - ETA: 0s - loss: 2617.84 - ETA: 0s - loss: 2693.81 - ETA: 0s - loss: 2682.36 - ETA: 0s - loss: 2709.56 - ETA: 0s - loss: 2729.27 - ETA: 0s - loss: 2695.62 - ETA: 0s - loss: 2683.95 - ETA: 0s - loss: 2689.31 - ETA: 0s - loss: 2678.71 - ETA: 0s - loss: 2645.55 - ETA: 0s - loss: 2616.21 - ETA: 0s - loss: 2626.45 - ETA: 0s - loss: 2653.53 - ETA: 0s - loss: 2652.07 - 1s 8ms/step - loss: 2643.3161 - val_loss: 2656.2910\n"
     ]
    }
   ],
   "source": [
    "EPOCHS = 100\n",
    "history = model.fit(x=ds_train, epochs=EPOCHS, verbose=1, validation_data=ds_valid)"
   ]
  },
  {
   "cell_type": "code",
   "execution_count": 12,
   "metadata": {},
   "outputs": [
    {
     "name": "stderr",
     "output_type": "stream",
     "text": [
      "W0604 12:31:45.792455  3564 legend.py:1289] No handles with labels found to put in legend.\n"
     ]
    },
    {
     "data": {
      "image/png": "[encoded data removed]",
      "text/plain": [
       "<Figure size 576x216 with 1 Axes>"
      ]
     },
     "metadata": {},
     "output_type": "display_data"
    }
   ],
   "source": [
    "fig = plt.figure(figsize=(8, 3), facecolor='white')\n",
    "plt.plot(history.history['val_loss'])\n",
    "plt.plot(history.history['loss'])\n",
    "plt.title('model loss')\n",
    "plt.ylabel('loss')\n",
    "plt.xlabel('epoch')\n",
    "plt.legend(loc='upper right')\n",
    "plt.show()"
   ]
  }
 ],
 "metadata": {
  "kernelspec": {
   "display_name": "Python 3",
   "language": "python",
   "name": "python3"
  },
  "language_info": {
   "codemirror_mode": {
    "name": "ipython",
    "version": 3
   },
   "file_extension": ".py",
   "mimetype": "text/x-python",
   "name": "python",
   "nbconvert_exporter": "python",
   "pygments_lexer": "ipython3",
   "version": "3.6.8"
  },
  "pycharm": {
   "stem_cell": {
    "cell_type": "raw",
    "metadata": {
     "collapsed": false
    },
    "source": []
   }
  }
 },
 "nbformat": 4,
 "nbformat_minor": 1
}
