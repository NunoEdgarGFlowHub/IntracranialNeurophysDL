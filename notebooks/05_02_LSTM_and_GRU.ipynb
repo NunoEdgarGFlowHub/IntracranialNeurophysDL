{
 "cells": [
  {
   "cell_type": "markdown",
   "metadata": {
    "colab_type": "text",
    "collapsed": true,
    "id": "eVKq1jeXpRSl",
    "pycharm": {
     "name": "#%% md\n"
    }
   },
   "source": [
    "# Introduction to LSTM and GRU with Cortical Electrophys\n",
    "This notebook is part of the [SachsLab Workshop for Intracranial Neurophysiology and Deep Learning](https://github.com/SachsLab/IntracranialNeurophysDL).\n",
    "\n",
    "\n",
    "### Normalize Environments\n",
    "Follow the link below to run in Google Colab or continue if running locally.\n",
    "\n",
    "Run the first three cells to normalize Local / Colab environments, then proceed below for the lesson.\n",
    "\n",
    "<table class=\"tfo-notebook-buttons\" align=\"left\">\n",
    "  <td>\n",
    "    <a target=\"_blank\" href=\"https://colab.research.google.com/github/SachsLab/IntracranialNeurophysDL/blob/master/notebooks/05_02_LSTM_and_GRU.ipynb\"><img src=\"https://www.tensorflow.org/images/colab_logo_32px.png\" />Run in Google Colab</a>\n",
    "  </td>\n",
    "  <td>\n",
    "    <a target=\"_blank\" href=\"https://github.com/SachsLab/IntracranialNeurophysDL/blob/master/notebooks/05_02_LSTM_and_GRU.ipynb\"><img src=\"https://www.tensorflow.org/images/GitHub-Mark-32px.png\" />View source on GitHub</a>\n",
    "  </td>\n",
    "</table>\n"
   ]
  },
  {
   "cell_type": "code",
   "execution_count": 0,
   "metadata": {
    "colab": {},
    "colab_type": "code",
    "id": "J8mN-h0XpRSn",
    "pycharm": {
     "name": "#%%\n"
    }
   },
   "outputs": [],
   "source": [
    "%load_ext autoreload\n",
    "%autoreload 2\n"
   ]
  },
  {
   "cell_type": "code",
   "execution_count": 2,
   "metadata": {
    "colab": {
     "base_uri": "https://localhost:8080/",
     "height": 252,
     "resources": {
      "http://localhost:8080/nbextensions/google.colab/files.js": {
       "data": "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",
       "headers": [
        [
         "content-type",
         "application/javascript"
        ]
       ],
       "ok": true,
       "status": 200,
       "status_text": ""
      }
     }
    },
    "colab_type": "code",
    "id": "SwKv1GS8pRSp",
    "outputId": "a816661e-bbb9-4baa-c71a-728203ab5835",
    "pycharm": {
     "name": "#%%\n"
    }
   },
   "outputs": [
    {
     "data": {
      "text/html": [
       "\n",
       "     <input type=\"file\" id=\"files-55febc4c-444c-4827-b3bb-60175a3ae0c1\" name=\"files[]\" multiple disabled />\n",
       "     <output id=\"result-55febc4c-444c-4827-b3bb-60175a3ae0c1\">\n",
       "      Upload widget is only available when the cell has been executed in the\n",
       "      current browser session. Please rerun this cell to enable.\n",
       "      </output>\n",
       "      <script src=\"/nbextensions/google.colab/files.js\"></script> "
      ],
      "text/plain": [
       "<IPython.core.display.HTML object>"
      ]
     },
     "metadata": {
      "tags": []
     },
     "output_type": "display_data"
    },
    {
     "name": "stdout",
     "output_type": "stream",
     "text": [
      "Saving kaggle.json to kaggle.json\n",
      "Cloning into 'IntracranialNeurophysDL'...\n",
      "remote: Enumerating objects: 94, done.\u001b[K\n",
      "remote: Counting objects: 100% (94/94), done.\u001b[K\n",
      "remote: Compressing objects: 100% (71/71), done.\u001b[K\n",
      "remote: Total 777 (delta 46), reused 46 (delta 21), pack-reused 683\u001b[K\n",
      "Receiving objects: 100% (777/777), 23.59 MiB | 7.75 MiB/s, done.\n",
      "Resolving deltas: 100% (444/444), done.\n",
      "\u001b[K     |████████████████████████████████| 348.9MB 67kB/s \n",
      "\u001b[K     |████████████████████████████████| 501kB 47.5MB/s \n",
      "\u001b[K     |████████████████████████████████| 3.1MB 46.8MB/s \n",
      "\u001b[?25h"
     ]
    }
   ],
   "source": [
    "from pathlib import Path\n",
    "import os\n",
    "try:\n",
    "    # See if we are running on google.colab\n",
    "    import google.colab\n",
    "    from google.colab import files\n",
    "    os.chdir('..')\n",
    "    if not (Path.home() / '.kaggle').is_dir():\n",
    "        # Configure kaggle\n",
    "        files.upload()  # Find the kaggle.json file in your ~/.kaggle directory.\n",
    "        !pip install -q kaggle\n",
    "        !mkdir -p ~/.kaggle\n",
    "        !mv kaggle.json ~/.kaggle/\n",
    "        !chmod 600 ~/.kaggle/kaggle.json\n",
    "    if Path.cwd().stem != 'IntracranialNeurophysDL':\n",
    "        if not (Path.cwd() / 'IntracranialNeurophysDL').is_dir():\n",
    "            # Download the workshop repo and change to its directory\n",
    "            !git clone --recursive https://github.com/SachsLab/IntracranialNeurophysDL.git\n",
    "        os.chdir('IntracranialNeurophysDL')\n",
    "    IN_COLAB = True\n",
    "    # Setup tensorflow 2.0\n",
    "    !pip install -q tensorflow-gpu==2.0.0-beta0\n",
    "except ModuleNotFoundError:\n",
    "    IN_COLAB = False\n",
    "    import sys\n",
    "    if Path.cwd().stem == 'notebooks':\n",
    "        os.chdir(Path.cwd().parent)\n",
    "    # Make sure the kaggle executable is on the PATH\n",
    "    os.environ['PATH'] = os.environ['PATH'] + ';' + str(Path(sys.executable).parent / 'Scripts')\n",
    "\n",
    "# Try to clear any logs from previous runs\n",
    "if (Path.cwd() / 'logs').is_dir():\n",
    "    import shutil\n",
    "    try:\n",
    "        shutil.rmtree(str(Path.cwd() / 'logs'))\n",
    "    except PermissionError:\n",
    "        print(\"Unable to remove logs directory.\")\n",
    "\n",
    "# Additional imports\n",
    "import tensorflow as tf\n",
    "import datetime\n",
    "import numpy as np\n",
    "import matplotlib.pyplot as plt\n",
    "from indl import enable_plotly_in_cell\n",
    "%load_ext tensorboard.notebook\n"
   ]
  },
  {
   "cell_type": "code",
   "execution_count": 3,
   "metadata": {
    "colab": {
     "base_uri": "https://localhost:8080/",
     "height": 87
    },
    "colab_type": "code",
    "id": "BD3SlWh5pRSr",
    "outputId": "4615bfd4-cc2d-49ad-a0ac-29c2ea9bb185",
    "pycharm": {
     "name": "#%%\n"
    }
   },
   "outputs": [
    {
     "name": "stdout",
     "output_type": "stream",
     "text": [
      "Downloading joeyo_nhp_reach_mea.zip to /IntracranialNeurophysDL/data/joeyo/converted\n",
      "100% 2.06G/2.06G [00:53<00:00, 32.4MB/s]\n",
      "100% 2.06G/2.06G [00:53<00:00, 41.7MB/s]\n",
      "Finished downloading and extracting data.\n"
     ]
    }
   ],
   "source": [
    "# Download and unzip data (2.1 GB)\n",
    "datadir = Path.cwd() / 'data' / 'joeyo'\n",
    "if not (datadir / 'converted').is_dir():\n",
    "    !kaggle datasets download --unzip --path {str(datadir / 'converted')} cboulay/joeyo_nhp_reach_mea\n",
    "    print(\"Finished downloading and extracting data.\")\n",
    "else:\n",
    "    print(\"Data directory found. Skipping download.\")\n"
   ]
  },
  {
   "cell_type": "markdown",
   "metadata": {
    "colab_type": "text",
    "id": "1e9lVGCAXuiZ",
    "pycharm": {}
   },
   "source": [
    "## Hyperparameters\n",
    "\n",
    "There are many decisions to be made about data formatting, network architecture, regularization (penalizing complexity), etc. These variables are not trainable with back-propagation and must be provided a priori. Below are the hyper-parameters for the model we will be using today.\n",
    "\n",
    "The exact values were arrived at using a hyper-parameter search demonstrated at the bottom of this notebook.\n"
   ]
  },
  {
   "cell_type": "code",
   "execution_count": 0,
   "metadata": {
    "colab": {},
    "colab_type": "code",
    "id": "TIXWmUCwXuia",
    "pycharm": {}
   },
   "outputs": [],
   "source": [
    "SESS_IDX = 0          # Index of recording session we will use. 0:8\n",
    "BIN_DURATION = 0.250  # Width of window used to bin spikes, in seconds\n",
    "N_TAPS = 4            # Number of bins of history used in a sequence.\n",
    "P_TRAIN = 0.8         # Proportion of data used for training.\n",
    "BATCH_SIZE = 32       # Number of sequences in each training step.\n",
    "P_DROPOUT = 0.05      # Proportion of units to set to 0 on each step.\n",
    "N_RNN_UNITS = 60      # Size of RNN output (state)\n",
    "L2_REG = 1.7e-5       # Parameter regularization strength.\n",
    "STATEFUL = False      # Whether or not to keep state between sequences (True is not tested)\n",
    "EPOCHS = 10           # Number of loops through the entire data set.\n"
   ]
  },
  {
   "cell_type": "markdown",
   "metadata": {
    "colab_type": "text",
    "id": "eKTPFWRLpRSv",
    "pycharm": {}
   },
   "source": [
    "## Prepare Data\n"
   ]
  },
  {
   "cell_type": "markdown",
   "metadata": {
    "colab_type": "text",
    "id": "TC0Yvd5OpRSw",
    "pycharm": {}
   },
   "source": [
    "### Import\n",
    "\n",
    "Import 1 session of data. We can use the `x_chunk` argument to select different types of neural data to import. The options are 'spiketimes', 'mu_spiketimes', 'su_rates', and 'mu_rates' (mu = multiunit, where all different units are squashed down to one unit per electrode).\n",
    "\n",
    "Y, the behavioural data, has finger position (3-D), cursor position (2-D; direct projection of finger position), and the target position. We need only the cursor position, so we select only those channels from Y. We also want the velocity and acceleration. These were not recorded explicitly but we can calculate them easily with a discrete derivative.\n"
   ]
  },
  {
   "cell_type": "code",
   "execution_count": 0,
   "metadata": {
    "colab": {},
    "colab_type": "code",
    "id": "73NZNi5TpRSw",
    "pycharm": {}
   },
   "outputs": [],
   "source": [
    "from data.utils.fileio import load_joeyo_reaching\n",
    "\n",
    "def load_dat_with_vel_accel(datadir, sess_idx):\n",
    "    BEHAV_CHANS = ['CursorX', 'CursorY']\n",
    "    sess_names = ['indy_201' + _ for _ in ['60921_01', '60927_04', '60927_06', '60930_02', '60930_05', '61005_06',\n",
    "                                       '61006_02', '60124_01', '60127_03']]\n",
    "    X, Y, X_ax_info, Y_ax_info = load_joeyo_reaching(datadir, sess_names[sess_idx], x_chunk='mu_spiketimes')\n",
    "\n",
    "    # Slice Y to only keep required behaviour data (cursor position)\n",
    "    b_keep_y_chans = np.in1d(Y_ax_info['channel_names'] , BEHAV_CHANS)\n",
    "    Y = Y[b_keep_y_chans, :]\n",
    "    Y_ax_info['channel_names'] = [_ for _ in Y_ax_info['channel_names'] if _ in BEHAV_CHANS]\n",
    "\n",
    "    # Calculate discrete derivative and double-derivative to get velocity and acceleration.\n",
    "    vel = np.diff(Y, axis=1)\n",
    "    vel = np.concatenate((vel[:, 0][:, None], vel), axis=1)  # Assume velocity was constant across the first two samples.\n",
    "    accel = np.concatenate(([[0], [0]], np.diff(vel, axis=1)), axis=1)  # Assume accel was 0 in the first sample.\n",
    "    Y = np.concatenate((Y, vel, accel), axis=0)\n",
    "    Y_ax_info['channel_names'] += ['VelX', 'VelY', 'AccX', 'AccY']\n",
    "    \n",
    "    return X, Y, X_ax_info, Y_ax_info\n",
    "\n",
    "X, Y, X_ax_info, Y_ax_info = load_dat_with_vel_accel(datadir, SESS_IDX)\n"
   ]
  },
  {
   "cell_type": "markdown",
   "metadata": {
    "colab_type": "text",
    "id": "eYm6uKBVpRSy",
    "pycharm": {}
   },
   "source": [
    "### Bin Spike Times\n",
    "Almost everyone working with these type of data convert spike times to rates. We are no different.\n",
    "\n",
    "First we count spikes in each bin. [Ahmadi et al.](https://arxiv.org/pdf/1901.00708.pdf), using some of these same data, had optimal classification performance with a bin width of 256 msec and 2 taps (see below). Alternatively, [Tseng et al.](https://www.mitpressjournals.org/doi/abs/10.1162/neco_a_01189) used 50-msec binning with 30 taps.\n",
    "\n",
    "The window will slide 4-msec at a time, aligning with the behavioural data rate.\n"
   ]
  },
  {
   "cell_type": "code",
   "execution_count": 0,
   "metadata": {
    "colab": {},
    "colab_type": "code",
    "id": "Tu0dQCTPpRSz",
    "pycharm": {}
   },
   "outputs": [],
   "source": [
    "def bin_spike_times(X, X_ax_info, bin_duration=0.256, bin_step_dur=0.004):\n",
    "    bin_samples = int(np.ceil(bin_duration * X_ax_info['fs']))\n",
    "    bin_starts_t = np.arange(X_ax_info['timestamps'][0], X_ax_info['timestamps'][-1], bin_step_dur)\n",
    "    bin_starts_idx = np.searchsorted(X_ax_info['timestamps'], bin_starts_t)\n",
    "    \n",
    "    # Only keep bins that do not extend beyond the data limit.\n",
    "    b_full_bins = bin_starts_idx <= (X.shape[-1] - bin_samples)\n",
    "    bin_starts_idx = bin_starts_idx[b_full_bins]\n",
    "    bin_starts_t = bin_starts_t[b_full_bins]\n",
    "    \n",
    "    # The next chunk of code counts the number of spikes in each bin.\n",
    "    # Create array of indices to reslice the raster data\n",
    "    bin_ix = np.arange(bin_samples)[:, None] + bin_starts_idx[None, :]\n",
    "    # Create buffer to hold the dense raster data\n",
    "    _temp = np.zeros(X[0].shape, dtype=bool)\n",
    "    # Create output variable to hold spike counts per bin\n",
    "    _X = np.zeros((len(bin_starts_idx), X.shape[0]), dtype=np.int32)\n",
    "    for chan_ix in range(X.shape[0]):\n",
    "        _X[:, chan_ix] = np.sum(X[chan_ix].toarray(out=_temp)[0][bin_ix], axis=0)\n",
    "    _X = _X / bin_duration\n",
    "\n",
    "    return _X.astype(np.float32), bin_starts_t, bin_samples\n",
    "    \n",
    "_X, bin_starts_t, bin_samples = bin_spike_times(X, X_ax_info, bin_duration=BIN_DURATION, bin_step_dur=(1 / Y_ax_info['fs']))\n"
   ]
  },
  {
   "cell_type": "markdown",
   "metadata": {
    "colab_type": "text",
    "id": "OyLWQYoEpRS1",
    "pycharm": {
     "name": "#%% md\n"
    }
   },
   "source": [
    "### Visualize Data\n"
   ]
  },
  {
   "cell_type": "code",
   "execution_count": 7,
   "metadata": {
    "colab": {
     "base_uri": "https://localhost:8080/",
     "height": 584
    },
    "colab_type": "code",
    "id": "z8aVIq1mpRS1",
    "outputId": "92a2c720-ba0f-4a7a-d178-45c706a7f5be",
    "pycharm": {
     "name": "#%%\n"
    }
   },
   "outputs": [
    {
     "data": {
      "image/png": "[encoded data removed]",
      "text/plain": [
       "<Figure size 864x576 with 4 Axes>"
      ]
     },
     "metadata": {
      "tags": []
     },
     "output_type": "display_data"
    }
   ],
   "source": [
    "PLOT_T_RANGE = [30, 40]\n",
    "X_SKIP_NEURONS = 9\n",
    "\n",
    "plt_t_range = np.array(PLOT_T_RANGE, dtype=np.float64)\n",
    "plt_t_range += Y_ax_info['timestamps'][0]\n",
    "\n",
    "fig = plt.figure(figsize=(12, 8), facecolor='white')\n",
    "\n",
    "# Raster Plot\n",
    "plt.subplot(3, 1, 1)\n",
    "# identify which samples in X fall within our time range\n",
    "b_x = np.logical_and(X_ax_info['timestamps'] >= plt_t_range[0],\n",
    "                     X_ax_info['timestamps'] < plt_t_range[1])\n",
    "t_x = X_ax_info['timestamps'][b_x]  # vector of timestamps\n",
    "X_subset = X[::X_SKIP_NEURONS, b_x]\n",
    "# X is sparse. We use nonzero() to get its indices,\n",
    "# then use the indices to index our timestamp vector to get spike times.\n",
    "spk_t_list = [t_x[_.nonzero()[1]] for _ in X_subset]\n",
    "plt.eventplot(spk_t_list, lineoffsets=0.5+np.arange(len(spk_t_list)), linelengths=0.8)\n",
    "# plt.plot(t_vec[1000:2000], X[::10, b_x_ts].T)\n",
    "plt.title('Multiunit Firing')\n",
    "plt.ylabel('Neuron')\n",
    "\n",
    "# Spike Rate Plot\n",
    "plt.subplot(3, 1, 2)\n",
    "b_bins = np.logical_and(bin_starts_t >= plt_t_range[0], bin_starts_t < plt_t_range[1])\n",
    "plt.plot(bin_starts_t[b_bins], _X[b_bins, ::X_SKIP_NEURONS])\n",
    "plt.title('Binned Spike Rates')\n",
    "plt.ylabel('Spiking Rate (Hz)')\n",
    "\n",
    "# Behaviour Plot\n",
    "plt.subplot(3, 1, 3)\n",
    "b_y = np.logical_and(Y_ax_info['timestamps'] >= plt_t_range[0],\n",
    "                     Y_ax_info['timestamps'] < plt_t_range[1])\n",
    "plt.plot(Y_ax_info['timestamps'][b_y], Y[:2, b_y].T)\n",
    "plt.ylabel('Cursor Position')\n",
    "ax2 = plt.twinx()\n",
    "ax2.plot(Y_ax_info['timestamps'][b_y], Y[2:, b_y].T, 'k')\n",
    "plt.ylabel('Vel and Accel')\n",
    "plt.title('Behaviour Data')\n",
    "plt.xlabel('Time (s)')\n",
    "\n",
    "plt.tight_layout()\n",
    "plt.show()\n"
   ]
  },
  {
   "cell_type": "markdown",
   "metadata": {
    "colab_type": "text",
    "id": "7rBOXbBEpRS6",
    "pycharm": {}
   },
   "source": [
    "### Sequence Length a.k.a. Number of Timesteps a.k.a. Taps\n",
    "\n",
    "Neural data needs to be in shape (steps, taps, channels) where `taps` is the number of steps of neural data history used to predict each step in behaviour. In the below figure, there are 3 bins of spikes being used for every behaviour step.\n",
    "\n",
    "![bin_taps](https://github.com/SachsLab/IntracranialNeurophysDL/blob/master/notebooks/img/spike_binning_with_taps.png?raw=1)\n",
    "\n",
    "This requires us to duplicate our neural data B bins times. This is a huge waste of memory, especially if our number of taps gets larger.\n"
   ]
  },
  {
   "cell_type": "markdown",
   "metadata": {
    "colab_type": "text",
    "id": "aX5EQ1RSpRS7",
    "pycharm": {}
   },
   "source": [
    "#### Detour: Strides\n",
    "An array's memory is laid out contiguously. Python/numpy maps from different dimensions in a tensor to different memory addresses by the array's strides.\n"
   ]
  },
  {
   "cell_type": "code",
   "execution_count": 0,
   "metadata": {
    "colab": {
     "base_uri": "https://localhost:8080/",
     "height": 35
    },
    "colab_type": "code",
    "id": "TkF16NX8pRS7",
    "outputId": "8df25a18-7533-4515-d236-f94a629fa774",
    "pycharm": {}
   },
   "outputs": [
    {
     "name": "stdout",
     "output_type": "stream",
     "text": [
      "(89975, 88) (352, 4) 352 (4, 352)\n"
     ]
    }
   ],
   "source": [
    "print(_X.shape, _X.strides, _X.shape[-1] * _X.strides[-1], _X.T.strides)\n"
   ]
  },
  {
   "cell_type": "markdown",
   "metadata": {
    "colab_type": "text",
    "id": "Sz6_XUVdpRS-",
    "pycharm": {}
   },
   "source": [
    "This means that for every step in the last dimension of _X (i.e., columns in a row), advance 4 bytes (np.float32 = 32 bits = 4 bytes). Then, for every step in the next-from-last dimension (i.e., rows), advance 352 bytes; 352 = 4 bytes per sample * 88 columns per row.\n",
    "\n",
    "We can ask numpy to create a new array, backed by the same contiguous memory, but with a different striding strategy, one that has multiple elements in the array coming from the same memory address. You can find a [more detailed answer on StackOverflow](https://stackoverflow.com/a/46199050/1256069).\n",
    "\n",
    "While we are at it, we should recalculate the timestamps for the neural data as the last timestamp in the last tap. And we should slice our Y data to only include steps that start after the first such timestamp.\n"
   ]
  },
  {
   "cell_type": "code",
   "execution_count": 8,
   "metadata": {
    "colab": {
     "base_uri": "https://localhost:8080/",
     "height": 212
    },
    "colab_type": "code",
    "id": "kvGq9i3PpRS-",
    "outputId": "668eb484-8ae0-4362-8ff7-e91577f6859f",
    "pycharm": {}
   },
   "outputs": [
    {
     "name": "stdout",
     "output_type": "stream",
     "text": [
      "(89972, 4, 88) (89972, 2)\n",
      "[[28. 28. 28. 32.]\n",
      " [28. 28. 32. 32.]\n",
      " [28. 32. 32. 32.]\n",
      " [32. 32. 32. 32.]\n",
      " [32. 32. 32. 32.]\n",
      " [32. 32. 32. 32.]\n",
      " [32. 32. 32. 32.]\n",
      " [32. 32. 32. 36.]\n",
      " [32. 32. 36. 36.]\n",
      " [32. 36. 36. 36.]]\n"
     ]
    }
   ],
   "source": [
    "def get_binned_rates_with_history(_X, Y, X_ax_info, bin_starts_t, bin_samples, n_taps=3):\n",
    "    bin_stops_t = bin_starts_t + bin_samples / X_ax_info['fs']\n",
    "    bin_stops_t = bin_stops_t[(N_TAPS-1):]\n",
    "\n",
    "    _X_tapped = np.lib.stride_tricks.as_strided(_X, shape=(len(bin_stops_t), N_TAPS, _X.shape[-1]),\n",
    "                                                strides=(_X.strides[-2], _X.strides[-2], _X.strides[-1]))\n",
    "    \n",
    "    b_keep_y = Y_ax_info['timestamps'] > bin_stops_t[0]\n",
    "    n_extra_y = np.sum(b_keep_y) - len(bin_stops_t)\n",
    "    if n_extra_y > 0:\n",
    "        b_keep_y[-n_extra_y] = False\n",
    "    _Y = Y[2:4, b_keep_y].T\n",
    "    \n",
    "    _X_tapped = _X_tapped[:_Y.shape[0], :, :]\n",
    "    bin_stops_t = bin_stops_t[:_Y.shape[0]]\n",
    "    \n",
    "    return _X_tapped, _Y.astype(np.float32), bin_stops_t\n",
    "\n",
    "_X_tapped, _Y, bin_stops_t = get_binned_rates_with_history(_X, Y, X_ax_info, bin_starts_t, bin_samples, n_taps=N_TAPS)\n",
    "\n",
    "# Confirm _X_tapped contents:\n",
    "print(_X_tapped.shape, _Y.shape)\n",
    "print(_X_tapped[10:20, :, 0])\n"
   ]
  },
  {
   "cell_type": "markdown",
   "metadata": {
    "colab_type": "text",
    "id": "STbfiCv9X1f6"
   },
   "source": [
    "### Kalman Filter\n",
    "Here we prepare the data for a common machine learning method called Kalman filter to compare with our deep learning results.\n",
    "\n",
    "First we should install a package for non-linear Kalman filter (Called Unscented Kalman Filter)"
   ]
  },
  {
   "cell_type": "code",
   "execution_count": 9,
   "metadata": {
    "colab": {
     "base_uri": "https://localhost:8080/",
     "height": 336
    },
    "colab_type": "code",
    "id": "Qwd98Bv6X6Q8",
    "outputId": "cbae10a6-b26b-4fa5-e40b-6f921102e0c7"
   },
   "outputs": [
    {
     "name": "stdout",
     "output_type": "stream",
     "text": [
      "Collecting filterpy\n",
      "\u001b[?25l  Downloading https://files.pythonhosted.org/packages/f6/1d/ac8914360460fafa1990890259b7fa5ef7ba4cd59014e782e4ab3ab144d8/filterpy-1.4.5.zip (177kB)\n",
      "\u001b[K     |████████████████████████████████| 184kB 44.4MB/s \n",
      "\u001b[?25hRequirement already satisfied: numpy in /usr/local/lib/python3.6/dist-packages (from filterpy) (1.16.4)\n",
      "Requirement already satisfied: scipy in /usr/local/lib/python3.6/dist-packages (from filterpy) (1.3.0)\n",
      "Requirement already satisfied: matplotlib in /usr/local/lib/python3.6/dist-packages (from filterpy) (3.0.3)\n",
      "Requirement already satisfied: cycler>=0.10 in /usr/local/lib/python3.6/dist-packages (from matplotlib->filterpy) (0.10.0)\n",
      "Requirement already satisfied: kiwisolver>=1.0.1 in /usr/local/lib/python3.6/dist-packages (from matplotlib->filterpy) (1.1.0)\n",
      "Requirement already satisfied: python-dateutil>=2.1 in /usr/local/lib/python3.6/dist-packages (from matplotlib->filterpy) (2.5.3)\n",
      "Requirement already satisfied: pyparsing!=2.0.4,!=2.1.2,!=2.1.6,>=2.0.1 in /usr/local/lib/python3.6/dist-packages (from matplotlib->filterpy) (2.4.0)\n",
      "Requirement already satisfied: six in /usr/local/lib/python3.6/dist-packages (from cycler>=0.10->matplotlib->filterpy) (1.12.0)\n",
      "Requirement already satisfied: setuptools in /usr/local/lib/python3.6/dist-packages (from kiwisolver>=1.0.1->matplotlib->filterpy) (41.0.1)\n",
      "Building wheels for collected packages: filterpy\n",
      "  Building wheel for filterpy (setup.py) ... \u001b[?25l\u001b[?25hdone\n",
      "  Stored in directory: /root/.cache/pip/wheels/c3/0c/dd/e92392c3f38a41371602d99fc77d6c1d42aadbf0c6afccdd02\n",
      "Successfully built filterpy\n",
      "Installing collected packages: filterpy\n",
      "Successfully installed filterpy-1.4.5\n"
     ]
    }
   ],
   "source": [
    "!pip install filterpy"
   ]
  },
  {
   "cell_type": "code",
   "execution_count": 10,
   "metadata": {
    "colab": {
     "base_uri": "https://localhost:8080/",
     "height": 585
    },
    "colab_type": "code",
    "id": "katNyArTX9up",
    "outputId": "a33199bb-3403-4ad2-d0ce-7497879c6bc8"
   },
   "outputs": [
    {
     "name": "stdout",
     "output_type": "stream",
     "text": [
      "KF - Step: 0 out of 3000\n",
      "KF - Step: 200 out of 3000\n",
      "KF - Step: 400 out of 3000\n",
      "KF - Step: 600 out of 3000\n",
      "KF - Step: 800 out of 3000\n",
      "KF - Step: 1000 out of 3000\n",
      "KF - Step: 1200 out of 3000\n",
      "KF - Step: 1400 out of 3000\n",
      "KF - Step: 1600 out of 3000\n",
      "KF - Step: 1800 out of 3000\n",
      "KF - Step: 2000 out of 3000\n",
      "KF - Step: 2200 out of 3000\n",
      "KF - Step: 2400 out of 3000\n",
      "KF - Step: 2600 out of 3000\n",
      "KF - Step: 2800 out of 3000\n",
      "KF Finished\n",
      "UKF - Step: 0 out of 3000\n",
      "UKF - Step: 200 out of 3000\n",
      "UKF - Step: 400 out of 3000\n",
      "UKF - Step: 600 out of 3000\n",
      "UKF - Step: 800 out of 3000\n",
      "UKF - Step: 1000 out of 3000\n",
      "UKF - Step: 1200 out of 3000\n",
      "UKF - Step: 1400 out of 3000\n",
      "UKF - Step: 1600 out of 3000\n",
      "UKF - Step: 1800 out of 3000\n",
      "UKF - Step: 2000 out of 3000\n",
      "UKF - Step: 2200 out of 3000\n",
      "UKF - Step: 2400 out of 3000\n",
      "UKF - Step: 2600 out of 3000\n",
      "UKF - Step: 2800 out of 3000\n",
      "UKF Finished\n"
     ]
    }
   ],
   "source": [
    "from data.utils.KalmanFilter import ManualKalmanFilter as mkf\n",
    "from filterpy.kalman.UKF import UnscentedKalmanFilter as ukf\n",
    "from filterpy.kalman import MerweScaledSigmaPoints\n",
    "\n",
    "# We don't use the 3 taps for Kalman\n",
    "\n",
    "def get_binned_rates(_X, Y, X_ax_info, bin_starts_t, bin_samples, n_taps=1):\n",
    "    bin_stops_t = bin_starts_t + bin_samples / X_ax_info['fs']\n",
    "\n",
    "    _X_tapped = np.lib.stride_tricks.as_strided(_X, shape=(len(bin_stops_t), 1, _X.shape[-1]),\n",
    "                                                strides=(_X.strides[-2], _X.strides[-2], _X.strides[-1]))\n",
    "    \n",
    "    b_keep_y = Y_ax_info['timestamps'] > bin_stops_t[0]\n",
    "    n_extra_y = np.sum(b_keep_y) - len(bin_stops_t)\n",
    "    if n_extra_y > 0:\n",
    "        b_keep_y[-n_extra_y] = False\n",
    "    _Y = Y[:, b_keep_y].T\n",
    "    \n",
    "    _X_tapped = _X_tapped[:_Y.shape[0], :, :]\n",
    "    bin_stops_t = bin_stops_t[:_Y.shape[0]]\n",
    "    \n",
    "    return _X_tapped, _Y.astype(np.float32), bin_stops_t\n",
    "\n",
    "\n",
    "# The data for Kalman filters are called neural (for spike rates) and states (for position and velocities)\n",
    "neural, states, bin_stops_t = get_binned_rates(_X, Y, X_ax_info, bin_starts_t, bin_samples, n_taps=1)\n",
    "neural = np.squeeze(neural).T\n",
    "state = states[:, :4].T\n",
    "\n",
    "# Seperating training and test samples\n",
    "training_size = 5000\n",
    "\n",
    "state_train = state[:, :training_size]\n",
    "neural_train = neural[:, :training_size]\n",
    "state_test = state[:, training_size:]\n",
    "neural_test = neural[:, training_size:]\n",
    "\n",
    "# Initialize predicted states\n",
    "kf_predict = np.zeros((4, 3000))\n",
    "\n",
    "# Instantiating from KF class\n",
    "mykf = mkf(x=state_train, z = neural_train)\n",
    "\n",
    "# Looping through test data\n",
    "rng = 3000\n",
    "for i in range(rng):\n",
    "  mykf.predict()\n",
    "  neural_in = neural_test[:,i]\n",
    "  kf_predict[:, i] = np.reshape(mykf.update(neural_in), (mykf.m, ))\n",
    "  if i%200 == 0:\n",
    "    print('KF - Step: ' + str(i) + ' out of ' + str(rng))\n",
    "print('KF Finished')\n",
    "\n",
    "# For unscented we use the acceleration too\n",
    "# Also the states and neural data are concatenated\n",
    "state = np.concatenate((states.T, neural))\n",
    "state_train = state[:6, :training_size]\n",
    "state_test = state[:6, training_size:]\n",
    "\n",
    "dim_state = np.size(states, 1)\n",
    "dim_neural = np.size(neural, 0)\n",
    "\n",
    "time_step = 1 / X_ax_info['fs']\n",
    "\n",
    "# Initializing the Kalman matrices\n",
    "x1 = state_train[:, :-1]\n",
    "x2 = state_train[:, 1:]\n",
    "tmp1 = x2 @ x1.T\n",
    "tmp2 = np.linalg.inv(x1 @ x1.T)\n",
    "F = tmp1 @ tmp2\n",
    "\n",
    "tmp1 = x2 - (F @ x1)\n",
    "Q = (tmp1 @ tmp1.T) / (dim_state - 1)\n",
    "\n",
    "tmp1 = neural_train @ state_train.T\n",
    "tmp2 = np.linalg.inv(state_train @ state_train.T)\n",
    "H = tmp1 @ tmp2\n",
    "\n",
    "tmp1 = neural_train - (H @ state_train)\n",
    "tmp2 = tmp1 @ tmp1.T\n",
    "R = np.divide(tmp2, dim_state)\n",
    "\n",
    "# The transition and observation functions for UKF\n",
    "def transition(state, time_step = time_step):\n",
    "    output = np.zeros_like(state)\n",
    "    cursor = state[:6]\n",
    "    output[:6] = F @ cursor\n",
    "    output[6:] = state[6:]\n",
    "    return output\n",
    "\n",
    "\n",
    "def observation (state):\n",
    "    return H @ state[:6]\n",
    "  \n",
    "# Defining sigma points to pass onto UKF\n",
    "points = MerweScaledSigmaPoints(np.size(state, 0), alpha=1., beta=2., kappa=0)\n",
    "\n",
    "# Instantiating from UKF class\n",
    "myukf = ukf(dim_x = dim_state + dim_neural, dim_z = dim_neural, dt = time_step, fx = transition, hx = observation, points = points)\n",
    "\n",
    "# Initializing the UKF object\n",
    "myukf.x = state[:, training_size]\n",
    "myukf.R = R\n",
    "myukf.Q = np.eye(dim_state + dim_neural)\n",
    "myukf.Q[:np.size(Q, 0), :np.size(Q, 1)] = Q\n",
    "\n",
    "# Looping through test data\n",
    "ukf_predict = np.zeros((dim_state + dim_neural, rng))\n",
    "for i in range(rng):\n",
    "  neural_in = state[6:, i + training_size]\n",
    "  myukf.predict(dt=time_step)\n",
    "  myukf.update(neural_in)\n",
    "  ukf_predict[:, i] = myukf.x\n",
    "  if (i-training_size) % 200 == 0:\n",
    "    print('UKF - Step: ' + str(i) + ' out of ' + str(rng))\n",
    "print('UKF Finished')"
   ]
  },
  {
   "cell_type": "markdown",
   "metadata": {
    "colab_type": "text",
    "id": "_r_cWtnspRTB",
    "pycharm": {}
   },
   "source": [
    "### Prepare for TensorFlow\n",
    "\n",
    "First we split into training and validation sets. Then, using the training set only, we calculate the mean and standard deviation so that we can z-score X and center Y.\n"
   ]
  },
  {
   "cell_type": "code",
   "execution_count": 11,
   "metadata": {
    "colab": {
     "base_uri": "https://localhost:8080/",
     "height": 34
    },
    "colab_type": "code",
    "id": "QLzFHqscpRTB",
    "outputId": "0b9e1aee-e5f1-49f1-dd1b-1c23fdc3f5d6",
    "pycharm": {}
   },
   "outputs": [
    {
     "name": "stdout",
     "output_type": "stream",
     "text": [
      "<BatchDataset shapes: ((32, 4, 88), (32, 2)), types: (tf.float32, tf.float32)>\n"
     ]
    }
   ],
   "source": [
    "def prepare_for_tensorflow(_X_tapped, _Y, p_train=0.8, batch_size=32, stateful=False):\n",
    "    if stateful:\n",
    "        # If using stateful then we keep the sequences in order.\n",
    "        valid_start = int(np.ceil(_X_tapped.shape[0] * p_train))\n",
    "        X_train = _X_tapped[:valid_start]\n",
    "        Y_train = _Y[:valid_start]\n",
    "        X_valid = _X_tapped[valid_start:]\n",
    "        Y_valid = _Y[valid_start:]\n",
    "    else:\n",
    "        # If not using stateful then we shuffle sequences.\n",
    "        from sklearn.model_selection import train_test_split\n",
    "        X_train, X_valid, Y_train, Y_valid = train_test_split(_X_tapped, _Y, train_size=p_train)\n",
    "\n",
    "    # Get mean and std of training data for z-scoring\n",
    "    _X_mean = np.nanmean(X_train[:, 0, :], axis=0)[None, None, :]\n",
    "    _X_std = np.nanstd(X_train[:, 0, :], axis=0)[None, None, :]\n",
    "    _Y_mean = np.nanmean(Y_train, axis=0, keepdims=True)\n",
    "    _Y_std = np.nanstd(Y_train, axis=0, keepdims=True)\n",
    "\n",
    "    # Z-score both training and testing data. For Y, only center it.\n",
    "    X_train = (X_train - _X_mean) / _X_std\n",
    "    X_valid = (X_valid - _X_mean) / _X_std\n",
    "    Y_train = (Y_train - _Y_mean)  # / _Y_std  # Only standardize Y if top layer demands it.\n",
    "    Y_valid = (Y_valid - _Y_mean)  # / _Y_std  # Only standardize Y if top layer demands it.\n",
    "    \n",
    "    # Also transform all of _X_tapped and _Y for plotting.\n",
    "    _X_tapped = (_X_tapped - _X_mean) / _X_std\n",
    "    _Y = (_Y - _Y_mean)\n",
    "\n",
    "    ds_train = tf.data.Dataset.from_tensor_slices((X_train, Y_train))\n",
    "    ds_valid = tf.data.Dataset.from_tensor_slices((X_valid, Y_valid))\n",
    "\n",
    "    if not stateful:\n",
    "        ds_train = ds_train.shuffle(int(_X_tapped.shape[0] * P_TRAIN) + 1)\n",
    "    ds_train = ds_train.batch(BATCH_SIZE, drop_remainder=True)\n",
    "    ds_valid = ds_valid.batch(BATCH_SIZE, drop_remainder=True)\n",
    "    \n",
    "    return _X_tapped, _Y, ds_train, ds_valid\n",
    "\n",
    "_X_tapped, _Y, ds_train, ds_valid = prepare_for_tensorflow(_X_tapped, _Y, p_train=P_TRAIN, batch_size=BATCH_SIZE)\n",
    "print(ds_train)\n"
   ]
  },
  {
   "cell_type": "markdown",
   "metadata": {
    "colab_type": "text",
    "id": "bt-dgt1ppRTE",
    "pycharm": {
     "name": "#%% md\n"
    }
   },
   "source": [
    "## Long Short-Term Memory (LSTM) and Gated Recurrent Unit (GRU)\n",
    "[This blog post](https://colah.github.io/posts/2015-08-Understanding-LSTMs/) from mid-2015 is still one of the best explanations of LSTMs around. The short of it is that each LSTM cell has three functions or 'gates' that decide (on each step) how much of the state (forget gate) gets combined with how much of the input (update gate) to make the new state, and how much of the input gets combined with the state to make the output (output gate).\n",
    "\n",
    "GRUs are similar in concept but use only two gates: an update gate and a reset gate. [See here](https://arxiv.org/pdf/1412.3555v1.pdf).\n",
    "\n",
    "As such, LSTMs are slightly more sophisticated and theoretically could model more of your model space, but in practice GRUs usually do just as well and are more efficient computationally. We will quickly try each version.\n",
    "\n",
    "### Implementation Details\n",
    "This will probably change, but the unification of LSTM APIs in TensorFlow 2.0 means that there are some constraints on how an LSTM can be parameterized and still run on the GPU.\n",
    "\n",
    "1. activation == 'tanh'\n",
    "2. recurrent_activation == 'sigmoid'\n",
    "3. recurrent_dropout == 0\n",
    "4. unroll is False\n",
    "5. use_bias is True\n",
    "6. No use of masking.\n"
   ]
  },
  {
   "cell_type": "code",
   "execution_count": 12,
   "metadata": {
    "colab": {
     "base_uri": "https://localhost:8080/",
     "height": 301
    },
    "colab_type": "code",
    "id": "jZLNbi0GpRTE",
    "outputId": "9d5c9747-cb74-405a-c11a-01f0dc0c239f",
    "pycharm": {},
    "scrolled": true
   },
   "outputs": [
    {
     "name": "stdout",
     "output_type": "stream",
     "text": [
      "Model: \"model\"\n",
      "_________________________________________________________________\n",
      "Layer (type)                 Output Shape              Param #   \n",
      "=================================================================\n",
      "input_1 (InputLayer)         [(None, 4, 88)]           0         \n",
      "_________________________________________________________________\n",
      "lstm (LSTM)                  (None, 60)                35760     \n",
      "_________________________________________________________________\n",
      "dropout (Dropout)            (None, 60)                0         \n",
      "_________________________________________________________________\n",
      "dense (Dense)                (None, 2)                 122       \n",
      "=================================================================\n",
      "Total params: 35,882\n",
      "Trainable params: 35,882\n",
      "Non-trainable params: 0\n",
      "_________________________________________________________________\n"
     ]
    }
   ],
   "source": [
    "def make_model(input_shape, output_shape, n_rnn_units=100, p_dropout=0.3, l2_reg=0.001, stateful=False):\n",
    "    # Note: batch_shape, not shape, if using stateful\n",
    "    if stateful:\n",
    "        inputs = tf.keras.layers.Input(batch_shape=input_shape)\n",
    "    else:\n",
    "        inputs = tf.keras.layers.Input(shape=input_shape)\n",
    "    _y = tf.keras.layers.LSTM(n_rnn_units, dropout=p_dropout, recurrent_dropout=0,\n",
    "                              kernel_regularizer=tf.keras.regularizers.l2(l2_reg),\n",
    "                              recurrent_regularizer=tf.keras.regularizers.l2(l2_reg),\n",
    "                              return_sequences=False, stateful=stateful)(inputs)\n",
    "    if p_dropout > 0.0:\n",
    "        _y = tf.keras.layers.Dropout(p_dropout)(_y)\n",
    "    outputs = tf.keras.layers.Dense(output_shape, activation='linear')(_y)\n",
    "    model = tf.keras.Model(inputs, outputs)\n",
    "    model.compile(optimizer='rmsprop', loss='mean_squared_error')\n",
    "    return model\n",
    "\n",
    "input_shape = _X_tapped.shape[1:]\n",
    "if STATEFUL:\n",
    "    input_shape = (BATCH_SIZE,) + input_shape\n",
    "    \n",
    "model = make_model(input_shape, _Y.shape[1], n_rnn_units=N_RNN_UNITS, p_dropout=P_DROPOUT, l2_reg=L2_REG, stateful=STATEFUL)\n",
    "model.summary()\n"
   ]
  },
  {
   "cell_type": "code",
   "execution_count": 13,
   "metadata": {
    "colab": {
     "base_uri": "https://localhost:8080/",
     "height": 372
    },
    "colab_type": "code",
    "id": "ZoBAFmUHpRTH",
    "outputId": "f2fc2a6f-c68f-4515-eebc-9997d12cbec9",
    "pycharm": {}
   },
   "outputs": [
    {
     "name": "stdout",
     "output_type": "stream",
     "text": [
      "Epoch 1/10\n",
      "2249/2249 [==============================] - 25s 11ms/step - loss: 0.0273 - val_loss: 0.0125\n",
      "Epoch 2/10\n",
      "2249/2249 [==============================] - 22s 10ms/step - loss: 0.0129 - val_loss: 0.0094\n",
      "Epoch 3/10\n",
      "2249/2249 [==============================] - 22s 10ms/step - loss: 0.0108 - val_loss: 0.0082\n",
      "Epoch 4/10\n",
      "2249/2249 [==============================] - 22s 10ms/step - loss: 0.0100 - val_loss: 0.0094\n",
      "Epoch 5/10\n",
      "2249/2249 [==============================] - 22s 10ms/step - loss: 0.0095 - val_loss: 0.0073\n",
      "Epoch 6/10\n",
      "2249/2249 [==============================] - 22s 10ms/step - loss: 0.0091 - val_loss: 0.0072\n",
      "Epoch 7/10\n",
      "2249/2249 [==============================] - 22s 10ms/step - loss: 0.0089 - val_loss: 0.0078\n",
      "Epoch 8/10\n",
      "2249/2249 [==============================] - 21s 10ms/step - loss: 0.0087 - val_loss: 0.0076\n",
      "Epoch 9/10\n",
      "2249/2249 [==============================] - 22s 10ms/step - loss: 0.0086 - val_loss: 0.0069\n",
      "Epoch 10/10\n",
      "2249/2249 [==============================] - 21s 9ms/step - loss: 0.0084 - val_loss: 0.0068\n"
     ]
    }
   ],
   "source": [
    "history = model.fit(x=ds_train, epochs=EPOCHS, verbose=1, validation_data=ds_valid)\n"
   ]
  },
  {
   "cell_type": "code",
   "execution_count": 14,
   "metadata": {
    "colab": {
     "base_uri": "https://localhost:8080/",
     "height": 584
    },
    "colab_type": "code",
    "id": "IwOxC9h3pRTK",
    "outputId": "9322770a-d270-40bb-bee0-907fc21f9532",
    "pycharm": {}
   },
   "outputs": [
    {
     "data": {
      "image/png": "[encoded data removed]",
      "text/plain": [
       "<Figure size 576x576 with 3 Axes>"
      ]
     },
     "metadata": {
      "tags": []
     },
     "output_type": "display_data"
    }
   ],
   "source": [
    "PLOT_SAMPLE_RANGE = [5000, 8000]\n",
    "fig = plt.figure(figsize=(8, 8), facecolor='white')\n",
    "\n",
    "plt.subplot(3, 1, 1)\n",
    "plt.plot(history.history['val_loss'], label='Validation')\n",
    "plt.plot(history.history['loss'], label='Training')\n",
    "plt.title('model loss')\n",
    "plt.ylabel('loss')\n",
    "plt.xlabel('epoch')\n",
    "plt.legend(loc='upper right')\n",
    "\n",
    "plt.subplot(3, 1, 2)\n",
    "t_vec = bin_stops_t[PLOT_SAMPLE_RANGE[0]:PLOT_SAMPLE_RANGE[1]]\n",
    "pred_y = model.predict(x=_X_tapped[PLOT_SAMPLE_RANGE[0]:PLOT_SAMPLE_RANGE[1]])\n",
    "plt.plot(t_vec, _Y[PLOT_SAMPLE_RANGE[0]:PLOT_SAMPLE_RANGE[1], 0])\n",
    "plt.plot(t_vec, pred_y[:, 0])\n",
    "plt.plot(t_vec, ukf_predict[2, :])\n",
    "plt.plot(t_vec, kf_predict[2, :])\n",
    "for ix, label in enumerate(['True', 'LSTM', 'UKF', 'KF']):\n",
    "    plt.gca().lines[ix].set_label(label)\n",
    "plt.xlabel('Time (s)')\n",
    "plt.ylabel('Velocity-x')\n",
    "plt.legend()\n",
    "\n",
    "plt.subplot(3, 1, 3)\n",
    "t_vec = bin_stops_t[PLOT_SAMPLE_RANGE[0]:PLOT_SAMPLE_RANGE[1]]\n",
    "pred_y = model.predict(x=_X_tapped[PLOT_SAMPLE_RANGE[0]:PLOT_SAMPLE_RANGE[1]])\n",
    "plt.plot(t_vec, _Y[PLOT_SAMPLE_RANGE[0]:PLOT_SAMPLE_RANGE[1], 1])\n",
    "plt.plot(t_vec, pred_y[:, 1])\n",
    "plt.plot(t_vec, ukf_predict[3, :])\n",
    "plt.plot(t_vec, kf_predict[3, :])\n",
    "for ix, label in enumerate(['True', 'LSTM', 'UKF', 'KF']):\n",
    "    plt.gca().lines[ix].set_label(label)\n",
    "plt.xlabel('Time (s)')\n",
    "plt.ylabel('Velocity-y')\n",
    "plt.legend()\n",
    "\n",
    "plt.tight_layout()\n",
    "plt.show()\n"
   ]
  },
  {
   "cell_type": "markdown",
   "metadata": {
    "colab_type": "text",
    "id": "oUvCs1oqxY7e",
    "pycharm": {}
   },
   "source": [
    "# Hyperparameter Optimization\n",
    "\n",
    "We'll use a library called `hyperopt`. This runs a function with different sets of parameters and chooses the parameter set that minimizes the return. So let's define a function that runs our data prep, trains the model, and returns the validation loss.\n"
   ]
  },
  {
   "cell_type": "code",
   "execution_count": 0,
   "metadata": {
    "colab": {},
    "colab_type": "code",
    "id": "xr6DHJshxc6u",
    "pycharm": {}
   },
   "outputs": [],
   "source": [
    "def lstm_evaluate(params, verbose=0, stateful=False):\n",
    "    print(params)\n",
    "    bin_duration = params.get('bin_duration', 0.256)\n",
    "    n_taps = params.get('n_taps', 3)\n",
    "    batch_size = params.get('batch_size', 32)\n",
    "    p_dropout = params.get('p_dropout', 0.3)\n",
    "    n_rnn_units = params.get('n_rnn_units', 100)\n",
    "    l2_reg = params.get('l2_reg', 0.001)\n",
    "    epochs = params.get('epochs', 10)\n",
    "    \n",
    "    X, Y, X_ax_info, Y_ax_info = load_dat_with_vel_accel(datadir, SESS_IDX)\n",
    "    _X, bin_starts_t, bin_samples = bin_spike_times(X, X_ax_info, bin_duration=bin_duration, bin_step_dur=(1 / Y_ax_info['fs']))\n",
    "    _X_tapped, _Y, bin_stops_t = get_binned_rates_with_history(_X, Y, X_ax_info, bin_starts_t, bin_samples, n_taps=n_taps)\n",
    "    _X_tapped, _Y, ds_train, ds_valid = prepare_for_tensorflow(_X_tapped, _Y, p_train=P_TRAIN, batch_size=batch_size,\n",
    "                                                              stateful=stateful)\n",
    "    input_shape = _X_tapped.shape[1:]\n",
    "    model = make_model(_X_tapped.shape[1:], _Y.shape[1], n_rnn_units=n_rnn_units,\n",
    "                       p_dropout=p_dropout, l2_reg=l2_reg, stateful=stateful)\n",
    "    history = model.fit(x=ds_train, epochs=epochs, verbose=verbose, validation_data=ds_valid)\n",
    "    return min(history.history['val_loss'])\n"
   ]
  },
  {
   "cell_type": "code",
   "execution_count": 0,
   "metadata": {
    "colab": {
     "base_uri": "https://localhost:8080/",
     "height": 34
    },
    "colab_type": "code",
    "id": "SJpBj9ME0Jmu",
    "outputId": "fd7f0159-8f61-4606-895b-065ce2a41dde",
    "pycharm": {}
   },
   "outputs": [
    {
     "name": "stdout",
     "output_type": "stream",
     "text": [
      "{'bin_duration': 0.4689317879618588, 'l2_reg': 0.00032745174405134824, 'n_rnn_units': 140, 'n_taps': 10, 'p_dropout': 0.33698726673880686}\n",
      "  0%|                                                                             | 0/60 [00:00<?, ?it/s, best loss: ?]"
     ]
    },
    {
     "name": "stderr",
     "output_type": "stream",
     "text": [
      "W0607 18:05:55.623417  8944 tf_logging.py:161] <tensorflow.python.keras.layers.recurrent.UnifiedLSTM object at 0x0000022EFF96C550>: Note that this layer is not optimized for performance. Please use tf.keras.layers.CuDNNLSTM for better performance on GPU.\n"
     ]
    },
    {
     "name": "stdout",
     "output_type": "stream",
     "text": [
      "{'bin_duration': 0.08409442270660024, 'l2_reg': 0.006579741274530721, 'n_rnn_units': 90, 'n_taps': 6, 'p_dropout': 0.16769890036189455}\n",
      "  2%|▊                                               | 1/60 [01:47<1:45:17, 107.07s/it, best loss: 0.03644970096515167]"
     ]
    },
    {
     "name": "stderr",
     "output_type": "stream",
     "text": [
      "W0607 18:07:35.850183  8944 tf_logging.py:161] <tensorflow.python.keras.layers.recurrent.UnifiedLSTM object at 0x00000231476112E8>: Note that this layer is not optimized for performance. Please use tf.keras.layers.CuDNNLSTM for better performance on GPU.\n"
     ]
    },
    {
     "name": "stdout",
     "output_type": "stream",
     "text": [
      "{'bin_duration': 0.4124844305144335, 'l2_reg': 0.014627319702997067, 'n_rnn_units': 150, 'n_taps': 3, 'p_dropout': 0.4195305466866147}\n",
      "  3%|█▌                                              | 2/60 [03:27<1:41:37, 105.12s/it, best loss: 0.03644970096515167]"
     ]
    },
    {
     "name": "stderr",
     "output_type": "stream",
     "text": [
      "W0607 18:09:22.067482  8944 tf_logging.py:161] <tensorflow.python.keras.layers.recurrent.UnifiedLSTM object at 0x00000231742EEA58>: Note that this layer is not optimized for performance. Please use tf.keras.layers.CuDNNLSTM for better performance on GPU.\n"
     ]
    },
    {
     "name": "stdout",
     "output_type": "stream",
     "text": [
      "{'bin_duration': 0.056872806363624004, 'l2_reg': 0.0018878254920156495, 'n_rnn_units': 120, 'n_taps': 8, 'p_dropout': 0.19109705283266465}\n",
      "  5%|██▍                                             | 3/60 [05:14<1:40:23, 105.67s/it, best loss: 0.03644970096515167]"
     ]
    },
    {
     "name": "stderr",
     "output_type": "stream",
     "text": [
      "W0607 18:11:02.900752  8944 tf_logging.py:161] <tensorflow.python.keras.layers.recurrent.UnifiedLSTM object at 0x000002314760CAC8>: Note that this layer is not optimized for performance. Please use tf.keras.layers.CuDNNLSTM for better performance on GPU.\n"
     ]
    },
    {
     "name": "stdout",
     "output_type": "stream",
     "text": [
      "{'bin_duration': 0.3104404711569689, 'l2_reg': 0.003185443941493487, 'n_rnn_units': 160, 'n_taps': 10, 'p_dropout': 0.32805054228023256}\n",
      "  7%|███▏                                            | 4/60 [06:54<1:37:06, 104.04s/it, best loss: 0.03644970096515167]"
     ]
    },
    {
     "name": "stderr",
     "output_type": "stream",
     "text": [
      "W0607 18:12:47.558304  8944 tf_logging.py:161] <tensorflow.python.keras.layers.recurrent.UnifiedLSTM object at 0x0000023182F34C18>: Note that this layer is not optimized for performance. Please use tf.keras.layers.CuDNNLSTM for better performance on GPU.\n"
     ]
    },
    {
     "name": "stdout",
     "output_type": "stream",
     "text": [
      "{'bin_duration': 0.06291276665845842, 'l2_reg': 0.0033204045160688724, 'n_rnn_units': 180, 'n_taps': 2, 'p_dropout': 0.2942013293304925}\n",
      "  8%|████                                            | 5/60 [08:39<1:35:27, 104.14s/it, best loss: 0.03644970096515167]"
     ]
    },
    {
     "name": "stderr",
     "output_type": "stream",
     "text": [
      "W0607 18:14:27.615815  8944 tf_logging.py:161] <tensorflow.python.keras.layers.recurrent.UnifiedLSTM object at 0x00000231824CDA90>: Note that this layer is not optimized for performance. Please use tf.keras.layers.CuDNNLSTM for better performance on GPU.\n"
     ]
    },
    {
     "name": "stdout",
     "output_type": "stream",
     "text": [
      "{'bin_duration': 0.15570045511862082, 'l2_reg': 0.0001308335145359211, 'n_rnn_units': 170, 'n_taps': 1, 'p_dropout': 0.002952243803361121}\n",
      " 10%|████▊                                           | 6/60 [10:20<1:32:53, 103.22s/it, best loss: 0.03644970096515167]"
     ]
    },
    {
     "name": "stderr",
     "output_type": "stream",
     "text": [
      "W0607 18:16:10.277106  8944 tf_logging.py:161] <tensorflow.python.keras.layers.recurrent.UnifiedLSTM object at 0x00000231831202E8>: Note that this layer is not optimized for performance. Please use tf.keras.layers.CuDNNLSTM for better performance on GPU.\n"
     ]
    },
    {
     "name": "stdout",
     "output_type": "stream",
     "text": [
      "{'bin_duration': 0.2245710918488734, 'l2_reg': 0.00038099085753400295, 'n_rnn_units': 60, 'n_taps': 5, 'p_dropout': 0.30528700512181767}\n",
      " 12%|█████▍                                         | 7/60 [12:03<1:31:14, 103.30s/it, best loss: 0.013424247268792839]"
     ]
    },
    {
     "name": "stderr",
     "output_type": "stream",
     "text": [
      "W0607 18:17:54.983272  8944 tf_logging.py:161] <tensorflow.python.keras.layers.recurrent.UnifiedLSTM object at 0x00000231891ECEB8>: Note that this layer is not optimized for performance. Please use tf.keras.layers.CuDNNLSTM for better performance on GPU.\n"
     ]
    },
    {
     "name": "stdout",
     "output_type": "stream",
     "text": [
      "{'bin_duration': 0.15391063545168635, 'l2_reg': 0.0003361008141752226, 'n_rnn_units': 170, 'n_taps': 3, 'p_dropout': 0.32942943943580616}\n",
      " 13%|██████▎                                        | 8/60 [13:47<1:29:32, 103.31s/it, best loss: 0.013424247268792839]"
     ]
    },
    {
     "name": "stderr",
     "output_type": "stream",
     "text": [
      "W0607 18:19:37.061067  8944 tf_logging.py:161] <tensorflow.python.keras.layers.recurrent.UnifiedLSTM object at 0x0000023147611DA0>: Note that this layer is not optimized for performance. Please use tf.keras.layers.CuDNNLSTM for better performance on GPU.\n"
     ]
    },
    {
     "name": "stdout",
     "output_type": "stream",
     "text": [
      "{'bin_duration': 0.09494748511993, 'l2_reg': 0.02219929123259234, 'n_rnn_units': 100, 'n_taps': 9, 'p_dropout': 0.41792838031645746}\n",
      " 15%|███████                                        | 9/60 [15:30<1:27:56, 103.47s/it, best loss: 0.013424247268792839]"
     ]
    },
    {
     "name": "stderr",
     "output_type": "stream",
     "text": [
      "W0607 18:21:19.880333  8944 tf_logging.py:161] <tensorflow.python.keras.layers.recurrent.UnifiedLSTM object at 0x000002318F866B00>: Note that this layer is not optimized for performance. Please use tf.keras.layers.CuDNNLSTM for better performance on GPU.\n"
     ]
    },
    {
     "name": "stdout",
     "output_type": "stream",
     "text": [
      "{'bin_duration': 0.25085954030904584, 'l2_reg': 1.676675184525868e-05, 'n_rnn_units': 60, 'n_taps': 2, 'p_dropout': 0.05342868852911842}\n",
      " 17%|███████▋                                      | 10/60 [17:12<1:25:45, 102.91s/it, best loss: 0.013424247268792839]"
     ]
    },
    {
     "name": "stderr",
     "output_type": "stream",
     "text": [
      "W0607 18:23:04.209561  8944 tf_logging.py:161] <tensorflow.python.keras.layers.recurrent.UnifiedLSTM object at 0x000002318E2FF1D0>: Note that this layer is not optimized for performance. Please use tf.keras.layers.CuDNNLSTM for better performance on GPU.\n"
     ]
    },
    {
     "name": "stdout",
     "output_type": "stream",
     "text": [
      "{'bin_duration': 0.061459496296391455, 'l2_reg': 0.0012629208356431311, 'n_rnn_units': 100, 'n_taps': 6, 'p_dropout': 0.13360476218887174}\n",
      " 18%|████████▎                                    | 11/60 [18:56<1:24:23, 103.34s/it, best loss: 0.0068318790961653525]"
     ]
    },
    {
     "name": "stderr",
     "output_type": "stream",
     "text": [
      "W0607 18:24:45.294477  8944 tf_logging.py:161] <tensorflow.python.keras.layers.recurrent.UnifiedLSTM object at 0x00000231934D1400>: Note that this layer is not optimized for performance. Please use tf.keras.layers.CuDNNLSTM for better performance on GPU.\n"
     ]
    },
    {
     "name": "stdout",
     "output_type": "stream",
     "text": [
      "{'bin_duration': 0.2499932985167378, 'l2_reg': 0.0012550953084940134, 'n_rnn_units': 90, 'n_taps': 4, 'p_dropout': 0.031439356878153024}\n",
      " 20%|█████████                                    | 12/60 [20:38<1:22:12, 102.76s/it, best loss: 0.0068318790961653525]"
     ]
    },
    {
     "name": "stderr",
     "output_type": "stream",
     "text": [
      "W0607 18:26:29.919842  8944 tf_logging.py:161] <tensorflow.python.keras.layers.recurrent.UnifiedLSTM object at 0x000002318E5ECDD8>: Note that this layer is not optimized for performance. Please use tf.keras.layers.CuDNNLSTM for better performance on GPU.\n"
     ]
    },
    {
     "name": "stdout",
     "output_type": "stream",
     "text": [
      "{'bin_duration': 0.09759574742012214, 'l2_reg': 0.001272726544057878, 'n_rnn_units': 190, 'n_taps': 9, 'p_dropout': 0.2933929844555342}\n",
      " 22%|█████████▊                                   | 13/60 [22:23<1:20:58, 103.37s/it, best loss: 0.0068318790961653525]"
     ]
    },
    {
     "name": "stderr",
     "output_type": "stream",
     "text": [
      "W0607 18:28:12.106681  8944 tf_logging.py:161] <tensorflow.python.keras.layers.recurrent.UnifiedLSTM object at 0x0000023184E486A0>: Note that this layer is not optimized for performance. Please use tf.keras.layers.CuDNNLSTM for better performance on GPU.\n"
     ]
    },
    {
     "name": "stdout",
     "output_type": "stream",
     "text": [
      "{'bin_duration': 0.05555401797258484, 'l2_reg': 0.00010009561460914854, 'n_rnn_units': 150, 'n_taps': 5, 'p_dropout': 0.042241572941930206}\n",
      " 23%|██████████▌                                  | 14/60 [24:06<1:19:08, 103.24s/it, best loss: 0.0068318790961653525]"
     ]
    },
    {
     "name": "stderr",
     "output_type": "stream",
     "text": [
      "W0607 18:29:54.294681  8944 tf_logging.py:161] <tensorflow.python.keras.layers.recurrent.UnifiedLSTM object at 0x0000023194A5B240>: Note that this layer is not optimized for performance. Please use tf.keras.layers.CuDNNLSTM for better performance on GPU.\n"
     ]
    },
    {
     "name": "stdout",
     "output_type": "stream",
     "text": [
      "{'bin_duration': 0.05329946766336516, 'l2_reg': 0.00010636003108601713, 'n_rnn_units': 130, 'n_taps': 5, 'p_dropout': 0.42650267837135936}\n",
      " 25%|███████████▎                                 | 15/60 [25:48<1:17:13, 102.97s/it, best loss: 0.0068318790961653525]"
     ]
    },
    {
     "name": "stderr",
     "output_type": "stream",
     "text": [
      "W0607 18:31:36.599958  8944 tf_logging.py:161] <tensorflow.python.keras.layers.recurrent.UnifiedLSTM object at 0x000002319C5FE160>: Note that this layer is not optimized for performance. Please use tf.keras.layers.CuDNNLSTM for better performance on GPU.\n"
     ]
    },
    {
     "name": "stdout",
     "output_type": "stream",
     "text": [
      "{'bin_duration': 0.25274524514089924, 'l2_reg': 0.00038600504906059286, 'n_rnn_units': 190, 'n_taps': 2, 'p_dropout': 0.1009634612251138}\n",
      " 27%|████████████                                 | 16/60 [27:30<1:15:21, 102.76s/it, best loss: 0.0068318790961653525]"
     ]
    },
    {
     "name": "stderr",
     "output_type": "stream",
     "text": [
      "W0607 18:33:22.292457  8944 tf_logging.py:161] <tensorflow.python.keras.layers.recurrent.UnifiedLSTM object at 0x000002319C8C0588>: Note that this layer is not optimized for performance. Please use tf.keras.layers.CuDNNLSTM for better performance on GPU.\n"
     ]
    },
    {
     "name": "stdout",
     "output_type": "stream",
     "text": [
      "{'bin_duration': 0.2957916858210276, 'l2_reg': 0.00022625193584926802, 'n_rnn_units': 200, 'n_taps': 7, 'p_dropout': 0.015162837528530815}\n",
      " 28%|████████████▊                                | 17/60 [29:16<1:14:23, 103.79s/it, best loss: 0.0068318790961653525]"
     ]
    },
    {
     "name": "stderr",
     "output_type": "stream",
     "text": [
      "W0607 18:35:09.230564  8944 tf_logging.py:161] <tensorflow.python.keras.layers.recurrent.UnifiedLSTM object at 0x0000023182B17710>: Note that this layer is not optimized for performance. Please use tf.keras.layers.CuDNNLSTM for better performance on GPU.\n"
     ]
    },
    {
     "name": "stdout",
     "output_type": "stream",
     "text": [
      "{'bin_duration': 0.0676848701797128, 'l2_reg': 0.0002751166296572193, 'n_rnn_units': 60, 'n_taps': 7, 'p_dropout': 0.28937137447479416}\n",
      " 30%|█████████████▌                               | 18/60 [31:03<1:13:17, 104.71s/it, best loss: 0.0068318790961653525]"
     ]
    },
    {
     "name": "stderr",
     "output_type": "stream",
     "text": [
      "W0607 18:36:52.173359  8944 tf_logging.py:161] <tensorflow.python.keras.layers.recurrent.UnifiedLSTM object at 0x00000231AC94DE10>: Note that this layer is not optimized for performance. Please use tf.keras.layers.CuDNNLSTM for better performance on GPU.\n"
     ]
    },
    {
     "name": "stdout",
     "output_type": "stream",
     "text": [
      "{'bin_duration': 0.3678722092156411, 'l2_reg': 0.007946451701990593, 'n_rnn_units': 170, 'n_taps': 9, 'p_dropout': 0.16760971035376215}\n",
      " 32%|██████████████▎                              | 19/60 [32:45<1:11:02, 103.97s/it, best loss: 0.0068318790961653525]"
     ]
    },
    {
     "name": "stderr",
     "output_type": "stream",
     "text": [
      "W0607 18:38:39.542305  8944 tf_logging.py:161] <tensorflow.python.keras.layers.recurrent.UnifiedLSTM object at 0x0000023182B17320>: Note that this layer is not optimized for performance. Please use tf.keras.layers.CuDNNLSTM for better performance on GPU.\n"
     ]
    },
    {
     "name": "stdout",
     "output_type": "stream",
     "text": [
      "{'bin_duration': 0.15388119548534135, 'l2_reg': 2.727675121152014e-05, 'n_rnn_units': 120, 'n_taps': 1, 'p_dropout': 0.07595211216333174}\n",
      " 33%|███████████████                              | 20/60 [34:34<1:10:12, 105.31s/it, best loss: 0.0068318790961653525]"
     ]
    },
    {
     "name": "stderr",
     "output_type": "stream",
     "text": [
      "W0607 18:40:24.323304  8944 tf_logging.py:161] <tensorflow.python.keras.layers.recurrent.UnifiedLSTM object at 0x00000231AC94D8D0>: Note that this layer is not optimized for performance. Please use tf.keras.layers.CuDNNLSTM for better performance on GPU.\n"
     ]
    },
    {
     "name": "stdout",
     "output_type": "stream",
     "text": [
      "{'bin_duration': 0.1969187764695081, 'l2_reg': 1.237757429650551e-05, 'n_rnn_units': 50, 'n_taps': 1, 'p_dropout': 0.07453625033801636}\n",
      " 35%|███████████████▋                             | 21/60 [36:18<1:08:11, 104.90s/it, best loss: 0.0068318790961653525]"
     ]
    },
    {
     "name": "stderr",
     "output_type": "stream",
     "text": [
      "W0607 18:42:09.075001  8944 tf_logging.py:161] <tensorflow.python.keras.layers.recurrent.UnifiedLSTM object at 0x00000231AD789EF0>: Note that this layer is not optimized for performance. Please use tf.keras.layers.CuDNNLSTM for better performance on GPU.\n"
     ]
    },
    {
     "name": "stdout",
     "output_type": "stream",
     "text": [
      "{'bin_duration': 0.1228034962588789, 'l2_reg': 1.0407779438396396e-05, 'n_rnn_units': 50, 'n_taps': 2, 'p_dropout': 0.22672992844261317}\n",
      " 37%|████████████████▌                            | 22/60 [38:03<1:06:31, 105.04s/it, best loss: 0.0068318790961653525]"
     ]
    },
    {
     "name": "stderr",
     "output_type": "stream",
     "text": [
      "W0607 18:43:53.110745  8944 tf_logging.py:161] <tensorflow.python.keras.layers.recurrent.UnifiedLSTM object at 0x00000231ACDFAC88>: Note that this layer is not optimized for performance. Please use tf.keras.layers.CuDNNLSTM for better performance on GPU.\n"
     ]
    },
    {
     "name": "stdout",
     "output_type": "stream",
     "text": [
      "{'bin_duration': 0.19622870460256103, 'l2_reg': 0.07152494719917378, 'n_rnn_units': 70, 'n_taps': 3, 'p_dropout': 0.0708685073744151}\n",
      " 38%|█████████████████▎                           | 23/60 [39:47<1:04:33, 104.70s/it, best loss: 0.0068318790961653525]"
     ]
    },
    {
     "name": "stderr",
     "output_type": "stream",
     "text": [
      "W0607 18:45:38.290949  8944 tf_logging.py:161] <tensorflow.python.keras.layers.recurrent.UnifiedLSTM object at 0x000002318FACC828>: Note that this layer is not optimized for performance. Please use tf.keras.layers.CuDNNLSTM for better performance on GPU.\n"
     ]
    },
    {
     "name": "stdout",
     "output_type": "stream",
     "text": [
      "{'bin_duration': 0.18957344988126532, 'l2_reg': 1.1582144157519554e-05, 'n_rnn_units': 70, 'n_taps': 1, 'p_dropout': 0.12503433665454985}\n",
      " 40%|██████████████████                           | 24/60 [41:33<1:02:57, 104.92s/it, best loss: 0.0068318790961653525]"
     ]
    },
    {
     "name": "stderr",
     "output_type": "stream",
     "text": [
      "W0607 18:47:23.640682  8944 tf_logging.py:161] <tensorflow.python.keras.layers.recurrent.UnifiedLSTM object at 0x000002319C7E95C0>: Note that this layer is not optimized for performance. Please use tf.keras.layers.CuDNNLSTM for better performance on GPU.\n"
     ]
    },
    {
     "name": "stdout",
     "output_type": "stream",
     "text": [
      "{'bin_duration': 0.1280115676508514, 'l2_reg': 3.837746577763177e-05, 'n_rnn_units': 50, 'n_taps': 4, 'p_dropout': 0.21667487816656358}\n",
      " 42%|██████████████████▊                          | 25/60 [43:18<1:01:20, 105.14s/it, best loss: 0.0068318790961653525]"
     ]
    },
    {
     "name": "stderr",
     "output_type": "stream",
     "text": [
      "W0607 18:49:08.206173  8944 tf_logging.py:161] <tensorflow.python.keras.layers.recurrent.UnifiedLSTM object at 0x00000231B1D22898>: Note that this layer is not optimized for performance. Please use tf.keras.layers.CuDNNLSTM for better performance on GPU.\n"
     ]
    },
    {
     "name": "stdout",
     "output_type": "stream",
     "text": [
      "{'bin_duration': 0.3050483868721755, 'l2_reg': 2.6279863263243777e-05, 'n_rnn_units': 80, 'n_taps': 2, 'p_dropout': 0.4761921791777545}\n",
      " 43%|████████████████████▎                          | 26/60 [45:03<59:31, 105.03s/it, best loss: 0.0068318790961653525]"
     ]
    },
    {
     "name": "stderr",
     "output_type": "stream",
     "text": [
      "W0607 18:50:56.008842  8944 tf_logging.py:161] <tensorflow.python.keras.layers.recurrent.UnifiedLSTM object at 0x00000231B1B4EDA0>: Note that this layer is not optimized for performance. Please use tf.keras.layers.CuDNNLSTM for better performance on GPU.\n"
     ]
    },
    {
     "name": "stdout",
     "output_type": "stream",
     "text": [
      "{'bin_duration': 0.1838827982571602, 'l2_reg': 5.36180684704276e-05, 'n_rnn_units': 60, 'n_taps': 4, 'p_dropout': 0.07546963831229}\n",
      " 45%|█████████████████████▏                         | 27/60 [46:50<58:01, 105.51s/it, best loss: 0.0068318790961653525]"
     ]
    },
    {
     "name": "stderr",
     "output_type": "stream",
     "text": [
      "W0607 18:52:40.529547  8944 tf_logging.py:161] <tensorflow.python.keras.layers.recurrent.UnifiedLSTM object at 0x00000231AD2CE898>: Note that this layer is not optimized for performance. Please use tf.keras.layers.CuDNNLSTM for better performance on GPU.\n"
     ]
    },
    {
     "name": "stdout",
     "output_type": "stream",
     "text": [
      "{'bin_duration': 0.47673551814781884, 'l2_reg': 1.545355630914456e-05, 'n_rnn_units': 110, 'n_taps': 1, 'p_dropout': 0.00109613653714416}\n",
      " 47%|█████████████████████▉                         | 28/60 [48:35<56:13, 105.44s/it, best loss: 0.0068318790961653525]"
     ]
    },
    {
     "name": "stderr",
     "output_type": "stream",
     "text": [
      "W0607 18:54:30.855144  8944 tf_logging.py:161] <tensorflow.python.keras.layers.recurrent.UnifiedLSTM object at 0x00000231BF631358>: Note that this layer is not optimized for performance. Please use tf.keras.layers.CuDNNLSTM for better performance on GPU.\n"
     ]
    },
    {
     "name": "stdout",
     "output_type": "stream",
     "text": [
      "{'bin_duration': 0.40183539038598676, 'l2_reg': 5.6426838756602074e-05, 'n_rnn_units': 80, 'n_taps': 3, 'p_dropout': 0.12333272774584608}\n",
      " 48%|██████████████████████▋                        | 29/60 [50:26<55:18, 107.05s/it, best loss: 0.0068318790961653525]"
     ]
    },
    {
     "name": "stderr",
     "output_type": "stream",
     "text": [
      "W0607 18:56:20.390965  8944 tf_logging.py:161] <tensorflow.python.keras.layers.recurrent.UnifiedLSTM object at 0x00000231CF6D0940>: Note that this layer is not optimized for performance. Please use tf.keras.layers.CuDNNLSTM for better performance on GPU.\n"
     ]
    },
    {
     "name": "stdout",
     "output_type": "stream",
     "text": [
      "{'bin_duration': 0.22317449076647927, 'l2_reg': 1.8267696282160987e-05, 'n_rnn_units': 50, 'n_taps': 2, 'p_dropout': 0.1522929106141315}\n",
      " 50%|███████████████████████▌                       | 30/60 [52:14<53:42, 107.42s/it, best loss: 0.0068318790961653525]"
     ]
    },
    {
     "name": "stderr",
     "output_type": "stream",
     "text": [
      "W0607 18:58:05.631614  8944 tf_logging.py:161] <tensorflow.python.keras.layers.recurrent.UnifiedLSTM object at 0x00000231B2DE4400>: Note that this layer is not optimized for performance. Please use tf.keras.layers.CuDNNLSTM for better performance on GPU.\n"
     ]
    },
    {
     "name": "stdout",
     "output_type": "stream",
     "text": [
      "{'bin_duration': 0.12732389998714405, 'l2_reg': 0.08921365278363282, 'n_rnn_units': 80, 'n_taps': 1, 'p_dropout': 0.051758343712165346}\n",
      " 52%|████████████████████████▎                      | 31/60 [54:01<51:51, 107.30s/it, best loss: 0.0068318790961653525]"
     ]
    },
    {
     "name": "stderr",
     "output_type": "stream",
     "text": [
      "W0607 18:59:50.965748  8944 tf_logging.py:161] <tensorflow.python.keras.layers.recurrent.UnifiedLSTM object at 0x00000231BA9ED2E8>: Note that this layer is not optimized for performance. Please use tf.keras.layers.CuDNNLSTM for better performance on GPU.\n"
     ]
    },
    {
     "name": "stdout",
     "output_type": "stream",
     "text": [
      "{'bin_duration': 0.3415878893847115, 'l2_reg': 0.0007256890849247486, 'n_rnn_units': 70, 'n_taps': 4, 'p_dropout': 0.1917739802531057}\n",
      " 53%|█████████████████████████                      | 32/60 [55:45<49:38, 106.36s/it, best loss: 0.0068318790961653525]"
     ]
    },
    {
     "name": "stderr",
     "output_type": "stream",
     "text": [
      "W0607 19:01:38.819889  8944 tf_logging.py:161] <tensorflow.python.keras.layers.recurrent.UnifiedLSTM object at 0x00000231DD2AC2B0>: Note that this layer is not optimized for performance. Please use tf.keras.layers.CuDNNLSTM for better performance on GPU.\n"
     ]
    },
    {
     "name": "stdout",
     "output_type": "stream",
     "text": [
      "{'bin_duration': 0.24788813589826844, 'l2_reg': 6.741049667171101e-05, 'n_rnn_units': 140, 'n_taps': 3, 'p_dropout': 0.3736651044517343}\n",
      " 55%|█████████████████████████▊                     | 33/60 [57:34<48:13, 107.17s/it, best loss: 0.0068318790961653525]"
     ]
    },
    {
     "name": "stderr",
     "output_type": "stream",
     "text": [
      "W0607 19:03:26.269673  8944 tf_logging.py:161] <tensorflow.python.keras.layers.recurrent.UnifiedLSTM object at 0x00000231F3B68B70>: Note that this layer is not optimized for performance. Please use tf.keras.layers.CuDNNLSTM for better performance on GPU.\n"
     ]
    },
    {
     "name": "stdout",
     "output_type": "stream",
     "text": [
      "{'bin_duration': 0.17456692376578778, 'l2_reg': 1.0843290528627168e-05, 'n_rnn_units': 90, 'n_taps': 6, 'p_dropout': 0.0883617310448701}\n",
      " 57%|██████████████████████████▋                    | 34/60 [59:22<46:29, 107.28s/it, best loss: 0.0068318790961653525]"
     ]
    },
    {
     "name": "stderr",
     "output_type": "stream",
     "text": [
      "W0607 19:05:12.554549  8944 tf_logging.py:161] <tensorflow.python.keras.layers.recurrent.UnifiedLSTM object at 0x00000231CF63E978>: Note that this layer is not optimized for performance. Please use tf.keras.layers.CuDNNLSTM for better performance on GPU.\n"
     ]
    },
    {
     "name": "stdout",
     "output_type": "stream",
     "text": [
      "{'bin_duration': 0.4147866629421283, 'l2_reg': 0.00017806854352705572, 'n_rnn_units': 110, 'n_taps': 2, 'p_dropout': 0.2367442618741281}\n",
      " 58%|██████████████████████████▎                  | 35/60 [1:01:08<44:35, 107.02s/it, best loss: 0.0068318790961653525]"
     ]
    },
    {
     "name": "stderr",
     "output_type": "stream",
     "text": [
      "W0607 19:07:03.110316  8944 tf_logging.py:161] <tensorflow.python.keras.layers.recurrent.UnifiedLSTM object at 0x00000231E1A5F080>: Note that this layer is not optimized for performance. Please use tf.keras.layers.CuDNNLSTM for better performance on GPU.\n"
     ]
    },
    {
     "name": "stdout",
     "output_type": "stream",
     "text": [
      "{'bin_duration': 0.11003755578252669, 'l2_reg': 2.374857273417073e-05, 'n_rnn_units': 60, 'n_taps': 7, 'p_dropout': 0.19642594286642653}\n",
      " 60%|███████████████████████████                  | 36/60 [1:02:59<43:18, 108.28s/it, best loss: 0.0068318790961653525]"
     ]
    },
    {
     "name": "stderr",
     "output_type": "stream",
     "text": [
      "W0607 19:08:49.069368  8944 tf_logging.py:161] <tensorflow.python.keras.layers.recurrent.UnifiedLSTM object at 0x00000231FEF52240>: Note that this layer is not optimized for performance. Please use tf.keras.layers.CuDNNLSTM for better performance on GPU.\n"
     ]
    },
    {
     "name": "stdout",
     "output_type": "stream",
     "text": [
      "{'bin_duration': 0.07547573972893543, 'l2_reg': 0.03232921146355589, 'n_rnn_units': 100, 'n_taps': 1, 'p_dropout': 0.023599476105526988}\n",
      " 62%|███████████████████████████▊                 | 37/60 [1:04:45<41:08, 107.35s/it, best loss: 0.0068318790961653525]"
     ]
    },
    {
     "name": "stderr",
     "output_type": "stream",
     "text": [
      "W0607 19:10:33.659200  8944 tf_logging.py:161] <tensorflow.python.keras.layers.recurrent.UnifiedLSTM object at 0x00000231F6BFC390>: Note that this layer is not optimized for performance. Please use tf.keras.layers.CuDNNLSTM for better performance on GPU.\n"
     ]
    },
    {
     "name": "stdout",
     "output_type": "stream",
     "text": [
      "{'bin_duration': 0.26584909835553533, 'l2_reg': 0.0034816024873405766, 'n_rnn_units': 130, 'n_taps': 2, 'p_dropout': 0.148737628242542}\n",
      " 63%|████████████████████████████▌                | 38/60 [1:06:30<39:05, 106.63s/it, best loss: 0.0068318790961653525]"
     ]
    },
    {
     "name": "stderr",
     "output_type": "stream",
     "text": [
      "W0607 19:12:21.884425  8944 tf_logging.py:161] <tensorflow.python.keras.layers.recurrent.UnifiedLSTM object at 0x00000231F0B52748>: Note that this layer is not optimized for performance. Please use tf.keras.layers.CuDNNLSTM for better performance on GPU.\n"
     ]
    },
    {
     "name": "stdout",
     "output_type": "stream",
     "text": [
      "{'bin_duration': 0.2160445683386089, 'l2_reg': 0.0007194375463015863, 'n_rnn_units': 90, 'n_taps': 3, 'p_dropout': 0.263635641161142}\n",
      " 65%|█████████████████████████████▎               | 39/60 [1:08:18<37:32, 107.27s/it, best loss: 0.0068318790961653525]"
     ]
    },
    {
     "name": "stderr",
     "output_type": "stream",
     "text": [
      "W0607 19:14:09.809543  8944 tf_logging.py:161] <tensorflow.python.keras.layers.recurrent.UnifiedLSTM object at 0x00000231F7C6E4E0>: Note that this layer is not optimized for performance. Please use tf.keras.layers.CuDNNLSTM for better performance on GPU.\n"
     ]
    },
    {
     "name": "stdout",
     "output_type": "stream",
     "text": [
      "{'bin_duration': 0.1383425976625253, 'l2_reg': 8.409422353303624e-05, 'n_rnn_units': 50, 'n_taps': 5, 'p_dropout': 0.10782710968047285}\n",
      " 67%|██████████████████████████████               | 40/60 [1:10:06<35:48, 107.42s/it, best loss: 0.0068318790961653525]"
     ]
    },
    {
     "name": "stderr",
     "output_type": "stream",
     "text": [
      "W0607 19:15:56.219176  8944 tf_logging.py:161] <tensorflow.python.keras.layers.recurrent.UnifiedLSTM object at 0x000002320B6AEF98>: Note that this layer is not optimized for performance. Please use tf.keras.layers.CuDNNLSTM for better performance on GPU.\n"
     ]
    },
    {
     "name": "stdout",
     "output_type": "stream",
     "text": [
      "{'bin_duration': 0.2837194453256414, 'l2_reg': 4.653846726970662e-05, 'n_rnn_units': 70, 'n_taps': 8, 'p_dropout': 0.052686554817317016}\n",
      " 68%|██████████████████████████████▊              | 41/60 [1:11:53<33:57, 107.24s/it, best loss: 0.0068318790961653525]"
     ]
    },
    {
     "name": "stderr",
     "output_type": "stream",
     "text": [
      "W0607 19:17:45.583045  8944 tf_logging.py:161] <tensorflow.python.keras.layers.recurrent.UnifiedLSTM object at 0x00000232045EB240>: Note that this layer is not optimized for performance. Please use tf.keras.layers.CuDNNLSTM for better performance on GPU.\n"
     ]
    },
    {
     "name": "stdout",
     "output_type": "stream",
     "text": [
      "{'bin_duration': 0.1644249200611363, 'l2_reg': 0.0001456770600727554, 'n_rnn_units': 80, 'n_taps': 4, 'p_dropout': 0.0009116786795282938}\n",
      " 70%|███████████████████████████████▍             | 42/60 [1:13:43<32:23, 107.98s/it, best loss: 0.0068318790961653525]"
     ]
    },
    {
     "name": "stderr",
     "output_type": "stream",
     "text": [
      "W0607 19:19:33.199529  8944 tf_logging.py:161] <tensorflow.python.keras.layers.recurrent.UnifiedLSTM object at 0x000002320477EB70>: Note that this layer is not optimized for performance. Please use tf.keras.layers.CuDNNLSTM for better performance on GPU.\n"
     ]
    },
    {
     "name": "stdout",
     "output_type": "stream",
     "text": [
      "{'bin_duration': 0.49939539733823507, 'l2_reg': 1.6392177072354197e-05, 'n_rnn_units': 110, 'n_taps': 3, 'p_dropout': 0.26010658550120763}\n",
      " 72%|████████████████████████████████▎            | 43/60 [1:15:29<30:27, 107.48s/it, best loss: 0.0068318790961653525]"
     ]
    },
    {
     "name": "stderr",
     "output_type": "stream",
     "text": [
      "W0607 19:21:25.271651  8944 tf_logging.py:161] <tensorflow.python.keras.layers.recurrent.UnifiedLSTM object at 0x000002321A290DD8>: Note that this layer is not optimized for performance. Please use tf.keras.layers.CuDNNLSTM for better performance on GPU.\n"
     ]
    },
    {
     "name": "stdout",
     "output_type": "stream",
     "text": [
      "{'bin_duration': 0.20717619120972083, 'l2_reg': 0.00047947925410223816, 'n_rnn_units': 150, 'n_taps': 1, 'p_dropout': 0.3691698829233949}\n",
      " 73%|█████████████████████████████████            | 44/60 [1:17:22<29:08, 109.28s/it, best loss: 0.0068318790961653525]"
     ]
    },
    {
     "name": "stderr",
     "output_type": "stream",
     "text": [
      "W0607 19:23:13.729968  8944 tf_logging.py:161] <tensorflow.python.keras.layers.recurrent.UnifiedLSTM object at 0x00000231F7BDC390>: Note that this layer is not optimized for performance. Please use tf.keras.layers.CuDNNLSTM for better performance on GPU.\n"
     ]
    },
    {
     "name": "stdout",
     "output_type": "stream",
     "text": [
      "{'bin_duration': 0.08897623482598693, 'l2_reg': 0.002018386063678986, 'n_rnn_units': 60, 'n_taps': 6, 'p_dropout': 0.17364996962236645}\n",
      " 75%|█████████████████████████████████▊           | 45/60 [1:19:11<27:17, 109.15s/it, best loss: 0.0068318790961653525]"
     ]
    },
    {
     "name": "stderr",
     "output_type": "stream",
     "text": [
      "W0607 19:25:00.562615  8944 tf_logging.py:161] <tensorflow.python.keras.layers.recurrent.UnifiedLSTM object at 0x000002320468EEB8>: Note that this layer is not optimized for performance. Please use tf.keras.layers.CuDNNLSTM for better performance on GPU.\n"
     ]
    },
    {
     "name": "stdout",
     "output_type": "stream",
     "text": [
      "{'bin_duration': 0.3378393392447775, 'l2_reg': 3.4929713419770814e-05, 'n_rnn_units': 90, 'n_taps': 2, 'p_dropout': 0.10370734914349541}\n",
      " 77%|██████████████████████████████████▌          | 46/60 [1:20:58<25:16, 108.33s/it, best loss: 0.0068318790961653525]"
     ]
    },
    {
     "name": "stderr",
     "output_type": "stream",
     "text": [
      "W0607 19:26:51.330430  8944 tf_logging.py:161] <tensorflow.python.keras.layers.recurrent.UnifiedLSTM object at 0x000002322C62A550>: Note that this layer is not optimized for performance. Please use tf.keras.layers.CuDNNLSTM for better performance on GPU.\n"
     ]
    },
    {
     "name": "stdout",
     "output_type": "stream",
     "text": [
      "{'bin_duration': 0.11161935887694396, 'l2_reg': 0.012592399157745867, 'n_rnn_units': 100, 'n_taps': 8, 'p_dropout': 0.03747369670160512}\n",
      " 78%|███████████████████████████████████▎         | 47/60 [1:22:50<23:43, 109.49s/it, best loss: 0.0068318790961653525]"
     ]
    },
    {
     "name": "stderr",
     "output_type": "stream",
     "text": [
      "W0607 19:28:39.641470  8944 tf_logging.py:161] <tensorflow.python.keras.layers.recurrent.UnifiedLSTM object at 0x000002322DB002B0>: Note that this layer is not optimized for performance. Please use tf.keras.layers.CuDNNLSTM for better performance on GPU.\n"
     ]
    },
    {
     "name": "stdout",
     "output_type": "stream",
     "text": [
      "{'bin_duration': 0.14011268926681741, 'l2_reg': 0.00019588075169635775, 'n_rnn_units': 140, 'n_taps': 4, 'p_dropout': 0.1551388090247112}\n",
      " 80%|████████████████████████████████████         | 48/60 [1:24:38<21:49, 109.16s/it, best loss: 0.0068318790961653525]"
     ]
    },
    {
     "name": "stderr",
     "output_type": "stream",
     "text": [
      "W0607 19:30:28.455050  8944 tf_logging.py:161] <tensorflow.python.keras.layers.recurrent.UnifiedLSTM object at 0x00000232334BD208>: Note that this layer is not optimized for performance. Please use tf.keras.layers.CuDNNLSTM for better performance on GPU.\n"
     ]
    },
    {
     "name": "stdout",
     "output_type": "stream",
     "text": [
      "{'bin_duration': 0.42958583608274653, 'l2_reg': 0.005081772654846794, 'n_rnn_units': 160, 'n_taps': 3, 'p_dropout': 0.20951242674979864}\n",
      " 82%|████████████████████████████████████▊        | 49/60 [1:26:27<19:59, 109.06s/it, best loss: 0.0068318790961653525]"
     ]
    },
    {
     "name": "stderr",
     "output_type": "stream",
     "text": [
      "W0607 19:32:22.308797  8944 tf_logging.py:161] <tensorflow.python.keras.layers.recurrent.UnifiedLSTM object at 0x0000023228327DD8>: Note that this layer is not optimized for performance. Please use tf.keras.layers.CuDNNLSTM for better performance on GPU.\n"
     ]
    },
    {
     "name": "stdout",
     "output_type": "stream",
     "text": [
      "{'bin_duration': 0.26774072780173214, 'l2_reg': 0.04678923948222216, 'n_rnn_units': 120, 'n_taps': 10, 'p_dropout': 0.016417230152027812}\n",
      " 83%|█████████████████████████████████████▌       | 50/60 [1:28:20<18:22, 110.23s/it, best loss: 0.0068318790961653525]"
     ]
    },
    {
     "name": "stderr",
     "output_type": "stream",
     "text": [
      "W0607 19:34:12.486113  8944 tf_logging.py:161] <tensorflow.python.keras.layers.recurrent.UnifiedLSTM object at 0x000002321EBC1C18>: Note that this layer is not optimized for performance. Please use tf.keras.layers.CuDNNLSTM for better performance on GPU.\n"
     ]
    },
    {
     "name": "stdout",
     "output_type": "stream",
     "text": [
      "{'bin_duration': 0.23363401594667157, 'l2_reg': 0.00011872753124054596, 'n_rnn_units': 60, 'n_taps': 5, 'p_dropout': 0.06605587509566783}\n",
      " 85%|██████████████████████████████████████▎      | 51/60 [1:30:11<16:33, 110.42s/it, best loss: 0.0068318790961653525]"
     ]
    },
    {
     "name": "stderr",
     "output_type": "stream",
     "text": [
      "W0607 19:36:02.775612  8944 tf_logging.py:161] <tensorflow.python.keras.layers.recurrent.UnifiedLSTM object at 0x000002323A335518>: Note that this layer is not optimized for performance. Please use tf.keras.layers.CuDNNLSTM for better performance on GPU.\n"
     ]
    },
    {
     "name": "stdout",
     "output_type": "stream",
     "text": [
      "{'bin_duration': 0.16771634063783922, 'l2_reg': 1.005385015111197e-05, 'n_rnn_units': 70, 'n_taps': 1, 'p_dropout': 0.1318350686603197}\n",
      " 87%|███████████████████████████████████████      | 52/60 [1:32:01<14:43, 110.39s/it, best loss: 0.0068318790961653525]"
     ]
    },
    {
     "name": "stderr",
     "output_type": "stream",
     "text": [
      "W0607 19:37:51.903759  8944 tf_logging.py:161] <tensorflow.python.keras.layers.recurrent.UnifiedLSTM object at 0x0000023239C51C88>: Note that this layer is not optimized for performance. Please use tf.keras.layers.CuDNNLSTM for better performance on GPU.\n"
     ]
    },
    {
     "name": "stdout",
     "output_type": "stream",
     "text": [
      "{'bin_duration': 0.33833599248130863, 'l2_reg': 0.0005552977471304036, 'n_rnn_units': 180, 'n_taps': 2, 'p_dropout': 0.3158189029659385}\n",
      " 88%|███████████████████████████████████████▊     | 53/60 [1:33:51<12:51, 110.23s/it, best loss: 0.0068318790961653525]"
     ]
    },
    {
     "name": "stderr",
     "output_type": "stream",
     "text": [
      "W0607 19:39:44.712281  8944 tf_logging.py:161] <tensorflow.python.keras.layers.recurrent.UnifiedLSTM object at 0x000002323E81F4A8>: Note that this layer is not optimized for performance. Please use tf.keras.layers.CuDNNLSTM for better performance on GPU.\n"
     ]
    },
    {
     "name": "stdout",
     "output_type": "stream",
     "text": [
      "{'bin_duration': 0.19837797131938142, 'l2_reg': 0.001941804086680506, 'n_rnn_units': 50, 'n_taps': 6, 'p_dropout': 0.4854244319125932}\n",
      " 90%|████████████████████████████████████████▌    | 54/60 [1:35:44<11:06, 111.08s/it, best loss: 0.0068318790961653525]"
     ]
    },
    {
     "name": "stderr",
     "output_type": "stream",
     "text": [
      "W0607 19:41:35.368340  8944 tf_logging.py:161] <tensorflow.python.keras.layers.recurrent.UnifiedLSTM object at 0x000002326040A908>: Note that this layer is not optimized for performance. Please use tf.keras.layers.CuDNNLSTM for better performance on GPU.\n"
     ]
    },
    {
     "name": "stdout",
     "output_type": "stream",
     "text": [
      "{'bin_duration': 0.14672687638398108, 'l2_reg': 7.99495841901226e-05, 'n_rnn_units': 160, 'n_taps': 7, 'p_dropout': 0.2803932495873813}\n",
      " 92%|█████████████████████████████████████████▎   | 55/60 [1:37:35<09:15, 111.02s/it, best loss: 0.0068318790961653525]"
     ]
    },
    {
     "name": "stderr",
     "output_type": "stream",
     "text": [
      "W0607 19:43:25.347986  8944 tf_logging.py:161] <tensorflow.python.keras.layers.recurrent.UnifiedLSTM object at 0x00000232044A08D0>: Note that this layer is not optimized for performance. Please use tf.keras.layers.CuDNNLSTM for better performance on GPU.\n"
     ]
    },
    {
     "name": "stdout",
     "output_type": "stream",
     "text": [
      "{'bin_duration': 0.10525254034951845, 'l2_reg': 0.0002871984107950019, 'n_rnn_units': 200, 'n_taps': 1, 'p_dropout': 0.08893348419851776}\n",
      " 93%|██████████████████████████████████████████   | 56/60 [1:39:24<07:21, 110.40s/it, best loss: 0.0068318790961653525]"
     ]
    },
    {
     "name": "stderr",
     "output_type": "stream",
     "text": [
      "W0607 19:45:13.537076  8944 tf_logging.py:161] <tensorflow.python.keras.layers.recurrent.UnifiedLSTM object at 0x000002326040A400>: Note that this layer is not optimized for performance. Please use tf.keras.layers.CuDNNLSTM for better performance on GPU.\n"
     ]
    },
    {
     "name": "stdout",
     "output_type": "stream",
     "text": [
      "{'bin_duration': 0.07450344873026991, 'l2_reg': 3.479148144364692e-05, 'n_rnn_units': 100, 'n_taps': 5, 'p_dropout': 0.3504987450781972}\n",
      " 95%|██████████████████████████████████████████▊  | 57/60 [1:41:13<05:30, 110.03s/it, best loss: 0.0068318790961653525]"
     ]
    },
    {
     "name": "stderr",
     "output_type": "stream",
     "text": [
      "W0607 19:47:02.200185  8944 tf_logging.py:161] <tensorflow.python.keras.layers.recurrent.UnifiedLSTM object at 0x00000232137D6AC8>: Note that this layer is not optimized for performance. Please use tf.keras.layers.CuDNNLSTM for better performance on GPU.\n"
     ]
    },
    {
     "name": "stdout",
     "output_type": "stream",
     "text": [
      "{'bin_duration': 0.36830783398994793, 'l2_reg': 2.1010314275844353e-05, 'n_rnn_units': 80, 'n_taps': 3, 'p_dropout': 0.17586194043785647}\n",
      " 97%|███████████████████████████████████████████▌ | 58/60 [1:43:01<03:38, 109.38s/it, best loss: 0.0068318790961653525]"
     ]
    },
    {
     "name": "stderr",
     "output_type": "stream",
     "text": [
      "W0607 19:48:55.226724  8944 tf_logging.py:161] <tensorflow.python.keras.layers.recurrent.UnifiedLSTM object at 0x000002321AB9F4A8>: Note that this layer is not optimized for performance. Please use tf.keras.layers.CuDNNLSTM for better performance on GPU.\n"
     ]
    },
    {
     "name": "stdout",
     "output_type": "stream",
     "text": [
      "{'bin_duration': 0.23859087420316955, 'l2_reg': 0.009011795475990528, 'n_rnn_units': 60, 'n_taps': 9, 'p_dropout': 0.44618333192796705}\n",
      " 98%|████████████████████████████████████████████▎| 59/60 [1:44:53<01:50, 110.27s/it, best loss: 0.0068318790961653525]"
     ]
    },
    {
     "name": "stderr",
     "output_type": "stream",
     "text": [
      "W0607 19:50:45.215300  8944 tf_logging.py:161] <tensorflow.python.keras.layers.recurrent.UnifiedLSTM object at 0x0000023299131EB8>: Note that this layer is not optimized for performance. Please use tf.keras.layers.CuDNNLSTM for better performance on GPU.\n"
     ]
    },
    {
     "name": "stdout",
     "output_type": "stream",
     "text": [
      "100%|█████████████████████████████████████████████| 60/60 [1:46:44<00:00, 110.38s/it, best loss: 0.0068318790961653525]\n"
     ]
    }
   ],
   "source": [
    "from hyperopt import fmin, hp, Trials, tpe, STATUS_OK\n",
    "from hyperopt.pyll import scope\n",
    "space = {\n",
    "    'bin_duration': hp.loguniform('bin_duration', np.log(0.05), np.log(0.5)),\n",
    "    'n_taps': scope.int(hp.quniform('n_taps', 1, 10, 1)),\n",
    "#     'batch_size': scope.int(hp.quniform('batch_size', 16, 128, 16)),\n",
    "    'p_dropout': hp.uniform('p_dropout', 0., 0.5),\n",
    "    'n_rnn_units': scope.int(hp.quniform('n_rnn_units', 50, 200, 10)),\n",
    "    'l2_reg': hp.loguniform('l2_reg', np.log(0.00001), np.log(0.1)),\n",
    "#     'epochs': scope.int(hp.quniform('epochs', 2, 15, 1)),\n",
    "}\n",
    "\n",
    "trials = Trials()  # object that holds iteration results\n",
    "#Do optimization\n",
    "hyperoptBest = fmin(lstm_evaluate, space, algo=tpe.suggest, max_evals=60, trials=trials)\n"
   ]
  },
  {
   "cell_type": "code",
   "execution_count": 0,
   "metadata": {
    "colab": {},
    "colab_type": "code",
    "id": "TPOS2MKbXujO",
    "outputId": "374f467c-f1cc-4cd2-ba29-cd669f7befc6",
    "pycharm": {}
   },
   "outputs": [
    {
     "name": "stdout",
     "output_type": "stream",
     "text": [
      "Best Loss: 0.0068318790961653525\n",
      "Best Parameters: {'bin_duration': 0.25085954030904584, 'l2_reg': 1.676675184525868e-05, 'n_rnn_units': 60.0, 'n_taps': 2.0, 'p_dropout': 0.05342868852911842}\n"
     ]
    }
   ],
   "source": [
    "print(\"Best Loss: {}\".format(trials.best_trial['result']['loss']))\n",
    "print(\"Best Parameters: {}\".format(hyperoptBest))"
   ]
  },
  {
   "cell_type": "markdown",
   "metadata": {
    "colab_type": "text",
    "id": "Xg8CI75WpRTO",
    "pycharm": {}
   },
   "source": [
    "## Related Studies\n",
    "\n",
    "* [Ahmadi et al](https://arxiv.org/pdf/1901.00708.pdf)\n",
    "    * Uses same datasets [-2, -1]\n",
    "* [Glaser et al., arxiv 2018](https://arxiv.org/abs/1708.00909)\n",
    "    * Great tutorial\n",
    "    * [with code!](https://github.com/KordingLab/Neural_Decoding)\n",
    "* [Park and Kim, IEEE APSIPA ASC 2018](https://ieeexplore.ieee.org/abstract/document/8659760)\n",
    "* [Tseng et al... Nicolelis, IEEE Neural Computation 2019](https://www.mitpressjournals.org/doi/abs/10.1162/neco_a_01189)\n",
    "    * \"1000 iterations of training with a batch size of 64 and unrolling of 30 steps (equivalent to 1.5 s as each time step was 50 ms)\".    \n",
    "    * Tested 1-layer and 2-layer networks, 2-layer widening was best, with dropout=0.2\n",
    "* [Wang et al., EMBC 2018](https://ieeexplore.ieee.org/abstract/document/8512609)\n",
    "    * Decoding hindlimb kinematics.\n",
    "    * seq_length=3; N_RNN_UNITS=200; lr=0.001; neural_dropout=0.2; batch_size=32; epochs=100\n"
   ]
  }
 ],
 "metadata": {
  "accelerator": "GPU",
  "colab": {
   "name": "05_02_LSTM_and_GRU.ipynb",
   "provenance": [],
   "version": "0.3.2"
  },
  "kernelspec": {
   "display_name": "Python 3",
   "language": "python",
   "name": "python3"
  },
  "language_info": {
   "codemirror_mode": {
    "name": "ipython",
    "version": 3
   },
   "file_extension": ".py",
   "mimetype": "text/x-python",
   "name": "python",
   "nbconvert_exporter": "python",
   "pygments_lexer": "ipython3",
   "version": "3.6.8"
  }
 },
 "nbformat": 4,
 "nbformat_minor": 1
}
