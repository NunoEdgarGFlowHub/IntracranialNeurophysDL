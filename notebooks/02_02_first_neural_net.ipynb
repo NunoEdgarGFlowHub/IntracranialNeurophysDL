{
 "cells": [
  {
   "cell_type": "code",
   "execution_count": 2,
   "metadata": {
    "collapsed": true,
    "pycharm": {
     "is_executing": false
    }
   },
   "outputs": [],
   "source": [
    "# Standard block to equalize local and Colab.\n",
    "from pathlib import Path\n",
    "import os\n",
    "try:\n",
    "    # See if we are running on google.colab\n",
    "    import google.colab\n",
    "    from google.colab import files\n",
    "    # Configure kaggle\n",
    "    files.upload()  # Find the kaggle.json file in your ~/.kaggle directory.\n",
    "    !pip install -q kaggle\n",
    "    !mkdir -p ~/.kaggle\n",
    "    !mv kaggle.json ~/.kaggle/\n",
    "    !chmod 600 ~/.kaggle/kaggle.json\n",
    "    # Download the workshop repo and change to its directory\n",
    "    # For now edit the username/password. This requirement will be removed when the repo is made public.\n",
    "    !git clone https://<username>:<password>@github.com/SachsLab/IntracranialNeurophysDL.git ../repo\n",
    "    os.chdir('../repo')\n",
    "    IN_COLAB = True\n",
    "except ModuleNotFoundError:\n",
    "    import sys\n",
    "    if Path.cwd().stem == 'notebooks':\n",
    "        os.chdir(Path.cwd().parent)\n",
    "    os.environ['PATH'] = os.environ['PATH'] + ';' + str(Path(sys.executable).parent / 'Scripts')\n",
    "    IN_COLAB = False\n",
    "    "
   ]
  },
  {
   "cell_type": "code",
   "execution_count": 3,
   "outputs": [],
   "source": [
    "# Download faces_basic if we don't already have it.\n",
    "datadir = Path.cwd() / 'data' / 'kjm_ecog'\n",
    "if not (datadir / 'converted').is_dir():\n",
    "    !kaggle datasets download -d cboulay/kjm-ecog-faces-basic\n",
    "    print(\"Finished downloading. Now extracting contents...\")\n",
    "    data_path = Path('kjm-ecog-faces-basic.zip')\n",
    "    import zipfile\n",
    "    with zipfile.ZipFile(data_path, 'r') as zip_ref:\n",
    "        zip_ref.extractall(datadir / 'converted' / 'faces_basic')\n",
    "    data_path.unlink()\n"
   ],
   "metadata": {
    "collapsed": false,
    "pycharm": {
     "name": "#%%\n",
     "is_executing": false
    }
   }
  },
  {
   "cell_type": "code",
   "execution_count": 4,
   "outputs": [
    {
     "name": "stdout",
     "text": [
      "(603, 527)",
      " ",
      "(603,)",
      "\n"
     ],
     "output_type": "stream"
    }
   ],
   "source": [
    "# Load data from one participant.\n",
    "SUB_ID = 'de'\n",
    "from data.utils.fileio import from_neuropype_h5\n",
    "test_file = datadir / 'converted' / 'faces_basic' / (SUB_ID + '_bp.h5')\n",
    "chunks = from_neuropype_h5(test_file)\n",
    "chunk_names = [_[0] for _ in chunks]\n",
    "chunk = chunks[chunk_names.index('signals')][1]\n",
    "ax_types = [_['type'] for _ in chunk['axes']]\n",
    "instance_axis = chunk['axes'][ax_types.index('instance')]\n",
    "n_trials = len(instance_axis['data'])\n",
    "X = chunk['data'].reshape((n_trials, -1))  # 603 trials x 527 features\n",
    "Y = instance_axis['data']['Marker'].values\n",
    "n_trials, n_features = X.shape\n",
    "print(X.shape, Y.shape)\n"
   ],
   "metadata": {
    "collapsed": false,
    "pycharm": {
     "name": "#%%\n",
     "is_executing": false
    }
   }
  },
  {
   "cell_type": "markdown",
   "source": [
    "\n",
    "[Keras](), as provided by tensorflow\n",
    "\n",
    "[tf.eager tutorial](https://adventuresinmachinelearning.com/tensorflow-eager-tutorial/)\n",
    "\n"
   ],
   "metadata": {
    "collapsed": false,
    "pycharm": {
     "name": "#%% md\n"
    }
   }
  },
  {
   "cell_type": "code",
   "execution_count": 13,
   "outputs": [
    {
     "name": "stdout",
     "text": [
      "_________________________________________________________________",
      "\n",
      "Layer (type)                 Output Shape              Param #   ",
      "\n",
      "=================================================================",
      "\n",
      "dense_7 (Dense)              (None, 3)                 1584      ",
      "\n",
      "=================================================================",
      "\n",
      "Total params: 1,584",
      "\n",
      "Trainable params: 1,584",
      "\n",
      "Non-trainable params: 0",
      "\n",
      "_________________________________________________________________",
      "\n"
     ],
     "output_type": "stream"
    }
   ],
   "source": [
    "import tensorflow as tf\n",
    "\n",
    "\n",
    "# Enable eager execution so TensorFlow operations execute immediately and their result can be inspected.\n",
    "# This is the default behaviour in upcoming TensorFlow 2.0 so we might as well get used to it.\n",
    "tf.enable_eager_execution()\n",
    "\n",
    "# Create a model that is a linear stack of layers. Well, only 1 layer. And a bad one at that.\n",
    "model = tf.keras.Sequential()\n",
    "model.add(tf.keras.layers.Dense(3, input_shape=(n_features,), activation='linear'))\n",
    "model.compile(loss='categorical_crossentropy', optimizer='rmsprop', metrics=['accuracy'])\n",
    "# See losses in tf.losses.\n",
    "# See optimizer in tf.keras.optimizers: 'Adam', 'rmsprop', 'SGD'\n",
    "\n",
    "model.summary()\n"
   ],
   "metadata": {
    "collapsed": false,
    "pycharm": {
     "name": "#%%\n",
     "is_executing": false
    }
   }
  },
  {
   "cell_type": "markdown",
   "source": [
    "[tf.data](https://www.tensorflow.org/guide/datasets)\n",
    "\n",
    "[tf.data tutorial](https://adventuresinmachinelearning.com/tensorflow-dataset-tutorial/)\n",
    "\n"
   ],
   "metadata": {
    "collapsed": false,
    "pycharm": {
     "name": "#%% md\n"
    }
   }
  },
  {
   "cell_type": "code",
   "execution_count": null,
   "outputs": [],
   "source": [
    "BATCH_SIZE = 5\n",
    "\n",
    "# Import our data as a Dataset.\n",
    "dataset = tf.data.Dataset.from_tensor_slices((X, Y))\n",
    "dataset = dataset.shuffle(1000).repeat().batch(BATCH_SIZE)\n",
    "ds_iter = dataset.make_initializable_iterator()\n",
    "next_element = ds_iter.get_next()\n"
   ],
   "metadata": {
    "collapsed": false,
    "pycharm": {
     "name": "#%%\n"
    }
   }
  }
 ],
 "metadata": {
  "language_info": {
   "codemirror_mode": {
    "name": "ipython",
    "version": 2
   },
   "file_extension": ".py",
   "mimetype": "text/x-python",
   "name": "python",
   "nbconvert_exporter": "python",
   "pygments_lexer": "ipython2",
   "version": "2.7.6"
  },
  "kernelspec": {
   "name": "python3",
   "language": "python",
   "display_name": "Python 3"
  },
  "pycharm": {
   "stem_cell": {
    "cell_type": "raw",
    "source": [],
    "metadata": {
     "collapsed": false
    }
   }
  }
 },
 "nbformat": 4,
 "nbformat_minor": 0
}