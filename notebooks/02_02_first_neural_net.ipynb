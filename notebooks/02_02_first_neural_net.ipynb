{
 "cells": [
  {
   "cell_type": "code",
   "execution_count": 1,
   "metadata": {
    "collapsed": true,
    "pycharm": {
     "is_executing": false
    }
   },
   "outputs": [],
   "source": [
    "# Standard block to equalize local and Colab.\n",
    "from pathlib import Path\n",
    "import os\n",
    "try:\n",
    "    # See if we are running on google.colab\n",
    "    import google.colab\n",
    "    from google.colab import files\n",
    "    # Configure kaggle\n",
    "    files.upload()  # Find the kaggle.json file in your ~/.kaggle directory.\n",
    "    !pip install -q kaggle\n",
    "    !mkdir -p ~/.kaggle\n",
    "    !mv kaggle.json ~/.kaggle/\n",
    "    !chmod 600 ~/.kaggle/kaggle.json\n",
    "    # Download the workshop repo and change to its directory\n",
    "    # For now edit the username/password. This requirement will be removed when the repo is made public.\n",
    "    !git clone https://<username>:<password>@github.com/SachsLab/IntracranialNeurophysDL.git ../repo\n",
    "    os.chdir('../repo')\n",
    "    !pip install tensorboardcolab\n",
    "    from tensorboardcolab import TensorBoardColab, TensorBoardColabCallback\n",
    "    tbc=TensorBoardColab(startup_waiting_time=30)\n",
    "    tensorboard_callback = TensorBoardColabCallback(tbc)\n",
    "    IN_COLAB = True\n",
    "except ModuleNotFoundError:\n",
    "    import sys\n",
    "    if Path.cwd().stem == 'notebooks':\n",
    "        os.chdir(Path.cwd().parent)\n",
    "    os.environ['PATH'] = os.environ['PATH'] + ';' + str(Path(sys.executable).parent / 'Scripts')\n",
    "    import datetime\n",
    "    import tensorflow as tf\n",
    "    %load_ext tensorboard\n",
    "    # Clear any logs from previous runs\n",
    "    !rm -rf ./logs/ \n",
    "    log_dir=\"logs/fit/\" + datetime.datetime.now().strftime(\"%Y%m%d-%H%M%S\")\n",
    "    tensorboard_callback = tf.keras.callbacks.TensorBoard(log_dir=log_dir, histogram_freq=1)\n",
    "    IN_COLAB = False\n",
    "    "
   ]
  },
  {
   "cell_type": "code",
   "execution_count": 2,
   "outputs": [
    {
     "name": "stdout",
     "text": [
      "kjm-ecog-faces-basic.zip: Skipping, found more recently modified local copy (use --force to force download)\nFinished downloading. Now extracting contents...\n"
     ],
     "output_type": "stream"
    }
   ],
   "source": [
    "# Download faces_basic if we don't already have it.\n",
    "# If you get 401 - Unauthorized, then you need to create a new API token from kaggle:\n",
    "\n",
    "datadir = Path.cwd() / 'data' / 'kjm_ecog'\n",
    "if not (datadir / 'converted').is_dir():\n",
    "    !kaggle datasets download -d cboulay/kjm-ecog-faces-basic\n",
    "    print(\"Finished downloading. Now extracting contents...\")\n",
    "    data_path = Path('kjm-ecog-faces-basic.zip')\n",
    "    import zipfile\n",
    "    with zipfile.ZipFile(data_path, 'r') as zip_ref:\n",
    "        zip_ref.extractall(datadir / 'converted' / 'faces_basic')\n",
    "    data_path.unlink()\n"
   ],
   "metadata": {
    "collapsed": false,
    "pycharm": {
     "name": "#%%\n",
     "is_executing": false
    }
   }
  },
  {
   "cell_type": "code",
   "execution_count": 3,
   "outputs": [
    {
     "name": "stdout",
     "text": [
      "(603, 527)",
      " ",
      "(603,)",
      "\n"
     ],
     "output_type": "stream"
    }
   ],
   "source": [
    "# Load data from one participant.\n",
    "SUB_ID = 'de'\n",
    "from data.utils.fileio import from_neuropype_h5\n",
    "test_file = datadir / 'converted' / 'faces_basic' / (SUB_ID + '_bp.h5')\n",
    "chunks = from_neuropype_h5(test_file)\n",
    "chunk_names = [_[0] for _ in chunks]\n",
    "chunk = chunks[chunk_names.index('signals')][1]\n",
    "ax_types = [_['type'] for _ in chunk['axes']]\n",
    "instance_axis = chunk['axes'][ax_types.index('instance')]\n",
    "n_trials = len(instance_axis['data'])\n",
    "X = chunk['data'].reshape((n_trials, -1))  # 603 trials x 527 features\n",
    "Y = instance_axis['data']['Marker'].values\n",
    "n_trials, n_features = X.shape\n",
    "print(X.shape, Y.shape)\n"
   ],
   "metadata": {
    "collapsed": false,
    "pycharm": {
     "name": "#%%\n",
     "is_executing": false
    }
   }
  },
  {
   "cell_type": "markdown",
   "source": [
    "## Creating an artificial neural net with Tensorflow and Keras\n",
    "\n",
    "We will next create a \"model\". The model maps the input data to some output.\n",
    "\n",
    "Each trial _idx_ in our input has our brain signal data X[idx] and a label Y[idx].\n",
    "\n",
    "Each data point in X[idx] is of shape (n_features,),\n",
    "where n_features is the product m_channels * n_samples.\n",
    "\n",
    "Each label (Y[idx]) is 1 of 3 values: \"ISI\", \"face\", or \"house\".\n",
    "\n",
    "So we want to find a model that maps from an n_features input to 3 outputs,\n",
    "where each of the outputs is a score associated with a class.\n",
    "We will use a simple linear fully-connected model with a single layer.\n",
    "I honestly couldn't think of a simpler neural network.\n",
    "\n",
    "![simple linear network](img/simple_linear_nn.png) \n",
    "created with [NN-SVG](http://alexlenail.me/NN-SVG/index.html)\n",
    "\n",
    "We use Tensorflow to create and train the model.\n",
    "The model specification is done using the [Keras API, as provided by tensorflow](https://www.tensorflow.org/guide/keras).\n",
    "\n",
    "Tensorflow has [\"eager execution\"](https://www.tensorflow.org/guide/eager)\n",
    "enabled so TensorFlow operations execute immediately and their results can be inspected.\n",
    "This is the default behaviour in upcoming TensorFlow 2.0 so we might as well get used to it.\n",
    "[Another tf.eager tutorial here.](https://adventuresinmachinelearning.com/tensorflow-eager-tutorial/)\n",
    "\n"
   ],
   "metadata": {
    "collapsed": false,
    "pycharm": {
     "name": "#%% md\n"
    }
   }
  },
  {
   "cell_type": "code",
   "execution_count": 4,
   "outputs": [
    {
     "name": "stdout",
     "text": [
      "WARNING:tensorflow:From C:\\Users\\Chad\\.conda\\envs\\indl\\lib\\site-packages\\tensorflow\\python\\ops\\resource_variable_ops.py:642: colocate_with (from tensorflow.python.framework.ops) is deprecated and will be removed in a future version.\nInstructions for updating:\nColocations handled automatically by placer.",
      "\n",
      "_________________________________________________________________",
      "\n",
      "Layer (type)                 Output Shape              Param #   ",
      "\n",
      "=================================================================",
      "\n",
      "dense (Dense)                (None, 3)                 1584      ",
      "\n",
      "_________________________________________________________________",
      "\n",
      "softmax (Softmax)            (None, 3)                 0         ",
      "\n",
      "=================================================================",
      "\n",
      "Total params: 1,584",
      "\n",
      "Trainable params: 1,584",
      "\n",
      "Non-trainable params: 0",
      "\n",
      "_________________________________________________________________",
      "\n"
     ],
     "output_type": "stream"
    }
   ],
   "source": [
    "import tensorflow as tf\n",
    "\n",
    "tf.enable_eager_execution()\n",
    "\n",
    "# Create the model.\n",
    "model = tf.keras.Sequential()\n",
    "model.add(tf.keras.layers.Dense(3, input_shape=(n_features,), activation='linear'))\n",
    "model.add(tf.keras.layers.Softmax())  # Convert to probability scores, summing to 1\n"
   ],
   "metadata": {
    "collapsed": false,
    "pycharm": {
     "name": "#%%\n",
     "is_executing": false
    }
   }
  },
  {
   "cell_type": "markdown",
   "source": [
    "Before the network is ready, it needs three more things:\n",
    "* A loss function. See options in tf.losses\n",
    "* An optimizer. See options in tf.keras.optimizers ('Adam', 'rmsprop', 'SGD')\n",
    "* Metrics to monitor during training\n",
    "\n",
    "[neat graph for optimizers](https://www.tensorflow.org/tutorials/eager/custom_training_walkthrough#create_an_optimizer)\n",
    "\n",
    "These are configured during compilation"
   ],
   "metadata": {
    "collapsed": false,
    "pycharm": {
     "name": "#%% md\n"
    }
   }
  },
  {
   "cell_type": "code",
   "execution_count": null,
   "outputs": [],
   "source": [
    "model.compile(loss='categorical_crossentropy', optimizer='rmsprop', metrics=['accuracy'])\n",
    "model.summary()\n"
   ],
   "metadata": {
    "collapsed": false,
    "pycharm": {
     "name": "#%%\n"
    }
   }
  },
  {
   "cell_type": "markdown",
   "source": [
    "## Prepare data to feed into the model during training\n",
    "Tensorflow has a data API called [tf.data](https://www.tensorflow.org/guide/datasets).\n",
    "\n",
    "[tf.data tutorial](https://adventuresinmachinelearning.com/tensorflow-dataset-tutorial/)\n",
    "\n",
    "TODO: Explain one-hot encoding.\n",
    "TODO: Train and validation.\n",
    "TODO: Batch size\n"
   ],
   "metadata": {
    "collapsed": false,
    "pycharm": {
     "name": "#%% md\n"
    }
   }
  },
  {
   "cell_type": "code",
   "execution_count": null,
   "outputs": [],
   "source": [
    "BATCH_SIZE = 5\n",
    "\n",
    "# Import our data as a Dataset.\n",
    "y = tf.reshape(tf.one_hot(Y, 3), (-1, 3))  # y = tf.keras.utils.to_categorical(Y)\n",
    "dataset = tf.data.Dataset.from_tensor_slices((X, y))\n",
    "dataset = dataset.shuffle(1000).repeat().batch(BATCH_SIZE)\n",
    "ds_iter = dataset.make_initializable_iterator()\n",
    "next_element = ds_iter.get_next()"
   ],
   "metadata": {
    "collapsed": false,
    "pycharm": {
     "name": "#%%\n"
    }
   }
  },
  {
   "cell_type": "markdown",
   "source": [
    "## Train the model\n",
    "TODO: epochs"
   ],
   "metadata": {
    "collapsed": false
   }
  },
  {
   "cell_type": "code",
   "execution_count": null,
   "outputs": [],
   "source": [
    "# model.fit(x=x_train, \n",
    "#           y=y_train, \n",
    "#           epochs=5, \n",
    "#           validation_data=(x_test, y_test), \n",
    "#           callbacks=[tensorboard_callback])\n"
   ],
   "metadata": {
    "collapsed": false,
    "pycharm": {
     "name": "#%%\n"
    }
   }
  }
 ],
 "metadata": {
  "language_info": {
   "codemirror_mode": {
    "name": "ipython",
    "version": 2
   },
   "file_extension": ".py",
   "mimetype": "text/x-python",
   "name": "python",
   "nbconvert_exporter": "python",
   "pygments_lexer": "ipython2",
   "version": "2.7.6"
  },
  "kernelspec": {
   "name": "pycharm-d1267685",
   "language": "python",
   "display_name": "PyCharm (IntracranialNeurophysDL)"
  },
  "pycharm": {
   "stem_cell": {
    "cell_type": "raw",
    "source": [],
    "metadata": {
     "collapsed": false
    }
   }
  }
 },
 "nbformat": 4,
 "nbformat_minor": 0
}