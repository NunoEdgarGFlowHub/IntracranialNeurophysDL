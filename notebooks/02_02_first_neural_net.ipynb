{
  "nbformat": 4,
  "nbformat_minor": 0,
  "metadata": {
    "colab": {
      "name": "02_02_first_neural_net.ipynb",
      "version": "0.3.2",
      "provenance": []
    },
    "language_info": {
      "codemirror_mode": {
        "name": "ipython",
        "version": 3
      },
      "file_extension": ".py",
      "mimetype": "text/x-python",
      "name": "python",
      "nbconvert_exporter": "python",
      "pygments_lexer": "ipython3",
      "version": "3.6.8"
    },
    "kernelspec": {
      "name": "python3",
      "display_name": "Python 3"
    },
    "accelerator": "GPU"
  },
  "cells": [
    {
      "cell_type": "code",
      "metadata": {
        "pycharm": {
          "is_executing": false
        },
        "id": "3F-cvAy2CD6F",
        "colab_type": "code",
        "colab": {}
      },
      "source": [
        "# Common imports\n",
        "from pathlib import Path\n",
        "import os\n",
        "import numpy as np"
      ],
      "execution_count": 0,
      "outputs": []
    },
    {
      "cell_type": "code",
      "metadata": {
        "pycharm": {
          "name": "#%%\n"
        },
        "id": "ZT9L4uihCD6K",
        "colab_type": "code",
        "colab": {
          "resources": {
            "http://localhost:8080/nbextensions/google.colab/files.js": {
              "data": "Ly8gQ29weXJpZ2h0IDIwMTcgR29vZ2xlIExMQwovLwovLyBMaWNlbnNlZCB1bmRlciB0aGUgQXBhY2hlIExpY2Vuc2UsIFZlcnNpb24gMi4wICh0aGUgIkxpY2Vuc2UiKTsKLy8geW91IG1heSBub3QgdXNlIHRoaXMgZmlsZSBleGNlcHQgaW4gY29tcGxpYW5jZSB3aXRoIHRoZSBMaWNlbnNlLgovLyBZb3UgbWF5IG9idGFpbiBhIGNvcHkgb2YgdGhlIExpY2Vuc2UgYXQKLy8KLy8gICAgICBodHRwOi8vd3d3LmFwYWNoZS5vcmcvbGljZW5zZXMvTElDRU5TRS0yLjAKLy8KLy8gVW5sZXNzIHJlcXVpcmVkIGJ5IGFwcGxpY2FibGUgbGF3IG9yIGFncmVlZCB0byBpbiB3cml0aW5nLCBzb2Z0d2FyZQovLyBkaXN0cmlidXRlZCB1bmRlciB0aGUgTGljZW5zZSBpcyBkaXN0cmlidXRlZCBvbiBhbiAiQVMgSVMiIEJBU0lTLAovLyBXSVRIT1VUIFdBUlJBTlRJRVMgT1IgQ09ORElUSU9OUyBPRiBBTlkgS0lORCwgZWl0aGVyIGV4cHJlc3Mgb3IgaW1wbGllZC4KLy8gU2VlIHRoZSBMaWNlbnNlIGZvciB0aGUgc3BlY2lmaWMgbGFuZ3VhZ2UgZ292ZXJuaW5nIHBlcm1pc3Npb25zIGFuZAovLyBsaW1pdGF0aW9ucyB1bmRlciB0aGUgTGljZW5zZS4KCi8qKgogKiBAZmlsZW92ZXJ2aWV3IEhlbHBlcnMgZm9yIGdvb2dsZS5jb2xhYiBQeXRob24gbW9kdWxlLgogKi8KKGZ1bmN0aW9uKHNjb3BlKSB7CmZ1bmN0aW9uIHNwYW4odGV4dCwgc3R5bGVBdHRyaWJ1dGVzID0ge30pIHsKICBjb25zdCBlbGVtZW50ID0gZG9jdW1lbnQuY3JlYXRlRWxlbWVudCgnc3BhbicpOwogIGVsZW1lbnQudGV4dENvbnRlbnQgPSB0ZXh0OwogIGZvciAoY29uc3Qga2V5IG9mIE9iamVjdC5rZXlzKHN0eWxlQXR0cmlidXRlcykpIHsKICAgIGVsZW1lbnQuc3R5bGVba2V5XSA9IHN0eWxlQXR0cmlidXRlc1trZXldOwogIH0KICByZXR1cm4gZWxlbWVudDsKfQoKLy8gTWF4IG51bWJlciBvZiBieXRlcyB3aGljaCB3aWxsIGJlIHVwbG9hZGVkIGF0IGEgdGltZS4KY29uc3QgTUFYX1BBWUxPQURfU0laRSA9IDEwMCAqIDEwMjQ7Ci8vIE1heCBhbW91bnQgb2YgdGltZSB0byBibG9jayB3YWl0aW5nIGZvciB0aGUgdXNlci4KY29uc3QgRklMRV9DSEFOR0VfVElNRU9VVF9NUyA9IDMwICogMTAwMDsKCmZ1bmN0aW9uIF91cGxvYWRGaWxlcyhpbnB1dElkLCBvdXRwdXRJZCkgewogIGNvbnN0IHN0ZXBzID0gdXBsb2FkRmlsZXNTdGVwKGlucHV0SWQsIG91dHB1dElkKTsKICBjb25zdCBvdXRwdXRFbGVtZW50ID0gZG9jdW1lbnQuZ2V0RWxlbWVudEJ5SWQob3V0cHV0SWQpOwogIC8vIENhY2hlIHN0ZXBzIG9uIHRoZSBvdXRwdXRFbGVtZW50IHRvIG1ha2UgaXQgYXZhaWxhYmxlIGZvciB0aGUgbmV4dCBjYWxsCiAgLy8gdG8gdXBsb2FkRmlsZXNDb250aW51ZSBmcm9tIFB5dGhvbi4KICBvdXRwdXRFbGVtZW50LnN0ZXBzID0gc3RlcHM7CgogIHJldHVybiBfdXBsb2FkRmlsZXNDb250aW51ZShvdXRwdXRJZCk7Cn0KCi8vIFRoaXMgaXMgcm91Z2hseSBhbiBhc3luYyBnZW5lcmF0b3IgKG5vdCBzdXBwb3J0ZWQgaW4gdGhlIGJyb3dzZXIgeWV0KSwKLy8gd2hlcmUgdGhlcmUgYXJlIG11bHRpcGxlIGFzeW5jaHJvbm91cyBzdGVwcyBhbmQgdGhlIFB5dGhvbiBzaWRlIGlzIGdvaW5nCi8vIHRvIHBvbGwgZm9yIGNvbXBsZXRpb24gb2YgZWFjaCBzdGVwLgovLyBUaGlzIHVzZXMgYSBQcm9taXNlIHRvIGJsb2NrIHRoZSBweXRob24gc2lkZSBvbiBjb21wbGV0aW9uIG9mIGVhY2ggc3RlcCwKLy8gdGhlbiBwYXNzZXMgdGhlIHJlc3VsdCBvZiB0aGUgcHJldmlvdXMgc3RlcCBhcyB0aGUgaW5wdXQgdG8gdGhlIG5leHQgc3RlcC4KZnVuY3Rpb24gX3VwbG9hZEZpbGVzQ29udGludWUob3V0cHV0SWQpIHsKICBjb25zdCBvdXRwdXRFbGVtZW50ID0gZG9jdW1lbnQuZ2V0RWxlbWVudEJ5SWQob3V0cHV0SWQpOwogIGNvbnN0IHN0ZXBzID0gb3V0cHV0RWxlbWVudC5zdGVwczsKCiAgY29uc3QgbmV4dCA9IHN0ZXBzLm5leHQob3V0cHV0RWxlbWVudC5sYXN0UHJvbWlzZVZhbHVlKTsKICByZXR1cm4gUHJvbWlzZS5yZXNvbHZlKG5leHQudmFsdWUucHJvbWlzZSkudGhlbigodmFsdWUpID0+IHsKICAgIC8vIENhY2hlIHRoZSBsYXN0IHByb21pc2UgdmFsdWUgdG8gbWFrZSBpdCBhdmFpbGFibGUgdG8gdGhlIG5leHQKICAgIC8vIHN0ZXAgb2YgdGhlIGdlbmVyYXRvci4KICAgIG91dHB1dEVsZW1lbnQubGFzdFByb21pc2VWYWx1ZSA9IHZhbHVlOwogICAgcmV0dXJuIG5leHQudmFsdWUucmVzcG9uc2U7CiAgfSk7Cn0KCi8qKgogKiBHZW5lcmF0b3IgZnVuY3Rpb24gd2hpY2ggaXMgY2FsbGVkIGJldHdlZW4gZWFjaCBhc3luYyBzdGVwIG9mIHRoZSB1cGxvYWQKICogcHJvY2Vzcy4KICogQHBhcmFtIHtzdHJpbmd9IGlucHV0SWQgRWxlbWVudCBJRCBvZiB0aGUgaW5wdXQgZmlsZSBwaWNrZXIgZWxlbWVudC4KICogQHBhcmFtIHtzdHJpbmd9IG91dHB1dElkIEVsZW1lbnQgSUQgb2YgdGhlIG91dHB1dCBkaXNwbGF5LgogKiBAcmV0dXJuIHshSXRlcmFibGU8IU9iamVjdD59IEl0ZXJhYmxlIG9mIG5leHQgc3RlcHMuCiAqLwpmdW5jdGlvbiogdXBsb2FkRmlsZXNTdGVwKGlucHV0SWQsIG91dHB1dElkKSB7CiAgY29uc3QgaW5wdXRFbGVtZW50ID0gZG9jdW1lbnQuZ2V0RWxlbWVudEJ5SWQoaW5wdXRJZCk7CiAgaW5wdXRFbGVtZW50LmRpc2FibGVkID0gZmFsc2U7CgogIGNvbnN0IG91dHB1dEVsZW1lbnQgPSBkb2N1bWVudC5nZXRFbGVtZW50QnlJZChvdXRwdXRJZCk7CiAgb3V0cHV0RWxlbWVudC5pbm5lckhUTUwgPSAnJzsKCiAgY29uc3QgcGlja2VkUHJvbWlzZSA9IG5ldyBQcm9taXNlKChyZXNvbHZlKSA9PiB7CiAgICBpbnB1dEVsZW1lbnQuYWRkRXZlbnRMaXN0ZW5lcignY2hhbmdlJywgKGUpID0+IHsKICAgICAgcmVzb2x2ZShlLnRhcmdldC5maWxlcyk7CiAgICB9KTsKICB9KTsKCiAgY29uc3QgY2FuY2VsID0gZG9jdW1lbnQuY3JlYXRlRWxlbWVudCgnYnV0dG9uJyk7CiAgaW5wdXRFbGVtZW50LnBhcmVudEVsZW1lbnQuYXBwZW5kQ2hpbGQoY2FuY2VsKTsKICBjYW5jZWwudGV4dENvbnRlbnQgPSAnQ2FuY2VsIHVwbG9hZCc7CiAgY29uc3QgY2FuY2VsUHJvbWlzZSA9IG5ldyBQcm9taXNlKChyZXNvbHZlKSA9PiB7CiAgICBjYW5jZWwub25jbGljayA9ICgpID0+IHsKICAgICAgcmVzb2x2ZShudWxsKTsKICAgIH07CiAgfSk7CgogIC8vIENhbmNlbCB1cGxvYWQgaWYgdXNlciBoYXNuJ3QgcGlja2VkIGFueXRoaW5nIGluIHRpbWVvdXQuCiAgY29uc3QgdGltZW91dFByb21pc2UgPSBuZXcgUHJvbWlzZSgocmVzb2x2ZSkgPT4gewogICAgc2V0VGltZW91dCgoKSA9PiB7CiAgICAgIHJlc29sdmUobnVsbCk7CiAgICB9LCBGSUxFX0NIQU5HRV9USU1FT1VUX01TKTsKICB9KTsKCiAgLy8gV2FpdCBmb3IgdGhlIHVzZXIgdG8gcGljayB0aGUgZmlsZXMuCiAgY29uc3QgZmlsZXMgPSB5aWVsZCB7CiAgICBwcm9taXNlOiBQcm9taXNlLnJhY2UoW3BpY2tlZFByb21pc2UsIHRpbWVvdXRQcm9taXNlLCBjYW5jZWxQcm9taXNlXSksCiAgICByZXNwb25zZTogewogICAgICBhY3Rpb246ICdzdGFydGluZycsCiAgICB9CiAgfTsKCiAgaWYgKCFmaWxlcykgewogICAgcmV0dXJuIHsKICAgICAgcmVzcG9uc2U6IHsKICAgICAgICBhY3Rpb246ICdjb21wbGV0ZScsCiAgICAgIH0KICAgIH07CiAgfQoKICBjYW5jZWwucmVtb3ZlKCk7CgogIC8vIERpc2FibGUgdGhlIGlucHV0IGVsZW1lbnQgc2luY2UgZnVydGhlciBwaWNrcyBhcmUgbm90IGFsbG93ZWQuCiAgaW5wdXRFbGVtZW50LmRpc2FibGVkID0gdHJ1ZTsKCiAgZm9yIChjb25zdCBmaWxlIG9mIGZpbGVzKSB7CiAgICBjb25zdCBsaSA9IGRvY3VtZW50LmNyZWF0ZUVsZW1lbnQoJ2xpJyk7CiAgICBsaS5hcHBlbmQoc3BhbihmaWxlLm5hbWUsIHtmb250V2VpZ2h0OiAnYm9sZCd9KSk7CiAgICBsaS5hcHBlbmQoc3BhbigKICAgICAgICBgKCR7ZmlsZS50eXBlIHx8ICduL2EnfSkgLSAke2ZpbGUuc2l6ZX0gYnl0ZXMsIGAgKwogICAgICAgIGBsYXN0IG1vZGlmaWVkOiAkewogICAgICAgICAgICBmaWxlLmxhc3RNb2RpZmllZERhdGUgPyBmaWxlLmxhc3RNb2RpZmllZERhdGUudG9Mb2NhbGVEYXRlU3RyaW5nKCkgOgogICAgICAgICAgICAgICAgICAgICAgICAgICAgICAgICAgICAnbi9hJ30gLSBgKSk7CiAgICBjb25zdCBwZXJjZW50ID0gc3BhbignMCUgZG9uZScpOwogICAgbGkuYXBwZW5kQ2hpbGQocGVyY2VudCk7CgogICAgb3V0cHV0RWxlbWVudC5hcHBlbmRDaGlsZChsaSk7CgogICAgY29uc3QgZmlsZURhdGFQcm9taXNlID0gbmV3IFByb21pc2UoKHJlc29sdmUpID0+IHsKICAgICAgY29uc3QgcmVhZGVyID0gbmV3IEZpbGVSZWFkZXIoKTsKICAgICAgcmVhZGVyLm9ubG9hZCA9IChlKSA9PiB7CiAgICAgICAgcmVzb2x2ZShlLnRhcmdldC5yZXN1bHQpOwogICAgICB9OwogICAgICByZWFkZXIucmVhZEFzQXJyYXlCdWZmZXIoZmlsZSk7CiAgICB9KTsKICAgIC8vIFdhaXQgZm9yIHRoZSBkYXRhIHRvIGJlIHJlYWR5LgogICAgbGV0IGZpbGVEYXRhID0geWllbGQgewogICAgICBwcm9taXNlOiBmaWxlRGF0YVByb21pc2UsCiAgICAgIHJlc3BvbnNlOiB7CiAgICAgICAgYWN0aW9uOiAnY29udGludWUnLAogICAgICB9CiAgICB9OwoKICAgIC8vIFVzZSBhIGNodW5rZWQgc2VuZGluZyB0byBhdm9pZCBtZXNzYWdlIHNpemUgbGltaXRzLiBTZWUgYi82MjExNTY2MC4KICAgIGxldCBwb3NpdGlvbiA9IDA7CiAgICB3aGlsZSAocG9zaXRpb24gPCBmaWxlRGF0YS5ieXRlTGVuZ3RoKSB7CiAgICAgIGNvbnN0IGxlbmd0aCA9IE1hdGgubWluKGZpbGVEYXRhLmJ5dGVMZW5ndGggLSBwb3NpdGlvbiwgTUFYX1BBWUxPQURfU0laRSk7CiAgICAgIGNvbnN0IGNodW5rID0gbmV3IFVpbnQ4QXJyYXkoZmlsZURhdGEsIHBvc2l0aW9uLCBsZW5ndGgpOwogICAgICBwb3NpdGlvbiArPSBsZW5ndGg7CgogICAgICBjb25zdCBiYXNlNjQgPSBidG9hKFN0cmluZy5mcm9tQ2hhckNvZGUuYXBwbHkobnVsbCwgY2h1bmspKTsKICAgICAgeWllbGQgewogICAgICAgIHJlc3BvbnNlOiB7CiAgICAgICAgICBhY3Rpb246ICdhcHBlbmQnLAogICAgICAgICAgZmlsZTogZmlsZS5uYW1lLAogICAgICAgICAgZGF0YTogYmFzZTY0LAogICAgICAgIH0sCiAgICAgIH07CiAgICAgIHBlcmNlbnQudGV4dENvbnRlbnQgPQogICAgICAgICAgYCR7TWF0aC5yb3VuZCgocG9zaXRpb24gLyBmaWxlRGF0YS5ieXRlTGVuZ3RoKSAqIDEwMCl9JSBkb25lYDsKICAgIH0KICB9CgogIC8vIEFsbCBkb25lLgogIHlpZWxkIHsKICAgIHJlc3BvbnNlOiB7CiAgICAgIGFjdGlvbjogJ2NvbXBsZXRlJywKICAgIH0KICB9Owp9CgpzY29wZS5nb29nbGUgPSBzY29wZS5nb29nbGUgfHwge307CnNjb3BlLmdvb2dsZS5jb2xhYiA9IHNjb3BlLmdvb2dsZS5jb2xhYiB8fCB7fTsKc2NvcGUuZ29vZ2xlLmNvbGFiLl9maWxlcyA9IHsKICBfdXBsb2FkRmlsZXMsCiAgX3VwbG9hZEZpbGVzQ29udGludWUsCn07Cn0pKHNlbGYpOwo=",
              "ok": true,
              "headers": [
                [
                  "content-type",
                  "application/javascript"
                ]
              ],
              "status": 200,
              "status_text": ""
            }
          },
          "base_uri": "https://localhost:8080/",
          "height": 261
        },
        "outputId": "8afcab3d-616a-4f4e-f18b-e53ecf5dc058"
      },
      "source": [
        "# Standard block to equalize local and Colab.\n",
        "try:\n",
        "    # See if we are running on google.colab\n",
        "    import google.colab\n",
        "    from google.colab import files\n",
        "    !pip install -q tensorflow-gpu==2.0.0-alpha0\n",
        "    import tensorflow as tf\n",
        "    # Configure kaggle\n",
        "    files.upload()  # Find the kaggle.json file in your ~/.kaggle directory.\n",
        "    !pip install -q kaggle\n",
        "    !mkdir -p ~/.kaggle\n",
        "    !mv kaggle.json ~/.kaggle/\n",
        "    !chmod 600 ~/.kaggle/kaggle.json\n",
        "    # Download the workshop repo and change to its directory\n",
        "    # For now edit the username/password. This requirement will be removed when the repo is made public.\n",
        "    !git clone https://github.com/SachsLab/IntracranialNeurophysDL.git ../repo\n",
        "    os.chdir('../repo')\n",
        "    !pip install tensorboardcolab\n",
        "    from tensorboardcolab import TensorBoardColab, TensorBoardColabCallback\n",
        "    tbc=TensorBoardColab(startup_waiting_time=30)\n",
        "    tensorboard_callback = TensorBoardColabCallback(tbc)\n",
        "    IN_COLAB = True\n",
        "except ModuleNotFoundError:\n",
        "    import sys\n",
        "    if Path.cwd().stem == 'notebooks':\n",
        "        os.chdir(Path.cwd().parent)\n",
        "    # Add Python env Scripts to path for kaggle use.\n",
        "    os.environ['PATH'] = os.environ['PATH'] + ';' + str(Path(sys.executable).parent / 'Scripts')\n",
        "    # Clear any logs from previous runs\n",
        "    if (Path.cwd() / 'logs').is_dir():\n",
        "        !rmdir /S /Q logs\n",
        "    import tensorflow as tf\n",
        "    import datetime\n",
        "    %load_ext tensorboard.notebook\n",
        "    log_dir = Path.cwd() / \"logs\" / datetime.datetime.now().strftime(\"%Y%m%d-%H%M%S\")\n",
        "    tensorboard_callback = tf.keras.callbacks.TensorBoard(log_dir=log_dir, histogram_freq=1)\n",
        "    IN_COLAB = False"
      ],
      "execution_count": 0,
      "outputs": [
        {
          "output_type": "display_data",
          "data": {
            "text/html": [
              "\n",
              "     <input type=\"file\" id=\"files-982a1b78-e17e-4a05-ada0-4e442b4465ed\" name=\"files[]\" multiple disabled />\n",
              "     <output id=\"result-982a1b78-e17e-4a05-ada0-4e442b4465ed\">\n",
              "      Upload widget is only available when the cell has been executed in the\n",
              "      current browser session. Please rerun this cell to enable.\n",
              "      </output>\n",
              "      <script src=\"/nbextensions/google.colab/files.js\"></script> "
            ],
            "text/plain": [
              "<IPython.core.display.HTML object>"
            ]
          },
          "metadata": {
            "tags": []
          }
        },
        {
          "output_type": "stream",
          "text": [
            "Saving kaggle.json to kaggle.json\n",
            "Cloning into '../repo'...\n",
            "remote: Enumerating objects: 202, done.\u001b[K\n",
            "remote: Counting objects: 100% (202/202), done.\u001b[K\n",
            "remote: Compressing objects: 100% (126/126), done.\u001b[K\n",
            "remote: Total 323 (delta 116), reused 136 (delta 73), pack-reused 121\u001b[K\n",
            "Receiving objects: 100% (323/323), 2.44 MiB | 2.10 MiB/s, done.\n",
            "Resolving deltas: 100% (162/162), done.\n",
            "Requirement already satisfied: tensorboardcolab in /usr/local/lib/python3.6/dist-packages (0.0.22)\n"
          ],
          "name": "stdout"
        },
        {
          "output_type": "stream",
          "text": [
            "Using TensorFlow backend.\n"
          ],
          "name": "stderr"
        },
        {
          "output_type": "stream",
          "text": [
            "Wait for 30 seconds...\n"
          ],
          "name": "stdout"
        }
      ]
    },
    {
      "cell_type": "markdown",
      "metadata": {
        "collapsed": false,
        "pycharm": {
          "name": "#%% md\n"
        },
        "id": "KuGvzG8nCD6N",
        "colab_type": "text"
      },
      "source": [
        "## Get Data\n",
        "Download faces_basic if we don't already have it.\n",
        "If you get 401 - Unauthorized, then Chad needs to add your kaggle account,\n",
        "or you need to create a new API token from kaggle"
      ]
    },
    {
      "cell_type": "code",
      "metadata": {
        "pycharm": {
          "is_executing": false,
          "name": "#%%\n"
        },
        "id": "V18XvxBcCD6O",
        "colab_type": "code",
        "colab": {}
      },
      "source": [
        "datadir = Path.cwd() / 'data' / 'kjm_ecog'\n",
        "if not (datadir / 'converted').is_dir():\n",
        "    !kaggle datasets download -d cboulay/kjm-ecog-faces-basic\n",
        "    print(\"Finished downloading. Now extracting contents...\")\n",
        "    data_path = Path('kjm-ecog-faces-basic.zip')\n",
        "    import zipfile\n",
        "    with zipfile.ZipFile(data_path, 'r') as zip_ref:\n",
        "        zip_ref.extractall(datadir / 'converted' / 'faces_basic')\n",
        "    data_path.unlink()"
      ],
      "execution_count": 0,
      "outputs": []
    },
    {
      "cell_type": "code",
      "metadata": {
        "pycharm": {
          "is_executing": false,
          "name": "#%%\n"
        },
        "id": "4ruIOw-DCD6R",
        "colab_type": "code",
        "colab": {},
        "outputId": "2685425f-4253-4767-9cc9-7d7a776d5dd3"
      },
      "source": [
        "# Load data from one participant.\n",
        "SUB_ID = 'de'\n",
        "from data.utils.fileio import from_neuropype_h5\n",
        "test_file = datadir / 'converted' / 'faces_basic' / (SUB_ID + '_bp.h5')\n",
        "chunks = from_neuropype_h5(test_file)\n",
        "chunk_names = [_[0] for _ in chunks]\n",
        "chunk = chunks[chunk_names.index('signals')][1]\n",
        "ax_types = [_['type'] for _ in chunk['axes']]\n",
        "instance_axis = chunk['axes'][ax_types.index('instance')]\n",
        "n_trials = len(instance_axis['data'])\n",
        "X = chunk['data'].reshape((n_trials, -1))  # 603 trials x 527 features\n",
        "Y = instance_axis['data']['Marker'].values.reshape(-1, 1)\n",
        "n_trials, n_features = X.shape\n",
        "print(X.shape, Y.shape)"
      ],
      "execution_count": 0,
      "outputs": [
        {
          "output_type": "stream",
          "text": [
            "(603, 527) (603, 1)\n"
          ],
          "name": "stdout"
        }
      ]
    },
    {
      "cell_type": "markdown",
      "metadata": {
        "pycharm": {
          "name": "#%% md\n"
        },
        "id": "VaEOTLZsCD6X",
        "colab_type": "text"
      },
      "source": [
        "## Creating an artificial neural net with Tensorflow and Keras\n",
        "\n",
        "We will next create a \"model\". The model maps the input data to some output.\n",
        "\n",
        "Each trial _idx_ in our input has our brain signal data X[idx] and a label Y[idx].\n",
        "\n",
        "Each data point in X[idx] is of shape (n_features,),\n",
        "where n_features is the product m_channels * n_samples.\n",
        "\n",
        "Each label (Y[idx]) is 1 of 3 values: \"ISI\", \"face\", or \"house\".\n",
        "\n",
        "So we want to find a model that maps from an n_features input to 3 outputs,\n",
        "where each of the outputs is a score associated with a class.\n",
        "We will use a simple linear fully-connected model with a single layer.\n",
        "I honestly couldn't think of a simpler neural network.\n",
        "\n",
        "![simple linear network](https://github.com/SachsLab/IntracranialNeurophysDL/blob/master/notebooks/img/simple_linear_nn.png?raw=1)\n",
        "created with [NN-SVG](http://alexlenail.me/NN-SVG/index.html)\n",
        "\n",
        "We use Tensorflow to create and train the model.\n",
        "The model specification is done using the [Keras API, as provided by tensorflow](https://www.tensorflow.org/guide/keras).\n",
        "\n",
        "Tensorflow has [\"eager execution\"](https://www.tensorflow.org/guide/eager)\n",
        "enabled so TensorFlow operations execute immediately and their results can be inspected.\n",
        "This is the default behaviour in upcoming TensorFlow 2.0 so we might as well get used to it.\n",
        "[Another tf.eager tutorial here.](https://adventuresinmachinelearning.com/tensorflow-eager-tutorial/)\n",
        "\n"
      ]
    },
    {
      "cell_type": "code",
      "metadata": {
        "pycharm": {
          "is_executing": false,
          "name": "#%%\n"
        },
        "id": "SmxfvmxiCD6Y",
        "colab_type": "code",
        "colab": {}
      },
      "source": [
        "# Create the model. Use functional interface.\n",
        "inputs = tf.keras.layers.Input(shape=(X.shape[1],))\n",
        "dat_in_model = tf.keras.layers.Dense(3, activation='linear')(inputs)\n",
        "outputs = tf.keras.layers.Softmax()(dat_in_model)  # Convert to probability scores, summing to 1\n",
        "model = tf.keras.Model(inputs, outputs)\n",
        "\n",
        "# Note: The Dense layer can use an activation='softmax' and we could drop the Softmax layer."
      ],
      "execution_count": 0,
      "outputs": []
    },
    {
      "cell_type": "markdown",
      "metadata": {
        "pycharm": {
          "name": "#%% md\n"
        },
        "id": "I33o0vFXCD6b",
        "colab_type": "text"
      },
      "source": [
        "Before the network is ready, it needs three more things:\n",
        "* A loss function. See options in tf.losses\n",
        "* An optimizer. See options in tf.keras.optimizers ('Adam', 'rmsprop', 'SGD')\n",
        "* Metrics to monitor during training\n",
        "\n",
        "[neat graph for optimizers](https://www.tensorflow.org/tutorials/eager/custom_training_walkthrough#create_an_optimizer)\n",
        "\n",
        "These are configured during compilation"
      ]
    },
    {
      "cell_type": "code",
      "metadata": {
        "pycharm": {
          "is_executing": false,
          "name": "#%%\n"
        },
        "id": "wYatlXZWCD6c",
        "colab_type": "code",
        "colab": {},
        "outputId": "2dd8e0d7-3db1-410c-ce08-fd9f91871099"
      },
      "source": [
        "model.compile(loss='categorical_crossentropy', optimizer='rmsprop', metrics=['accuracy'])\n",
        "model.summary()"
      ],
      "execution_count": 0,
      "outputs": [
        {
          "output_type": "stream",
          "text": [
            "Model: \"model\"\n",
            "_________________________________________________________________\n",
            "Layer (type)                 Output Shape              Param #   \n",
            "=================================================================\n",
            "input_1 (InputLayer)         [(None, 527)]             0         \n",
            "_________________________________________________________________\n",
            "dense (Dense)                (None, 3)                 1584      \n",
            "_________________________________________________________________\n",
            "softmax (Softmax)            (None, 3)                 0         \n",
            "=================================================================\n",
            "Total params: 1,584\n",
            "Trainable params: 1,584\n",
            "Non-trainable params: 0\n",
            "_________________________________________________________________\n"
          ],
          "name": "stdout"
        }
      ]
    },
    {
      "cell_type": "markdown",
      "metadata": {
        "pycharm": {
          "name": "#%% md\n"
        },
        "id": "lsLhaI65CD6h",
        "colab_type": "text"
      },
      "source": [
        "## Prepare data to feed into the model\n",
        "\n",
        "### Create the dataset\n",
        "Tensorflow has a data API called [tf.data](https://www.tensorflow.org/guide/datasets).\n",
        "We will use it to create a [`Dataset`](https://www.tensorflow.org/api_docs/python/tf/data/Dataset).\n",
        "\n",
        "Note that we use Eager so the Dataset usage is maybe different to what you will find in other Dataset\n",
        "tutorials. The differences are [explained here](https://www.tensorflow.org/tutorials/eager/eager_basics#datasets).\n",
        "\n",
        "Datasets provide several important features:\n",
        "* implicit conversion from other types to tensorflow Tensor types\n",
        "* easy transformations\n",
        "* automatic feeding of data into hungry models\n",
        "\n",
        "See a more complete example [here](https://gist.github.com/datlife/abfe263803691a8864b7a2d4f87c4ab8).\n"
      ]
    },
    {
      "cell_type": "code",
      "metadata": {
        "pycharm": {
          "is_executing": false,
          "name": "#%%\n"
        },
        "id": "aHwnSIrnCD6h",
        "colab_type": "code",
        "colab": {}
      },
      "source": [
        "# Convert Y from strings to integers.\n",
        "classes, y = np.unique(Y, return_inverse=True)\n",
        "n_classes = len(classes)\n",
        "n_trials = len(y)"
      ],
      "execution_count": 0,
      "outputs": []
    },
    {
      "cell_type": "markdown",
      "metadata": {
        "id": "NzKWWRkzCD6k",
        "colab_type": "text"
      },
      "source": [
        "### Organize data for training and validation.\n",
        "Let's use 80% of the data for training and the remaining for validation.\n",
        "\n",
        "Note: It is good practice to separate data into 3 sets: training, validation, and test.\n",
        "Otherwise, the hyperparameter tuning to improve performance on the validation set will leak\n",
        "information about the validation set into the model, so the model training is no longer blind to the\n",
        "validation set and performance on the validation set is not indicative of real world performance.\n",
        "However, today we are not concerned with real-world performance, so we don't want to hinder ourselves\n",
        "by limiting the amount of training data we have.\n",
        "\n",
        "Before we start slicing up our data, it's useful to put the neural data (X) and labels (Y)\n",
        "into a single container. For that we use [tf.data.Datset.zip](https://www.tensorflow.org/api_docs/python/tf/data/Dataset#zip), which is implied by passing a tuple of data items to `from_tensor_slices`.\n",
        "\n",
        "Finally, we separate into training and validation sets."
      ]
    },
    {
      "cell_type": "code",
      "metadata": {
        "id": "n5O5xu5QCD6l",
        "colab_type": "code",
        "colab": {}
      },
      "source": [
        "from sklearn.model_selection import train_test_split\n",
        "PTRAIN = 0.8\n",
        "X_train, X_valid, y_train, y_valid = train_test_split(X, y, train_size=PTRAIN)\n",
        "n_train = len(y_train)\n",
        "n_valid = len(y_valid)\n",
        "ds_train = tf.data.Dataset.from_tensor_slices((X_train, y_train))\n",
        "ds_valid = tf.data.Dataset.from_tensor_slices((X_valid, y_valid))"
      ],
      "execution_count": 0,
      "outputs": []
    },
    {
      "cell_type": "markdown",
      "metadata": {
        "pycharm": {
          "name": "#%% md\n"
        },
        "id": "Jh_fxH-oCD6o",
        "colab_type": "text"
      },
      "source": [
        "### Apply transformations to the dataset\n",
        "\n",
        "We define a function to separately transform X and y.\n",
        "\n",
        "First we downcast X from float64 to float32.\n",
        "\n",
        "y is a set of integers from 0-2 representing the id of the class for each trial.\n",
        "There is no reasoning that the distance between 0 (ISI) and 1 (face) is the same\n",
        "as the distance between 1 (face) and 2 (house). We cannot train a model to think\n",
        "that house-related activity is twice as face-y as face-related activity.\n",
        "In other words, Y is not a continuous variable. It is a categorical variable.\n",
        "\n",
        "One way to represent a non-binary categorical variable is to use one-hot encoding:\n",
        "[0, 1, 2, 1] becomes [[1, 0, 0], [0, 1, 0], [0, 0, 1], [0, 1, 0]].\n"
      ]
    },
    {
      "cell_type": "code",
      "metadata": {
        "pycharm": {
          "is_executing": false,
          "name": "#%%\n"
        },
        "id": "6Xy-eMnyCD6p",
        "colab_type": "code",
        "colab": {}
      },
      "source": [
        "def preprocess_fn(x_dat, y_dat):\n",
        "    x_dat = tf.cast(x_dat, tf.float32)\n",
        "    y_dat = tf.one_hot(tf.cast(y_dat, tf.uint8), n_classes)\n",
        "    return x_dat, y_dat\n",
        "ds_train = ds_train.map(preprocess_fn)\n",
        "ds_valid = ds_valid.map(preprocess_fn)"
      ],
      "execution_count": 0,
      "outputs": []
    },
    {
      "cell_type": "markdown",
      "metadata": {
        "pycharm": {
          "name": "#%% md\n"
        },
        "id": "yQBtqfozCD6s",
        "colab_type": "text"
      },
      "source": [
        "### Further transform the data to prepare for training\n",
        "When training a neural net, we can update the model using only a single trial at a time,\n",
        "or we can update the model using a batch of trials. Let's tell our training data that we\n",
        "want it to be fed into the model in batches, using [dataset.batch(BATCH_SIZE)](https://www.tensorflow.org/api_docs/python/tf/data/Dataset#batch).\n",
        "Having larger batches speeds up training but requires more memory. You can try increasing\n",
        "BATCH_SIZE (then try training) until you run out of GPU memory.\n",
        "The downside to having a larger BATCH_SIZE is that there is less granularity during training. \n",
        "\n",
        "We also [shuffle](https://www.tensorflow.org/api_docs/python/tf/data/Dataset#shuffle) the training trials."
      ]
    },
    {
      "cell_type": "code",
      "metadata": {
        "pycharm": {
          "is_executing": false,
          "name": "#%%\n"
        },
        "id": "j6WO2jMSCD6t",
        "colab_type": "code",
        "colab": {}
      },
      "source": [
        "BATCH_SIZE = 5\n",
        "ds_train = ds_train.shuffle(int(n_trials * PTRAIN) + 1).batch(BATCH_SIZE, drop_remainder=True).repeat()  # , drop_remainder=True?\n",
        "ds_valid = ds_valid.batch(BATCH_SIZE).repeat()"
      ],
      "execution_count": 0,
      "outputs": []
    },
    {
      "cell_type": "markdown",
      "metadata": {
        "id": "4qJ_PoUZCD6w",
        "colab_type": "text"
      },
      "source": [
        "## Train the model\n",
        "\n",
        "Typically we will go through the dataset more than once.\n",
        "Each trip through the entire training dataset is called an 'epoch'.\n",
        "How many epochs do we want? Typically you want as many epochs as you need to maximize performance\n",
        "on the validation set. Too many can lead to over-fitting on the training set.\n",
        "We should also be concerned about training time, energy usage, etc.\n"
      ]
    },
    {
      "cell_type": "code",
      "metadata": {
        "pycharm": {
          "is_executing": false,
          "name": "#%%\n"
        },
        "id": "SDGTVu11CD6x",
        "colab_type": "code",
        "colab": {},
        "outputId": "965bd398-c732-4216-da4b-2233f44ff3e7"
      },
      "source": [
        "N_EPOCHS = 10\n",
        "history = model.fit(x=ds_train,  \n",
        "                    epochs=N_EPOCHS, \n",
        "                    validation_data=ds_valid,\n",
        "                    steps_per_epoch=n_train // BATCH_SIZE,\n",
        "                    validation_steps=(len(Y)-n_train) // BATCH_SIZE,\n",
        "                    callbacks=[tensorboard_callback],\n",
        "                    verbose=1)"
      ],
      "execution_count": 0,
      "outputs": [
        {
          "output_type": "stream",
          "text": [
            "Epoch 1/10\n",
            " 1/96 [..............................] - ETA: 1:02 - loss: 0.9056 - accuracy: 0.6000"
          ],
          "name": "stdout"
        },
        {
          "output_type": "stream",
          "text": [
            "WARNING: Logging before flag parsing goes to stderr.\n",
            "W0522 16:52:47.054240  5848 callbacks.py:236] Method (on_train_batch_end) is slow compared to the batch update (0.141521). Check your callbacks.\n"
          ],
          "name": "stderr"
        },
        {
          "output_type": "stream",
          "text": [
            " 2/96 [..............................] - ETA: 39s - loss: 1.0458 - accuracy: 0.5000 "
          ],
          "name": "stdout"
        },
        {
          "output_type": "stream",
          "text": [
            "W0522 16:52:47.063243  5848 callbacks.py:236] Method (on_train_batch_end) is slow compared to the batch update (0.114999). Check your callbacks.\n"
          ],
          "name": "stderr"
        },
        {
          "output_type": "stream",
          "text": [
            "96/96 [==============================] - ETA: 4s - loss: 0.8328 - accuracy: 0.712 - ETA: 2s - loss: 0.7499 - accuracy: 0.71 - ETA: 1s - loss: 0.6903 - accuracy: 0.72 - ETA: 0s - loss: 0.6441 - accuracy: 0.73 - ETA: 0s - loss: 0.6065 - accuracy: 0.76 - ETA: 0s - loss: 0.5573 - accuracy: 0.78 - 2s 17ms/step - loss: 0.5401 - accuracy: 0.7875 - val_loss: 0.3026 - val_accuracy: 0.8667\n",
            "Epoch 2/10\n",
            "96/96 [==============================] - ETA: 2s - loss: 0.1833 - accuracy: 1.00 - ETA: 0s - loss: 0.2333 - accuracy: 0.92 - ETA: 0s - loss: 0.2033 - accuracy: 0.95 - ETA: 0s - loss: 0.1831 - accuracy: 0.96 - ETA: 0s - loss: 0.1881 - accuracy: 0.95 - ETA: 0s - loss: 0.1733 - accuracy: 0.95 - ETA: 0s - loss: 0.1684 - accuracy: 0.95 - 1s 7ms/step - loss: 0.1668 - accuracy: 0.9583 - val_loss: 0.1529 - val_accuracy: 0.9583\n",
            "Epoch 3/10\n",
            "96/96 [==============================] - ETA: 2s - loss: 0.0393 - accuracy: 1.00 - ETA: 0s - loss: 0.0843 - accuracy: 0.98 - ETA: 0s - loss: 0.0812 - accuracy: 0.98 - ETA: 0s - loss: 0.0771 - accuracy: 0.98 - ETA: 0s - loss: 0.0755 - accuracy: 0.98 - ETA: 0s - loss: 0.0784 - accuracy: 0.98 - ETA: 0s - loss: 0.0781 - accuracy: 0.98 - 1s 7ms/step - loss: 0.0764 - accuracy: 0.9854 - val_loss: 0.1098 - val_accuracy: 0.9667\n",
            "Epoch 4/10\n",
            "96/96 [==============================] - ETA: 2s - loss: 0.0590 - accuracy: 1.00 - ETA: 0s - loss: 0.0412 - accuracy: 1.00 - ETA: 0s - loss: 0.0365 - accuracy: 1.00 - ETA: 0s - loss: 0.0411 - accuracy: 1.00 - ETA: 0s - loss: 0.0379 - accuracy: 1.00 - ETA: 0s - loss: 0.0391 - accuracy: 0.99 - ETA: 0s - loss: 0.0383 - accuracy: 0.99 - 1s 7ms/step - loss: 0.0385 - accuracy: 0.9979 - val_loss: 0.0911 - val_accuracy: 0.9750\n",
            "Epoch 5/10\n",
            "96/96 [==============================] - ETA: 2s - loss: 0.0212 - accuracy: 1.00 - ETA: 0s - loss: 0.0242 - accuracy: 1.00 - ETA: 0s - loss: 0.0192 - accuracy: 1.00 - ETA: 0s - loss: 0.0219 - accuracy: 1.00 - ETA: 0s - loss: 0.0225 - accuracy: 1.00 - ETA: 0s - loss: 0.0222 - accuracy: 1.00 - ETA: 0s - loss: 0.0215 - accuracy: 1.00 - 1s 6ms/step - loss: 0.0215 - accuracy: 1.0000 - val_loss: 0.0800 - val_accuracy: 0.9750\n",
            "Epoch 6/10\n",
            "96/96 [==============================] - ETA: 2s - loss: 0.0148 - accuracy: 1.00 - ETA: 0s - loss: 0.0138 - accuracy: 1.00 - ETA: 0s - loss: 0.0117 - accuracy: 1.00 - ETA: 0s - loss: 0.0115 - accuracy: 1.00 - ETA: 0s - loss: 0.0130 - accuracy: 1.00 - ETA: 0s - loss: 0.0124 - accuracy: 1.00 - ETA: 0s - loss: 0.0117 - accuracy: 1.00 - 1s 6ms/step - loss: 0.0116 - accuracy: 1.0000 - val_loss: 0.0658 - val_accuracy: 0.9750\n",
            "Epoch 7/10\n",
            "96/96 [==============================] - ETA: 2s - loss: 0.0092 - accuracy: 1.00 - ETA: 0s - loss: 0.0064 - accuracy: 1.00 - ETA: 0s - loss: 0.0061 - accuracy: 1.00 - ETA: 0s - loss: 0.0073 - accuracy: 1.00 - ETA: 0s - loss: 0.0075 - accuracy: 1.00 - ETA: 0s - loss: 0.0071 - accuracy: 1.00 - ETA: 0s - loss: 0.0068 - accuracy: 1.00 - 1s 6ms/step - loss: 0.0066 - accuracy: 1.0000 - val_loss: 0.0594 - val_accuracy: 0.9750\n",
            "Epoch 8/10\n",
            "96/96 [==============================] - ETA: 2s - loss: 0.0032 - accuracy: 1.00 - ETA: 0s - loss: 0.0033 - accuracy: 1.00 - ETA: 0s - loss: 0.0041 - accuracy: 1.00 - ETA: 0s - loss: 0.0038 - accuracy: 1.00 - ETA: 0s - loss: 0.0035 - accuracy: 1.00 - ETA: 0s - loss: 0.0035 - accuracy: 1.00 - ETA: 0s - loss: 0.0036 - accuracy: 1.00 - 1s 6ms/step - loss: 0.0038 - accuracy: 1.0000 - val_loss: 0.0556 - val_accuracy: 0.9750\n",
            "Epoch 9/10\n",
            "96/96 [==============================] - ETA: 2s - loss: 0.0042 - accuracy: 1.00 - ETA: 0s - loss: 0.0020 - accuracy: 1.00 - ETA: 0s - loss: 0.0023 - accuracy: 1.00 - ETA: 0s - loss: 0.0020 - accuracy: 1.00 - ETA: 0s - loss: 0.0021 - accuracy: 1.00 - ETA: 0s - loss: 0.0021 - accuracy: 1.00 - ETA: 0s - loss: 0.0022 - accuracy: 1.00 - 1s 6ms/step - loss: 0.0021 - accuracy: 1.0000 - val_loss: 0.0596 - val_accuracy: 0.9750\n",
            "Epoch 10/10\n",
            "96/96 [==============================] - ETA: 2s - loss: 0.0030 - accuracy: 1.00 - ETA: 0s - loss: 0.0015 - accuracy: 1.00 - ETA: 0s - loss: 0.0013 - accuracy: 1.00 - ETA: 0s - loss: 0.0013 - accuracy: 1.00 - ETA: 0s - loss: 0.0013 - accuracy: 1.00 - ETA: 0s - loss: 0.0013 - accuracy: 1.00 - ETA: 0s - loss: 0.0013 - accuracy: 1.00 - 1s 7ms/step - loss: 0.0012 - accuracy: 1.0000 - val_loss: 0.0627 - val_accuracy: 0.9750\n"
          ],
          "name": "stdout"
        }
      ]
    },
    {
      "cell_type": "code",
      "metadata": {
        "scrolled": true,
        "id": "x6YdIvb5CD61",
        "colab_type": "code",
        "colab": {},
        "outputId": "bfcf9852-489e-4ad0-e7d4-5cd137c3459f"
      },
      "source": [
        "if not IN_COLAB:\n",
        "    tb_dir = 'logs/' + str(log_dir.stem)\n",
        "    print(tb_dir)\n",
        "    %tensorboard --logdir={tb_dir}"
      ],
      "execution_count": 0,
      "outputs": [
        {
          "output_type": "stream",
          "text": [
            "logs/20190522-165216\n"
          ],
          "name": "stdout"
        },
        {
          "output_type": "display_data",
          "data": {
            "text/html": [
              "\n",
              "        <iframe\n",
              "            width=\"100%\"\n",
              "            height=\"800\"\n",
              "            src=\"http://localhost:6006\"\n",
              "            frameborder=\"0\"\n",
              "            allowfullscreen\n",
              "        ></iframe>\n",
              "        "
            ],
            "text/plain": [
              "<IPython.lib.display.IFrame at 0x258d961b1d0>"
            ]
          },
          "metadata": {
            "tags": []
          }
        }
      ]
    },
    {
      "cell_type": "code",
      "metadata": {
        "id": "yyz7VMwpCD65",
        "colab_type": "code",
        "colab": {},
        "outputId": "1d6c87ba-ed9d-4f24-bac5-f5b59903d060"
      },
      "source": [
        "import matplotlib.pyplot as plt\n",
        "plt.plot(history.history['accuracy'])\n",
        "plt.plot(history.history['val_accuracy'])\n",
        "plt.title('model accuracy')\n",
        "plt.ylabel('accuracy')\n",
        "plt.xlabel('epoch')\n",
        "plt.legend(['train', 'validation'], loc='lower right')\n",
        "plt.show()\n",
        "\n",
        "plt.plot(history.history['loss'])\n",
        "plt.plot(history.history['val_loss'])\n",
        "plt.title('model loss')\n",
        "plt.ylabel('loss')\n",
        "plt.xlabel('epoch')\n",
        "plt.legend(['train', 'validation'], loc='upper right')\n",
        "plt.show()"
      ],
      "execution_count": 0,
      "outputs": [
        {
          "output_type": "display_data",
          "data": {
            "image/png": "[encoded data removed]",
            "text/plain": [
              "<Figure size 432x288 with 1 Axes>"
            ]
          },
          "metadata": {
            "tags": [],
            "needs_background": "light"
          }
        },
        {
          "output_type": "display_data",
          "data": {
            "image/png": "[encoded data removed]",
            "text/plain": [
              "<Figure size 432x288 with 1 Axes>"
            ]
          },
          "metadata": {
            "tags": [],
            "needs_background": "light"
          }
        }
      ]
    },
    {
      "cell_type": "markdown",
      "metadata": {
        "collapsed": false,
        "pycharm": {
          "name": "#%% md\n"
        },
        "id": "uvkUP5bbCD69",
        "colab_type": "text"
      },
      "source": [
        "## Inspecting the model\n",
        "TODO: visualize the weights like with did for LDA"
      ]
    },
    {
      "cell_type": "markdown",
      "metadata": {
        "collapsed": false,
        "pycharm": {
          "name": "#%% md\n"
        },
        "id": "URi8gkENCD6-",
        "colab_type": "text"
      },
      "source": [
        "## Exercises\n",
        "\n",
        "### Choose a different participant\n",
        "The participant data that we've been using so far is easily classified,\n",
        "which is nice to confirm things work, but is not very useful when trying\n",
        "to understand how to improve.\n",
        "\n",
        "Go back to the cell above where the participant data are imported\n",
        "and replace 'de' with 'rn'\n",
        "### Try a different activation function\n",
        "Chaining linear activations doesn't get you much, because\n",
        "chaining linear matrix transformations yields a single matrix.\n",
        "We need something non-linear happening before we can benefit from\n",
        "adding more layers.\n",
        "### Try adding more layers\n",
        "\n",
        "  "
      ]
    }
  ]
}