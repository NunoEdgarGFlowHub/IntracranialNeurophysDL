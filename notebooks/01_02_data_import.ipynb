{
  "nbformat": 4,
  "nbformat_minor": 0,
  "metadata": {
    "colab": {
      "name": "01_02_data_import.ipynb",
      "version": "0.3.2",
      "provenance": []
    },
    "kernelspec": {
      "name": "python3",
      "display_name": "Python 3"
    },
    "language_info": {
      "codemirror_mode": {
        "name": "ipython",
        "version": 3
      },
      "file_extension": ".py",
      "mimetype": "text/x-python",
      "name": "python",
      "nbconvert_exporter": "python",
      "pygments_lexer": "ipython3",
      "version": "3.6.7"
    },
    "accelerator": "GPU"
  },
  "cells": [
    {
      "cell_type": "markdown",
      "metadata": {
        "colab_type": "text",
        "id": "oBd6qFcZAAtX"
      },
      "source": [
        "# Introduction to Setting Up the Environment and Importing Data\n",
        "This notebook is part of the [SachsLab Workshop for Intracranial Neurophysiology and Deep Learning](https://github.com/SachsLab/IntracranialNeurophysDL).\n",
        "\n",
        "<table class=\"tfo-notebook-buttons\" align=\"left\">\n",
        "  <td>\n",
        "    <a target=\"_blank\" href=\"https://colab.research.google.com/github/SachsLab/IntracranialNeurophysDL/blob/master/notebooks/01_02_data_import.ipynb\"><img src=\"https://www.tensorflow.org/images/colab_logo_32px.png\" />Run in Google Colab</a>\n",
        "  </td>\n",
        "  <td>\n",
        "    <a target=\"_blank\" href=\"https://github.com/SachsLab/IntracranialNeurophysDL/blob/master/notebooks/01_02_data_import.ipynb\"><img src=\"https://www.tensorflow.org/images/GitHub-Mark-32px.png\" />View source on GitHub</a>\n",
        "  </td>\n",
        "</table>"
      ]
    },
    {
      "cell_type": "markdown",
      "metadata": {
        "colab_type": "text",
        "id": "GdoBkDt4AAtd"
      },
      "source": [
        "\n",
        "### Normalizing Environments\n",
        "Let's try to unify the Google Colab environment and the local environment.\n",
        "\n",
        "If you are running on Google Colab, then in the next cell you'll be presented\n",
        "with a widget. Use it to browse to the kaggle.json file.\n",
        "(Note: You might have to show hidden files/folders in the file browser. `CMD + SHIFT + .` on Mac)\n",
        "\n",
        "It will also clone the workshop repository and change into its directory.\n",
        "\n",
        "If you are running locally then this will simply change to the workshop root directory."
      ]
    },
    {
      "cell_type": "code",
      "metadata": {
        "colab_type": "code",
        "id": "RhQUlo-aAAte",
        "pycharm": {
          "name": "#%%\n"
        },
        "colab": {}
      },
      "source": [
        "from pathlib import Path\n",
        "import os\n",
        "\n",
        "# Standard block to equalize local and Colab.\n",
        "try:\n",
        "    # See if we are running on google.colab\n",
        "    import google.colab\n",
        "    from google.colab import files\n",
        "    if not (Path.home() / '.kaggle').is_dir():\n",
        "        # Configure kaggle\n",
        "        files.upload()  # Find the kaggle.json file in your ~/.kaggle directory.\n",
        "        !pip install -q kaggle\n",
        "        !mkdir -p ~/.kaggle\n",
        "        !mv kaggle.json ~/.kaggle/\n",
        "        !chmod 600 ~/.kaggle/kaggle.json\n",
        "    \n",
        "    if Path.cwd().stem != 'IntracranialNeurophysDL':\n",
        "        if not (Path.cwd() / 'IntracranialNeurophysDL').is_dir():\n",
        "            # Download the workshop repo and change to its directory\n",
        "            !git clone --recursive https://github.com/SachsLab/IntracranialNeurophysDL.git\n",
        "        os.chdir('IntracranialNeurophysDL')\n",
        "    IN_COLAB = True\n",
        "except ModuleNotFoundError:\n",
        "    IN_COLAB = False\n",
        "    import sys\n",
        "    if Path.cwd().stem == 'notebooks':\n",
        "        os.chdir(Path.cwd().parent)\n",
        "    # Make sure the kaggle executable is on the PATH\n",
        "    os.environ['PATH'] = os.environ['PATH'] + ';' + str(Path(sys.executable).parent / 'Scripts')\n",
        "    \n",
        "%load_ext autoreload\n",
        "%autoreload 2"
      ],
      "execution_count": 0,
      "outputs": []
    },
    {
      "cell_type": "markdown",
      "metadata": {
        "colab_type": "text",
        "id": "aTJelN8LAAtg"
      },
      "source": [
        "## Get Data\n",
        "\n",
        "### Download\n",
        "Now that your system is configured to use kaggle, whether local or running on colab,\n",
        "we check for the existence of the datadir, and if it's not there we download the data\n",
        "(2.2 GB) and unzip it into the correct folder.\n",
        "\n",
        "While running on google colab, this takes about a minute to download and another minute to unzip.\n",
        "\n",
        "While running locally, this can take a long time depending on your internet connection. The\n",
        "PyCharm notebook interface doesn't give feedback about download or unzip status, so you may\n",
        "want to download and extract from an Anaconda prompt, in the repository parent directory:\n",
        "```\n",
        "kaggle datasets download --unzip --path data/kjm_ecog/converted/faces_basic cboulay/kjm-ecog-faces-basic\n",
        "```\n",
        "\n",
        "If you are getting errors related to access restriction then you may need to download a new Kaggle API token and reset your Colab instance to upload the new .json file."
      ]
    },
    {
      "cell_type": "code",
      "metadata": {
        "colab_type": "code",
        "id": "xxObV_u5AAtg",
        "pycharm": {
          "name": "#%%\n"
        },
        "colab": {}
      },
      "source": [
        "datadir = Path.cwd() / 'data' / 'kjm_ecog'\n",
        "if not (datadir / 'converted').is_dir():\n",
        "    !kaggle datasets download --unzip --path {str(datadir / 'converted' / 'faces_basic')} cboulay/kjm-ecog-faces-basic\n",
        "    print(\"Finished downloading and extracting data.\")\n",
        "else:\n",
        "    print(\"Data directory already exists. Skipping download.\")"
      ],
      "execution_count": 0,
      "outputs": []
    },
    {
      "cell_type": "markdown",
      "metadata": {
        "colab_type": "text",
        "id": "qwEDrZs9AAti"
      },
      "source": [
        "### Import File\n",
        "We can now start working with the data.\n",
        "We will import a single file that contains processed band-power data.\n",
        "\n",
        "If you are curious about how the data were processed, the script can be found [here](https://github.com/SachsLab/IntracranialNeurophysDL/blob/master/data/kjm_ecog/03_convert.py)."
      ]
    },
    {
      "cell_type": "code",
      "metadata": {
        "colab_type": "code",
        "id": "Me2kKnr5AAtj",
        "pycharm": {
          "name": "#%%\n"
        },
        "colab": {}
      },
      "source": [
        "from data.utils.fileio import from_neuropype_h5\n",
        "\n",
        "SUB_ID = 'de'\n",
        "\n",
        "test_file = datadir / 'converted' / 'faces_basic' / (SUB_ID + '_bp.h5')\n",
        "chunks = from_neuropype_h5(test_file)\n",
        "\n",
        "print(\"Chunks found: {}\".format([_[0] for _ in chunks]))"
      ],
      "execution_count": 0,
      "outputs": []
    },
    {
      "cell_type": "markdown",
      "metadata": {
        "colab_type": "text",
        "id": "fkFrKqhGAAtl"
      },
      "source": [
        "## Data Exploration\n",
        "### Print Contents\n",
        "Let's quickly inspect the data to see what we have."
      ]
    },
    {
      "cell_type": "code",
      "metadata": {
        "colab_type": "code",
        "id": "e9Ks64GeAAtm",
        "pycharm": {
          "name": "#%%\n"
        },
        "colab": {}
      },
      "source": [
        "import pandas as pd\n",
        "\n",
        "# Get the 'signals' chunk\n",
        "chunk_names = [_[0] for _ in chunks]\n",
        "chunk = chunks[chunk_names.index('signals')][1]\n",
        "ax_types = [_['type'] for _ in chunk['axes']]\n",
        "\n",
        "print(\"The 'signals' chunk has data with shape {}.\".format(chunk['data'].shape))\n",
        "print(\"The axes types are {}\".format(ax_types))\n",
        "\n",
        "time_axis = chunk['axes'][ax_types.index('time')]\n",
        "t_vec = time_axis['times']\n",
        "print(\"Each trial has {} samples, ranging from {} to {} s.\".format(len(t_vec), min(t_vec), max(t_vec)))\n",
        "\n",
        "instance_axis = chunk['axes'][ax_types.index('instance')]\n",
        "print(\"The trial label frequencies are \\n{}\".format(pd.value_counts(instance_axis['data']['Marker'])))"
      ],
      "execution_count": 0,
      "outputs": []
    },
    {
      "cell_type": "markdown",
      "metadata": {
        "colab_type": "text",
        "id": "BhNLJL6sAAto"
      },
      "source": [
        "### Simple Plotting\n",
        "The data contain 603 trials, with each trial having\n",
        "17 samples in time, and 31 channels.\n",
        "Of the 603 trials, 303 or inter-stimulus intervals, and the remaining\n",
        "300 are split between `face` and `house`.\n",
        "\n",
        "An N-dimensional data container is also called a \"tensor\".\n",
        "The most common forms are 1-D tensors, also known as \"vectors\",\n",
        "and 2-D tensors, also known as \"matrices\".\n",
        "\n",
        "This is a 3-D tensor.\n",
        "\n",
        "We will plot a few different slices of the tensor."
      ]
    },
    {
      "cell_type": "code",
      "metadata": {
        "colab_type": "code",
        "id": "PPRPkZUFAAto",
        "pycharm": {
          "name": "#%%\n"
        },
        "colab": {}
      },
      "source": [
        "import numpy as np\n",
        "import matplotlib.pyplot as plt\n",
        "plt.rcParams.update({'font.size': 22})\n",
        "\n",
        "fig = plt.figure(figsize=(12, 6), facecolor='white')\n",
        "\n",
        "# Plot a single trial\n",
        "tr_idx = 20  # trial index\n",
        "dat = np.copy(chunk['data'][tr_idx, :, :])  # Slice a single-trial\n",
        "dat -= np.arange(dat.shape[-1])[None, :]  # Separate channels for visibility.\n",
        "plt.subplot(1, 2, 1)\n",
        "plt.plot(t_vec, dat)\n",
        "plt.title('Single Trial')\n",
        "plt.ylabel('Channel')\n",
        "plt.xlabel('Time (s)')\n",
        "\n",
        "# Plot a few trials from a single channel.\n",
        "ch_idx = 11  # Also try 22\n",
        "dat = np.copy(chunk['data'][:, :, ch_idx])\n",
        "tr_idx_isi = np.where(instance_axis['data']['Marker'] == 'ISI')[0][:5]\n",
        "plt.subplot(1, 2, 2)\n",
        "plt.plot(t_vec, dat[tr_idx_isi].T, 'k')\n",
        "tr_idx_houses = np.where(instance_axis['data']['Marker'] == 'house')[0][:5]\n",
        "plt.plot(t_vec, dat[tr_idx_houses].T, 'b')\n",
        "tr_idx_faces = np.where(instance_axis['data']['Marker'] == 'face')[0][:5]\n",
        "plt.plot(t_vec, dat[tr_idx_faces].T, 'r')\n",
        "plt.title('Trials for for Chan {}'.format(ch_idx))\n",
        "plt.ylabel('Broadband Power (z)')\n",
        "plt.xlabel('Time After Stim (s)')\n",
        "\n",
        "plt.show()"
      ],
      "execution_count": 0,
      "outputs": []
    },
    {
      "cell_type": "markdown",
      "metadata": {
        "colab_type": "text",
        "id": "M9eUa0gxAAtq"
      },
      "source": [
        "### Tensor Decomposition\n",
        "Let's use a tensor-decomposition tool to get a simpler view of the tensor contents.\n",
        "[Source](https://pyramidal.stanford.edu/publications/Williams2018_Neuron.pdf)\n",
        "![simple linear network](https://github.com/SachsLab/IntracranialNeurophysDL/blob/master/notebooks/img/tca.png?raw=1) \n",
        "\n",
        "In the below plot, each row is a different tensor component and each column is a different axis/dimension.\n",
        "The output changes each time it is run.\n",
        "Look for a component where the 1st column clearly shows two different groups of trials.\n",
        "Then in the 2nd column we can see the time-course of that component, and in the 3rd column we see the channels that contributed to that component."
      ]
    },
    {
      "cell_type": "code",
      "metadata": {
        "colab_type": "code",
        "id": "3g_gmEhSAAtr",
        "pycharm": {
          "name": "#%%\n"
        },
        "colab": {}
      },
      "source": [
        "if IN_COLAB:\n",
        "    !pip install git+https://github.com/ahwillia/tensortools\n",
        "import tensortools as tt\n",
        "\n",
        "U = tt.cp_als(chunk['data'], rank=3, verbose=True)"
      ],
      "execution_count": 0,
      "outputs": []
    },
    {
      "cell_type": "code",
      "metadata": {
        "id": "tbIWFet4aIku",
        "colab_type": "code",
        "colab": {}
      },
      "source": [
        "fig, ax, po = tt.plot_factors(U.factors, plots=['scatter', 'line', 'bar'], figsize=(12, 12))"
      ],
      "execution_count": 0,
      "outputs": []
    },
    {
      "cell_type": "markdown",
      "metadata": {
        "colab_type": "text",
        "id": "mynXSjtyAAtt"
      },
      "source": [
        "### Tensor Decomposition in Neuropype\n",
        "\n",
        "The next cell does the same thing with a slightly better plot, but is for Neuropype users only, and only those who have the latest version. I don't yet have a workflow for getting Neuropype on the cloud so this one part is for local use only.\n",
        "\n",
        "As it uses plotly, it won't show up in PyCharm (should be fixed in v2019.2) but it will in a browser."
      ]
    },
    {
      "cell_type": "code",
      "metadata": {
        "colab_type": "code",
        "id": "5HOXLOCOAAtu",
        "pycharm": {
          "name": "#%%\n"
        },
        "colab": {}
      },
      "source": [
        "# Add my local copy of Neuropype to the PATH.\n",
        "import sys\n",
        "sys.path.append(str(Path.cwd().parent / 'Intheon' / 'cpe'))"
      ],
      "execution_count": 0,
      "outputs": []
    },
    {
      "cell_type": "code",
      "metadata": {
        "colab_type": "code",
        "id": "VGCqhz8jAAtw",
        "pycharm": {
          "name": "#%%\n"
        },
        "colab": {}
      },
      "source": [
        "import neuropype.nodes as nn\n",
        "\n",
        "pkt = nn.ImportH5(filename=str(test_file))()\n",
        "tt_res = nn.TensorDecomposition(num_components=3, aggregate_axes=['instance'])(\n",
        "    data=pkt, return_outputs='all')\n",
        "type_map = {'time': 'lines', 'space': 'bars', 'instance': 'markers'}\n",
        "plt = nn.TensorDecompositionPlot(output_mode='notebook', iv_field='Marker',\n",
        "                                 type_map=type_map)(data=tt_res['model'])"
      ],
      "execution_count": 0,
      "outputs": []
    }
  ]
}