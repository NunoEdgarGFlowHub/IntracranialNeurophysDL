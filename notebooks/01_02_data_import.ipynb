{
 "cells": [
  {
   "cell_type": "code",
   "execution_count": null,
   "metadata": {
    "collapsed": true
   },
   "outputs": [],
   "source": [
    "%load_ext autoreload\n",
    "%autoreload 2"
   ]
  },
  {
   "cell_type": "markdown",
   "source": [
    "## Block to standardize Local and Google Colab\n",
    "Let's try to unify the Google Colab environment and the local environment.\n",
    "\n",
    "If you are running on Google Colab, then in the next cell you'll be presented\n",
    "with a widget. Use it to browse to the kaggle.json file.\n",
    "(Note: You might have to show hidden files/folders in the file browser) \n",
    "It will also clone the workshop repository and change into its directory.\n",
    "\n",
    "If you are running locally then this will simply change to the workshop root directory."
   ],
   "metadata": {
    "collapsed": false
   }
  },
  {
   "cell_type": "code",
   "execution_count": null,
   "outputs": [],
   "source": [
    "from pathlib import Path\n",
    "import os\n",
    "try:\n",
    "    # See if we are running on google.colab\n",
    "    import google.colab\n",
    "    from google.colab import files\n",
    "    os.chdir('..')\n",
    "    if not (Path.cwd() / '.kaggle').is_dir():\n",
    "        # Configure kaggle\n",
    "        files.upload()  # Find the kaggle.json file in your ~/.kaggle directory.\n",
    "        !pip install -q kaggle\n",
    "        !mkdir -p ~/.kaggle\n",
    "        !mv kaggle.json ~/.kaggle/\n",
    "        !chmod 600 ~/.kaggle/kaggle.json\n",
    "    if not (Path.cwd() / 'repo').is_dir():\n",
    "        # Download the workshop repo and change to its directory\n",
    "        # For now edit the username/password. This requirement will be removed when the repo is made public.\n",
    "        !git clone https://github.com/SachsLab/IntracranialNeurophysDL.git\n",
    "        os.chdir('IntracranialNeurophysDL')\n",
    "    IN_COLAB = True\n",
    "except ModuleNotFoundError:\n",
    "    import sys\n",
    "    if Path.cwd().stem == 'notebooks':\n",
    "        os.chdir(Path.cwd().parent)\n",
    "    # Make sure the kaggle executable is on the PATH\n",
    "    os.environ['PATH'] = os.environ['PATH'] + ';' + str(Path(sys.executable).parent / 'Scripts')\n",
    "    IN_COLAB = False"
   ],
   "metadata": {
    "collapsed": false,
    "pycharm": {
     "name": "#%%\n"
    }
   }
  },
  {
   "cell_type": "markdown",
   "source": [
    "## Get Data\n",
    "\n",
    "### Download\n",
    "Now that your system is configured to use kaggle, whether local or running on colab,\n",
    "we check for the existence of the datadir, and if it's not there we download the data\n",
    "as a zip file (2.2 GB), then unzip it, then delete the zip file.\n",
    "\n",
    "While running on google colab, this takes about a minute to download and another minute to unzip.\n",
    "\n",
    "While running locally, this can take a long time depending on your internet connection. The\n",
    "PyCharm notebook interface doesn't give feedback about download or unzip status, so you may\n",
    "want to download and extract from an Anaconda prompt, in the repository parent directory:\n",
    "```\n",
    "kaggle datasets download -d cboulay/kjm-ecog-faces-basic\n",
    "# Mac/Linux only:\n",
    "unzip faces-basic.zip -d data/kjm_ecog/converted/\n",
    "# Windows users will have to use the Explorer interface and extract to data\\kjm_ecog\n",
    "```\n",
    "\n",
    "This dataset may still be private, in which case you will have to ask Chad to grant you\n",
    "access."
   ],
   "metadata": {
    "collapsed": false
   }
  },
  {
   "cell_type": "code",
   "execution_count": null,
   "outputs": [],
   "source": [
    "datadir = Path.cwd() / 'data' / 'kjm_ecog'\n",
    "if not (datadir / 'converted').is_dir():\n",
    "    !kaggle datasets download -d cboulay/kjm-ecog-faces-basic\n",
    "    print(\"Finished downloading. Now extracting contents...\")\n",
    "    data_path = Path('kjm-ecog-faces-basic.zip')\n",
    "    import zipfile\n",
    "    with zipfile.ZipFile(data_path, 'r') as zip_ref:\n",
    "        zip_ref.extractall(datadir / 'converted' / 'faces_basic')\n",
    "    data_path.unlink()\n",
    "    print(\"Finished extracting data.\")"
   ],
   "metadata": {
    "collapsed": false,
    "pycharm": {
     "name": "#%%\n"
    }
   }
  },
  {
   "cell_type": "markdown",
   "source": [
    "### Import File\n",
    "We can now start working with the data.\n",
    "We will import a single file that contains processed band-power data.\n",
    "\n",
    "If you are curious about how the data were processed, the script can be found [here](https://github.com/SachsLab/IntracranialNeurophysDL/blob/master/data/kjm_ecog/03_convert.py)."
   ],
   "metadata": {
    "collapsed": false
   }
  },
  {
   "cell_type": "code",
   "execution_count": null,
   "outputs": [],
   "source": [
    "SUB_ID = 'de'\n",
    "from data.utils.fileio import from_neuropype_h5\n",
    "test_file = datadir / 'converted' / 'faces_basic' / (SUB_ID + '_bp.h5')\n",
    "chunks = from_neuropype_h5(test_file)"
   ],
   "metadata": {
    "collapsed": false,
    "pycharm": {
     "name": "#%%\n"
    }
   }
  },
  {
   "cell_type": "markdown",
   "source": [
    "## Data Exploration\n",
    "### Print Contents\n",
    "Let's quickly inspect the data to see what we have."
   ],
   "metadata": {
    "collapsed": false
   }
  },
  {
   "cell_type": "code",
   "execution_count": null,
   "outputs": [],
   "source": [
    "import pandas as pd\n",
    "\n",
    "# Get the 'signals' chunk\n",
    "chunk_names = [_[0] for _ in chunks]\n",
    "chunk = chunks[chunk_names.index('signals')][1]\n",
    "ax_types = [_['type'] for _ in chunk['axes']]\n",
    "\n",
    "print(\"The 'signals' chunk has data with shape {}.\".format(chunk['data'].shape))\n",
    "print(\"The axes types are {}\".format(ax_types))\n",
    "\n",
    "time_axis = chunk['axes'][ax_types.index('time')]\n",
    "t_vec = time_axis['times']\n",
    "print(\"Each trial has {} samples, ranging from {} to {} s.\".format(len(t_vec), min(t_vec), max(t_vec)))\n",
    "\n",
    "instance_axis = chunk['axes'][ax_types.index('instance')]\n",
    "print(\"The trial label frequencies are \\n{}\".format(pd.value_counts(instance_axis['data']['Marker'])))"
   ],
   "metadata": {
    "collapsed": false,
    "pycharm": {
     "name": "#%%\n"
    }
   }
  },
  {
   "cell_type": "markdown",
   "source": [
    "### Simple Plotting\n",
    "The data contain 603 trials, with each trial having\n",
    "17 samples in time, and 31 channels.\n",
    "Of the 603 trials, 303 or inter-stimulus intervals, and the remaining\n",
    "300 are split between `face` and `house`.\n",
    "\n",
    "An N-dimensional data container is also called a \"tensor\".\n",
    "The most common forms are 1-D tensors, also known as \"vectors\",\n",
    "and 2-D tensors, also known as \"matrices\".\n",
    "\n",
    "This is a 3-D tensor.\n",
    "\n",
    "We will plot a few different slices of the tensor."
   ],
   "metadata": {
    "collapsed": false
   }
  },
  {
   "cell_type": "code",
   "execution_count": null,
   "outputs": [],
   "source": [
    "import numpy as np\n",
    "import matplotlib.pyplot as plt\n",
    "\n",
    "# Plot a single trial\n",
    "tr_idx = 20  # trial index\n",
    "dat = np.copy(chunk['data'][tr_idx, :, :])  # Slice a single-trial\n",
    "dat -= np.arange(dat.shape[-1])[None, :]  # Separate channels for visibility.\n",
    "plt.plot(t_vec, dat)\n",
    "plt.title('Single Trial')\n",
    "plt.ylabel('Channel')\n",
    "plt.xlabel('Time (s)')\n",
    "plt.show()\n",
    "\n",
    "# Plot a few trials from a single channel.\n",
    "ch_idx = 11  # Also try 22\n",
    "dat = np.copy(chunk['data'][:, :, ch_idx])\n",
    "tr_idx_isi = np.where(instance_axis['data']['Marker'] == 'ISI')[0][:5]\n",
    "plt.plot(t_vec, dat[tr_idx_isi].T, 'k')\n",
    "tr_idx_houses = np.where(instance_axis['data']['Marker'] == 'house')[0][:5]\n",
    "plt.plot(t_vec, dat[tr_idx_houses].T, 'b')\n",
    "tr_idx_faces = np.where(instance_axis['data']['Marker'] == 'face')[0][:5]\n",
    "plt.plot(t_vec, dat[tr_idx_faces].T, 'r')\n",
    "plt.title('Trials for ISI (k), House (b), and Face (r) for Chan {}'.format(ch_idx))\n",
    "plt.ylabel('Broadband Power (z)')\n",
    "plt.xlabel('Time After Stim (s)')\n",
    "plt.show()"
   ],
   "metadata": {
    "collapsed": false,
    "pycharm": {
     "name": "#%%\n"
    }
   }
  },
  {
   "cell_type": "markdown",
   "source": [
    "### Tensor Decomposition\n",
    "Let's use a tensor-decomposition tool to get a simpler view of the tensor contents.\n",
    "[Source](https://pyramidal.stanford.edu/publications/Williams2018_Neuron.pdf)\n",
    "![simple linear network](https://github.com/SachsLab/IntracranialNeurophysDL/blob/master/notebooks/img/tca.png?raw=1) \n",
    "\n",
    "In the below plot, each row is a different tensor component and each column is a different axis/dimension.\n",
    "The output changes each time it is run.\n",
    "Look for a component where the 1st column clearly shows two different groups of trials.\n",
    "Then in the 2nd column we can see the time-course of that component, and in the 3rd column we see the channels that contributed to that component."
   ],
   "metadata": {
    "collapsed": false
   }
  },
  {
   "cell_type": "code",
   "execution_count": null,
   "outputs": [],
   "source": [
    "!pip install git+https://github.com/ahwillia/tensortools\n",
    "import tensortools as tt\n",
    "U = tt.cp_als(chunk['data'], rank=3, verbose=True)\n",
    "fig, ax, po = tt.plot_factors(U.factors, plots=['scatter', 'line', 'bar'])"
   ],
   "metadata": {
    "collapsed": false,
    "pycharm": {
     "name": "#%%\n"
    }
   }
  },
  {
   "cell_type": "markdown",
   "source": [
    "### Tensor Decomposition in Neuropype\n",
    "\n",
    "The next cell does the same thing with a slightly better plot, but is for Neuropype users only,\n",
    "and only those who have the latest version (should be out soon!).\n",
    "\n",
    "As it uses plotly, it won't show up in PyCharm (should be fixed in v2019.2) but it will in a browser."
   ],
   "metadata": {
    "collapsed": false
   }
  },
  {
   "cell_type": "code",
   "execution_count": null,
   "outputs": [],
   "source": [
    "# Add my local copy of Neuropype to the PATH.\n",
    "import sys\n",
    "sys.path.append(str(Path.cwd().parent / 'Intheon' / 'cpe'))"
   ],
   "metadata": {
    "collapsed": false,
    "pycharm": {
     "name": "#%%\n"
    }
   }
  },
  {
   "cell_type": "code",
   "execution_count": null,
   "outputs": [],
   "source": [
    "import neuropype.nodes as nn\n",
    "pkt = nn.ImportH5(filename=str(test_file))()\n",
    "tt_res = nn.TensorDecomposition(num_components=3, aggregate_axes=['instance'])(\n",
    "    data=pkt, return_outputs='all')\n",
    "type_map = {'time': 'lines', 'space': 'bars', 'instance': 'markers'}\n",
    "plt = nn.TensorDecompositionPlot(output_mode='notebook', iv_field='Marker',\n",
    "                                 type_map=type_map)(data=tt_res['model'])"
   ],
   "metadata": {
    "collapsed": false,
    "pycharm": {
     "name": "#%%\n"
    }
   }
  }
 ],
 "metadata": {
  "language_info": {
   "codemirror_mode": {
    "name": "ipython",
    "version": 2
   },
   "file_extension": ".py",
   "mimetype": "text/x-python",
   "name": "python",
   "nbconvert_exporter": "python",
   "pygments_lexer": "ipython2",
   "version": "2.7.6"
  },
  "kernelspec": {
   "name": "python3",
   "language": "python",
   "display_name": "Python 3"
  },
  "pycharm": {
   "stem_cell": {
    "cell_type": "raw",
    "source": [],
    "metadata": {
     "collapsed": false
    }
   }
  }
 },
 "nbformat": 4,
 "nbformat_minor": 0
}