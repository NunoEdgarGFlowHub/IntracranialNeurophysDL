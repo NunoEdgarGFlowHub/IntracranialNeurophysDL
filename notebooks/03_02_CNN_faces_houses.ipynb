{
 "cells": [
  {
   "cell_type": "markdown",
   "metadata": {
    "colab_type": "text",
    "id": "Lnt_1_ellnIY",
    "pycharm": {
     "name": "#%% md\n"
    }
   },
   "source": [
    "# Introduction CNNs to Decode ECoG Data\n",
    "This notebook is part of the [SachsLab Workshop for Intracranial Neurophysiology and Deep Learning](https://github.com/SachsLab/IntracranialNeurophysDL).\n",
    "\n",
    "### Normalize Environments\n",
    "Run the first two cells to normalize Local / Colab environments, then proceed below for the lesson.\n",
    "\n",
    "<table class=\"tfo-notebook-buttons\" align=\"left\">\n",
    "  <td>\n",
    "    <a target=\"_blank\" href=\"https://colab.research.google.com/github/SachsLab/IntracranialNeurophysDL/blob/master/notebooks/03_02_CNN_faces_houses.ipynb\"><img src=\"https://www.tensorflow.org/images/colab_logo_32px.png\" />Run in Google Colab</a>\n",
    "  </td>\n",
    "  <td>\n",
    "    <a target=\"_blank\" href=\"https://github.com/SachsLab/IntracranialNeurophysDL/blob/master/notebooks/03_02_CNN_faces_houses.ipynb\"><img src=\"https://www.tensorflow.org/images/GitHub-Mark-32px.png\" />View source on GitHub</a>\n",
    "  </td>\n",
    "</table>"
   ]
  },
  {
   "cell_type": "code",
   "execution_count": 1,
   "metadata": {
    "colab": {
     "base_uri": "https://localhost:8080/",
     "height": 275,
     "resources": {
      "http://localhost:8080/nbextensions/google.colab/files.js": {
       "data": "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",
       "headers": [
        [
         "content-type",
         "application/javascript"
        ]
       ],
       "ok": true,
       "status": 200,
       "status_text": ""
      }
     }
    },
    "colab_type": "code",
    "id": "yGrxqTomlnIc",
    "outputId": "d3d9dbae-4e45-4120-8a1f-cc7214c6f9e7",
    "pycharm": {
     "is_executing": false
    }
   },
   "outputs": [],
   "source": [
    "from pathlib import Path\n",
    "import os\n",
    "try:\n",
    "    # See if we are running on google.colab\n",
    "    import google.colab\n",
    "    from google.colab import files\n",
    "    os.chdir('..')\n",
    "    if not (Path.home() / '.kaggle').is_dir():\n",
    "        # Configure kaggle\n",
    "        files.upload()  # Find the kaggle.json file in your ~/.kaggle directory.\n",
    "        !pip install -q kaggle\n",
    "        !mkdir -p ~/.kaggle\n",
    "        !mv kaggle.json ~/.kaggle/\n",
    "        !chmod 600 ~/.kaggle/kaggle.json\n",
    "    if Path.cwd().stem != 'IntracranialNeurophysDL':\n",
    "        if not (Path.cwd() / 'IntracranialNeurophysDL').is_dir():\n",
    "            # Download the workshop repo and change to its directory\n",
    "            !git clone --recursive https://github.com/SachsLab/IntracranialNeurophysDL.git\n",
    "        os.chdir('IntracranialNeurophysDL')\n",
    "    IN_COLAB = True\n",
    "    # Setup tensorflow 2.0\n",
    "    !pip install -q tensorflow-gpu==2.0.0-rc0\n",
    "except ModuleNotFoundError:\n",
    "    IN_COLAB = False\n",
    "    import sys\n",
    "    if Path.cwd().stem == 'notebooks':\n",
    "        os.chdir(Path.cwd().parent)\n",
    "    # Make sure the kaggle executable is on the PATH\n",
    "    os.environ['PATH'] = os.environ['PATH'] + ';' + str(Path(sys.executable).parent / 'Scripts')\n",
    "\n",
    "# Try to clear any logs from previous runs\n",
    "if (Path.cwd() / 'logs').is_dir():\n",
    "    import shutil\n",
    "    try:\n",
    "        shutil.rmtree(str(Path.cwd() / 'logs'))\n",
    "    except PermissionError:\n",
    "        print(\"Unable to remove logs directory.\")"
   ]
  },
  {
   "cell_type": "code",
   "execution_count": 2,
   "metadata": {},
   "outputs": [],
   "source": [
    "# Additional imports and configs\n",
    "import tensorflow as tf\n",
    "import datetime\n",
    "import numpy as np\n",
    "import matplotlib.pyplot as plt\n",
    "from indl import turbo_cmap, reset_keras\n",
    "\n",
    "plt.rcParams.update({'font.size': 22})\n",
    "%load_ext autoreload\n",
    "%autoreload 2"
   ]
  },
  {
   "cell_type": "code",
   "execution_count": 3,
   "metadata": {
    "colab": {
     "base_uri": "https://localhost:8080/",
     "height": 90
    },
    "colab_type": "code",
    "id": "ltlcRrJLlnIh",
    "outputId": "5fe6b6e3-f806-4c5c-88ff-cda10dc31fb3",
    "pycharm": {
     "is_executing": false,
     "name": "#%%\n"
    }
   },
   "outputs": [
    {
     "name": "stdout",
     "output_type": "stream",
     "text": [
      "Data directory found. Skipping download.\n"
     ]
    }
   ],
   "source": [
    "# Download and unzip data\n",
    "datadir = Path.cwd() / 'data' / 'kjm_ecog'\n",
    "if not (datadir / 'converted').is_dir():\n",
    "    !kaggle datasets download --unzip --path {str(datadir / 'converted' / 'faces_basic')} cboulay/kjm-ecog-faces-basic\n",
    "    print(\"Finished downloading and extracting data.\")\n",
    "else:\n",
    "    print(\"Data directory found. Skipping download.\")"
   ]
  },
  {
   "cell_type": "markdown",
   "metadata": {
    "colab_type": "text",
    "id": "J5SQdqZhlnIj",
    "pycharm": {
     "name": "#%% md\n"
    }
   },
   "source": [
    "## Prepare data from one participant\n",
    "See 02_02 for an explanation.\n",
    "However, this time we are loading the full-band time-domain data at the original sampling rate (1 kHz), with [limited preprocessing](https://github.com/SachsLab/IntracranialNeurophysDL/blob/master/data/kjm_ecog/03_convert.py#L67-L93).\n",
    "\n",
    "### Load the data\n",
    "This time we're using a helper function from the repo. You can see the code [here](https://github.com/SachsLab/IntracranialNeurophysDL/blob/master/data/utils/fileio.py#L92),\n",
    "but it's essentially the same as what we used in 02_02."
   ]
  },
  {
   "cell_type": "code",
   "execution_count": 4,
   "metadata": {
    "colab": {
     "base_uri": "https://localhost:8080/",
     "height": 35
    },
    "colab_type": "code",
    "id": "Vmqqw0RqlnIk",
    "outputId": "4d51a44b-9d75-4ea9-eb7c-831a11ecc8bd",
    "pycharm": {
     "is_executing": false,
     "name": "#%%\n"
    }
   },
   "outputs": [
    {
     "name": "stdout",
     "output_type": "stream",
     "text": [
      "Found 603 trials, 801 timestamps (-0.2 to 0.6 at 1000 Hz), 58 channels\n"
     ]
    }
   ],
   "source": [
    "from data.utils.fileio import load_faces_houses\n",
    "\n",
    "SUB_ID = 'mv'\n",
    "X, Y, ax_info = load_faces_houses(datadir, SUB_ID, feature_set='full')\n",
    "n_trials = len(ax_info['instance_data'])\n",
    "\n",
    "print(\"Found {} trials, {} timestamps ({} to {} at {} Hz), {} channels\".format(\n",
    "    n_trials, len(ax_info['timestamps']), ax_info['timestamps'][0], ax_info['timestamps'][-1],\n",
    "    ax_info['fs'], X.shape[-1]))"
   ]
  },
  {
   "cell_type": "markdown",
   "metadata": {
    "colab_type": "text",
    "id": "X1qoww4mlnIp"
   },
   "source": [
    "### Get baseline accuracy\n",
    "Remember, the signals haven't been processed much. The only features we can expect LDA to pick out are stimulus-evoked time-domain signals. Also with 801 * 58 features, over-fitting is likely. Unfortunately, the LDA 'eigen' solver can't handle this ~600 x ~4800 matrix so we can't use its shrinkage. We'll use regularized logistic regression instead. This is a CPU-intensive task and is a bit slow on Colab.\n",
    "\n",
    "Note: Though 'Logistic Regression' has 'regression' in the name, it's typically used as a classification algorithm."
   ]
  },
  {
   "cell_type": "code",
   "execution_count": 5,
   "metadata": {
    "colab": {
     "base_uri": "https://localhost:8080/",
     "height": 235
    },
    "colab_type": "code",
    "id": "LP_G3Qa7lnIp",
    "outputId": "c618583f-f9e8-4b8e-ef01-69183d1b2c69",
    "pycharm": {
     "is_executing": false
    }
   },
   "outputs": [
    {
     "name": "stdout",
     "output_type": "stream",
     "text": [
      "Performing 5-fold cross-validated logistic regression...\n",
      "Fold 1\n",
      "Fold 2\n",
      "Fold 3\n",
      "Fold 4\n",
      "Fold 5\n",
      "3-class accuracy: 92.03980099502488\n"
     ]
    }
   ],
   "source": [
    "from sklearn.linear_model import LogisticRegression\n",
    "from sklearn.model_selection import StratifiedKFold\n",
    "\n",
    "N_SPLITS = 5\n",
    "args = {\n",
    "    'solver': 'lbfgs',\n",
    "    'C': 10.0,  # inverse regularization strength\n",
    "    'penalty': 'l2',\n",
    "    'multi_class': 'ovr',\n",
    "    'max_iter': 200\n",
    "}\n",
    "model = LogisticRegression(**args)\n",
    "splitter = StratifiedKFold(n_splits=N_SPLITS)\n",
    "\n",
    "y_preds = []\n",
    "y_true = []\n",
    "print(\"Performing {}-fold cross-validated logistic regression...\".format(N_SPLITS))\n",
    "for kfold, (trn, tst) in enumerate(splitter.split(X, Y)):\n",
    "    print(\"Fold {}\".format(kfold + 1))\n",
    "    model.fit(X[trn].reshape(-1, np.prod(X.shape[1:])), Y[trn].ravel())\n",
    "    y_preds.append(model.predict(X[tst].reshape(-1, np.prod(X.shape[1:]))))\n",
    "    y_true.append(Y[tst].ravel())\n",
    "\n",
    "y_preds = np.hstack(y_preds)\n",
    "y_true = np.hstack(y_true)\n",
    "\n",
    "pcnt_corr = 100 * np.sum(y_preds == y_true) / len(y_preds)\n",
    "print(\"3-class accuracy: {}\".format(pcnt_corr))"
   ]
  },
  {
   "cell_type": "markdown",
   "metadata": {
    "colab_type": "text",
    "id": "4b5tFSU9lnIs",
    "pycharm": {
     "name": "#%% md\n"
    }
   },
   "source": [
    "So even with way more features and without signal processing, we're getting fairly high accuracy at ~92%. Our goal is for the deep model to do at least as well, hopefully better, and we expect it will be useful in other ways too."
   ]
  },
  {
   "cell_type": "markdown",
   "metadata": {
    "colab_type": "text",
    "id": "R_k5BBYjlnIt"
   },
   "source": [
    "### Prepare data for deep learning\n",
    "See 02_02 notebook for explanation.\n",
    "\n",
    "One major difference from 02_02 notebook is that here we are using [data augmentation](https://www.wouterbulten.nl/blog/tech/data-augmentation-using-tensorflow-data-dataset/). Briefly, we are using a time-domain window of only 701 of our 801 samples and the start of the window (`t_offset`) is random on every step, but only for the training data. For the validation data, we use the last 701 samples only.\n",
    "\n",
    "For now we only define the functions that will act on the data. The data will be processed when running the model."
   ]
  },
  {
   "cell_type": "code",
   "execution_count": 6,
   "metadata": {
    "colab": {},
    "colab_type": "code",
    "id": "3l3s5QY9lnIt",
    "pycharm": {
     "is_executing": false,
     "name": "#%%\n"
    }
   },
   "outputs": [],
   "source": [
    "def get_ds_train_valid(X, Y, trn, tst, batch_size=5, max_offset=0):\n",
    "    # Convert Y from strings to integers.\n",
    "    classes, y = np.unique(Y, return_inverse=True)\n",
    "    n_trials = len(y)\n",
    "    n_subsamps = X.shape[1] - max_offset\n",
    "    \n",
    "    def augmentation_fn(x_dat, y_dat):\n",
    "        # Randomly select an integer between 0 and max_offset\n",
    "        t_offset = tf.random.uniform(shape=[], minval=0, maxval=max_offset, dtype=tf.int32)\n",
    "        # Slice the data to keep samples from t_offset to t_offset + n_subsamps\n",
    "        # tf.slice syntax arguments are: data, slice starts (per dim), slice length (per dim)\n",
    "        # Though -1 as a length is special, and means to take all.\n",
    "        x_dat = tf.slice(x_dat, [t_offset, 0, 0], [n_subsamps, -1, -1])\n",
    "        return x_dat, y_dat\n",
    "    \n",
    "    def augmentation_valid_fn(x_dat, y_dat):\n",
    "        # For validation data, take only the last n_subsamps\n",
    "        x_dat = tf.slice(x_dat, [max_offset, 0, 0], [n_subsamps, -1, -1])\n",
    "        return x_dat, y_dat\n",
    "    \n",
    "    def preprocess_fn(x_dat, y_dat):\n",
    "        # Data are by default 64-bit. GPUs work better with 32-bit (or even 16-bit, depending)\n",
    "        x_dat = tf.cast(x_dat, tf.float32)\n",
    "        # keras Conv layers expect a 'colour depth' dimension.\n",
    "        x_dat = tf.expand_dims(x_dat, -1)\n",
    "        y_dat = tf.cast(y_dat, tf.uint8)\n",
    "        return x_dat, y_dat\n",
    "    \n",
    "    # Separate input data into training and validation sets.\n",
    "    X_train, X_valid, y_train, y_valid = X[trn], X[tst], y[trn], y[tst]\n",
    "    n_train = len(y_train)\n",
    "    ds_train = tf.data.Dataset.from_tensor_slices((X_train, y_train))\n",
    "    ds_valid = tf.data.Dataset.from_tensor_slices((X_valid, y_valid))\n",
    "    \n",
    "    # Prepare (queue?) functions to be run on the data.\n",
    "    ds_train = ds_train.map(preprocess_fn)\n",
    "    ds_valid = ds_valid.map(preprocess_fn)\n",
    "    if max_offset > 0:\n",
    "        ds_train = ds_train.map(augmentation_fn)\n",
    "        ds_valid = ds_valid.map(augmentation_valid_fn)\n",
    "    ds_train = ds_train.shuffle(n_train + 1).batch(batch_size, drop_remainder=True)\n",
    "    ds_valid = ds_valid.batch(batch_size)\n",
    "    \n",
    "    return ds_train, ds_valid, n_train"
   ]
  },
  {
   "cell_type": "markdown",
   "metadata": {
    "colab_type": "text",
    "id": "IYJwILLelnIw",
    "pycharm": {
     "name": "#%% md\n"
    }
   },
   "source": [
    "## Create our model\n",
    "As in 02_02, our model objective is to transform ECoG data into multiclass classification scores.\n",
    "\n",
    "There are already many models that others have developed for similar purposes:\n",
    "\n",
    "* [EEG with transfer learning](https://iopscience.iop.org/article/10.1088/1741-2552/aaf3f6)\n",
    "* [ECoG speech reconstruction](https://www.elen.ucl.ac.be/Proceedings/esann/esannpdf/es2018-102.pdf)\n",
    "    * 2D CNN - channels x timestamps; amplitude data\n",
    "* [ECoG CNNs with LSTMs](https://iopscience.iop.org/article/10.1088/1741-2552/aa9dbe/meta)\n",
    "    1. CNN for spatial unmixing matrix [77] initialized with fast ICA\n",
    "    1. 3 temporal CNN layers, with [2, 4, 8] filters of kernel size 1 x 17 per layer, initialized with biorthogonal wavelet 6.8.\n",
    "* [ECoG CNNs with autoencoders](https://iopscience.iop.org/article/10.1088/1741-2552/aaf13f/pdf)\n",
    "* [EEGNet](https://iopscience.iop.org/article/10.1088/1741-2552/aace8c)\n",
    "    * [source](https://github.com/vlawhern/arl-eegmodels/blob/master/EEGModels.py#L58-L158)\n",
    "* [EEG CNN with parallel early layers](https://iopscience.iop.org/article/10.1088/1741-2552/ab3bb4)\n",
    "\n",
    "We are going to use a version of EEGNet with an added set of parallel layers at the beginning."
   ]
  },
  {
   "cell_type": "code",
   "execution_count": 7,
   "metadata": {},
   "outputs": [
    {
     "name": "stdout",
     "output_type": "stream",
     "text": [
      "Model: \"model\"\n",
      "__________________________________________________________________________________________________\n",
      "Layer (type)                    Output Shape         Param #     Connected to                     \n",
      "==================================================================================================\n",
      "input_1 (InputLayer)            [(None, 701, 58, 1)] 0                                            \n",
      "__________________________________________________________________________________________________\n",
      "conv2d (Conv2D)                 (None, 701, 58, 7)   266         input_1[0][0]                    \n",
      "__________________________________________________________________________________________________\n",
      "conv2d_1 (Conv2D)               (None, 701, 58, 4)   480         input_1[0][0]                    \n",
      "__________________________________________________________________________________________________\n",
      "concatenate (Concatenate)       (None, 701, 58, 11)  0           conv2d[0][0]                     \n",
      "                                                                 conv2d_1[0][0]                   \n",
      "__________________________________________________________________________________________________\n",
      "batch_normalization (BatchNorma (None, 701, 58, 11)  2804        concatenate[0][0]                \n",
      "__________________________________________________________________________________________________\n",
      "depthwise_conv2d (DepthwiseConv (None, 701, 1, 44)   2552        batch_normalization[0][0]        \n",
      "__________________________________________________________________________________________________\n",
      "activation (Activation)         (None, 701, 1, 44)   0           depthwise_conv2d[0][0]           \n",
      "__________________________________________________________________________________________________\n",
      "batch_normalization_1 (BatchNor (None, 701, 1, 44)   2804        activation[0][0]                 \n",
      "__________________________________________________________________________________________________\n",
      "average_pooling2d (AveragePooli (None, 140, 1, 44)   0           batch_normalization_1[0][0]      \n",
      "__________________________________________________________________________________________________\n",
      "dropout (Dropout)               (None, 140, 1, 44)   0           average_pooling2d[0][0]          \n",
      "__________________________________________________________________________________________________\n",
      "separable_conv2d (SeparableConv (None, 125, 1, 36)   2288        dropout[0][0]                    \n",
      "__________________________________________________________________________________________________\n",
      "activation_1 (Activation)       (None, 125, 1, 36)   0           separable_conv2d[0][0]           \n",
      "__________________________________________________________________________________________________\n",
      "batch_normalization_2 (BatchNor (None, 125, 1, 36)   500         activation_1[0][0]               \n",
      "__________________________________________________________________________________________________\n",
      "average_pooling2d_1 (AveragePoo (None, 17, 1, 36)    0           batch_normalization_2[0][0]      \n",
      "__________________________________________________________________________________________________\n",
      "dropout_1 (Dropout)             (None, 17, 1, 36)    0           average_pooling2d_1[0][0]        \n",
      "__________________________________________________________________________________________________\n",
      "flatten (Flatten)               (None, 612)          0           dropout_1[0][0]                  \n",
      "__________________________________________________________________________________________________\n",
      "dense (Dense)                   (None, 3)            1839        flatten[0][0]                    \n",
      "__________________________________________________________________________________________________\n",
      "activation_2 (Activation)       (None, 3)            0           dense[0][0]                      \n",
      "==================================================================================================\n",
      "Total params: 13,533\n",
      "Trainable params: 10,479\n",
      "Non-trainable params: 3,054\n",
      "__________________________________________________________________________________________________\n",
      "0\n"
     ]
    }
   ],
   "source": [
    "# EEGNet-like model with a pair of parallel input layers.\n",
    "from tensorflow.keras.constraints import max_norm\n",
    "from tensorflow.keras import layers\n",
    "\n",
    "def make_model(T, C, aug_offset=100, n_classes=3,\n",
    "               n_temporal_short=7, len_temporal_short=38,\n",
    "               n_temporal_long=4, len_temporal_long=120,\n",
    "               D=4,\n",
    "               activation='relu',\n",
    "               downsamp_1=5,\n",
    "               n_pointwise_filters=36,\n",
    "               len_kernel_2=16, downsamp_2=7,\n",
    "               norm_rate=0.45, dropout_rate=0.45, l2_reg=0.0002,\n",
    "               optimizer='Nadam'):\n",
    "\n",
    "    # Temporal kernel convolutions.\n",
    "    _input = tf.keras.Input(shape=(T - aug_offset, C, 1))\n",
    "    \n",
    "    _y_short = layers.Conv2D(n_temporal_short, (len_temporal_short, 1),\n",
    "                             padding='same', use_bias=False)(_input)\n",
    "    _y_long = layers.Conv2D(n_temporal_long, (len_temporal_long, 1),\n",
    "                            padding='same', use_bias=False)(_input)\n",
    "    _y = layers.Concatenate(axis=-1)([_y_short, _y_long])\n",
    "    _y = layers.BatchNormalization(axis=1)(_y)\n",
    "    \n",
    "    # Spatial Filter\n",
    "    _y = layers.DepthwiseConv2D((1, C), use_bias=False,\n",
    "                                depth_multiplier=D,\n",
    "                                kernel_regularizer=tf.keras.regularizers.l2(l=l2_reg),\n",
    "                                depthwise_regularizer=tf.keras.regularizers.l2(l=l2_reg),\n",
    "                                depthwise_constraint=max_norm(1.))(_y)\n",
    "    # The order of Activation and BathNormalization is switched here compared to EEGNet.\n",
    "    # This is because we use relu. relu after normalization discards too much data.\n",
    "    _y = layers.Activation(activation)(_y)\n",
    "    _y = layers.BatchNormalization(axis=1)(_y)\n",
    "    _y = layers.AveragePooling2D((downsamp_1, 1))(_y)\n",
    "    _y = layers.Dropout(dropout_rate)(_y)\n",
    "    \n",
    "    # Feature aggregation\n",
    "    _y = layers.SeparableConv2D(n_pointwise_filters, (len_kernel_2, 1), padding='valid',\n",
    "                                use_bias=False\n",
    "                               )(_y)\n",
    "    _y = layers.Activation(activation)(_y)\n",
    "    _y = layers.BatchNormalization(axis=1)(_y)\n",
    "    _y = layers.AveragePooling2D((downsamp_2, 1))(_y)\n",
    "    _y = layers.Dropout(dropout_rate)(_y)\n",
    "    \n",
    "    # To class predictions\n",
    "    _y = layers.Flatten()(_y)\n",
    "    _y = layers.Dense(n_classes, kernel_constraint=max_norm(norm_rate))(_y)\n",
    "    _y = layers.Activation('softmax')(_y)\n",
    "    \n",
    "    model = tf.keras.Model(inputs=_input, outputs=_y)\n",
    "    model.compile(loss='sparse_categorical_crossentropy', optimizer=optimizer,\n",
    "                  metrics=['accuracy'])\n",
    "    return model\n",
    "\n",
    "\n",
    "model = make_model(X.shape[1], X.shape[2], n_classes=len(np.unique(Y)))\n",
    "model.summary()\n",
    "reset_keras(model)"
   ]
  },
  {
   "cell_type": "markdown",
   "metadata": {},
   "source": [
    "## Train the Model"
   ]
  },
  {
   "cell_type": "code",
   "execution_count": 8,
   "metadata": {},
   "outputs": [],
   "source": [
    "N_SPLITS = 5\n",
    "BATCH_SIZE = 10\n",
    "MAX_OFFSET = 100\n",
    "N_EPOCHS = 80"
   ]
  },
  {
   "cell_type": "code",
   "execution_count": 9,
   "metadata": {},
   "outputs": [
    {
     "name": "stdout",
     "output_type": "stream",
     "text": [
      "Running split 1 of 5\n",
      "Split 1: Best validation accuracy 99.17%\n",
      "18\n",
      "Running split 2 of 5\n",
      "Split 2: Best validation accuracy 98.35%\n",
      "163934\n",
      "Running split 3 of 5\n",
      "Split 3: Best validation accuracy 96.69%\n",
      "163934\n",
      "Running split 4 of 5\n",
      "Split 4: Best validation accuracy 95.83%\n",
      "163934\n",
      "Running split 5 of 5\n",
      "Split 5: Best validation accuracy 97.50%\n",
      "163934\n",
      "97.51% (+/- 1.18%)\n"
     ]
    }
   ],
   "source": [
    "from sklearn.model_selection import StratifiedKFold\n",
    "\n",
    "splitter = StratifiedKFold(n_splits=N_SPLITS, shuffle=True)\n",
    "split_ix = 0\n",
    "best_val_accs = []\n",
    "hists = []\n",
    "for trn, tst in splitter.split(X, Y):\n",
    "    print(\"Running split {} of {}\".format(split_ix + 1, N_SPLITS))\n",
    "    \n",
    "    # Get the training/testing data for this split.\n",
    "    ds_train, ds_valid, n_train = get_ds_train_valid(X, Y, trn, tst, batch_size=BATCH_SIZE, max_offset=MAX_OFFSET)\n",
    "    \n",
    "    # Create new model\n",
    "    model = make_model(X.shape[1], X.shape[2], aug_offset=MAX_OFFSET)\n",
    "\n",
    "    # Callback to save only the best (highest validation accuracy) model weights during training.\n",
    "    callbacks = [\n",
    "        tf.keras.callbacks.ModelCheckpoint(\n",
    "            str(datadir / 'models' / (SUB_ID + '_model{}_best.h5'.format(split_ix))),\n",
    "            save_best_only=True,\n",
    "            monitor='val_accuracy',\n",
    "            verbose=0)\n",
    "    ]\n",
    "    \n",
    "    # Train model\n",
    "    history = model.fit(x=ds_train,  \n",
    "                        epochs=N_EPOCHS, \n",
    "                        validation_data=ds_valid,\n",
    "                        callbacks=callbacks,\n",
    "                        verbose=0)\n",
    "    hists.append(history.history)\n",
    "    \n",
    "    bva = 100*max(history.history['val_accuracy'])\n",
    "    print(\"Split {}: Best validation accuracy {:.2f}%\".format(split_ix + 1, bva))\n",
    "    best_val_accs.append(bva)\n",
    "    split_ix += 1\n",
    "    reset_keras(model)\n",
    "\n",
    "print(\"%.2f%% (+/- %.2f%%)\" % (np.mean(best_val_accs), np.std(best_val_accs)))\n",
    "\n",
    "best_path = datadir / 'models' / (SUB_ID + '_model{}_best.h5'.format(np.argmax(best_val_accs)))\n",
    "best_path.replace(datadir / 'models' / (SUB_ID + '_model_best_all.h5'))\n",
    "\n",
    "# Download 'best' model anytime with\n",
    "# files.download(datadir / (SUB_ID + '_model_best_all.h5'))"
   ]
  },
  {
   "cell_type": "code",
   "execution_count": 10,
   "metadata": {
    "colab": {
     "base_uri": "https://localhost:8080/",
     "height": 405
    },
    "colab_type": "code",
    "id": "nBK_JWUBlnJE",
    "outputId": "2e3494b0-ad8f-4685-b991-feec2c746398",
    "pycharm": {
     "is_executing": false,
     "name": "#%%\n"
    }
   },
   "outputs": [
    {
     "data": {
      "image/png": "[encoded data removed]",
      "text/plain": [
       "<Figure size 864x432 with 2 Axes>"
      ]
     },
     "metadata": {},
     "output_type": "display_data"
    }
   ],
   "source": [
    "fig = plt.figure(figsize=(12, 6), facecolor='white')\n",
    "plt.subplot(1, 2, 1)\n",
    "plt.plot(np.vstack([_['accuracy'] for _ in hists]).T, 'b')\n",
    "plt.plot(np.vstack([_['val_accuracy'] for _ in hists]).T, 'r')\n",
    "plt.title('model accuracy')\n",
    "plt.ylabel('accuracy')\n",
    "plt.xlabel('epoch')\n",
    "# plt.legend(loc='lower right')\n",
    "\n",
    "plt.subplot(1, 2, 2)\n",
    "plt.plot(np.vstack([_['loss'] for _ in hists]).T, 'b')\n",
    "plt.plot(np.vstack([_['val_loss'] for _ in hists]).T, 'r')\n",
    "plt.title('model loss')\n",
    "plt.ylabel('loss')\n",
    "plt.xlabel('epoch')\n",
    "plt.show()"
   ]
  },
  {
   "cell_type": "markdown",
   "metadata": {},
   "source": [
    "##### Using no feature engineering, we achieved 92.2% accuracy using a shallow model. Using a deep model, validation accuracy improved to ~97.5%. This is comparable to the 97.7% accuracy achieved using feature engineering and LDA, but without any expertise or neurophys knowledge required."
   ]
  },
  {
   "cell_type": "markdown",
   "metadata": {},
   "source": [
    "## Hyperparameter Optimization"
   ]
  },
  {
   "cell_type": "code",
   "execution_count": null,
   "metadata": {},
   "outputs": [],
   "source": [
    "from sklearn.model_selection import StratifiedShuffleSplit\n",
    "P_TRAIN = 0.8\n",
    "\n",
    "def evaluate_model(params, verbose=0, split_seed=0):\n",
    "    print(params)\n",
    "    n_temporal_short = params.get('n_temporal_short', 8)\n",
    "    len_temporal_short = params.get('len_temporal_short', 20)\n",
    "    n_temporal_long = params.get('n_temporal_long', 8)\n",
    "    len_temporal_long = params.get('len_temporal_long', 250)\n",
    "    D = params.get('D', 8)\n",
    "    downsamp_1 = params.get('downsamp_1', 10)\n",
    "    n_pointwise_filters = params.get('n_pointwise_filters', 20)\n",
    "    len_kernel_2 = params.get('len_kernel_2', 32)\n",
    "    downsamp_2 = params.get('downsamp_2', 2)\n",
    "    norm_rate = params.get('norm_rate', 0.45)\n",
    "    dropout_rate = params.get('dropout_rate', 0.45)\n",
    "    l2_reg = params.get('l2_reg', 0.0002)\n",
    "    epochs = params.get('epochs', 60)\n",
    "    \n",
    "    # Get the training/testing data for this split.\n",
    "    sss = StratifiedShuffleSplit(n_splits=1, train_size=P_TRAIN, random_state=split_seed)\n",
    "    trn, tst = next(sss.split(X, Y))\n",
    "    ds_train, ds_valid, n_train = get_ds_train_valid(X, Y, trn, tst,\n",
    "                                                     batch_size=BATCH_SIZE,\n",
    "                                                     max_offset=MAX_OFFSET)\n",
    "    \n",
    "    model = make_model(X.shape[1], X.shape[2], aug_offset=MAX_OFFSET,\n",
    "                       n_temporal_short=n_temporal_short, len_temporal_short=len_temporal_short,\n",
    "                       n_temporal_long=n_temporal_long, len_temporal_long=len_temporal_long,\n",
    "                       D=D,\n",
    "                       n_pointwise_filters=n_pointwise_filters, len_kernel_2=len_kernel_2,\n",
    "                       downsamp_2=downsamp_2,\n",
    "                       norm_rate=norm_rate, dropout_rate=dropout_rate, l2_reg=l2_reg)\n",
    "    \n",
    "    history = model.fit(x=ds_train, epochs=epochs, validation_data=ds_valid, verbose=verbose)\n",
    "    min_val_loss = min(history.history['val_loss'])\n",
    "    print(\"Min validation loss with these parameters: {}\".format(min_val_loss))\n",
    "    \n",
    "    reset_keras(model)\n",
    "    reset_keras(model)  # Just to be sure...\n",
    "    \n",
    "    return min_val_loss"
   ]
  },
  {
   "cell_type": "code",
   "execution_count": null,
   "metadata": {
    "scrolled": true
   },
   "outputs": [],
   "source": [
    "from hyperopt import fmin, hp, Trials, tpe, STATUS_OK\n",
    "from hyperopt.pyll import scope\n",
    "\n",
    "trials = None\n",
    "hyperoptBest = None\n",
    "del trials\n",
    "del hyperoptBest\n",
    "\n",
    "\n",
    "space = {\n",
    "    'n_temporal_short': scope.int(hp.quniform('n_temporal_short', 1, 20, 1)),\n",
    "    'len_temporal_short': scope.int(hp.quniform('len_temporal_short', 8, 50, 2)),\n",
    "    'n_temporal_long': scope.int(hp.quniform('n_temporal_long', 1, 15, 1)),\n",
    "    'len_temporal_long': scope.int(hp.quniform('len_temporal_long', 60, 250, 5)),\n",
    "    'D': scope.int(hp.quniform('D', 1, 12, 1)),\n",
    "    'downsamp_1': scope.int(hp.quniform('downsamp_1', 4, 10, 1)),\n",
    "    'n_pointwise_filters': scope.int(hp.quniform('n_pointwise_filters', 2, 65, 1)),\n",
    "    'len_kernel_2': scope.int(hp.quniform('len_kernel_2', 4, 64, 1)),\n",
    "    'downsamp_2': scope.int(hp.quniform('downsamp_2', 2, 9, 1)),\n",
    "#     'norm_rate': hp.uniform('norm_rate', 0., 0.5),\n",
    "#     'dropout_rate': hp.uniform('dropout_rate', 0., 0.5),\n",
    "#     'l2_reg': hp.loguniform('l2_reg', np.log(0.000001), np.log(0.1)),\n",
    "#     'epochs': scope.int(hp.quniform('epochs', 60, 300, 20)),\n",
    "}\n",
    "\n",
    "trials = Trials()  # object that holds iteration results\n",
    "#Do optimization\n",
    "eval_hours = 7.5\n",
    "minutes_per_eval = 0.5\n",
    "max_evals = int(eval_hours * 60 / minutes_per_eval)\n",
    "hyperoptBest = fmin(evaluate_model, space, algo=tpe.suggest, max_evals=max_evals, trials=trials)"
   ]
  },
  {
   "cell_type": "code",
   "execution_count": null,
   "metadata": {},
   "outputs": [],
   "source": [
    "print(\"Best Loss: {}\".format(trials.best_trial['result']['loss']))\n",
    "print(\"Best Parameters: {}\".format(hyperoptBest))"
   ]
  },
  {
   "cell_type": "code",
   "execution_count": null,
   "metadata": {},
   "outputs": [],
   "source": [
    "def scatterplot_matrix_colored(params_names, params_values, best_losses,\n",
    "                               transform='none'):\n",
    "    \"\"\"Scatterplot colored according to the Z values of the points.\"\"\"\n",
    "    import matplotlib\n",
    "    \n",
    "    nb_params = len(params_values)\n",
    "    best_losses = np.array(best_losses)\n",
    "    best_trial = np.argmin(best_losses)\n",
    "    \n",
    "    if transform == 'inv':\n",
    "        best_losses = 1 / best_losses\n",
    "    elif transform == '-log':\n",
    "        best_losses = -np.log(best_losses)\n",
    "        \n",
    "    norm = matplotlib.colors.Normalize(vmin=best_losses.min(), vmax=best_losses.max())\n",
    "    \n",
    "    fig, ax = plt.subplots(nb_params, nb_params, figsize=(16, 16), facecolor='white')\n",
    "    \n",
    "    for i in range(nb_params):\n",
    "        p1 = params_values[i]\n",
    "        for j in range(nb_params):\n",
    "            p2 = params_values[j]\n",
    "            \n",
    "            axes = ax[i, j]\n",
    "            \n",
    "            axes.axvline(p2[best_trial], color='r', zorder=-1, alpha=0.3)\n",
    "            axes.axhline(p1[best_trial], color='r', zorder=-1, alpha=0.3)\n",
    "                \n",
    "            # Subplot:\n",
    "            s = axes.scatter(p2, p1, s=30, alpha=0.3,\n",
    "                             c=best_losses, cmap=turbo_cmap, norm=norm)\n",
    "\n",
    "            # Labels only on side subplots, for x and y:\n",
    "            if j == 0:\n",
    "                axes.set_ylabel(params_names[i], rotation=0)\n",
    "            else:\n",
    "                axes.set_yticks([])\n",
    "            \n",
    "            if i == nb_params - 1:\n",
    "                axes.set_xlabel(params_names[j], rotation=90)\n",
    "            else:\n",
    "                axes.set_xticks([])\n",
    "\n",
    "    fig.subplots_adjust(right=0.82, top=0.95)\n",
    "    cbar_ax = fig.add_axes([0.85, 0.15, 0.05, 0.7])\n",
    "    cb = fig.colorbar(s, cax=cbar_ax)\n",
    "    \n",
    "    plt.suptitle('Scatterplot matrix of -log valid. loss over different param values')\n",
    "    plt.show()\n",
    "\n",
    "hp_loss = np.array([_['result']['loss'] for _ in trials.trials])\n",
    "hp_names = list(space.keys())\n",
    "hp_vals = [[_['misc']['vals'][key][0] for _ in trials.trials] for key in hp_names]\n",
    "if 'l2_reg' in hp_names:\n",
    "    hp_vals[hp_names.index('l2_reg')] = np.log10(hp_vals[hp_names.index('l2_reg')])\n",
    "scatterplot_matrix_colored(hp_names, hp_vals, hp_loss, transform='-log')\n",
    "print(np.min(hp_loss))"
   ]
  }
 ],
 "metadata": {
  "accelerator": "GPU",
  "colab": {
   "name": "03_02_CNN_faces_houses.ipynb",
   "provenance": [],
   "version": "0.3.2"
  },
  "kernelspec": {
   "display_name": "Python 3",
   "language": "python",
   "name": "python3"
  },
  "language_info": {
   "codemirror_mode": {
    "name": "ipython",
    "version": 3
   },
   "file_extension": ".py",
   "mimetype": "text/x-python",
   "name": "python",
   "nbconvert_exporter": "python",
   "pygments_lexer": "ipython3",
   "version": "3.6.7"
  },
  "pycharm": {
   "stem_cell": {
    "cell_type": "raw",
    "metadata": {
     "collapsed": false
    },
    "source": []
   }
  }
 },
 "nbformat": 4,
 "nbformat_minor": 1
}
